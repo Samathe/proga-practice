{
 "cells": [
  {
   "cell_type": "code",
   "execution_count": null,
   "id": "f28e625b-92e0-46db-b46f-ade52594a9f6",
   "metadata": {},
   "outputs": [],
   "source": [
    "import pandas as pd\n",
    "\n",
    "df1 = pd.read_csv(\"courses_results.csv\")\n",
    "df2 = pd.read_csv(\"df_coursera.csv\")\n",
    "df3 = pd.read_csv(\"courses_results.csv\")"
   ]
  }
 ],
 "metadata": {
  "kernelspec": {
   "display_name": "Python 3 (ipykernel)",
   "language": "python",
   "name": "python3"
  },
  "language_info": {
   "codemirror_mode": {
    "name": "ipython",
    "version": 3
   },
   "file_extension": ".py",
   "mimetype": "text/x-python",
   "name": "python",
   "nbconvert_exporter": "python",
   "pygments_lexer": "ipython3",
   "version": "3.12.4"
  }
 },
 "nbformat": 4,
 "nbformat_minor": 5
}
