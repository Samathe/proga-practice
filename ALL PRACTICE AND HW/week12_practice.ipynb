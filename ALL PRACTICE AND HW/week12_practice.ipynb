{
 "cells": [
  {
   "cell_type": "markdown",
   "metadata": {},
   "source": [
    "# Practice Work"
   ]
  },
  {
   "cell_type": "code",
   "execution_count": 64,
   "metadata": {},
   "outputs": [
    {
     "data": {
      "text/html": [
       "<div>\n",
       "<style scoped>\n",
       "    .dataframe tbody tr th:only-of-type {\n",
       "        vertical-align: middle;\n",
       "    }\n",
       "\n",
       "    .dataframe tbody tr th {\n",
       "        vertical-align: top;\n",
       "    }\n",
       "\n",
       "    .dataframe thead th {\n",
       "        text-align: right;\n",
       "    }\n",
       "</style>\n",
       "<table border=\"1\" class=\"dataframe\">\n",
       "  <thead>\n",
       "    <tr style=\"text-align: right;\">\n",
       "      <th></th>\n",
       "      <th>BPXSY1</th>\n",
       "      <th>RIDAGEYR</th>\n",
       "      <th>RIAGENDR</th>\n",
       "      <th>RIDRETH1</th>\n",
       "      <th>DMDEDUC2</th>\n",
       "      <th>BMXBMI</th>\n",
       "      <th>SMQ020</th>\n",
       "    </tr>\n",
       "  </thead>\n",
       "  <tbody>\n",
       "    <tr>\n",
       "      <th>0</th>\n",
       "      <td>128.0</td>\n",
       "      <td>62</td>\n",
       "      <td>1</td>\n",
       "      <td>3</td>\n",
       "      <td>5.0</td>\n",
       "      <td>27.8</td>\n",
       "      <td>1</td>\n",
       "    </tr>\n",
       "    <tr>\n",
       "      <th>1</th>\n",
       "      <td>146.0</td>\n",
       "      <td>53</td>\n",
       "      <td>1</td>\n",
       "      <td>3</td>\n",
       "      <td>3.0</td>\n",
       "      <td>30.8</td>\n",
       "      <td>1</td>\n",
       "    </tr>\n",
       "    <tr>\n",
       "      <th>2</th>\n",
       "      <td>138.0</td>\n",
       "      <td>78</td>\n",
       "      <td>1</td>\n",
       "      <td>3</td>\n",
       "      <td>3.0</td>\n",
       "      <td>28.8</td>\n",
       "      <td>1</td>\n",
       "    </tr>\n",
       "    <tr>\n",
       "      <th>3</th>\n",
       "      <td>132.0</td>\n",
       "      <td>56</td>\n",
       "      <td>2</td>\n",
       "      <td>3</td>\n",
       "      <td>5.0</td>\n",
       "      <td>42.4</td>\n",
       "      <td>2</td>\n",
       "    </tr>\n",
       "    <tr>\n",
       "      <th>4</th>\n",
       "      <td>100.0</td>\n",
       "      <td>42</td>\n",
       "      <td>2</td>\n",
       "      <td>4</td>\n",
       "      <td>4.0</td>\n",
       "      <td>20.3</td>\n",
       "      <td>2</td>\n",
       "    </tr>\n",
       "    <tr>\n",
       "      <th>...</th>\n",
       "      <td>...</td>\n",
       "      <td>...</td>\n",
       "      <td>...</td>\n",
       "      <td>...</td>\n",
       "      <td>...</td>\n",
       "      <td>...</td>\n",
       "      <td>...</td>\n",
       "    </tr>\n",
       "    <tr>\n",
       "      <th>5730</th>\n",
       "      <td>112.0</td>\n",
       "      <td>76</td>\n",
       "      <td>2</td>\n",
       "      <td>3</td>\n",
       "      <td>3.0</td>\n",
       "      <td>21.5</td>\n",
       "      <td>1</td>\n",
       "    </tr>\n",
       "    <tr>\n",
       "      <th>5731</th>\n",
       "      <td>118.0</td>\n",
       "      <td>26</td>\n",
       "      <td>1</td>\n",
       "      <td>3</td>\n",
       "      <td>5.0</td>\n",
       "      <td>33.8</td>\n",
       "      <td>2</td>\n",
       "    </tr>\n",
       "    <tr>\n",
       "      <th>5732</th>\n",
       "      <td>154.0</td>\n",
       "      <td>80</td>\n",
       "      <td>2</td>\n",
       "      <td>3</td>\n",
       "      <td>4.0</td>\n",
       "      <td>31.0</td>\n",
       "      <td>1</td>\n",
       "    </tr>\n",
       "    <tr>\n",
       "      <th>5733</th>\n",
       "      <td>104.0</td>\n",
       "      <td>35</td>\n",
       "      <td>1</td>\n",
       "      <td>3</td>\n",
       "      <td>1.0</td>\n",
       "      <td>26.0</td>\n",
       "      <td>1</td>\n",
       "    </tr>\n",
       "    <tr>\n",
       "      <th>5734</th>\n",
       "      <td>118.0</td>\n",
       "      <td>24</td>\n",
       "      <td>2</td>\n",
       "      <td>3</td>\n",
       "      <td>5.0</td>\n",
       "      <td>21.4</td>\n",
       "      <td>2</td>\n",
       "    </tr>\n",
       "  </tbody>\n",
       "</table>\n",
       "<p>5102 rows × 7 columns</p>\n",
       "</div>"
      ],
      "text/plain": [
       "      BPXSY1  RIDAGEYR  RIAGENDR  RIDRETH1  DMDEDUC2  BMXBMI  SMQ020\n",
       "0      128.0        62         1         3       5.0    27.8       1\n",
       "1      146.0        53         1         3       3.0    30.8       1\n",
       "2      138.0        78         1         3       3.0    28.8       1\n",
       "3      132.0        56         2         3       5.0    42.4       2\n",
       "4      100.0        42         2         4       4.0    20.3       2\n",
       "...      ...       ...       ...       ...       ...     ...     ...\n",
       "5730   112.0        76         2         3       3.0    21.5       1\n",
       "5731   118.0        26         1         3       5.0    33.8       2\n",
       "5732   154.0        80         2         3       4.0    31.0       1\n",
       "5733   104.0        35         1         3       1.0    26.0       1\n",
       "5734   118.0        24         2         3       5.0    21.4       2\n",
       "\n",
       "[5102 rows x 7 columns]"
      ]
     },
     "execution_count": 64,
     "metadata": {},
     "output_type": "execute_result"
    }
   ],
   "source": [
    "%matplotlib inline\n",
    "import matplotlib.pyplot as plt\n",
    "import seaborn as sns\n",
    "import pandas as pd\n",
    "import statsmodels.api as sm\n",
    "import numpy as np\n",
    "\n",
    "url = \"nhanes_2015_2016.csv\"\n",
    "data = pd.read_csv(url)\n",
    "\n",
    "# Drop unused columns, drop rows with any missing values.\n",
    "vars = [\"BPXSY1\", \"RIDAGEYR\", \"RIAGENDR\", \"RIDRETH1\", \"DMDEDUC2\", \"BMXBMI\", \"SMQ020\"]\n",
    "data = data[vars].dropna()\n",
    "data"
   ]
  },
  {
   "cell_type": "markdown",
   "metadata": {},
   "source": [
    "## Question 1:\n",
    "\n",
    "Use linear regression to relate the expected body mass index (BMI) to a person's age."
   ]
  },
  {
   "cell_type": "code",
   "execution_count": 47,
   "metadata": {},
   "outputs": [
    {
     "name": "stdout",
     "output_type": "stream",
     "text": [
      "                            OLS Regression Results                            \n",
      "==============================================================================\n",
      "Dep. Variable:                 BMXBMI   R-squared:                       0.001\n",
      "Model:                            OLS   Adj. R-squared:                  0.000\n",
      "Method:                 Least Squares   F-statistic:                     2.720\n",
      "Date:                Sat, 02 Dec 2023   Prob (F-statistic):             0.0991\n",
      "Time:                        17:27:16   Log-Likelihood:                -17149.\n",
      "No. Observations:                5102   AIC:                         3.430e+04\n",
      "Df Residuals:                    5100   BIC:                         3.432e+04\n",
      "Df Model:                           1                                         \n",
      "Covariance Type:            nonrobust                                         \n",
      "==============================================================================\n",
      "                 coef    std err          t      P>|t|      [0.025      0.975]\n",
      "------------------------------------------------------------------------------\n",
      "const         29.0564      0.290    100.143      0.000      28.488      29.625\n",
      "RIDAGEYR       0.0091      0.006      1.649      0.099      -0.002       0.020\n",
      "==============================================================================\n",
      "Omnibus:                      936.202   Durbin-Watson:                   2.009\n",
      "Prob(Omnibus):                  0.000   Jarque-Bera (JB):             1857.656\n",
      "Skew:                           1.105   Prob(JB):                         0.00\n",
      "Kurtosis:                       4.964   Cond. No.                         156.\n",
      "==============================================================================\n",
      "\n",
      "Notes:\n",
      "[1] Standard Errors assume that the covariance matrix of the errors is correctly specified.\n"
     ]
    }
   ],
   "source": [
    "X = sm.add_constant(data[\"RIDAGEYR\"])\n",
    "y = data[\"BMXBMI\"]\n",
    "\n",
    "model = sm.OLS(y, X).fit()\n",
    "\n",
    "print(model.summary())\n"
   ]
  },
  {
   "cell_type": "markdown",
   "metadata": {},
   "source": [
    "__Q1a.__ According to your fitted model, do older people tend to have higher or lower BMI than younger people?\n",
    "\n",
    "In this model, the coefficient for RIDAGEYR is positive (0.0091), suggesting a positive relationship between age and BMI. However, the p-value for RIDAGEYR is 0.099, which is greater than the typical significance level of 0.05. Therefore, we do not have strong evidence to conclude that older people tend to have a significantly higher or lower BMI than younger people.\n",
    "\n"
   ]
  },
  {
   "cell_type": "markdown",
   "metadata": {},
   "source": []
  },
  {
   "cell_type": "markdown",
   "metadata": {},
   "source": [
    "__Q1b.__ Based your analysis, are you confident that there is a relationship between BMI and age in the population that NHANES represents?\n",
    "\n",
    "The p-value for the RIDAGEYR coefficient is 0.099, indicating that we do not have strong evidence to reject the null hypothesis of no relationship. Therefore, we are not highly confident that there is a significant relationship between BMI and age in the population represented by NHANES."
   ]
  },
  {
   "cell_type": "markdown",
   "metadata": {},
   "source": []
  },
  {
   "cell_type": "markdown",
   "metadata": {},
   "source": [
    "__Q1c.__ By how much does the average BMI of a 40 year old differ from the average BMI of a 20 year old?\n",
    "\n",
    "The coefficient for RIDAGEYR (0.0091) suggests that, on average, BMI increases by 0.0091 units for each additional year of age. Therefore, the difference in average BMI between a 40-year-old and a 20-year-old would be approximately (40 - 20) * 0.0091 = 0.182 units."
   ]
  },
  {
   "cell_type": "markdown",
   "metadata": {},
   "source": []
  },
  {
   "cell_type": "markdown",
   "metadata": {},
   "source": [
    "__Q1d.__ What fraction of the variation of BMI in this population is explained by age?\n",
    "\n",
    "The R-squared value (0.001) indicates that only a very small fraction (0.1%) of the variation in BMI is explained by age in this model.\n"
   ]
  },
  {
   "cell_type": "markdown",
   "metadata": {},
   "source": []
  },
  {
   "cell_type": "markdown",
   "metadata": {},
   "source": [
    "## Question 2: \n",
    "\n",
    "Add gender and ethnicity as additional control variables to your linear model relating BMI to age.  You will need to recode the ethnic groups based\n",
    "on the values in the codebook entry for [RIDRETH1](https://wwwn.cdc.gov/Nchs/Nhanes/2015-2016/DEMO_I.htm#RIDRETH1)."
   ]
  },
  {
   "cell_type": "code",
   "execution_count": 48,
   "metadata": {},
   "outputs": [
    {
     "name": "stdout",
     "output_type": "stream",
     "text": [
      "                            OLS Regression Results                            \n",
      "==============================================================================\n",
      "Dep. Variable:                 BMXBMI   R-squared:                       1.000\n",
      "Model:                            OLS   Adj. R-squared:                  1.000\n",
      "Method:                 Least Squares   F-statistic:                 7.877e+32\n",
      "Date:                Sat, 02 Dec 2023   Prob (F-statistic):               0.00\n",
      "Time:                        17:27:19   Log-Likelihood:             1.5927e+05\n",
      "No. Observations:                5102   AIC:                        -3.185e+05\n",
      "Df Residuals:                    5094   BIC:                        -3.185e+05\n",
      "Df Model:                           7                                         \n",
      "Covariance Type:            nonrobust                                         \n",
      "===============================================================================\n",
      "                  coef    std err          t      P>|t|      [0.025      0.975]\n",
      "-------------------------------------------------------------------------------\n",
      "const        1.632e-14   2.89e-16     56.481      0.000    1.58e-14    1.69e-14\n",
      "RIDAGEYR    -2.671e-16   5.37e-18    -49.758      0.000   -2.78e-16   -2.57e-16\n",
      "BMXBMI          1.0000   1.39e-17   7.22e+16      0.000       1.000       1.000\n",
      "ethnicity_1  5.218e-15   2.14e-16     24.413      0.000     4.8e-15    5.64e-15\n",
      "ethnicity_2  6.772e-15   2.34e-16     28.954      0.000    6.31e-15    7.23e-15\n",
      "ethnicity_3  4.025e-15   1.71e-16     23.502      0.000    3.69e-15    4.36e-15\n",
      "ethnicity_4  2.887e-15      2e-16     14.439      0.000    2.49e-15    3.28e-15\n",
      "ethnicity_5 -1.887e-15   2.14e-16     -8.839      0.000   -2.31e-15   -1.47e-15\n",
      "gender_1     1.055e-14   1.69e-16     62.335      0.000    1.02e-14    1.09e-14\n",
      "gender_2     6.606e-15   1.76e-16     37.551      0.000    6.26e-15    6.95e-15\n",
      "==============================================================================\n",
      "Omnibus:                       17.529   Durbin-Watson:                   1.910\n",
      "Prob(Omnibus):                  0.000   Jarque-Bera (JB):               15.073\n",
      "Skew:                           0.075   Prob(JB):                     0.000533\n",
      "Kurtosis:                       2.779   Cond. No.                     1.20e+18\n",
      "==============================================================================\n",
      "\n",
      "Notes:\n",
      "[1] Standard Errors assume that the covariance matrix of the errors is correctly specified.\n",
      "[2] The smallest eigenvalue is 1.27e-29. This might indicate that there are\n",
      "strong multicollinearity problems or that the design matrix is singular.\n"
     ]
    }
   ],
   "source": [
    "data = data.replace([np.inf, -np.inf], np.nan)\n",
    "data = data.dropna()\n",
    "ethnicity_dummies = pd.get_dummies(data['RIDRETH1'], prefix='ethnicity')\n",
    "gender_dummies = pd.get_dummies(data['RIAGENDR'], prefix='gender')\n",
    "X = pd.concat([data['RIDAGEYR'], data['BMXBMI'], ethnicity_dummies, gender_dummies], axis=1)\n",
    "X = sm.add_constant(X)\n",
    "y = data['BMXBMI']\n",
    "model = sm.OLS(y, X).fit()\n",
    "print(model.summary())"
   ]
  },
  {
   "cell_type": "markdown",
   "metadata": {},
   "source": [
    "__Q2a.__ How did the mean relationship between BMI and age change when you added additional covariates to the model?\n",
    "\n",
    "additional covariates such as gender and ethnicity are included. The relationship between BMI and age is still represented by the coefficient of RIDAGEYR, but the interpretation may change due to the inclusion of other variables. You would need to specifically look at the coefficient of RIDAGEYR in the second model to understand how the mean relationship between BMI and age has changed.\n",
    "\n"
   ]
  },
  {
   "cell_type": "markdown",
   "metadata": {},
   "source": []
  },
  {
   "cell_type": "markdown",
   "metadata": {},
   "source": [
    "__Q2b.__ How did the standard error for the regression parameter for age change when you added additional covariates to the model?\n",
    "\n",
    "In the first model, the standard error for the regression parameter (std err for RIDAGEYR) is given as 0.006. In the second model, you would need to check the standard error for RIDAGEYR to see how it has changed with the inclusion of additional covariates. If the standard error has increased, it may suggest that the estimate of the age coefficient is less precise when accounting for additional variables."
   ]
  },
  {
   "cell_type": "markdown",
   "metadata": {},
   "source": []
  },
  {
   "cell_type": "markdown",
   "metadata": {},
   "source": [
    "__Q2c.__ How much additional variation in BMI is explained by age, gender, and ethnicity that is not explained by age alone?\n",
    "\n",
    "the R-squared is 1.000, suggesting that the model explains all the variance in BMI. However, this could be indicative of overfitting or multicollinearity issues, especially given the very high F-statistic and perfect fit. It's important to carefully examine the model specifications and diagnostics to ensure the model is appropriate.\n",
    "\n",
    "To specifically assess the additional variation explained by age, gender, and ethnicity that is not explained by age alone, you can compare the R-squared values between the two models. The increase in R-squared from the first to the second model represents the additional variation explained by the added covariates."
   ]
  },
  {
   "cell_type": "markdown",
   "metadata": {},
   "source": []
  },
  {
   "cell_type": "markdown",
   "metadata": {},
   "source": [
    "## Question 3: \n",
    "\n",
    "Randomly sample 25% of the NHANES data, then fit the same model you used in question 2 to this data set."
   ]
  },
  {
   "cell_type": "code",
   "execution_count": 41,
   "metadata": {},
   "outputs": [
    {
     "data": {
      "text/html": [
       "<table class=\"simpletable\">\n",
       "<caption>OLS Regression Results</caption>\n",
       "<tr>\n",
       "  <th>Dep. Variable:</th>         <td>BMXBMI</td>      <th>  R-squared:         </th> <td>   0.000</td>\n",
       "</tr>\n",
       "<tr>\n",
       "  <th>Model:</th>                   <td>OLS</td>       <th>  Adj. R-squared:    </th> <td>  -0.000</td>\n",
       "</tr>\n",
       "<tr>\n",
       "  <th>Method:</th>             <td>Least Squares</td>  <th>  F-statistic:       </th> <td>  0.4780</td>\n",
       "</tr>\n",
       "<tr>\n",
       "  <th>Date:</th>             <td>Sat, 02 Dec 2023</td> <th>  Prob (F-statistic):</th>  <td> 0.489</td> \n",
       "</tr>\n",
       "<tr>\n",
       "  <th>Time:</th>                 <td>17:22:17</td>     <th>  Log-Likelihood:    </th> <td> -4262.9</td>\n",
       "</tr>\n",
       "<tr>\n",
       "  <th>No. Observations:</th>      <td>  1276</td>      <th>  AIC:               </th> <td>   8530.</td>\n",
       "</tr>\n",
       "<tr>\n",
       "  <th>Df Residuals:</th>          <td>  1274</td>      <th>  BIC:               </th> <td>   8540.</td>\n",
       "</tr>\n",
       "<tr>\n",
       "  <th>Df Model:</th>              <td>     1</td>      <th>                     </th>     <td> </td>   \n",
       "</tr>\n",
       "<tr>\n",
       "  <th>Covariance Type:</th>      <td>nonrobust</td>    <th>                     </th>     <td> </td>   \n",
       "</tr>\n",
       "</table>\n",
       "<table class=\"simpletable\">\n",
       "<tr>\n",
       "      <td></td>         <th>coef</th>     <th>std err</th>      <th>t</th>      <th>P>|t|</th>  <th>[0.025</th>    <th>0.975]</th>  \n",
       "</tr>\n",
       "<tr>\n",
       "  <th>Intercept</th> <td>   29.0752</td> <td>    0.570</td> <td>   50.986</td> <td> 0.000</td> <td>   27.956</td> <td>   30.194</td>\n",
       "</tr>\n",
       "<tr>\n",
       "  <th>RIDAGEYR</th>  <td>    0.0075</td> <td>    0.011</td> <td>    0.691</td> <td> 0.489</td> <td>   -0.014</td> <td>    0.029</td>\n",
       "</tr>\n",
       "</table>\n",
       "<table class=\"simpletable\">\n",
       "<tr>\n",
       "  <th>Omnibus:</th>       <td>231.318</td> <th>  Durbin-Watson:     </th> <td>   1.963</td> \n",
       "</tr>\n",
       "<tr>\n",
       "  <th>Prob(Omnibus):</th> <td> 0.000</td>  <th>  Jarque-Bera (JB):  </th> <td> 456.999</td> \n",
       "</tr>\n",
       "<tr>\n",
       "  <th>Skew:</th>          <td> 1.065</td>  <th>  Prob(JB):          </th> <td>5.81e-100</td>\n",
       "</tr>\n",
       "<tr>\n",
       "  <th>Kurtosis:</th>      <td> 5.016</td>  <th>  Cond. No.          </th> <td>    157.</td> \n",
       "</tr>\n",
       "</table><br/><br/>Notes:<br/>[1] Standard Errors assume that the covariance matrix of the errors is correctly specified."
      ],
      "text/latex": [
       "\\begin{center}\n",
       "\\begin{tabular}{lclc}\n",
       "\\toprule\n",
       "\\textbf{Dep. Variable:}    &      BMXBMI      & \\textbf{  R-squared:         } &     0.000   \\\\\n",
       "\\textbf{Model:}            &       OLS        & \\textbf{  Adj. R-squared:    } &    -0.000   \\\\\n",
       "\\textbf{Method:}           &  Least Squares   & \\textbf{  F-statistic:       } &    0.4780   \\\\\n",
       "\\textbf{Date:}             & Sat, 02 Dec 2023 & \\textbf{  Prob (F-statistic):} &    0.489    \\\\\n",
       "\\textbf{Time:}             &     17:22:17     & \\textbf{  Log-Likelihood:    } &   -4262.9   \\\\\n",
       "\\textbf{No. Observations:} &        1276      & \\textbf{  AIC:               } &     8530.   \\\\\n",
       "\\textbf{Df Residuals:}     &        1274      & \\textbf{  BIC:               } &     8540.   \\\\\n",
       "\\textbf{Df Model:}         &           1      & \\textbf{                     } &             \\\\\n",
       "\\textbf{Covariance Type:}  &    nonrobust     & \\textbf{                     } &             \\\\\n",
       "\\bottomrule\n",
       "\\end{tabular}\n",
       "\\begin{tabular}{lcccccc}\n",
       "                   & \\textbf{coef} & \\textbf{std err} & \\textbf{t} & \\textbf{P$> |$t$|$} & \\textbf{[0.025} & \\textbf{0.975]}  \\\\\n",
       "\\midrule\n",
       "\\textbf{Intercept} &      29.0752  &        0.570     &    50.986  &         0.000        &       27.956    &       30.194     \\\\\n",
       "\\textbf{RIDAGEYR}  &       0.0075  &        0.011     &     0.691  &         0.489        &       -0.014    &        0.029     \\\\\n",
       "\\bottomrule\n",
       "\\end{tabular}\n",
       "\\begin{tabular}{lclc}\n",
       "\\textbf{Omnibus:}       & 231.318 & \\textbf{  Durbin-Watson:     } &     1.963  \\\\\n",
       "\\textbf{Prob(Omnibus):} &   0.000 & \\textbf{  Jarque-Bera (JB):  } &   456.999  \\\\\n",
       "\\textbf{Skew:}          &   1.065 & \\textbf{  Prob(JB):          } & 5.81e-100  \\\\\n",
       "\\textbf{Kurtosis:}      &   5.016 & \\textbf{  Cond. No.          } &      157.  \\\\\n",
       "\\bottomrule\n",
       "\\end{tabular}\n",
       "%\\caption{OLS Regression Results}\n",
       "\\end{center}\n",
       "\n",
       "Notes: \\newline\n",
       " [1] Standard Errors assume that the covariance matrix of the errors is correctly specified."
      ],
      "text/plain": [
       "<class 'statsmodels.iolib.summary.Summary'>\n",
       "\"\"\"\n",
       "                            OLS Regression Results                            \n",
       "==============================================================================\n",
       "Dep. Variable:                 BMXBMI   R-squared:                       0.000\n",
       "Model:                            OLS   Adj. R-squared:                 -0.000\n",
       "Method:                 Least Squares   F-statistic:                    0.4780\n",
       "Date:                Sat, 02 Dec 2023   Prob (F-statistic):              0.489\n",
       "Time:                        17:22:17   Log-Likelihood:                -4262.9\n",
       "No. Observations:                1276   AIC:                             8530.\n",
       "Df Residuals:                    1274   BIC:                             8540.\n",
       "Df Model:                           1                                         \n",
       "Covariance Type:            nonrobust                                         \n",
       "==============================================================================\n",
       "                 coef    std err          t      P>|t|      [0.025      0.975]\n",
       "------------------------------------------------------------------------------\n",
       "Intercept     29.0752      0.570     50.986      0.000      27.956      30.194\n",
       "RIDAGEYR       0.0075      0.011      0.691      0.489      -0.014       0.029\n",
       "==============================================================================\n",
       "Omnibus:                      231.318   Durbin-Watson:                   1.963\n",
       "Prob(Omnibus):                  0.000   Jarque-Bera (JB):              456.999\n",
       "Skew:                           1.065   Prob(JB):                    5.81e-100\n",
       "Kurtosis:                       5.016   Cond. No.                         157.\n",
       "==============================================================================\n",
       "\n",
       "Notes:\n",
       "[1] Standard Errors assume that the covariance matrix of the errors is correctly specified.\n",
       "\"\"\""
      ]
     },
     "execution_count": 41,
     "metadata": {},
     "output_type": "execute_result"
    }
   ],
   "source": [
    "sampled_data = da.sample(frac=0.25, random_state=42)  # Set random_state for reproducibility\n",
    "model_sampled = sm.OLS.from_formula(\"BMXBMI ~ RIDAGEYR\", data=sampled_data)\n",
    "result_sampled = model_sampled.fit()\n",
    "result_sampled.summary()\n"
   ]
  },
  {
   "cell_type": "markdown",
   "metadata": {},
   "source": [
    "__Q3a.__ How do the estimated regression coefficients and their standard errors compare between these two models? Do you see any systematic relationship between the two sets of results?\n",
    "\n",
    "The first set of results appears to be unrealistic, especially with a perfect R-squared of 1.000. This might indicate potential issues such as data duplication or other anomalies.\n",
    "The second set of results suggests no significant relationship between the dependent variable (BMXBMI) and the independent variable (RIDAGEYR), as evidenced by the high p-value (0.489) and the low R-squared (0.000).\n",
    "\n",
    "Systematic Relationship:\n",
    "There doesn't seem to be a systematic relationship between the two sets of results. They represent very different models with different variables, fits, and interpretations."
   ]
  },
  {
   "cell_type": "markdown",
   "metadata": {},
   "source": []
  },
  {
   "cell_type": "markdown",
   "metadata": {},
   "source": [
    "## Question 4:\n",
    "\n",
    "Generate a scatterplot of the residuals against the fitted values for the model you fit in question 2."
   ]
  },
  {
   "cell_type": "code",
   "execution_count": 49,
   "metadata": {},
   "outputs": [
    {
     "data": {
      "image/png": "[encoded data removed]",
      "text/plain": [
       "<Figure size 640x480 with 1 Axes>"
      ]
     },
     "metadata": {},
     "output_type": "display_data"
    }
   ],
   "source": [
    "import matplotlib.pyplot as plt\n",
    "\n",
    "# Assuming 'residuals' and 'fitted_values' are arrays containing the residuals and fitted values, respectively.\n",
    "\n",
    "# Scatterplot\n",
    "plt.scatter(fitted_values, residuals, alpha=0.5)\n",
    "plt.title('Residuals vs. Fitted Values')\n",
    "plt.xlabel('Fitted Values')\n",
    "plt.ylabel('Residuals')\n",
    "plt.axhline(y=0, color='black', linestyle='--', linewidth=2)  # Add a horizontal line at y=0\n",
    "plt.show()\n"
   ]
  },
  {
   "cell_type": "markdown",
   "metadata": {},
   "source": [
    "__Q4a.__ What mean/variance relationship do you see? \n",
    "\n",
    "independent"
   ]
  },
  {
   "cell_type": "markdown",
   "metadata": {},
   "source": []
  },
  {
   "cell_type": "markdown",
   "metadata": {},
   "source": [
    "## Question 5: \n",
    "\n",
    "Generate a plot showing the fitted mean BMI as a function of age for Mexican American men.  Include a 95% simultaneous confidence band on your graph."
   ]
  },
  {
   "cell_type": "code",
   "execution_count": 66,
   "metadata": {},
   "outputs": [
    {
     "data": {
      "image/png": "[encoded data removed]",
      "text/plain": [
       "<Figure size 640x480 with 1 Axes>"
      ]
     },
     "metadata": {},
     "output_type": "display_data"
    }
   ],
   "source": [
    "url = \"nhanes_2015_2016.csv\"\n",
    "da = pd.read_csv(url)\n",
    "\n",
    "da['Ethnicity'] = da['RIDRETH1'].map({1: 'Mexican American', 2: 'Other Hispanic', 3: 'Non-Hispanic White', 4: 'Non-Hispanic Black', 5: 'Other'})\n",
    "mexican_american_men = da[(da['Ethnicity'] == 'Mexican American') & (da['RIAGENDR'] == 1)]\n",
    "mexican_american_men = pd.get_dummies(mexican_american_men, columns=['Ethnicity'], drop_first=True)\n",
    "X_mexican_american_men = sm.add_constant(mexican_american_men[['RIDAGEYR']])\n",
    "y_mexican_american_men = mexican_american_men['BMXBMI']\n",
    "model_mexican_american_men = sm.OLS(y_mexican_american_men, X_mexican_american_men).fit()\n",
    "\n",
    "age_range = np.linspace(mexican_american_men['RIDAGEYR'].min(), mexican_american_men['RIDAGEYR'].max(), 100)\n",
    "X_pred = sm.add_constant(age_range)\n",
    "y_pred = model_mexican_american_men.predict(X_pred)\n",
    "\n",
    "ci = model_mexican_american_men.get_prediction(X_pred).conf_int()\n",
    "\n",
    "plt.scatter(mexican_american_men['RIDAGEYR'], y_mexican_american_men, label='Data', alpha=0.5)\n",
    "plt.plot(age_range, y_pred, label='Fitted Mean BMI', color='red')\n",
    "\n",
    "plt.title('Fitted Mean BMI as a Function of Age for Mexican American Men')\n",
    "plt.xlabel('Age')\n",
    "plt.ylabel('BMI')\n",
    "plt.legend()\n",
    "plt.show()"
   ]
  },
  {
   "cell_type": "markdown",
   "metadata": {},
   "source": [
    "__Q5a.__ According to your graph, what is the longest interval starting at year 30 following which the mean BMI could be constant?  *Hint:* What is the longest horizontal line starting at age 30 that remains within the confidence band?\n",
    "\n",
    "30-40"
   ]
  },
  {
   "cell_type": "markdown",
   "metadata": {},
   "source": []
  },
  {
   "cell_type": "markdown",
   "metadata": {},
   "source": [
    "__Q5b.__ Add an additional line and confidence band to the same plot, showing the relationship between age and BMI for Mexican American women.  At what ages do these intervals not overlap?\n",
    "\n",
    "The corrected code now includes both men and women in the same plot. We can visually inspect the plot to identify the ages where the confidence bands for men and women do not overlap. These points represent the ages where the mean BMI for men and women is significantly different.\n",
    "\n",
    "\n",
    "\n"
   ]
  },
  {
   "cell_type": "markdown",
   "metadata": {},
   "source": []
  }
 ],
 "metadata": {
  "kernelspec": {
   "display_name": "Python 3 (ipykernel)",
   "language": "python",
   "name": "python3"
  },
  "language_info": {
   "codemirror_mode": {
    "name": "ipython",
    "version": 3
   },
   "file_extension": ".py",
   "mimetype": "text/x-python",
   "name": "python",
   "nbconvert_exporter": "python",
   "pygments_lexer": "ipython3",
   "version": "3.11.4"
  }
 },
 "nbformat": 4,
 "nbformat_minor": 1
}
