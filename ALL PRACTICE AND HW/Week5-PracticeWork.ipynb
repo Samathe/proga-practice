{
 "cells": [
  {
   "cell_type": "markdown",
   "id": "eccb970b-a5d2-4371-8b6d-2e10d0e4409c",
   "metadata": {},
   "source": [
    "# Practice work(1.5 point)"
   ]
  },
  {
   "cell_type": "code",
   "execution_count": 1,
   "id": "9bed8258-ebed-46a1-8978-89f58237891c",
   "metadata": {},
   "outputs": [],
   "source": [
    "import warnings\n",
    "warnings.simplefilter(action='ignore', category=FutureWarning)\n",
    "warnings.simplefilter(action='ignore', category=DeprecationWarning)\n",
    "warnings.simplefilter(action='ignore', category=UserWarning)"
   ]
  },
  {
   "cell_type": "markdown",
   "id": "3281f63e-a8fa-4043-bb56-df471de982ea",
   "metadata": {},
   "source": [
    "## Distinguishing Between Probability & Non-Probability Samples"
   ]
  },
  {
   "cell_type": "markdown",
   "id": "5ba74ff7-9421-400a-a999-d9d0ba58713b",
   "metadata": {},
   "source": [
    "1st, 2nd, 3rd questions in this assessment, you'll read a description of a sample, and decide whether or not it is a probably or non-probability sample.\n"
   ]
  },
  {
   "cell_type": "markdown",
   "id": "1167675e-ec2c-40c6-bbb9-71e0f1df98a4",
   "metadata": {},
   "source": [
    "#### Task 1: Is this a probably or non-probability sample? (0.1p)\n"
   ]
  },
  {
   "cell_type": "markdown",
   "id": "543cd0d8-c971-4898-bacf-94a2924851fc",
   "metadata": {},
   "source": [
    "A doctoral student in psychology wants to collect opinion information from the general campus population but doesn't have a large budget for her research. She decides to go out on one of the busiest campus streets, wait on the corner, and ask people walking by if they would like to answer a few brief questions. She ultimately speaks with 100 people and analyzes the data."
   ]
  },
  {
   "cell_type": "code",
   "execution_count": null,
   "id": "5db00198-1e09-4a10-9577-3f639c107720",
   "metadata": {},
   "outputs": [],
   "source": [
    "# probably sample or non-probability sample\n",
    "# Your answer: "
   ]
  },
  {
   "cell_type": "markdown",
   "id": "af0a9eea-66fb-4e30-882f-932f7d44a2f0",
   "metadata": {},
   "source": [
    "#### Task 2: Is this a probably or non-probability sample? (0.1p)"
   ]
  },
  {
   "cell_type": "markdown",
   "id": "91ab2220-381f-40b6-a247-9df8ff6538cc",
   "metadata": {},
   "source": [
    "A University survey research center selects a random sample of counties in the U.S. using probability proportionate to size, with a certain number of counties to be sampled from each of the four major regions of the United States. One hundred housing units are then selected at random within each randomly selected county, from all available housing units within each county, and one adult is selected at random within each household and invited to participate in a survey."
   ]
  },
  {
   "cell_type": "code",
   "execution_count": null,
   "id": "56ab9be3-7ef4-4063-b3f0-931e739db5ac",
   "metadata": {},
   "outputs": [],
   "source": [
    "# probably sample or non-probability sample\n",
    "# Your answer: "
   ]
  },
  {
   "cell_type": "markdown",
   "id": "8da9d514-b7e6-4976-8db2-30104394af92",
   "metadata": {},
   "source": [
    "#### Task 3: Is this a probably or non-probability sample? (0.1p)"
   ]
  },
  {
   "cell_type": "markdown",
   "id": "15bc1782-794a-4b4f-9233-d241e30c8562",
   "metadata": {},
   "source": [
    "A researcher visits a homeless shelter in a nearby city, tells some individuals currently residing in the center that they can receive compensation for participating in a survey, and indicates that they should also tell everyone in their social networks about this opportunity."
   ]
  },
  {
   "cell_type": "code",
   "execution_count": null,
   "id": "d7ea8333-f15e-413d-83e7-4ab38da722a9",
   "metadata": {},
   "outputs": [],
   "source": [
    "# probably sample or non-probability sample\n",
    "# Your answer: "
   ]
  },
  {
   "cell_type": "markdown",
   "id": "bd8b918e-2a5e-4d49-b7aa-b52c175c1bc6",
   "metadata": {},
   "source": [
    "## Working with Randomness and Random Sampling from a Population."
   ]
  },
  {
   "cell_type": "markdown",
   "id": "aab7189b-d53e-4929-a728-b9d276b2d46b",
   "metadata": {},
   "source": [
    "#### Task 4: Generating Random Numbers with random.uniform() function. (0.2p)"
   ]
  },
  {
   "cell_type": "markdown",
   "id": "5fd14888-d95c-417b-aa78-a33c6d6ef53e",
   "metadata": {},
   "source": [
    "1. Describe what the random.uniform(a, b) function does and its purpose.\n",
    "2. Write a Python program that uses the random.uniform() function to generate 100 random numbers between 30 (inclusive) and 50 (exclusive)."
   ]
  },
  {
   "cell_type": "code",
   "execution_count": null,
   "id": "3a69ddcc-5168-4eaf-8850-ea3b0529500b",
   "metadata": {},
   "outputs": [],
   "source": [
    "# your code and answer"
   ]
  },
  {
   "cell_type": "markdown",
   "id": "0fdbaa30-e273-4090-b68c-c0be01ad6978",
   "metadata": {},
   "source": [
    "#### Task 5: Generating Random Numbers with random.normalvariate() function. (0.4p)"
   ]
  },
  {
   "cell_type": "markdown",
   "id": "782bff90-e0ba-4327-a9cc-87f9972bc6d1",
   "metadata": {},
   "source": [
    "1. Describe what the random.normalvariate(mu, sigma) function does and its purpose.\n",
    "2. Write a Python program that uses the random.normalvariate() function to generate 1000 random numbers from a normal distribution with a mean of mu = 50 and a standard deviation of sigma = 0.8.\n",
    "3. Visualize the generated data using Seaborn's displot function to create a distribution plot. Label the axes appropriately.\n",
    "4. Answer the following question:\n",
    "   Does the distribution plot resemble a typical bell-shaped curve? Explain why or why not."
   ]
  },
  {
   "cell_type": "code",
   "execution_count": null,
   "id": "931b7425-bf3c-4ee2-baa3-3d805b5f028e",
   "metadata": {},
   "outputs": [],
   "source": [
    "# your code and answer"
   ]
  },
  {
   "cell_type": "markdown",
   "id": "38faf562-46ac-47df-9e12-dc5e517381d2",
   "metadata": {},
   "source": [
    "#### Task 6: Generating and Visualizing Sampling Distribution (0.6p)"
   ]
  },
  {
   "cell_type": "markdown",
   "id": "08d8a96d-7d54-4143-9134-2f5dc3ca42e4",
   "metadata": {},
   "source": [
    "1. Generate a population of 1000 random numbers from a normal distribution with a mean of mu = 0 and a standard deviation of sigma = 1 using the random.normalvariate(mu, sigma) function.\n",
    "2. Divide the population into three random samples of size 100 each using the random.sample() function.\n",
    "3. Create a subplot with four plots:\n",
    "   - Plot 1: A displot of the entire population.\n",
    "   - Plot 2: A displot of the first random sample.\n",
    "   - Plot 3: A displot of the second random sample.\n",
    "   - Plot 4: A displot of the third random sample.\n",
    "4. Show the mean of the entire population as a vertical line (axvline()) on the histogram of the entire population.\n",
    "5. Sample means and calculate the mean and standard deviation of the sampling distribution of sample means.\n",
    "6. Visualize the sampling distribution of sample means using a distplot."
   ]
  },
  {
   "cell_type": "code",
   "execution_count": null,
   "id": "ad085803-3e96-4b07-b892-03037b7cb1ff",
   "metadata": {},
   "outputs": [],
   "source": [
    "# your code and answer"
   ]
  }
 ],
 "metadata": {
  "kernelspec": {
   "display_name": "Python 3",
   "language": "python",
   "name": "python3"
  },
  "language_info": {
   "codemirror_mode": {
    "name": "ipython",
    "version": 3
   },
   "file_extension": ".py",
   "mimetype": "text/x-python",
   "name": "python",
   "nbconvert_exporter": "python",
   "pygments_lexer": "ipython3",
   "version": "3.8.8"
  }
 },
 "nbformat": 4,
 "nbformat_minor": 5
}
