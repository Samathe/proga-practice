{
 "cells": [
  {
   "cell_type": "markdown",
   "id": "fb9ec72a",
   "metadata": {},
   "source": [
    "# Practice work - 1"
   ]
  },
  {
   "cell_type": "markdown",
   "id": "666e5e07",
   "metadata": {},
   "source": [
    "The following five questions are focused around a public library. Staff members are trying to gain insight on current library card holders and have sent out a short survey to them. Read each prompt carefully and determine the variable type for each question."
   ]
  },
  {
   "cell_type": "markdown",
   "id": "e5a4fecb",
   "metadata": {},
   "source": [
    "Q1: Library card holders were asked whether or not they have checked out a book from the library in the past month (yes or no). What type of variable would their response be considered?"
   ]
  },
  {
   "cell_type": "code",
   "execution_count": null,
   "id": "e6b59ec5",
   "metadata": {},
   "outputs": [],
   "source": []
  },
  {
   "cell_type": "markdown",
   "id": "5440a09f",
   "metadata": {},
   "source": [
    "Q2: Library card holders were asked to report the amount of late fees they have been charged in the past year (input in the form of $XX.XX). What type of variable would their response be considered? "
   ]
  },
  {
   "cell_type": "code",
   "execution_count": null,
   "id": "29cdefd8",
   "metadata": {},
   "outputs": [],
   "source": []
  },
  {
   "cell_type": "markdown",
   "id": "aeac8053",
   "metadata": {},
   "source": [
    "Q3:  Library card holders were asked to reflect on their most recent book they checked out and report the genre that it most closely represented (i.e. Science Fiction, Action, Romance, Mystery, etc.). What type of variable would their response be considered?"
   ]
  },
  {
   "cell_type": "code",
   "execution_count": null,
   "id": "7f62f60a",
   "metadata": {},
   "outputs": [],
   "source": [
    "#your answer"
   ]
  },
  {
   "cell_type": "markdown",
   "id": "f3d49754",
   "metadata": {},
   "source": [
    "Q4: The library recently added a new online checkout/renewal system. Library card holders were asked how many times they have used the new online system. What type of variable would their response be considered?"
   ]
  },
  {
   "cell_type": "code",
   "execution_count": null,
   "id": "126a6955",
   "metadata": {},
   "outputs": [],
   "source": [
    "#your answer"
   ]
  },
  {
   "cell_type": "markdown",
   "id": "e28b1aec",
   "metadata": {},
   "source": [
    "Q5: Library card holders were asked to report the satisfaction of their library experience during their last visit using a 1 to 5 scale (with the following representations: 1 - Extremely Unsatisfied, 2 - Unsatisfied, 3 - Neutral, 4 - Satisfied, 5 - Extremely Satisfied). What type of variable would their response be considered?"
   ]
  },
  {
   "cell_type": "code",
   "execution_count": null,
   "id": "1d31e2f0",
   "metadata": {},
   "outputs": [],
   "source": [
    "#your answer"
   ]
  },
  {
   "cell_type": "markdown",
   "id": "5650aa78",
   "metadata": {},
   "source": [
    "Q6: Numpy arrays"
   ]
  },
  {
   "cell_type": "code",
   "execution_count": 8,
   "id": "2a4f16a4",
   "metadata": {},
   "outputs": [
    {
     "name": "stdout",
     "output_type": "stream",
     "text": [
      "<class 'numpy.ndarray'>\n"
     ]
    }
   ],
   "source": [
    "import numpy as np\n",
    "#Create numpy array and find datatype\n",
    "np1 = np.array([1,2,3])\n",
    "#your code\n",
    "print(type(np1))"
   ]
  },
  {
   "cell_type": "code",
   "execution_count": 11,
   "id": "43da5836",
   "metadata": {},
   "outputs": [
    {
     "name": "stdout",
     "output_type": "stream",
     "text": [
      "[[0. 0.]\n",
      " [0. 0.]\n",
      " [0. 0.]\n",
      " [0. 0.]]\n"
     ]
    }
   ],
   "source": [
    "# Create 4x2 numpy array full of zeros without using array().\n",
    "zeros1 = np.zeros((4,2))\n",
    "#your code\n",
    "print(zeros1)"
   ]
  },
  {
   "cell_type": "code",
   "execution_count": 17,
   "id": "9fe6dd5c",
   "metadata": {},
   "outputs": [
    {
     "name": "stdout",
     "output_type": "stream",
     "text": [
      "[[6. 6. 6.]\n",
      " [6. 6. 6.]\n",
      " [6. 6. 6.]\n",
      " [6. 6. 6.]]\n"
     ]
    }
   ],
   "source": [
    "#Create 4x3 numpy array full of 6 without using array().\n",
    "six = np.zeros((4,3))\n",
    "#your code\n",
    "print(six + 6)"
   ]
  },
  {
   "cell_type": "code",
   "execution_count": 4,
   "id": "f601aa34",
   "metadata": {},
   "outputs": [],
   "source": [
    "#Create 5x5 numpy array full of random numbers without using array().\n",
    "import random as rn\n",
    "\n",
    "random_n = np.randing()\n",
    "\n",
    "#your code)"
   ]
  },
  {
   "cell_type": "code",
   "execution_count": 5,
   "id": "ba6b524e",
   "metadata": {},
   "outputs": [],
   "source": [
    "#Find shapes of all arrays above\n",
    "\n",
    "#your code"
   ]
  },
  {
   "cell_type": "code",
   "execution_count": 6,
   "id": "f8578bfa",
   "metadata": {},
   "outputs": [],
   "source": [
    "#Given numpy array, find sum of elements of array by row and column, sum of all elements\n",
    "x = np.array([[12,5],[31,1]])\n",
    "\n",
    "#your code"
   ]
  },
  {
   "cell_type": "code",
   "execution_count": 7,
   "id": "7f512f32",
   "metadata": {},
   "outputs": [],
   "source": [
    "#Given 2 numpy arrays, find addition, subtruction, multiplication, division of 2 arrays\n",
    "x = np.array([[12,5],[31,4]], dtype=np.float64)\n",
    "y = np.array([[5,7],[1,8]], dtype=np.float64)\n",
    "\n",
    "#your code"
   ]
  },
  {
   "cell_type": "code",
   "execution_count": 8,
   "id": "a064e0cf",
   "metadata": {},
   "outputs": [],
   "source": [
    "#Given numpy array, find mean of all elements, each row and each column    \n",
    "x = np.array([[12,2],[1,10]])\n",
    "\n",
    "#your code"
   ]
  },
  {
   "cell_type": "markdown",
   "id": "f93f902e",
   "metadata": {},
   "source": [
    "Q5: Pandas"
   ]
  },
  {
   "cell_type": "code",
   "execution_count": 10,
   "id": "7439b51a",
   "metadata": {},
   "outputs": [],
   "source": [
    "import pandas as pd\n",
    "# countries.csv file which is imported\n",
    "url = \"/Users/User/Desktop/Practice2/countries.csv\"  #write path of countries.csv file in your device"
   ]
  },
  {
   "cell_type": "code",
   "execution_count": 9,
   "id": "4fb92536",
   "metadata": {},
   "outputs": [],
   "source": [
    "# Read the .csv file and store it as a pandas Data Frame and define its type\n",
    "\n",
    "#your code"
   ]
  },
  {
   "cell_type": "code",
   "execution_count": 10,
   "id": "70648c44",
   "metadata": {},
   "outputs": [],
   "source": [
    "# Show the first 5 rows of our Data Frame\n",
    "\n",
    "#your code"
   ]
  },
  {
   "cell_type": "code",
   "execution_count": 11,
   "id": "bf6aae02",
   "metadata": {},
   "outputs": [],
   "source": [
    "# Show the column names and data types of each column\n",
    "\n",
    "#your code"
   ]
  },
  {
   "cell_type": "code",
   "execution_count": 12,
   "id": "7568d920",
   "metadata": {},
   "outputs": [],
   "source": [
    "# Select all rows for multiple columns, ['life_expectancy', 'hospital_beds_per_thousand', 'gdp_per_capita']\n",
    "\n",
    "#your code"
   ]
  },
  {
   "cell_type": "code",
   "execution_count": 13,
   "id": "4f634c0e",
   "metadata": {},
   "outputs": [],
   "source": [
    "# Select few rows for multiple columns, ['life_expectancy', 'hospital_beds_per_thousand', 'gdp_per_capita']\n",
    "\n",
    "#your column"
   ]
  },
  {
   "cell_type": "code",
   "execution_count": 15,
   "id": "af4c580a",
   "metadata": {},
   "outputs": [],
   "source": [
    "# Return all observations of location\n",
    "\n",
    "#your code"
   ]
  },
  {
   "cell_type": "code",
   "execution_count": 16,
   "id": "9095047b",
   "metadata": {},
   "outputs": [],
   "source": [
    "# Show first 7 rows by using iloc()\n",
    "\n",
    "#your code"
   ]
  },
  {
   "cell_type": "code",
   "execution_count": 17,
   "id": "0a4ea2ed",
   "metadata": {},
   "outputs": [],
   "source": [
    "# List unique values in the df['continent'] column\n",
    "\n",
    "#your code"
   ]
  },
  {
   "cell_type": "code",
   "execution_count": 18,
   "id": "9534aad2",
   "metadata": {},
   "outputs": [],
   "source": [
    "# Group data by 'location' and 'continent' columns\n",
    "\n",
    "#your code"
   ]
  },
  {
   "cell_type": "code",
   "execution_count": 18,
   "id": "57fca7fb",
   "metadata": {},
   "outputs": [
    {
     "name": "stdout",
     "output_type": "stream",
     "text": [
      "0.201 0.299\n"
     ]
    }
   ],
   "source": [
    "n = 300\n",
    "prefer = 75\n",
    "p = prefer/n\n",
    "z = 1.96 \n",
    "SE = (p*(1-p)/n)**(1/2)\n",
    "ME = SE * z \n",
    "\n",
    "lower_bound = p - ME \n",
    "upper_bound = p + ME \n",
    "\n",
    "print(lower_bound, upper_bound)"
   ]
  },
  {
   "cell_type": "code",
   "execution_count": 19,
   "id": "bc3b6d56",
   "metadata": {},
   "outputs": [
    {
     "name": "stdout",
     "output_type": "stream",
     "text": [
      "Sample Proportion (p): 0.2500\n",
      "Standard Error (SE): 0.0250\n",
      "Margin of Error (ME): 0.0490\n",
      "Confidence Interval: (0.2010, 0.2990)\n"
     ]
    }
   ],
   "source": [
    "import math\n",
    "\n",
    "# Provided data\n",
    "total_responses = 300\n",
    "prefer_product_a = 75\n",
    "confidence_level = 0.95\n",
    "z_value = 1.96  # Z-value for a 95% confidence interval\n",
    "\n",
    "# Calculate sample proportion (p)\n",
    "p = prefer_product_a / total_responses\n",
    "\n",
    "# Calculate standard error (SE)\n",
    "se = math.sqrt((p * (1 - p)) / total_responses)\n",
    "\n",
    "# Calculate margin of error (ME)\n",
    "me = z_value * se\n",
    "\n",
    "# Calculate confidence interval bounds\n",
    "lower_bound = p - me\n",
    "upper_bound = p + me\n",
    "\n",
    "# Display the results\n",
    "print(f\"Sample Proportion (p): {p:.4f}\")\n",
    "print(f\"Standard Error (SE): {se:.4f}\")\n",
    "print(f\"Margin of Error (ME): {me:.4f}\")\n",
    "print(f\"Confidence Interval: ({lower_bound:.4f}, {upper_bound:.4f})\")\n"
   ]
  }
 ],
 "metadata": {
  "kernelspec": {
   "display_name": "Python 3 (ipykernel)",
   "language": "python",
   "name": "python3"
  },
  "language_info": {
   "codemirror_mode": {
    "name": "ipython",
    "version": 3
   },
   "file_extension": ".py",
   "mimetype": "text/x-python",
   "name": "python",
   "nbconvert_exporter": "python",
   "pygments_lexer": "ipython3",
   "version": "3.11.4"
  }
 },
 "nbformat": 4,
 "nbformat_minor": 5
}
