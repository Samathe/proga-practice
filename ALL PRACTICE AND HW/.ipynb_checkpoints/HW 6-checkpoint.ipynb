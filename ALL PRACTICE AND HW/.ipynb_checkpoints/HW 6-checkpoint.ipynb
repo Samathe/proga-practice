{
 "cells": [
  {
   "cell_type": "markdown",
   "id": "e6af49c1",
   "metadata": {},
   "source": [
    "# Home work - Week 6"
   ]
  },
  {
   "cell_type": "markdown",
   "id": "83c10192",
   "metadata": {},
   "source": [
    "1)What happens when the function save_plot is called? (0.1 p)\n",
    "``` \n",
    "import matplotlib.pyplot as plt\n",
    "\n",
    "def save_plot(x, y):\n",
    "  plt.plot(x, y)\n",
    "  plt.savefig('new_plot')\n",
    "``` "
   ]
  },
  {
   "cell_type": "code",
   "execution_count": null,
   "id": "aebe538e",
   "metadata": {},
   "outputs": [],
   "source": [
    "#your answer\n"
   ]
  },
  {
   "cell_type": "markdown",
   "id": "a2a77503",
   "metadata": {},
   "source": [
    "2)What are the values in my_dict? (0.1 p)\n",
    "``` \n",
    "my_dict = {'peaches':'cream', 'cat':'dog', 'this one':'that one'}\n",
    "``` "
   ]
  },
  {
   "cell_type": "code",
   "execution_count": null,
   "id": "6457df5a",
   "metadata": {},
   "outputs": [],
   "source": [
    "#your answer\n"
   ]
  },
  {
   "cell_type": "markdown",
   "id": "038f5e82",
   "metadata": {},
   "source": [
    "3)What does the following function return when the input is 1st=[1, 7, 3, 5] (0.1 p)\n",
    "``` \n",
    "def get_element(lst):\n",
    "  new_lst = []\n",
    "  for i in lst:\n",
    "    new_lst.append(i**2)\n",
    "    return lst[1]\n",
    "    \n",
    "``` "
   ]
  },
  {
   "cell_type": "code",
   "execution_count": null,
   "id": "0af54160",
   "metadata": {},
   "outputs": [],
   "source": [
    "#your answer\n"
   ]
  },
  {
   "cell_type": "markdown",
   "id": "981852c7",
   "metadata": {},
   "source": [
    "4)What are the keys in my_dict: (0.1 p)\n",
    "```     \n",
    "my_dict = {'peaches':'cream', 'cat':'dog', 'this one':'that one'}\n",
    "my_dict['this one']\n",
    "``` "
   ]
  },
  {
   "cell_type": "code",
   "execution_count": null,
   "id": "5f9c6a21",
   "metadata": {},
   "outputs": [],
   "source": [
    "#your answer\n"
   ]
  },
  {
   "cell_type": "markdown",
   "id": "38978219",
   "metadata": {},
   "source": [
    "5)What is the output of following code: (0.1 p)\n",
    "\n",
    "``` \n",
    "my_dict = {'peaches':'cream', 'cat':'dog', 'this one':'that one'}\n",
    "my_dict['this one']\n",
    "``` "
   ]
  },
  {
   "cell_type": "code",
   "execution_count": null,
   "id": "ba20459f",
   "metadata": {},
   "outputs": [],
   "source": [
    "#your answer\n"
   ]
  },
  {
   "cell_type": "markdown",
   "id": "2e662ab5",
   "metadata": {},
   "source": [
    "6. Write a function that inputs an integers and returns the negative. Test your function with input x (0.15 p)"
   ]
  },
  {
   "cell_type": "code",
   "execution_count": 1,
   "id": "f4687a45",
   "metadata": {},
   "outputs": [],
   "source": [
    "#your code\n"
   ]
  },
  {
   "cell_type": "markdown",
   "id": "e29ed9f3",
   "metadata": {},
   "source": [
    "7. Write a function that inputs a list of integers and returns the minimum value. Test your function with input lst. lst = [-3, 0, 2, 100, -1, 2] (0.15 p)"
   ]
  },
  {
   "cell_type": "code",
   "execution_count": 2,
   "id": "c0b9db37",
   "metadata": {},
   "outputs": [],
   "source": [
    "#your code\n"
   ]
  },
  {
   "cell_type": "markdown",
   "id": "7a001283",
   "metadata": {},
   "source": [
    "8. #### Challenge problem:  \n",
    "Write a function that take in four arguments: lst1, lst2, str1, str2, and returns a pandas DataFrame that has the first column labeled str1 and the second column labaled str2, that have values lst1 and lst2 scaled to be between 0 and 1. (0.2 p)\n",
    "\n",
    "For example\n",
    "```\n",
    "lst1 = [1, 2, 3]\n",
    "lst2 = [2, 4, 5]\n",
    "str1 = 'one'\n",
    "str2 = 'two'\n",
    "\n",
    "my_function(lst1, lst2, str1, str2)\n",
    "``` \n",
    "should return a DataFrame that looks like:\n",
    "\n",
    "\n",
    "\n",
    "|  <i></i> | one | two |\n",
    "| --- | --- | --- |\n",
    "| 0 | 0 | 0 |\n",
    "| 1 | .5 | .666 |\n",
    "| 2 | 1 | 1 |\n",
    "\n"
   ]
  },
  {
   "cell_type": "code",
   "execution_count": 3,
   "id": "d965e019",
   "metadata": {},
   "outputs": [],
   "source": [
    "#your code\n"
   ]
  },
  {
   "cell_type": "markdown",
   "id": "262872a9",
   "metadata": {},
   "source": [
    "9. Write a lambda function that checks if a number is even. (0.1 p)"
   ]
  },
  {
   "cell_type": "code",
   "execution_count": null,
   "id": "442d0ab2",
   "metadata": {},
   "outputs": [],
   "source": [
    "#your code\n"
   ]
  },
  {
   "cell_type": "markdown",
   "id": "772b8dfd",
   "metadata": {},
   "source": [
    "10. Write a lambda function that converts a string to uppercase. (0.1 p)"
   ]
  },
  {
   "cell_type": "code",
   "execution_count": null,
   "id": "0a8fb071",
   "metadata": {},
   "outputs": [],
   "source": [
    "#your code\n"
   ]
  },
  {
   "cell_type": "markdown",
   "id": "1a220112",
   "metadata": {},
   "source": [
    "11. Answer to the following questions (0.3 p)\n",
    "\n",
    "    - What is the purpose of inference methods in statistics and data analysis?\n",
    "    - What is research question?\n",
    "    - Write me about Bayesian"
   ]
  },
  {
   "cell_type": "code",
   "execution_count": null,
   "id": "8d342e50",
   "metadata": {},
   "outputs": [],
   "source": [
    "#your answer\n"
   ]
  }
 ],
 "metadata": {
  "kernelspec": {
   "display_name": "Python 3 (ipykernel)",
   "language": "python",
   "name": "python3"
  },
  "language_info": {
   "codemirror_mode": {
    "name": "ipython",
    "version": 3
   },
   "file_extension": ".py",
   "mimetype": "text/x-python",
   "name": "python",
   "nbconvert_exporter": "python",
   "pygments_lexer": "ipython3",
   "version": "3.11.4"
  }
 },
 "nbformat": 4,
 "nbformat_minor": 5
}
