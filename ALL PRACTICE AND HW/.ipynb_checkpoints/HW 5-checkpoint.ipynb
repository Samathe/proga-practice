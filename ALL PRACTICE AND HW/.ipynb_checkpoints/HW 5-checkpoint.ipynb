{
 "cells": [
  {
   "cell_type": "markdown",
   "id": "61d468a8-0318-4a70-bc72-c1994044382b",
   "metadata": {},
   "source": [
    "# Week 5: Home work(1.5 point)"
   ]
  },
  {
   "cell_type": "markdown",
   "id": "d46fd1d6-fc79-42ea-bceb-5b8f710925d9",
   "metadata": {},
   "source": [
    "#### Task 1: Is this a probably or non-probability sample? (0.2p)"
   ]
  },
  {
   "cell_type": "markdown",
   "id": "f68548dc-bb25-48c0-b2f2-8716791cc41c",
   "metadata": {},
   "source": [
    "Online Customer Satisfaction: Analyze online reviews to gauge customer satisfaction with a particular restaurant"
   ]
  },
  {
   "cell_type": "code",
   "execution_count": null,
   "id": "641a9a65-0a74-4fb1-bc8b-e265bc74a17f",
   "metadata": {},
   "outputs": [],
   "source": [
    "# probably sample or non-probability sample\n",
    "# Your answer: non-probability sample"
   ]
  },
  {
   "cell_type": "markdown",
   "id": "728ef8ec-0a18-4ad1-bf2b-7e6542e9bbef",
   "metadata": {},
   "source": [
    "#### Task 2: Is this a probably or non-probability sample? (0.2p)"
   ]
  },
  {
   "cell_type": "markdown",
   "id": "36489609-1ebf-47b9-bc4e-3735f64584a1",
   "metadata": {},
   "source": [
    "Product Beta Testing: Select a random group of users to beta-test a software product and provide feedback"
   ]
  },
  {
   "cell_type": "code",
   "execution_count": null,
   "id": "36541435-6dd8-4b33-9742-bf547eaaa6b3",
   "metadata": {},
   "outputs": [],
   "source": [
    "# probably sample or non-probability sample\n",
    "# Your answer:probably sample"
   ]
  },
  {
   "cell_type": "markdown",
   "id": "81ade18e-2609-4d16-89ee-23b810b2af25",
   "metadata": {},
   "source": [
    "#### Task 3: Is this a probably or non-probability sample? (0.2p)"
   ]
  },
  {
   "cell_type": "markdown",
   "id": "a5fab59c-1849-4e65-84de-9e7c757737db",
   "metadata": {},
   "source": [
    "Employee Satisfaction Survey: Conduct a survey to assess job satisfaction among employees in a company, ensuring each department has an equal representation "
   ]
  },
  {
   "cell_type": "code",
   "execution_count": null,
   "id": "d187346e-0541-4c9a-97af-af7f5f945eb4",
   "metadata": {},
   "outputs": [],
   "source": [
    "# probably sample or non-probability sample\n",
    "# Your answer:"
   ]
  },
  {
   "cell_type": "markdown",
   "id": "e45d9335-a2b1-45bd-9157-e427b1d885c6",
   "metadata": {},
   "source": [
    "#### Task 4: In the code block below, generate 3 normal random variables with mean 100 and standard deviation 1. (0.4p)"
   ]
  },
  {
   "cell_type": "markdown",
   "id": "b283e9aa-76ea-4228-a32a-96c2667e9f06",
   "metadata": {},
   "source": [
    "This will require about 4 lines of code. Use the functions provided in this outline."
   ]
  },
  {
   "cell_type": "markdown",
   "id": "86713061-3f97-44fe-82b0-f57023279955",
   "metadata": {},
   "source": [
    "1. Import the numpy library\n",
    "2. Set the seed to 123 to initialize environment so random variables are replicated according to the grader. \n",
    "3. Generate three random normal variables with mean 100 and standard deviation 1 and assign them to a variable named sample.\n",
    "4. Print the variable sample.\n"
   ]
  },
  {
   "cell_type": "markdown",
   "id": "5be157c5-0558-4290-9ef8-4eba6462a295",
   "metadata": {},
   "source": [
    "Reference Documentation: \n",
    "- https://docs.scipy.org/doc/numpy-1.15.1/reference/generated/numpy.random.normal.html\n",
    "- https://docs.scipy.org/doc/numpy-1.15.1/reference/generated/numpy.random.seed.html"
   ]
  },
  {
   "cell_type": "code",
   "execution_count": null,
   "id": "83c5bb5d-1e81-4e38-b7cb-bf862113b914",
   "metadata": {},
   "outputs": [],
   "source": [
    "# your code"
   ]
  },
  {
   "cell_type": "markdown",
   "id": "f64dd8d6-02bf-4170-9bc2-45971828189c",
   "metadata": {},
   "source": [
    "#### Task 5: Generating random samples from a population lies at the heart of statistics. In the code block below, draw a sample of size 10 from a set containing the integers 1 through 100. (0.5p)"
   ]
  },
  {
   "cell_type": "markdown",
   "id": "653566ff-281c-4bf4-9986-c741dbb738b4",
   "metadata": {},
   "source": [
    "This will require about 5 lines of code. Use the functions provided in this outline."
   ]
  },
  {
   "cell_type": "markdown",
   "id": "0fa23ae0-3cda-4c47-99c7-706edcb6123b",
   "metadata": {},
   "source": [
    "1. Import the numpy library\n",
    "2. Set the seed to 123 to initialize environment so random variables are replicated according to the grader.\n",
    "3. Create a vector called population, and put the numbers 1-100 into the population list.\n",
    "4. Generate a sample with length 10 from the population. And assign\n",
    "the output to a variable named sample.\n",
    "5. Print the variable sample."
   ]
  },
  {
   "cell_type": "markdown",
   "id": "7b7b7f3c-dd85-4662-be0e-6ac930a1739e",
   "metadata": {},
   "source": [
    "Reference Documentation:\n",
    "- https://docs.scipy.org/doc/numpy-1.15.1/reference/generated/numpy.random.seed.html\n",
    "- https://docs.scipy.org/doc/numpy-1.15.1/reference/generated/numpy.arange.html\n",
    "- https://docs.scipy.org/doc/numpy-1.15.1/reference/generated/numpy.random.choice.html"
   ]
  },
  {
   "cell_type": "code",
   "execution_count": null,
   "id": "216d5ee3-fcc2-4c38-acee-d18350edcdb4",
   "metadata": {},
   "outputs": [],
   "source": [
    "# your code"
   ]
  }
 ],
 "metadata": {
  "kernelspec": {
   "display_name": "Python 3 (ipykernel)",
   "language": "python",
   "name": "python3"
  },
  "language_info": {
   "codemirror_mode": {
    "name": "ipython",
    "version": 3
   },
   "file_extension": ".py",
   "mimetype": "text/x-python",
   "name": "python",
   "nbconvert_exporter": "python",
   "pygments_lexer": "ipython3",
   "version": "3.11.4"
  }
 },
 "nbformat": 4,
 "nbformat_minor": 5
}
