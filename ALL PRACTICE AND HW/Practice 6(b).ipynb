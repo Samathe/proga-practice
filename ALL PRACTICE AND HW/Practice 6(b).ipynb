{
 "cells": [
  {
   "cell_type": "markdown",
   "id": "c6a07e1c",
   "metadata": {},
   "source": [
    "# Practice 6"
   ]
  },
  {
   "cell_type": "markdown",
   "id": "4a0efa89",
   "metadata": {},
   "source": [
    "1. What is list? Create list with 5 letters and print it. (0.1 p)"
   ]
  },
  {
   "cell_type": "code",
   "execution_count": 1,
   "id": "1bdef3f5",
   "metadata": {},
   "outputs": [],
   "source": [
    "#your code\n"
   ]
  },
  {
   "cell_type": "markdown",
   "id": "7288cec0",
   "metadata": {},
   "source": [
    "2. Create numpy array from list above. (0.1 p)"
   ]
  },
  {
   "cell_type": "code",
   "execution_count": 2,
   "id": "bfba6ae3",
   "metadata": {},
   "outputs": [],
   "source": [
    "#your code\n"
   ]
  },
  {
   "cell_type": "markdown",
   "id": "c62f23a5",
   "metadata": {},
   "source": [
    "3. Display first and second elements of array. (0.1 p)"
   ]
  },
  {
   "cell_type": "code",
   "execution_count": 4,
   "id": "f9e784ea",
   "metadata": {},
   "outputs": [],
   "source": [
    "#your code\n"
   ]
  },
  {
   "cell_type": "markdown",
   "id": "aca46730",
   "metadata": {},
   "source": [
    "4. What is dictionary? Create dictionary with any values. (0.1 p)"
   ]
  },
  {
   "cell_type": "code",
   "execution_count": 5,
   "id": "551d2375",
   "metadata": {},
   "outputs": [],
   "source": [
    "#your code\n"
   ]
  },
  {
   "cell_type": "markdown",
   "id": "9510387b",
   "metadata": {},
   "source": [
    "5. Replace first and last elements with another values and display result (0.1 p)"
   ]
  },
  {
   "cell_type": "code",
   "execution_count": 7,
   "id": "acc32a7b",
   "metadata": {},
   "outputs": [],
   "source": [
    "#your code\n"
   ]
  },
  {
   "cell_type": "markdown",
   "id": "63a2a999",
   "metadata": {},
   "source": [
    "6. Add new element to list and dictionary above. (0.1 p)"
   ]
  },
  {
   "cell_type": "code",
   "execution_count": 8,
   "id": "49e6bde6",
   "metadata": {},
   "outputs": [],
   "source": [
    "#your code\n"
   ]
  },
  {
   "cell_type": "markdown",
   "id": "34c59c08",
   "metadata": {},
   "source": [
    "7. Write function which calculates perimeter and area of rectangle. (0.1 p)"
   ]
  },
  {
   "cell_type": "code",
   "execution_count": 9,
   "id": "78ecc824",
   "metadata": {},
   "outputs": [],
   "source": [
    "#your code\n"
   ]
  },
  {
   "cell_type": "markdown",
   "id": "931f5138",
   "metadata": {},
   "source": [
    "8. Write lambda function which returns cube of number. (0.1 p)"
   ]
  },
  {
   "cell_type": "code",
   "execution_count": 10,
   "id": "4c138429",
   "metadata": {},
   "outputs": [],
   "source": [
    "#your code\n"
   ]
  },
  {
   "cell_type": "markdown",
   "id": "19c03f7f",
   "metadata": {},
   "source": [
    "9. Write function which displays sum of elements of array. (0.1 p)"
   ]
  },
  {
   "cell_type": "code",
   "execution_count": 11,
   "id": "a34a063f",
   "metadata": {},
   "outputs": [],
   "source": [
    "#your code\n"
   ]
  },
  {
   "cell_type": "markdown",
   "id": "796c3f6d",
   "metadata": {},
   "source": [
    "10. Import \"Cartwheeldata\" data, display first and last rows. (0.1 p)"
   ]
  },
  {
   "cell_type": "code",
   "execution_count": 1,
   "id": "9c9cbb9f",
   "metadata": {},
   "outputs": [],
   "source": [
    "#your code\n"
   ]
  },
  {
   "cell_type": "markdown",
   "id": "c7292940",
   "metadata": {},
   "source": [
    "11. Make a Seaborn graph with wingspan and height (0.2 p)"
   ]
  },
  {
   "cell_type": "code",
   "execution_count": 3,
   "id": "b26474ed",
   "metadata": {},
   "outputs": [],
   "source": [
    "#your code\n"
   ]
  },
  {
   "cell_type": "markdown",
   "id": "56bb35d2",
   "metadata": {},
   "source": [
    "12. Make Pie chart for \"Complete\" status (0.3 p)"
   ]
  },
  {
   "cell_type": "code",
   "execution_count": null,
   "id": "58ccc3bc",
   "metadata": {},
   "outputs": [],
   "source": [
    "#your code\n"
   ]
  }
 ],
 "metadata": {
  "kernelspec": {
   "display_name": "Python 3",
   "language": "python",
   "name": "python3"
  },
  "language_info": {
   "codemirror_mode": {
    "name": "ipython",
    "version": 3
   },
   "file_extension": ".py",
   "mimetype": "text/x-python",
   "name": "python",
   "nbconvert_exporter": "python",
   "pygments_lexer": "ipython3",
   "version": "3.8.8"
  }
 },
 "nbformat": 4,
 "nbformat_minor": 5
}
