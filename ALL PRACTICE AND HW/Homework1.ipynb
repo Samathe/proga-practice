{
 "cells": [
  {
   "cell_type": "markdown",
   "id": "cb5c098e",
   "metadata": {},
   "source": [
    "# Homework 1"
   ]
  },
  {
   "cell_type": "markdown",
   "id": "207d0b87",
   "metadata": {},
   "source": [
    "## Numpy"
   ]
  },
  {
   "cell_type": "markdown",
   "id": "01b0482a",
   "metadata": {},
   "source": [
    "1) Create a NumPy array with the values [10, 20, 30, 40, 50]."
   ]
  },
  {
   "cell_type": "code",
   "execution_count": 4,
   "id": "18f83f63",
   "metadata": {},
   "outputs": [
    {
     "name": "stdout",
     "output_type": "stream",
     "text": [
      "<class 'numpy.ndarray'>\n"
     ]
    }
   ],
   "source": [
    "import numpy as np\n",
    "\n",
    "arr = np.array([10,20,30,40,50])\n",
    "print(type(arr))"
   ]
  },
  {
   "cell_type": "markdown",
   "id": "c0bee26c",
   "metadata": {},
   "source": [
    "2) Calculate the mean and standard deviation of the elements in a NumPy array."
   ]
  },
  {
   "cell_type": "code",
   "execution_count": 2,
   "id": "816b1d40",
   "metadata": {},
   "outputs": [
    {
     "name": "stdout",
     "output_type": "stream",
     "text": [
      "30.0\n",
      "14.142135623730951\n"
     ]
    }
   ],
   "source": [
    "print(np.mean(arr))\n",
    "print(np.std(arr))"
   ]
  },
  {
   "cell_type": "markdown",
   "id": "580903c2",
   "metadata": {},
   "source": [
    "3) Create a 3x3 NumPy array with random integers between 1 and 100."
   ]
  },
  {
   "cell_type": "code",
   "execution_count": 4,
   "id": "37682a63",
   "metadata": {},
   "outputs": [
    {
     "name": "stdout",
     "output_type": "stream",
     "text": [
      "[[ 4 75  1]\n",
      " [54 33 93]\n",
      " [18 52 55]]\n"
     ]
    }
   ],
   "source": [
    "import random as rn\n",
    "\n",
    "matrix = np.array([[rn.randint(1,100) for i in range(3)] for j in range(3)])\n",
    "print(matrix)"
   ]
  },
  {
   "cell_type": "markdown",
   "id": "c9173135",
   "metadata": {},
   "source": [
    " 4) Calculate the square root of each element in a NumPy array."
   ]
  },
  {
   "cell_type": "code",
   "execution_count": 5,
   "id": "612b420b",
   "metadata": {},
   "outputs": [
    {
     "name": "stdout",
     "output_type": "stream",
     "text": [
      "[3.16227766 4.47213595 5.47722558 6.32455532 7.07106781]\n"
     ]
    }
   ],
   "source": [
    "arr = np.array([10, 20, 30, 40, 50])\n",
    "\n",
    "#your answer\n",
    "\n",
    "arr_sqr = np.array([item**(1/2) for item in arr]) \n",
    "\n",
    "print(arr_sqr)"
   ]
  },
  {
   "cell_type": "markdown",
   "id": "ab40d309",
   "metadata": {},
   "source": [
    "5) Create a 2D NumPy array with dimensions (4, 4) filled with ones"
   ]
  },
  {
   "cell_type": "code",
   "execution_count": 6,
   "id": "637f5da0",
   "metadata": {},
   "outputs": [
    {
     "name": "stdout",
     "output_type": "stream",
     "text": [
      "[[1 1 1 1]\n",
      " [1 1 1 1]\n",
      " [1 1 1 1]\n",
      " [1 1 1 1]]\n"
     ]
    }
   ],
   "source": [
    "#your code\n",
    "arr_4 = np.array([[1 for i in range(4)] for j in range(4)])\n",
    "print(arr_4)"
   ]
  },
  {
   "cell_type": "markdown",
   "id": "62e1eced",
   "metadata": {},
   "source": [
    "6) Reshape a 1D NumPy array into a 3x3 2D array."
   ]
  },
  {
   "cell_type": "code",
   "execution_count": 115,
   "id": "0d33f4ea",
   "metadata": {},
   "outputs": [
    {
     "data": {
      "text/plain": [
       "array([[10, 20, 30],\n",
       "       [40, 50, 60],\n",
       "       [70, 80, 90]])"
      ]
     },
     "execution_count": 115,
     "metadata": {},
     "output_type": "execute_result"
    }
   ],
   "source": [
    "arr = np.array([10, 20, 30, 40, 50, 60, 70, 80, 90])\n",
    "\n",
    "# arr_2 = np.array([[arr[j] for j in range((i-1)*3,i*3)] for i in range(1,4)])\n",
    "\n",
    "arr_2 = np.reshape(arr, (3,3))\n",
    "\n",
    "arr_2"
   ]
  },
  {
   "cell_type": "markdown",
   "id": "6feb9a4c",
   "metadata": {},
   "source": [
    "7) Create a NumPy array of 10 equally spaced values between 0 and 1."
   ]
  },
  {
   "cell_type": "code",
   "execution_count": 8,
   "id": "0f6b3806",
   "metadata": {},
   "outputs": [
    {
     "data": {
      "text/plain": [
       "array([0.        , 0.11111111, 0.22222222, 0.33333333, 0.44444444,\n",
       "       0.55555556, 0.66666667, 0.77777778, 0.88888889, 1.        ])"
      ]
     },
     "execution_count": 8,
     "metadata": {},
     "output_type": "execute_result"
    }
   ],
   "source": [
    "arr_10 = np.array([1/9 * i for i in range(10)]) \n",
    "arr_10"
   ]
  },
  {
   "cell_type": "markdown",
   "id": "8998c5ae",
   "metadata": {},
   "source": [
    "8) Find the index of the maximum value in a NumPy array."
   ]
  },
  {
   "cell_type": "code",
   "execution_count": 9,
   "id": "8fd464bf",
   "metadata": {},
   "outputs": [
    {
     "name": "stdout",
     "output_type": "stream",
     "text": [
      "4\n"
     ]
    }
   ],
   "source": [
    "arr = np.array([10, 20, 30, 40, 50])\n",
    "\n",
    "for i in range(len(arr)):\n",
    "    if arr[i] == np.max(arr):\n",
    "        k = i \n",
    "        \n",
    "print(k)\n",
    "\n"
   ]
  },
  {
   "cell_type": "markdown",
   "id": "b035e9a7",
   "metadata": {},
   "source": [
    "9) Create a diagonal matrix with specified diagonal elements using NumPy."
   ]
  },
  {
   "cell_type": "code",
   "execution_count": 39,
   "id": "a83a6eee",
   "metadata": {},
   "outputs": [
    {
     "name": "stdout",
     "output_type": "stream",
     "text": [
      "[[ 0 10 20]\n",
      " [30 40 50]\n",
      " [60 70 80]]\n",
      "[[ 0  0  0]\n",
      " [ 0 40  0]\n",
      " [ 0  0 80]]\n"
     ]
    }
   ],
   "source": [
    "x = np.array([[i*10 for i in range((j-1)*3, j*3)] for j in range(1,4)])\n",
    "\n",
    "print(x)\n",
    "\n",
    "diag = np.diag(np.diagonal(x))\n",
    "print(diag)"
   ]
  },
  {
   "cell_type": "markdown",
   "id": "818e87d4",
   "metadata": {},
   "source": [
    "10) Compute the determinant of a square NumPy matrix."
   ]
  },
  {
   "cell_type": "code",
   "execution_count": 40,
   "id": "34d7f356",
   "metadata": {},
   "outputs": [
    {
     "name": "stdout",
     "output_type": "stream",
     "text": [
      "[[1 2]\n",
      " [3 4]]\n",
      "-2.0000000000000004\n"
     ]
    }
   ],
   "source": [
    "matrix = np.array([[1,2], [3,4]])\n",
    "\n",
    "\n",
    "#your answer\n",
    "print(matrix)\n",
    "print(np.linalg.det(matrix))"
   ]
  },
  {
   "cell_type": "markdown",
   "id": "443c21c7",
   "metadata": {},
   "source": [
    "11) Create a NumPy array with random floats between 0 and 1."
   ]
  },
  {
   "cell_type": "code",
   "execution_count": 47,
   "id": "f4a44155",
   "metadata": {},
   "outputs": [
    {
     "data": {
      "text/plain": [
       "array([0.49544539, 0.18580501, 0.13976417])"
      ]
     },
     "execution_count": 47,
     "metadata": {},
     "output_type": "execute_result"
    }
   ],
   "source": [
    "array = np.array([np.random.random() for i in range(3)])\n",
    "array"
   ]
  },
  {
   "cell_type": "markdown",
   "id": "bf1bb76a",
   "metadata": {},
   "source": [
    "## Pandas"
   ]
  },
  {
   "cell_type": "markdown",
   "id": "80ffd36f",
   "metadata": {},
   "source": [
    "12) You have a list of names: names = ['Alice', 'Bob', 'Charlie', 'David']. Convert this list into a pandas DataFrame."
   ]
  },
  {
   "cell_type": "code",
   "execution_count": 50,
   "id": "d073a1cb",
   "metadata": {},
   "outputs": [
    {
     "data": {
      "text/html": [
       "<div>\n",
       "<style scoped>\n",
       "    .dataframe tbody tr th:only-of-type {\n",
       "        vertical-align: middle;\n",
       "    }\n",
       "\n",
       "    .dataframe tbody tr th {\n",
       "        vertical-align: top;\n",
       "    }\n",
       "\n",
       "    .dataframe thead th {\n",
       "        text-align: right;\n",
       "    }\n",
       "</style>\n",
       "<table border=\"1\" class=\"dataframe\">\n",
       "  <thead>\n",
       "    <tr style=\"text-align: right;\">\n",
       "      <th></th>\n",
       "      <th>0</th>\n",
       "    </tr>\n",
       "  </thead>\n",
       "  <tbody>\n",
       "    <tr>\n",
       "      <th>0</th>\n",
       "      <td>Alice</td>\n",
       "    </tr>\n",
       "    <tr>\n",
       "      <th>1</th>\n",
       "      <td>Bob</td>\n",
       "    </tr>\n",
       "    <tr>\n",
       "      <th>2</th>\n",
       "      <td>Charlie</td>\n",
       "    </tr>\n",
       "    <tr>\n",
       "      <th>3</th>\n",
       "      <td>David</td>\n",
       "    </tr>\n",
       "  </tbody>\n",
       "</table>\n",
       "</div>"
      ],
      "text/plain": [
       "         0\n",
       "0    Alice\n",
       "1      Bob\n",
       "2  Charlie\n",
       "3    David"
      ]
     },
     "execution_count": 50,
     "metadata": {},
     "output_type": "execute_result"
    }
   ],
   "source": [
    "import pandas as pd\n",
    "\n",
    "df = pd.DataFrame(['Alice', 'Bob', 'Charlie', 'David'])\n",
    "\n",
    "df\n"
   ]
  },
  {
   "cell_type": "code",
   "execution_count": 100,
   "id": "4a54f7fa",
   "metadata": {},
   "outputs": [
    {
     "name": "stdout",
     "output_type": "stream",
     "text": [
      "      Name  Age Gender\n",
      "0      Tom   20      M\n",
      "1   Joseph   21      M\n",
      "2    Krish   19      F\n",
      "3     John   18      M\n",
      "4     Andy   32      F\n",
      "5  Tiffany   56      F\n",
      "6  Michael   12      M\n"
     ]
    }
   ],
   "source": [
    "#we have DataFrame df\n",
    "data = {'Name': ['Tom', 'Joseph', 'Krish', 'John', 'Andy', 'Tiffany', 'Michael'], \n",
    "        'Age': [20, 21, 19, 18, 32, 56, 12],\n",
    "        'Gender': ['M', 'M', 'F', 'M', 'F', 'F', 'M'],}  \n",
    "df = pd.DataFrame(data)   \n",
    "print(df)  "
   ]
  },
  {
   "cell_type": "markdown",
   "id": "3c188ba6",
   "metadata": {},
   "source": [
    "13) Given a DataFrame df with a column 'Age', calculate and display the maximum age."
   ]
  },
  {
   "cell_type": "code",
   "execution_count": 62,
   "id": "6320cee1",
   "metadata": {},
   "outputs": [
    {
     "name": "stdout",
     "output_type": "stream",
     "text": [
      "56\n"
     ]
    }
   ],
   "source": [
    "print(max(df['Age']))"
   ]
  },
  {
   "cell_type": "markdown",
   "id": "d3cb048e",
   "metadata": {},
   "source": [
    "14) Filter the rows in a DataFrame df where the 'Age' is greater than 30."
   ]
  },
  {
   "cell_type": "code",
   "execution_count": 69,
   "id": "9a91928f",
   "metadata": {},
   "outputs": [
    {
     "data": {
      "text/html": [
       "<div>\n",
       "<style scoped>\n",
       "    .dataframe tbody tr th:only-of-type {\n",
       "        vertical-align: middle;\n",
       "    }\n",
       "\n",
       "    .dataframe tbody tr th {\n",
       "        vertical-align: top;\n",
       "    }\n",
       "\n",
       "    .dataframe thead th {\n",
       "        text-align: right;\n",
       "    }\n",
       "</style>\n",
       "<table border=\"1\" class=\"dataframe\">\n",
       "  <thead>\n",
       "    <tr style=\"text-align: right;\">\n",
       "      <th></th>\n",
       "      <th>Name</th>\n",
       "      <th>Age</th>\n",
       "      <th>Gender</th>\n",
       "    </tr>\n",
       "  </thead>\n",
       "  <tbody>\n",
       "    <tr>\n",
       "      <th>4</th>\n",
       "      <td>Andy</td>\n",
       "      <td>32</td>\n",
       "      <td>F</td>\n",
       "    </tr>\n",
       "    <tr>\n",
       "      <th>5</th>\n",
       "      <td>Tiffany</td>\n",
       "      <td>56</td>\n",
       "      <td>F</td>\n",
       "    </tr>\n",
       "  </tbody>\n",
       "</table>\n",
       "</div>"
      ],
      "text/plain": [
       "      Name  Age Gender\n",
       "4     Andy   32      F\n",
       "5  Tiffany   56      F"
      ]
     },
     "execution_count": 69,
     "metadata": {},
     "output_type": "execute_result"
    }
   ],
   "source": [
    "data2 = df.loc[df['Age']>=30]\n",
    "data2"
   ]
  },
  {
   "cell_type": "markdown",
   "id": "4f82ea11",
   "metadata": {},
   "source": [
    "15) Sort a DataFrame df by the 'Age' column in descending order."
   ]
  },
  {
   "cell_type": "code",
   "execution_count": 133,
   "id": "86591ccf",
   "metadata": {},
   "outputs": [
    {
     "data": {
      "text/html": [
       "<div>\n",
       "<style scoped>\n",
       "    .dataframe tbody tr th:only-of-type {\n",
       "        vertical-align: middle;\n",
       "    }\n",
       "\n",
       "    .dataframe tbody tr th {\n",
       "        vertical-align: top;\n",
       "    }\n",
       "\n",
       "    .dataframe thead th {\n",
       "        text-align: right;\n",
       "    }\n",
       "</style>\n",
       "<table border=\"1\" class=\"dataframe\">\n",
       "  <thead>\n",
       "    <tr style=\"text-align: right;\">\n",
       "      <th></th>\n",
       "      <th>Name</th>\n",
       "      <th>Age</th>\n",
       "      <th>Gender</th>\n",
       "    </tr>\n",
       "  </thead>\n",
       "  <tbody>\n",
       "    <tr>\n",
       "      <th>5</th>\n",
       "      <td>Tiffany</td>\n",
       "      <td>56</td>\n",
       "      <td>F</td>\n",
       "    </tr>\n",
       "    <tr>\n",
       "      <th>4</th>\n",
       "      <td>Andy</td>\n",
       "      <td>32</td>\n",
       "      <td>F</td>\n",
       "    </tr>\n",
       "    <tr>\n",
       "      <th>1</th>\n",
       "      <td>Joseph</td>\n",
       "      <td>21</td>\n",
       "      <td>M</td>\n",
       "    </tr>\n",
       "    <tr>\n",
       "      <th>0</th>\n",
       "      <td>Tom</td>\n",
       "      <td>20</td>\n",
       "      <td>M</td>\n",
       "    </tr>\n",
       "    <tr>\n",
       "      <th>2</th>\n",
       "      <td>Krish</td>\n",
       "      <td>19</td>\n",
       "      <td>F</td>\n",
       "    </tr>\n",
       "    <tr>\n",
       "      <th>3</th>\n",
       "      <td>John</td>\n",
       "      <td>18</td>\n",
       "      <td>M</td>\n",
       "    </tr>\n",
       "    <tr>\n",
       "      <th>6</th>\n",
       "      <td>Michael</td>\n",
       "      <td>12</td>\n",
       "      <td>M</td>\n",
       "    </tr>\n",
       "  </tbody>\n",
       "</table>\n",
       "</div>"
      ],
      "text/plain": [
       "      Name  Age Gender\n",
       "5  Tiffany   56      F\n",
       "4     Andy   32      F\n",
       "1   Joseph   21      M\n",
       "0      Tom   20      M\n",
       "2    Krish   19      F\n",
       "3     John   18      M\n",
       "6  Michael   12      M"
      ]
     },
     "execution_count": 133,
     "metadata": {},
     "output_type": "execute_result"
    }
   ],
   "source": [
    "data3 = df.sort_values(by = 'Age', ascending = False)\n",
    "data3"
   ]
  },
  {
   "cell_type": "code",
   "execution_count": 122,
   "id": "aa4d2f98",
   "metadata": {},
   "outputs": [],
   "source": [
    "# countries.csv file which is imported\n",
    "url = \"countries.csv\"  #write path of countries.csv file in your device"
   ]
  },
  {
   "cell_type": "markdown",
   "id": "65e0bca2",
   "metadata": {},
   "source": [
    "16) Read the .csv file and store it as a pandas Data Frame and define its type"
   ]
  },
  {
   "cell_type": "code",
   "execution_count": 137,
   "id": "0d939f00",
   "metadata": {},
   "outputs": [
    {
     "data": {
      "text/plain": [
       "pandas.core.frame.DataFrame"
      ]
     },
     "execution_count": 137,
     "metadata": {},
     "output_type": "execute_result"
    }
   ],
   "source": [
    "#your code \n",
    "dff = pd.read_csv(url)\n",
    "type(dff)"
   ]
  },
  {
   "cell_type": "markdown",
   "id": "39bfa6cc",
   "metadata": {},
   "source": [
    "17) Show the first 7 rows of our Data Frame"
   ]
  },
  {
   "cell_type": "code",
   "execution_count": 124,
   "id": "32c6947c",
   "metadata": {},
   "outputs": [
    {
     "data": {
      "text/html": [
       "<div>\n",
       "<style scoped>\n",
       "    .dataframe tbody tr th:only-of-type {\n",
       "        vertical-align: middle;\n",
       "    }\n",
       "\n",
       "    .dataframe tbody tr th {\n",
       "        vertical-align: top;\n",
       "    }\n",
       "\n",
       "    .dataframe thead th {\n",
       "        text-align: right;\n",
       "    }\n",
       "</style>\n",
       "<table border=\"1\" class=\"dataframe\">\n",
       "  <thead>\n",
       "    <tr style=\"text-align: right;\">\n",
       "      <th></th>\n",
       "      <th>location</th>\n",
       "      <th>continent</th>\n",
       "      <th>population</th>\n",
       "      <th>life_expectancy</th>\n",
       "      <th>hospital_beds_per_thousand</th>\n",
       "      <th>gdp_per_capita</th>\n",
       "    </tr>\n",
       "  </thead>\n",
       "  <tbody>\n",
       "    <tr>\n",
       "      <th>0</th>\n",
       "      <td>Afghanistan</td>\n",
       "      <td>Asia</td>\n",
       "      <td>38928341</td>\n",
       "      <td>64.83</td>\n",
       "      <td>0.50</td>\n",
       "      <td>1803.987</td>\n",
       "    </tr>\n",
       "    <tr>\n",
       "      <th>1</th>\n",
       "      <td>Albania</td>\n",
       "      <td>Europe</td>\n",
       "      <td>2877800</td>\n",
       "      <td>78.57</td>\n",
       "      <td>2.89</td>\n",
       "      <td>11803.431</td>\n",
       "    </tr>\n",
       "    <tr>\n",
       "      <th>2</th>\n",
       "      <td>Algeria</td>\n",
       "      <td>Africa</td>\n",
       "      <td>43851043</td>\n",
       "      <td>76.88</td>\n",
       "      <td>1.90</td>\n",
       "      <td>13913.839</td>\n",
       "    </tr>\n",
       "    <tr>\n",
       "      <th>3</th>\n",
       "      <td>Andorra</td>\n",
       "      <td>Europe</td>\n",
       "      <td>77265</td>\n",
       "      <td>83.73</td>\n",
       "      <td>NaN</td>\n",
       "      <td>NaN</td>\n",
       "    </tr>\n",
       "    <tr>\n",
       "      <th>4</th>\n",
       "      <td>Angola</td>\n",
       "      <td>Africa</td>\n",
       "      <td>32866268</td>\n",
       "      <td>61.15</td>\n",
       "      <td>NaN</td>\n",
       "      <td>5819.495</td>\n",
       "    </tr>\n",
       "    <tr>\n",
       "      <th>5</th>\n",
       "      <td>Anguilla</td>\n",
       "      <td>North America</td>\n",
       "      <td>15002</td>\n",
       "      <td>81.88</td>\n",
       "      <td>NaN</td>\n",
       "      <td>NaN</td>\n",
       "    </tr>\n",
       "    <tr>\n",
       "      <th>6</th>\n",
       "      <td>Antigua and Barbuda</td>\n",
       "      <td>North America</td>\n",
       "      <td>97928</td>\n",
       "      <td>77.02</td>\n",
       "      <td>3.80</td>\n",
       "      <td>21490.943</td>\n",
       "    </tr>\n",
       "  </tbody>\n",
       "</table>\n",
       "</div>"
      ],
      "text/plain": [
       "              location      continent  population  life_expectancy  \\\n",
       "0          Afghanistan           Asia    38928341            64.83   \n",
       "1              Albania         Europe     2877800            78.57   \n",
       "2              Algeria         Africa    43851043            76.88   \n",
       "3              Andorra         Europe       77265            83.73   \n",
       "4               Angola         Africa    32866268            61.15   \n",
       "5             Anguilla  North America       15002            81.88   \n",
       "6  Antigua and Barbuda  North America       97928            77.02   \n",
       "\n",
       "   hospital_beds_per_thousand  gdp_per_capita  \n",
       "0                        0.50        1803.987  \n",
       "1                        2.89       11803.431  \n",
       "2                        1.90       13913.839  \n",
       "3                         NaN             NaN  \n",
       "4                         NaN        5819.495  \n",
       "5                         NaN             NaN  \n",
       "6                        3.80       21490.943  "
      ]
     },
     "execution_count": 124,
     "metadata": {},
     "output_type": "execute_result"
    }
   ],
   "source": [
    "#your answer\n",
    "dff.head(7)"
   ]
  },
  {
   "cell_type": "markdown",
   "id": "7c75405a",
   "metadata": {},
   "source": [
    "18) Show the last 7 rows of our Data Frame"
   ]
  },
  {
   "cell_type": "code",
   "execution_count": 125,
   "id": "3643db8d",
   "metadata": {},
   "outputs": [
    {
     "data": {
      "text/html": [
       "<div>\n",
       "<style scoped>\n",
       "    .dataframe tbody tr th:only-of-type {\n",
       "        vertical-align: middle;\n",
       "    }\n",
       "\n",
       "    .dataframe tbody tr th {\n",
       "        vertical-align: top;\n",
       "    }\n",
       "\n",
       "    .dataframe thead th {\n",
       "        text-align: right;\n",
       "    }\n",
       "</style>\n",
       "<table border=\"1\" class=\"dataframe\">\n",
       "  <thead>\n",
       "    <tr style=\"text-align: right;\">\n",
       "      <th></th>\n",
       "      <th>location</th>\n",
       "      <th>continent</th>\n",
       "      <th>population</th>\n",
       "      <th>life_expectancy</th>\n",
       "      <th>hospital_beds_per_thousand</th>\n",
       "      <th>gdp_per_capita</th>\n",
       "    </tr>\n",
       "  </thead>\n",
       "  <tbody>\n",
       "    <tr>\n",
       "      <th>203</th>\n",
       "      <td>Vatican</td>\n",
       "      <td>Europe</td>\n",
       "      <td>809</td>\n",
       "      <td>75.12</td>\n",
       "      <td>NaN</td>\n",
       "      <td>NaN</td>\n",
       "    </tr>\n",
       "    <tr>\n",
       "      <th>204</th>\n",
       "      <td>Venezuela</td>\n",
       "      <td>South America</td>\n",
       "      <td>28435943</td>\n",
       "      <td>72.06</td>\n",
       "      <td>0.8</td>\n",
       "      <td>16745.022</td>\n",
       "    </tr>\n",
       "    <tr>\n",
       "      <th>205</th>\n",
       "      <td>Vietnam</td>\n",
       "      <td>Asia</td>\n",
       "      <td>97338583</td>\n",
       "      <td>75.40</td>\n",
       "      <td>2.6</td>\n",
       "      <td>6171.884</td>\n",
       "    </tr>\n",
       "    <tr>\n",
       "      <th>206</th>\n",
       "      <td>Western Sahara</td>\n",
       "      <td>Africa</td>\n",
       "      <td>597330</td>\n",
       "      <td>70.26</td>\n",
       "      <td>NaN</td>\n",
       "      <td>NaN</td>\n",
       "    </tr>\n",
       "    <tr>\n",
       "      <th>207</th>\n",
       "      <td>Yemen</td>\n",
       "      <td>Asia</td>\n",
       "      <td>29825968</td>\n",
       "      <td>66.12</td>\n",
       "      <td>0.7</td>\n",
       "      <td>1479.147</td>\n",
       "    </tr>\n",
       "    <tr>\n",
       "      <th>208</th>\n",
       "      <td>Zambia</td>\n",
       "      <td>Africa</td>\n",
       "      <td>18383956</td>\n",
       "      <td>63.89</td>\n",
       "      <td>2.0</td>\n",
       "      <td>3689.251</td>\n",
       "    </tr>\n",
       "    <tr>\n",
       "      <th>209</th>\n",
       "      <td>Zimbabwe</td>\n",
       "      <td>Africa</td>\n",
       "      <td>14862927</td>\n",
       "      <td>61.49</td>\n",
       "      <td>1.7</td>\n",
       "      <td>1899.775</td>\n",
       "    </tr>\n",
       "  </tbody>\n",
       "</table>\n",
       "</div>"
      ],
      "text/plain": [
       "           location      continent  population  life_expectancy  \\\n",
       "203         Vatican         Europe         809            75.12   \n",
       "204       Venezuela  South America    28435943            72.06   \n",
       "205         Vietnam           Asia    97338583            75.40   \n",
       "206  Western Sahara         Africa      597330            70.26   \n",
       "207           Yemen           Asia    29825968            66.12   \n",
       "208          Zambia         Africa    18383956            63.89   \n",
       "209        Zimbabwe         Africa    14862927            61.49   \n",
       "\n",
       "     hospital_beds_per_thousand  gdp_per_capita  \n",
       "203                         NaN             NaN  \n",
       "204                         0.8       16745.022  \n",
       "205                         2.6        6171.884  \n",
       "206                         NaN             NaN  \n",
       "207                         0.7        1479.147  \n",
       "208                         2.0        3689.251  \n",
       "209                         1.7        1899.775  "
      ]
     },
     "execution_count": 125,
     "metadata": {},
     "output_type": "execute_result"
    }
   ],
   "source": [
    "dff.tail(7)"
   ]
  },
  {
   "cell_type": "markdown",
   "id": "79860393",
   "metadata": {},
   "source": [
    "19) How many countries does the dataframe 'df' contain? Use the function to print the number of rows and columns in the 'df'"
   ]
  },
  {
   "cell_type": "code",
   "execution_count": 151,
   "id": "c1f59110",
   "metadata": {},
   "outputs": [
    {
     "name": "stdout",
     "output_type": "stream",
     "text": [
      "210\n",
      "6\n"
     ]
    }
   ],
   "source": [
    "dim = np.shape(dff)\n",
    "print(dim[0])\n",
    "print(dim[1])"
   ]
  },
  {
   "cell_type": "markdown",
   "id": "d23d6fce",
   "metadata": {},
   "source": [
    "20) Count the number of missing values in each columns of 'df'"
   ]
  },
  {
   "cell_type": "code",
   "execution_count": 3,
   "id": "f9ca9e77",
   "metadata": {},
   "outputs": [
    {
     "ename": "NameError",
     "evalue": "name 'dff' is not defined",
     "output_type": "error",
     "traceback": [
      "\u001b[1;31m---------------------------------------------------------------------------\u001b[0m",
      "\u001b[1;31mNameError\u001b[0m                                 Traceback (most recent call last)",
      "Cell \u001b[1;32mIn[3], line 1\u001b[0m\n\u001b[1;32m----> 1\u001b[0m sums_miss \u001b[38;5;241m=\u001b[39m dff\u001b[38;5;241m.\u001b[39misnan()\u001b[38;5;241m.\u001b[39msum()\n\u001b[0;32m      2\u001b[0m \u001b[38;5;28mprint\u001b[39m(sums_miss)\n",
      "\u001b[1;31mNameError\u001b[0m: name 'dff' is not defined"
     ]
    }
   ],
   "source": [
    "sums_miss = dff.isnan().sum()\n",
    "print(sums_miss)"
   ]
  },
  {
   "cell_type": "markdown",
   "id": "85179cd5",
   "metadata": {},
   "source": [
    "21) Sort the dataframe by 2 variables: 'continent' in ascending order, 'population' in descending order. "
   ]
  },
  {
   "cell_type": "code",
   "execution_count": 167,
   "id": "2f59ad13",
   "metadata": {},
   "outputs": [
    {
     "data": {
      "text/html": [
       "<div>\n",
       "<style scoped>\n",
       "    .dataframe tbody tr th:only-of-type {\n",
       "        vertical-align: middle;\n",
       "    }\n",
       "\n",
       "    .dataframe tbody tr th {\n",
       "        vertical-align: top;\n",
       "    }\n",
       "\n",
       "    .dataframe thead th {\n",
       "        text-align: right;\n",
       "    }\n",
       "</style>\n",
       "<table border=\"1\" class=\"dataframe\">\n",
       "  <thead>\n",
       "    <tr style=\"text-align: right;\">\n",
       "      <th></th>\n",
       "      <th>location</th>\n",
       "      <th>continent</th>\n",
       "      <th>population</th>\n",
       "      <th>life_expectancy</th>\n",
       "      <th>hospital_beds_per_thousand</th>\n",
       "      <th>gdp_per_capita</th>\n",
       "    </tr>\n",
       "  </thead>\n",
       "  <tbody>\n",
       "    <tr>\n",
       "      <th>0</th>\n",
       "      <td>Falkland Islands</td>\n",
       "      <td>South America</td>\n",
       "      <td>3483</td>\n",
       "      <td>81.44</td>\n",
       "      <td>NaN</td>\n",
       "      <td>NaN</td>\n",
       "    </tr>\n",
       "    <tr>\n",
       "      <th>1</th>\n",
       "      <td>Suriname</td>\n",
       "      <td>South America</td>\n",
       "      <td>586634</td>\n",
       "      <td>71.68</td>\n",
       "      <td>3.1</td>\n",
       "      <td>13767.119</td>\n",
       "    </tr>\n",
       "    <tr>\n",
       "      <th>2</th>\n",
       "      <td>Guyana</td>\n",
       "      <td>South America</td>\n",
       "      <td>786559</td>\n",
       "      <td>69.91</td>\n",
       "      <td>1.6</td>\n",
       "      <td>7435.047</td>\n",
       "    </tr>\n",
       "    <tr>\n",
       "      <th>3</th>\n",
       "      <td>Uruguay</td>\n",
       "      <td>South America</td>\n",
       "      <td>3473727</td>\n",
       "      <td>77.91</td>\n",
       "      <td>2.8</td>\n",
       "      <td>20551.409</td>\n",
       "    </tr>\n",
       "    <tr>\n",
       "      <th>4</th>\n",
       "      <td>Paraguay</td>\n",
       "      <td>South America</td>\n",
       "      <td>7132530</td>\n",
       "      <td>74.25</td>\n",
       "      <td>1.3</td>\n",
       "      <td>8827.010</td>\n",
       "    </tr>\n",
       "    <tr>\n",
       "      <th>...</th>\n",
       "      <td>...</td>\n",
       "      <td>...</td>\n",
       "      <td>...</td>\n",
       "      <td>...</td>\n",
       "      <td>...</td>\n",
       "      <td>...</td>\n",
       "    </tr>\n",
       "    <tr>\n",
       "      <th>205</th>\n",
       "      <td>Tanzania</td>\n",
       "      <td>Africa</td>\n",
       "      <td>59734213</td>\n",
       "      <td>65.46</td>\n",
       "      <td>0.7</td>\n",
       "      <td>2683.304</td>\n",
       "    </tr>\n",
       "    <tr>\n",
       "      <th>206</th>\n",
       "      <td>Democratic Republic of Congo</td>\n",
       "      <td>Africa</td>\n",
       "      <td>89561404</td>\n",
       "      <td>60.68</td>\n",
       "      <td>NaN</td>\n",
       "      <td>808.133</td>\n",
       "    </tr>\n",
       "    <tr>\n",
       "      <th>207</th>\n",
       "      <td>Egypt</td>\n",
       "      <td>Africa</td>\n",
       "      <td>102334403</td>\n",
       "      <td>71.99</td>\n",
       "      <td>1.6</td>\n",
       "      <td>10550.206</td>\n",
       "    </tr>\n",
       "    <tr>\n",
       "      <th>208</th>\n",
       "      <td>Ethiopia</td>\n",
       "      <td>Africa</td>\n",
       "      <td>114963583</td>\n",
       "      <td>66.60</td>\n",
       "      <td>0.3</td>\n",
       "      <td>1729.927</td>\n",
       "    </tr>\n",
       "    <tr>\n",
       "      <th>209</th>\n",
       "      <td>Nigeria</td>\n",
       "      <td>Africa</td>\n",
       "      <td>206139587</td>\n",
       "      <td>54.69</td>\n",
       "      <td>NaN</td>\n",
       "      <td>5338.454</td>\n",
       "    </tr>\n",
       "  </tbody>\n",
       "</table>\n",
       "<p>210 rows × 6 columns</p>\n",
       "</div>"
      ],
      "text/plain": [
       "                         location      continent  population  life_expectancy  \\\n",
       "0                Falkland Islands  South America        3483            81.44   \n",
       "1                        Suriname  South America      586634            71.68   \n",
       "2                          Guyana  South America      786559            69.91   \n",
       "3                         Uruguay  South America     3473727            77.91   \n",
       "4                        Paraguay  South America     7132530            74.25   \n",
       "..                            ...            ...         ...              ...   \n",
       "205                      Tanzania         Africa    59734213            65.46   \n",
       "206  Democratic Republic of Congo         Africa    89561404            60.68   \n",
       "207                         Egypt         Africa   102334403            71.99   \n",
       "208                      Ethiopia         Africa   114963583            66.60   \n",
       "209                       Nigeria         Africa   206139587            54.69   \n",
       "\n",
       "     hospital_beds_per_thousand  gdp_per_capita  \n",
       "0                           NaN             NaN  \n",
       "1                           3.1       13767.119  \n",
       "2                           1.6        7435.047  \n",
       "3                           2.8       20551.409  \n",
       "4                           1.3        8827.010  \n",
       "..                          ...             ...  \n",
       "205                         0.7        2683.304  \n",
       "206                         NaN         808.133  \n",
       "207                         1.6       10550.206  \n",
       "208                         0.3        1729.927  \n",
       "209                         NaN        5338.454  \n",
       "\n",
       "[210 rows x 6 columns]"
      ]
     },
     "execution_count": 167,
     "metadata": {},
     "output_type": "execute_result"
    }
   ],
   "source": [
    "sorted_data = dff.sort_values(by = ['continent', 'population'], ascending = [False, True])\n",
    "\n",
    "sorted_data = sorted_data.reset_index(drop = True)\n",
    "\n",
    "sorted_data"
   ]
  },
  {
   "cell_type": "markdown",
   "id": "0f2a2823",
   "metadata": {},
   "source": [
    " 22) Subset rows where 'life_expectancy' is greater than 80.0, and then calculate the number of countries. (Hint: the number of countries can be calculated using the function that prints the number of rows and columns in dataframe)"
   ]
  },
  {
   "cell_type": "code",
   "execution_count": 174,
   "id": "24488082",
   "metadata": {},
   "outputs": [
    {
     "name": "stdout",
     "output_type": "stream",
     "text": [
      "47\n",
      "210\n"
     ]
    }
   ],
   "source": [
    "new_df = dff.loc[dff['life_expectancy'] >= 80] \n",
    "print(new_df.shape[0])\n",
    "print(dff.shape[0])\n"
   ]
  },
  {
   "cell_type": "code",
   "execution_count": null,
   "id": "5383fae6",
   "metadata": {},
   "outputs": [],
   "source": []
  }
 ],
 "metadata": {
  "kernelspec": {
   "display_name": "Python 3 (ipykernel)",
   "language": "python",
   "name": "python3"
  },
  "language_info": {
   "codemirror_mode": {
    "name": "ipython",
    "version": 3
   },
   "file_extension": ".py",
   "mimetype": "text/x-python",
   "name": "python",
   "nbconvert_exporter": "python",
   "pygments_lexer": "ipython3",
   "version": "3.11.4"
  }
 },
 "nbformat": 4,
 "nbformat_minor": 5
}
