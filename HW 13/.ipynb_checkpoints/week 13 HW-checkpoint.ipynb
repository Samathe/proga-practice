{
 "cells": [
  {
   "cell_type": "markdown",
   "metadata": {
    "id": "QQdjVZNGikFv"
   },
   "source": [
    "# Week 13 \n",
    "\n",
    "This Jupyter Notebook is auxillary to the following assessment in this week.  To complete this assessment, you will complete the 5 questions outlined in this document and use the output from the python cells to answer them.\n",
    "\n",
    "Run the following cell to initialize your environment and begin the assessment."
   ]
  },
  {
   "cell_type": "code",
   "execution_count": 2,
   "metadata": {
    "id": "pfrQgsCOikFw"
   },
   "outputs": [],
   "source": [
    "#### RUN THIS\n",
    "\n",
    "import warnings\n",
    "warnings.filterwarnings('ignore')\n",
    "\n",
    "import numpy as np\n",
    "import statsmodels.api as sm\n",
    "import pandas as pd\n",
    "\n",
    "url = \"nhanes_2015_2016.csv\"\n",
    "da = pd.read_csv(url)\n",
    "\n",
    "# Drop unused columns, drop rows with any missing values.\n",
    "vars = [\"BPXSY1\", \"RIDAGEYR\", \"RIAGENDR\", \"RIDRETH1\", \"DMDEDUC2\", \"BMXBMI\",\n",
    "        \"SMQ020\", \"SDMVSTRA\", \"SDMVPSU\"]\n",
    "da = da[vars].dropna()\n",
    "\n",
    "da[\"group\"] = 10*da.SDMVSTRA + da.SDMVPSU\n",
    "\n",
    "da[\"smq\"] = da.SMQ020.replace({2: 0, 7: np.nan, 9: np.nan})\n",
    "\n",
    "np.random.seed(123)"
   ]
  },
  {
   "cell_type": "markdown",
   "metadata": {
    "id": "eSA_KJQvikF1"
   },
   "source": [
    "#### Question 1: What is clustered data? \n",
    "\n",
    "Clustered data refers to the organization of similar items together based on shared characteristics. In statistics, it helps identify patterns. In databases, it can refer to physically storing related data together for improved query performance. In machine learning, clustering algorithms group similar data points.\n",
    "\n",
    "#### Question 2: \n",
    "\n",
    "Utilize the following output for this question:"
   ]
  },
  {
   "cell_type": "code",
   "execution_count": 3,
   "metadata": {
    "id": "2oU4HEnPikF2"
   },
   "outputs": [
    {
     "name": "stdout",
     "output_type": "stream",
     "text": [
      "BPXSY1 The correlation between two observations in the same cluster is 0.030\n",
      "SDMVSTRA The correlation between two observations in the same cluster is 0.959\n",
      "RIDAGEYR The correlation between two observations in the same cluster is 0.035\n",
      "BMXBMI The correlation between two observations in the same cluster is 0.039\n",
      "smq The correlation between two observations in the same cluster is 0.026\n"
     ]
    }
   ],
   "source": [
    "for v in [\"BPXSY1\", \"SDMVSTRA\", \"RIDAGEYR\", \"BMXBMI\", \"smq\"]:\n",
    "    model = sm.GEE.from_formula(v + \" ~ 1\", groups=\"group\",\n",
    "           cov_struct=sm.cov_struct.Exchangeable(), data=da)\n",
    "    result = model.fit()\n",
    "    print(v, result.cov_struct.summary())"
   ]
  },
  {
   "cell_type": "markdown",
   "metadata": {
    "id": "4zRZc-tOikF8"
   },
   "source": [
    "Which of the listed features has the highest correlation between two observations in the same cluster?\n",
    "\n",
    "The feature with the highest correlation between two observations in the same cluster is \"SDMVSTRA\" with a correlation of 0.959."
   ]
  },
  {
   "cell_type": "markdown",
   "metadata": {
    "id": "or7LyZNWikF9"
   },
   "source": [
    "#### Question 3: \n",
    "\n",
    "What is true about multiple linear regression and marginal linear models when dependence is present in data?\n",
    "\n",
    "When dependence is present in data, multiple linear regression assumes independence, while marginal linear models appropriately account for dependence.\n",
    "\n",
    "#### Question 4: \n",
    "\n",
    "Multilevel models are expressed in terms of _____.\n",
    "\n",
    "Multilevel models are expressed in terms of hierarchical levels or nested structures.\n",
    "\n",
    "#### Question 5: \n",
    "\n",
    "Which of the following is NOT true regarding reasons why we fit marginal models?\n",
    "\n",
    "Regarding reasons for fitting marginal models, the statement \"Marginal models are computationally simpler than other models\" is NOT true. Marginal models may not always be computationally simpler, as the choice of the appropriate model depends on the specific characteristics of the data and the research question."
   ]
  },
  {
   "cell_type": "code",
   "execution_count": null,
   "metadata": {},
   "outputs": [],
   "source": []
  }
 ],
 "metadata": {
  "colab": {
   "provenance": []
  },
  "kernelspec": {
   "display_name": "Python 3 (ipykernel)",
   "language": "python",
   "name": "python3"
  },
  "language_info": {
   "codemirror_mode": {
    "name": "ipython",
    "version": 3
   },
   "file_extension": ".py",
   "mimetype": "text/x-python",
   "name": "python",
   "nbconvert_exporter": "python",
   "pygments_lexer": "ipython3",
   "version": "3.11.4"
  }
 },
 "nbformat": 4,
 "nbformat_minor": 4
}
