{
 "cells": [
  {
   "cell_type": "markdown",
   "id": "6e2388bd",
   "metadata": {},
   "source": [
    "# Midterm Exam MAT 124\n",
    "\n",
    "Dear Students,\n",
    "\n",
    "Welcome to your midterm exam! This is an important assessment of your understanding of the course material thus far. Please read the following instructions carefully to ensure a fair and honest testing environment:\n",
    "\n",
    "Duration:\n",
    "You will have a total of 1 hour and 30 minutes to complete the exam. The exam will automatically end after 60 minutes, and any answers submitted after that time will not be accepted.\n",
    "\n",
    "Honor Code:\n",
    "This exam is closed-book, meaning you are not allowed to use any external resources, the internet, or any notes. You are expected to complete this exam independently and honestly.\n",
    "\n",
    "Exam Format:\n",
    "The exam consists of [15] questions. Please read and follow the instructions for each question carefully. The questions may include multiple-choice, short answer, and practice task.\n",
    "\n",
    "Technical Requirements:\n",
    "Ensure that your computer or device is fully charged or plugged in and that your internet connection is stable. You are allowed to web browsers only for Jupiter Notebook.\n",
    "\n",
    "Saving Your Work:\n",
    "Remember to save your work periodically. If there is a technical issue.\n",
    "\n",
    "Submission:\n",
    "Ensure that you submit your exam within the 1-hour time frame. Double-check that all questions have been answered and that your answers are clear.\n",
    "\n",
    "Academic Integrity:Academic Integrity:\n",
    "Please adhere to the highest standards of academic integrity. Cheating, plagiarism, or any form of dishonesty will result in severe consequences, including a failing grade for the exam and potential academic disciplinary actions.\n",
    "\n",
    "Good Luck:\n",
    "We wish you the best of luck with your midterm exam. Remember to stay calm, manage your time wisely, and demonstrate your understanding of the course material to the best of your abilities."
   ]
  },
  {
   "cell_type": "markdown",
   "id": "1769587f",
   "metadata": {},
   "source": [
    "PART#1 (5p.):Theoretical questions 0.5p each: 1-8 multiple-choice (only 1 is correct), 9-10 short answer"
   ]
  },
  {
   "cell_type": "markdown",
   "id": "9614514b",
   "metadata": {},
   "source": [
    "1) What is the primary purpose of statistics in data analysis?\n",
    "a) To manipulate data\n",
    "b) To make data look better\n",
    "c) To summarize and interpret data\n",
    "d) To create data"
   ]
  },
  {
   "cell_type": "code",
   "execution_count": null,
   "id": "c00b8a62",
   "metadata": {},
   "outputs": [],
   "source": [
    "#1 Answer: c) To summarize and interpret data"
   ]
  },
  {
   "cell_type": "markdown",
   "id": "32796f8c",
   "metadata": {},
   "source": [
    "2) Univariate data analysis focuses on:\n",
    "a) The relationship between two variables\n",
    "b) Data with multiple variables\n",
    "c) Data collected from a population\n",
    "d) Data involving only a single variable"
   ]
  },
  {
   "cell_type": "code",
   "execution_count": null,
   "id": "0a77ad3d",
   "metadata": {},
   "outputs": [],
   "source": [
    "#2 Answer: d) Data involving only a single variable"
   ]
  },
  {
   "cell_type": "markdown",
   "id": "5d8915db",
   "metadata": {},
   "source": [
    "3) Which of the following is an example of multivariate data?\n",
    "a) The temperature and humidity in a room\n",
    "b) The weight of fruits in a basket\n",
    "c) Height of students in a class\n",
    "d) The number of books in a library"
   ]
  },
  {
   "cell_type": "code",
   "execution_count": null,
   "id": "46b30c32",
   "metadata": {},
   "outputs": [],
   "source": [
    "#3 Answer: a) The temperature and humidity in a room"
   ]
  },
  {
   "cell_type": "markdown",
   "id": "ad5182e2",
   "metadata": {},
   "source": [
    "4) In statistical terms, a \"population\" refers to:\n",
    "a) A small subset of data\n",
    "b) A collection of data samples\n",
    "c) All individuals or items of interest\n",
    "d) A representative sample"
   ]
  },
  {
   "cell_type": "code",
   "execution_count": null,
   "id": "340e60c0",
   "metadata": {},
   "outputs": [],
   "source": [
    "#4 Answer: c) All individuals or items of interest"
   ]
  },
  {
   "cell_type": "markdown",
   "id": "39b6638e",
   "metadata": {},
   "source": [
    "5) When calculating a confidence interval, which of the following factors affects the width of the interval?\n",
    "a) The sample size\n",
    "b) The confidence level\n",
    "c) Both A and B\n",
    "d) Neither A nor B"
   ]
  },
  {
   "cell_type": "code",
   "execution_count": null,
   "id": "ae0b2e76",
   "metadata": {},
   "outputs": [],
   "source": [
    "#5 Answer: c) Both A and B (The sample size and the confidence level)"
   ]
  },
  {
   "cell_type": "markdown",
   "id": "0bb20b13",
   "metadata": {},
   "source": [
    "6) In hypothesis testing, what does the p-value represent?\n",
    "a) The probability of making a Type II error\n",
    "b) The probability of making a Type I error\n",
    "c) The probability that the null hypothesis is true\n",
    "d) The probability of obtaining a test statistic at least as extreme as the one observed, assuming the null hypothesis is true"
   ]
  },
  {
   "cell_type": "code",
   "execution_count": null,
   "id": "23d59247",
   "metadata": {},
   "outputs": [],
   "source": [
    "#6 Answer: d) The probability of obtaining a test statistic at least as extreme as the one observed, assuming the null hypothesis is true"
   ]
  },
  {
   "cell_type": "markdown",
   "id": "17b8e7ce",
   "metadata": {},
   "source": [
    "7) In statistical inference, what is the primary purpose of hypothesis testing?\n",
    "a) To assess the validity of a claim or hypothesis about a population\n",
    "b) To estimate the population parameters with confidence intervals\n",
    "c) To summarize and interpret data\n",
    "d) To make predictions about future events"
   ]
  },
  {
   "cell_type": "code",
   "execution_count": null,
   "id": "ee69fe2f",
   "metadata": {},
   "outputs": [],
   "source": [
    "#7 Answer: a) To assess the validity of a claim or hypothesis about a population"
   ]
  },
  {
   "cell_type": "markdown",
   "id": "c225d5c9",
   "metadata": {},
   "source": [
    "8) In a random sample, what is the purpose of random sampling?\n",
    "a) To make the data more interesting\n",
    "b) To reduce bias in sample selection\n",
    "c) To eliminate the need for data analysis\n",
    "d) To guarantee that the sample is representative of the entire population"
   ]
  },
  {
   "cell_type": "code",
   "execution_count": null,
   "id": "b68bd3d6",
   "metadata": {},
   "outputs": [],
   "source": [
    "#8 Answer: b) To reduce bias in sample selection"
   ]
  },
  {
   "cell_type": "markdown",
   "id": "c25862ae",
   "metadata": {},
   "source": [
    "9) Explain the difference between a sample and a population in statistics:"
   ]
  },
  {
   "cell_type": "code",
   "execution_count": 42,
   "id": "bb8ad357",
   "metadata": {},
   "outputs": [],
   "source": [
    "#9 Answer: a sample is a part of population. \n",
    "# The population includes all individuals or items of interest, \n",
    "# while the sample represents a smaller group selected for study.\n"
   ]
  },
  {
   "cell_type": "markdown",
   "id": "f7904c24",
   "metadata": {},
   "source": [
    "10) What is the purpose of a confidence interval in statistics?"
   ]
  },
  {
   "cell_type": "code",
   "execution_count": null,
   "id": "f947c2b4",
   "metadata": {},
   "outputs": [],
   "source": [
    "#10 Answer: draw conclusions about the population based on sample data."
   ]
  },
  {
   "cell_type": "markdown",
   "id": "45bbde67",
   "metadata": {},
   "source": [
    "PART#2 (10p.): 5 practice tasks 2p each"
   ]
  },
  {
   "cell_type": "markdown",
   "id": "b8bfe99f",
   "metadata": {},
   "source": [
    "1) NumPy array\n",
    "Import the NumPy library.\n",
    "Create a NumPy array that represents two points in 2D space. (1p.)\n",
    "Each point should have an x and y coordinate.\n",
    "Calculate the distance between the two points using the Euclidean distance formula: d = √[(x2 – x1)**2 + (y2 – y1)**2]\n",
    "Test your program."
   ]
  },
  {
   "cell_type": "code",
   "execution_count": 1,
   "id": "0bb5ebd0",
   "metadata": {},
   "outputs": [
    {
     "name": "stdout",
     "output_type": "stream",
     "text": [
      "2\n",
      "3\n",
      "4\n",
      "5\n",
      "2.8284271247461903\n"
     ]
    }
   ],
   "source": [
    "import numpy as np\n",
    "\n",
    "x1, y1 = int(input()), int(input())\n",
    "x2, y2 = int(input()), int(input())\n",
    "\n",
    "arr = np.array([[x1, y1], [x2, y2]])\n",
    "\n",
    "distance = ((arr[0][0]-arr[1][0])**2 + (arr[0][1]-arr[1][1])**2)**(1/2)\n",
    "print(distance)"
   ]
  },
  {
   "cell_type": "markdown",
   "id": "494b5f00",
   "metadata": {},
   "source": [
    "2) Create a Boxplot for 'total_bill' from the 'Tips' Dataset\n",
    "Import the necessary libraries:\n",
    "Import Seaborn as 'sns'.\n",
    "Load the 'tips' dataset from Seaborn and assign it to a variable.\n",
    "Create a boxplot using Seaborn to visualize the distribution of a numerical variable from the 'tips' dataset. (1p.)\n",
    "Customize the boxplot to make it informative, such as labeling axes, changing colors, or adding titles. (1p.)"
   ]
  },
  {
   "cell_type": "code",
   "execution_count": 29,
   "id": "a44c9a7d",
   "metadata": {},
   "outputs": [
    {
     "data": {
      "image/png": "[encoded data removed]",
      "text/plain": [
       "<Figure size 640x480 with 1 Axes>"
      ]
     },
     "metadata": {},
     "output_type": "display_data"
    }
   ],
   "source": [
    "import seaborn as sns\n",
    "\n",
    "tips = sns.load_dataset('tips')\n",
    "sns.boxplot(x='total_bill', data=tips)\n",
    "\n",
    "sns.set_style(\"whitegrid\")  \n",
    "plt.xlabel(\"Total Bill\")        \n",
    "plt.title(\"Distribution of Total Bill\")  \n",
    "\n",
    "plt.show()"
   ]
  },
  {
   "cell_type": "markdown",
   "id": "c0d840c1",
   "metadata": {},
   "source": [
    "3) Task Title: Create a Pandas DataFrame and Generate a Plot\n",
    "Import the necessary libraries:\n",
    "Import Pandas as 'pd'.\n",
    "Import Matplotlib.pyplot as 'plt'.\n",
    "Create a Pandas DataFrame using data = {'Date': ['2023-01-01', '2023-01-02', '2023-01-03', '2023-01-04', '2023-01-05'], 'Temperature (Celsius)': [15, 18, 20, 17, 16]} (1p.)\n",
    "Generate a liner plot using the data in the DataFrame. \n",
    "Customize the plot with labels, titles, and other relevant details. (1p.) "
   ]
  },
  {
   "cell_type": "code",
   "execution_count": 30,
   "id": "d5278ef0",
   "metadata": {},
   "outputs": [
    {
     "data": {
      "image/png": "[encoded data removed]",
      "text/plain": [
       "<Figure size 640x480 with 1 Axes>"
      ]
     },
     "metadata": {},
     "output_type": "display_data"
    }
   ],
   "source": [
    "import pandas as pd\n",
    "import matplotlib.pyplot as plt\n",
    "\n",
    "data = {'Date': ['2023-01-01', '2023-01-02', '2023-01-03', '2023-01-04', '2023-01-05'], 'Temperature (Celsius)': [15, 18, 20, 17, 16]}\n",
    "\n",
    "df = pd.DataFrame(data)\n",
    "\n",
    "plt.plot(df['Date'], df['Temperature (Celsius)'], marker='o')\n",
    "\n",
    "plt.xlabel('Date')\n",
    "plt.ylabel('Temperature (Celsius)')\n",
    "plt.title('Temperature Over Time')\n",
    "plt.grid(True)\n",
    "\n",
    "plt.show()"
   ]
  },
  {
   "cell_type": "markdown",
   "id": "f5874fa2",
   "metadata": {},
   "source": [
    "4) Random Number Generator\n",
    "Write a Python program that generates a specified number of random floating-point numbers within a given range and calculates their average.\n",
    "\n",
    "Import the random module to use the uniform() function.\n",
    "Prompt the user to enter the following information:\n",
    "The lower bound of the range.\n",
    "The upper bound of the range.\n",
    "The number of random numbers to generate.\n",
    "Use a loop to generate the specified number of random floating-point numbers within the given range. (1p.)\n",
    "Calculate the average of the generated numbers. \n",
    "Display the generated numbers and their average to the user. (1p.)"
   ]
  },
  {
   "cell_type": "code",
   "execution_count": 41,
   "id": "38e076cd",
   "metadata": {},
   "outputs": [
    {
     "name": "stdout",
     "output_type": "stream",
     "text": [
      "The lower bound of the range: 10\n",
      "The upper bound of the range: 20\n",
      "The number of random numbers to generate: 100\n",
      "Generated numbers: [15.79624984 17.32201247 19.44815854 12.9396513  18.64542593 11.58367964\n",
      " 11.56123077 10.14731575 14.02256573 14.86678618 11.55048336 10.55637532\n",
      " 16.63617387 11.93916522 17.97200433 15.83868544 16.44964573 13.51146439\n",
      " 11.41729663 19.27401014 18.53219115 11.06073112 12.1537992  19.12637801\n",
      " 18.23790325 10.88114384 15.30667762 14.44658862 13.51785368 18.30159467\n",
      " 12.58083536 15.43328156 13.12453817 13.73601609 17.22173505 17.8432713\n",
      " 19.98201065 18.08403698 11.92829833 12.74659943 12.94741655 14.59123204\n",
      " 12.9675587  18.81851078 11.28886768 10.38663504 17.33352733 17.7995544\n",
      " 14.56418629 19.38328118 12.75209223 13.5556201  18.80277813 13.76722654\n",
      " 11.67682718 14.50729916 12.12848371 10.00236085 18.37377041 18.46580373\n",
      " 12.89701626 13.00754653 11.78105699 12.14641431 13.04643193 19.67671048\n",
      " 15.56468824 18.84430453 11.05716715 11.46163723 15.18478582 19.56326443\n",
      " 19.30032335 18.79883649 14.14711623 17.88675599 14.60573453 15.2114442\n",
      " 10.06710542 17.36794675 14.26839109 14.73114942 17.87380877 14.10176722\n",
      " 14.40046919 17.88449716 11.61612023 14.84372498 15.08820876 17.58382804\n",
      " 11.13174906 14.87102116 15.49232588 10.046554   12.78942705 10.11221562\n",
      " 12.79851278 16.78986576 11.40831923 17.69000196]\n",
      "Average: 14.769751409200506\n"
     ]
    }
   ],
   "source": [
    "import random\n",
    "import numpy as np\n",
    "\n",
    "lbound = float(input(\"The lower bound of the range: \"))\n",
    "ubound = float(input(\"The upper bound of the range: \"))\n",
    "n = int(input(\"The number of random numbers to generate: \"))\n",
    "\n",
    "random_numbers = np.array([])\n",
    "\n",
    "for _ in range(n):\n",
    "    random_number = random.uniform(lbound, ubound)\n",
    "    random_numbers = np.append(random_numbers, random_number)  \n",
    "\n",
    "av = sum(random_numbers) / n\n",
    "\n",
    "print(\"Generated numbers:\", random_numbers)\n",
    "print(\"Average:\", av)\n"
   ]
  },
  {
   "cell_type": "markdown",
   "id": "fc0370e1",
   "metadata": {},
   "source": [
    "5) Task: Calculate Confidence Interval for a Single Population Proportion\n",
    "\n",
    "Imagine you are working for a market research company, and you have collected a sample of 300 responses from a survey. Out of these 300 responses, 75 indicated that they prefer Product A over Product B. \n",
    "Calculate a 95% confidence interval for the proportion of people who prefer Product A over Product B in the entire population.\n",
    "\n",
    "Write a Python program using the provided data. \n",
    "Confidence level: 95% CI z-value z=1.96\n",
    "Calculate the sample proportion (p) by dividing the number of respondents who prefer Product A by the total sample size 𝑛.\n",
    "Calculate the standard error (SE) using the formula: √(𝑝(1−𝑝)/𝑛)\n",
    "Calculate the margin of error ME = SE * Z (1p.)\n",
    "Calculate the lower bound and upper bound of the confidence interval using the formula: (p−ME,p+ME) \n",
    "Display the confidence interval as the output. (1p.)"
   ]
  },
  {
   "cell_type": "code",
   "execution_count": 23,
   "id": "7df04eaa",
   "metadata": {},
   "outputs": [
    {
     "name": "stdout",
     "output_type": "stream",
     "text": [
      "95% Confidence Interval: 0.2010, 0.2990)\n"
     ]
    }
   ],
   "source": [
    "n = 300\n",
    "prefer_product_A = 75\n",
    "z = 1.96  \n",
    "\n",
    "p = prefer_product_A / n\n",
    "\n",
    "st_error = ((p * (1 - p)) / sample_size)**(1/2)\n",
    "\n",
    "margin_of_error = z * st_error\n",
    "\n",
    "lbound = p - margin_of_error\n",
    "ubound = p + margin_of_error\n",
    "\n",
    "print(f\"95% Confidence Interval: {lbound:.4f}, {ubound:.4f})\")\n"
   ]
  },
  {
   "cell_type": "code",
   "execution_count": null,
   "id": "60c14874",
   "metadata": {},
   "outputs": [],
   "source": [
    "#your grade: _____ / 15"
   ]
  }
 ],
 "metadata": {
  "kernelspec": {
   "display_name": "Python 3 (ipykernel)",
   "language": "python",
   "name": "python3"
  },
  "language_info": {
   "codemirror_mode": {
    "name": "ipython",
    "version": 3
   },
   "file_extension": ".py",
   "mimetype": "text/x-python",
   "name": "python",
   "nbconvert_exporter": "python",
   "pygments_lexer": "ipython3",
   "version": "3.11.4"
  }
 },
 "nbformat": 4,
 "nbformat_minor": 5
}
