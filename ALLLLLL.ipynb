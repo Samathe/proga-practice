{
 "cells": [
  {
   "cell_type": "markdown",
   "id": "fb9ec72a",
   "metadata": {},
   "source": [
    "# Practice work - 1"
   ]
  },
  {
   "cell_type": "markdown",
   "id": "666e5e07",
   "metadata": {},
   "source": [
    "The following questions are focused around a startup company. Management is trying to gain insight on current employees and have sent out a short anonymous survey to them. Read each prompt carefully and determine the variable type for each question."
   ]
  },
  {
   "cell_type": "markdown",
   "id": "e5a4fecb",
   "metadata": {},
   "source": [
    "Q1: Employees were asked to report their typical daily commute time, in minutes. What type of variable would their response be considered?"
   ]
  },
  {
   "cell_type": "code",
   "execution_count": 87,
   "id": "e6b59ec5",
   "metadata": {},
   "outputs": [
    {
     "ename": "SyntaxError",
     "evalue": "invalid syntax (50814392.py, line 1)",
     "output_type": "error",
     "traceback": [
      "\u001b[1;36m  Cell \u001b[1;32mIn[87], line 1\u001b[1;36m\u001b[0m\n\u001b[1;33m    Discrete quantitative data\u001b[0m\n\u001b[1;37m             ^\u001b[0m\n\u001b[1;31mSyntaxError\u001b[0m\u001b[1;31m:\u001b[0m invalid syntax\n"
     ]
    }
   ],
   "source": [
    "Discrete quantitative data"
   ]
  },
  {
   "cell_type": "markdown",
   "id": "5440a09f",
   "metadata": {},
   "source": [
    "Q2: Employees were asked to report their typical daily mode of transportation to and from work (i.e. Car, Bike, Bus, etc.). What type of variable would their response be considered?"
   ]
  },
  {
   "cell_type": "code",
   "execution_count": null,
   "id": "29cdefd8",
   "metadata": {},
   "outputs": [],
   "source": [
    "Categorical Data\n"
   ]
  },
  {
   "cell_type": "markdown",
   "id": "aeac8053",
   "metadata": {},
   "source": [
    "Q3: The company wanted to know how employees perceived the work of upper management. Employees were asked to report the satisfaction of upper management using a 1 to 5 scale (with the following representations: 1 - Extremely Unsatisfied, 2 - Unsatisfied, 3 - Neutral, 4 - Satisfied, 5 - Extremely Satisfied). What type of variable would their response be considered?"
   ]
  },
  {
   "cell_type": "code",
   "execution_count": null,
   "id": "7f62f60a",
   "metadata": {},
   "outputs": [],
   "source": [
    "Categorical Data\n"
   ]
  },
  {
   "cell_type": "markdown",
   "id": "f3d49754",
   "metadata": {},
   "source": [
    "Q4: It was reported that Fridays were generally lighter in terms of number of meetings held. Employees were asked to report the number of scheduled meetings they attended the previous Friday. What type of variable would their response be considered?"
   ]
  },
  {
   "cell_type": "code",
   "execution_count": null,
   "id": "126a6955",
   "metadata": {},
   "outputs": [],
   "source": [
    "Categorical Data\n"
   ]
  },
  {
   "cell_type": "markdown",
   "id": "e28b1aec",
   "metadata": {},
   "source": [
    "Q5: Management was playing around with the idea of having a food truck visit the office once a week and was trying to gauge how much employees would spend to help entice various food truck owners. Employees were asked to report the amount of money they believe they would spend on lunch (in $XX.XX) if a food truck came to the office once a week. What type of variable would their response be considered?"
   ]
  },
  {
   "cell_type": "code",
   "execution_count": null,
   "id": "1d31e2f0",
   "metadata": {},
   "outputs": [],
   "source": [
    "Discrete quantitative data"
   ]
  },
  {
   "cell_type": "markdown",
   "id": "5650aa78",
   "metadata": {},
   "source": [
    "Q6: Numpy arrays"
   ]
  },
  {
   "cell_type": "code",
   "execution_count": 102,
   "id": "2a4f16a4",
   "metadata": {},
   "outputs": [
    {
     "name": "stdout",
     "output_type": "stream",
     "text": [
      "int32\n"
     ]
    }
   ],
   "source": [
    "import numpy as np\n",
    "#Create numpy array and find datatype\n",
    "array = np.array([1,2])\n",
    "print(array.dtype)\n",
    "#your code"
   ]
  },
  {
   "cell_type": "code",
   "execution_count": 103,
   "id": "43da5836",
   "metadata": {},
   "outputs": [
    {
     "name": "stdout",
     "output_type": "stream",
     "text": [
      "[[0. 0.]\n",
      " [0. 0.]]\n"
     ]
    }
   ],
   "source": [
    "# Create 2x2 numpy array full of zeros without using array().\n",
    "arr_zeros = np.zeros((2,2))\n",
    "print(arr_zeros)\n",
    "#your code"
   ]
  },
  {
   "cell_type": "code",
   "execution_count": 104,
   "id": "9fe6dd5c",
   "metadata": {},
   "outputs": [
    {
     "name": "stdout",
     "output_type": "stream",
     "text": [
      "[[9. 9. 9.]\n",
      " [9. 9. 9.]]\n"
     ]
    }
   ],
   "source": [
    "#Create 2x3 numpy array full of 9 without using array().\n",
    "arr_nine = np.zeros((2,3)) + 9\n",
    "print(arr_nine)\n",
    "#your code"
   ]
  },
  {
   "cell_type": "code",
   "execution_count": 105,
   "id": "f601aa34",
   "metadata": {},
   "outputs": [
    {
     "name": "stdout",
     "output_type": "stream",
     "text": [
      "[[0.97795379 0.02738869 0.74043911]\n",
      " [0.54990689 0.06076283 0.87311918]\n",
      " [0.94643895 0.91135078 0.33394123]]\n"
     ]
    }
   ],
   "source": [
    "#Create 3x3 numpy array full of random numbers without using array().\n",
    "arr_random = np.random.random((3,3))\n",
    "print(arr_random)\n",
    "#your code"
   ]
  },
  {
   "cell_type": "code",
   "execution_count": 106,
   "id": "ba6b524e",
   "metadata": {},
   "outputs": [
    {
     "name": "stdout",
     "output_type": "stream",
     "text": [
      "(2,)\n",
      "(3, 3)\n",
      "(2, 2)\n",
      "(2, 3)\n",
      "(3, 3)\n"
     ]
    }
   ],
   "source": [
    "#Find shapes of all arrays above\n",
    "print(array.shape)\n",
    "print(arr.shape)\n",
    "print(arr_zeros.shape)\n",
    "print(arr_nine.shape)\n",
    "print(arr_random.shape)\n",
    "#your code"
   ]
  },
  {
   "cell_type": "code",
   "execution_count": 88,
   "id": "f8578bfa",
   "metadata": {},
   "outputs": [
    {
     "name": "stdout",
     "output_type": "stream",
     "text": [
      "[4 6]\n",
      "[3 7]\n",
      "10\n"
     ]
    }
   ],
   "source": [
    "#Given numpy array, find sum of elements of array by row and column, sum of all elements\n",
    "x = np.array([[1,2],[3,4]])\n",
    "print(x.sum(axis = 0))\n",
    "print(x.sum(axis = 1))\n",
    "print(x.sum())\n",
    "#your code"
   ]
  },
  {
   "cell_type": "code",
   "execution_count": 89,
   "id": "7f512f32",
   "metadata": {},
   "outputs": [
    {
     "name": "stdout",
     "output_type": "stream",
     "text": [
      "[[ 6.  8.]\n",
      " [10. 12.]]\n",
      "[[-4. -4.]\n",
      " [-4. -4.]]\n",
      "[[ 5. 12.]\n",
      " [21. 32.]]\n",
      "[[0.2        0.33333333]\n",
      " [0.42857143 0.5       ]]\n"
     ]
    }
   ],
   "source": [
    "#Given 2 numpy arrays, find addition, subtruction, multiplication, division of 2 arrays\n",
    "x = np.array([[1,2],[3,4]], dtype=np.float64)\n",
    "y = np.array([[5,6],[7,8]], dtype=np.float64)\n",
    "\n",
    "print(x+y)\n",
    "print(x-y)\n",
    "print(x*y)\n",
    "print(x/y)"
   ]
  },
  {
   "cell_type": "code",
   "execution_count": 90,
   "id": "a064e0cf",
   "metadata": {},
   "outputs": [
    {
     "name": "stdout",
     "output_type": "stream",
     "text": [
      "[2. 3.]\n",
      "[1.5 3.5]\n"
     ]
    }
   ],
   "source": [
    "#Given numpy array, find mean of all elements, each row and each column    \n",
    "x = np.array([[1,2],[3,4]])\n",
    "\n",
    "print(x.mean(axis = 0))\n",
    "print(x.mean(axis = 1))\n",
    "\n",
    "#your code"
   ]
  },
  {
   "cell_type": "markdown",
   "id": "f93f902e",
   "metadata": {},
   "source": [
    "Q5: Pandas"
   ]
  },
  {
   "cell_type": "code",
   "execution_count": 91,
   "id": "7439b51a",
   "metadata": {},
   "outputs": [],
   "source": [
    "import pandas as pd\n",
    "# countries.csv file which is imported\n",
    "url = \"countries.csv\"  #write path of countries.csv file in your device"
   ]
  },
  {
   "cell_type": "code",
   "execution_count": 92,
   "id": "4fb92536",
   "metadata": {},
   "outputs": [
    {
     "name": "stdout",
     "output_type": "stream",
     "text": [
      "           location continent  population  life_expectancy  \\\n",
      "0       Afghanistan      Asia    38928341            64.83   \n",
      "1           Albania    Europe     2877800            78.57   \n",
      "2           Algeria    Africa    43851043            76.88   \n",
      "3           Andorra    Europe       77265            83.73   \n",
      "4            Angola    Africa    32866268            61.15   \n",
      "..              ...       ...         ...              ...   \n",
      "205         Vietnam      Asia    97338583            75.40   \n",
      "206  Western Sahara    Africa      597330            70.26   \n",
      "207           Yemen      Asia    29825968            66.12   \n",
      "208          Zambia    Africa    18383956            63.89   \n",
      "209        Zimbabwe    Africa    14862927            61.49   \n",
      "\n",
      "     hospital_beds_per_thousand  gdp_per_capita  \n",
      "0                          0.50        1803.987  \n",
      "1                          2.89       11803.431  \n",
      "2                          1.90       13913.839  \n",
      "3                           NaN             NaN  \n",
      "4                           NaN        5819.495  \n",
      "..                          ...             ...  \n",
      "205                        2.60        6171.884  \n",
      "206                         NaN             NaN  \n",
      "207                        0.70        1479.147  \n",
      "208                        2.00        3689.251  \n",
      "209                        1.70        1899.775  \n",
      "\n",
      "[210 rows x 6 columns]\n",
      "<class 'pandas.core.frame.DataFrame'>\n"
     ]
    }
   ],
   "source": [
    "# Read the .csv file and store it as a pandas Data Frame and define its type\n",
    "df = pd.read_csv(url)\n",
    "df = pd.DataFrame(df)\n",
    "print(df)\n",
    "print(type(df))\n",
    "#your code "
   ]
  },
  {
   "cell_type": "code",
   "execution_count": 93,
   "id": "70648c44",
   "metadata": {},
   "outputs": [
    {
     "data": {
      "text/html": [
       "<div>\n",
       "<style scoped>\n",
       "    .dataframe tbody tr th:only-of-type {\n",
       "        vertical-align: middle;\n",
       "    }\n",
       "\n",
       "    .dataframe tbody tr th {\n",
       "        vertical-align: top;\n",
       "    }\n",
       "\n",
       "    .dataframe thead th {\n",
       "        text-align: right;\n",
       "    }\n",
       "</style>\n",
       "<table border=\"1\" class=\"dataframe\">\n",
       "  <thead>\n",
       "    <tr style=\"text-align: right;\">\n",
       "      <th></th>\n",
       "      <th>location</th>\n",
       "      <th>continent</th>\n",
       "      <th>population</th>\n",
       "      <th>life_expectancy</th>\n",
       "      <th>hospital_beds_per_thousand</th>\n",
       "      <th>gdp_per_capita</th>\n",
       "    </tr>\n",
       "  </thead>\n",
       "  <tbody>\n",
       "    <tr>\n",
       "      <th>0</th>\n",
       "      <td>Afghanistan</td>\n",
       "      <td>Asia</td>\n",
       "      <td>38928341</td>\n",
       "      <td>64.83</td>\n",
       "      <td>0.50</td>\n",
       "      <td>1803.987</td>\n",
       "    </tr>\n",
       "    <tr>\n",
       "      <th>1</th>\n",
       "      <td>Albania</td>\n",
       "      <td>Europe</td>\n",
       "      <td>2877800</td>\n",
       "      <td>78.57</td>\n",
       "      <td>2.89</td>\n",
       "      <td>11803.431</td>\n",
       "    </tr>\n",
       "    <tr>\n",
       "      <th>2</th>\n",
       "      <td>Algeria</td>\n",
       "      <td>Africa</td>\n",
       "      <td>43851043</td>\n",
       "      <td>76.88</td>\n",
       "      <td>1.90</td>\n",
       "      <td>13913.839</td>\n",
       "    </tr>\n",
       "    <tr>\n",
       "      <th>3</th>\n",
       "      <td>Andorra</td>\n",
       "      <td>Europe</td>\n",
       "      <td>77265</td>\n",
       "      <td>83.73</td>\n",
       "      <td>NaN</td>\n",
       "      <td>NaN</td>\n",
       "    </tr>\n",
       "    <tr>\n",
       "      <th>4</th>\n",
       "      <td>Angola</td>\n",
       "      <td>Africa</td>\n",
       "      <td>32866268</td>\n",
       "      <td>61.15</td>\n",
       "      <td>NaN</td>\n",
       "      <td>5819.495</td>\n",
       "    </tr>\n",
       "  </tbody>\n",
       "</table>\n",
       "</div>"
      ],
      "text/plain": [
       "      location continent  population  life_expectancy  \\\n",
       "0  Afghanistan      Asia    38928341            64.83   \n",
       "1      Albania    Europe     2877800            78.57   \n",
       "2      Algeria    Africa    43851043            76.88   \n",
       "3      Andorra    Europe       77265            83.73   \n",
       "4       Angola    Africa    32866268            61.15   \n",
       "\n",
       "   hospital_beds_per_thousand  gdp_per_capita  \n",
       "0                        0.50        1803.987  \n",
       "1                        2.89       11803.431  \n",
       "2                        1.90       13913.839  \n",
       "3                         NaN             NaN  \n",
       "4                         NaN        5819.495  "
      ]
     },
     "execution_count": 93,
     "metadata": {},
     "output_type": "execute_result"
    }
   ],
   "source": [
    "# Show the first 5 rows of our Data Frame\n",
    "df.head(5)\n",
    "#your code"
   ]
  },
  {
   "cell_type": "code",
   "execution_count": 94,
   "id": "bf6aae02",
   "metadata": {},
   "outputs": [
    {
     "name": "stdout",
     "output_type": "stream",
     "text": [
      "<class 'pandas.core.frame.DataFrame'>\n",
      "RangeIndex: 210 entries, 0 to 209\n",
      "Data columns (total 6 columns):\n",
      " #   Column                      Non-Null Count  Dtype  \n",
      "---  ------                      --------------  -----  \n",
      " 0   location                    210 non-null    object \n",
      " 1   continent                   210 non-null    object \n",
      " 2   population                  210 non-null    int64  \n",
      " 3   life_expectancy             207 non-null    float64\n",
      " 4   hospital_beds_per_thousand  164 non-null    float64\n",
      " 5   gdp_per_capita              183 non-null    float64\n",
      "dtypes: float64(3), int64(1), object(2)\n",
      "memory usage: 10.0+ KB\n"
     ]
    }
   ],
   "source": [
    "# Show the column names and data types of each column\n",
    "df.info()\n",
    "#your code"
   ]
  },
  {
   "cell_type": "code",
   "execution_count": 95,
   "id": "7568d920",
   "metadata": {},
   "outputs": [
    {
     "data": {
      "text/html": [
       "<div>\n",
       "<style scoped>\n",
       "    .dataframe tbody tr th:only-of-type {\n",
       "        vertical-align: middle;\n",
       "    }\n",
       "\n",
       "    .dataframe tbody tr th {\n",
       "        vertical-align: top;\n",
       "    }\n",
       "\n",
       "    .dataframe thead th {\n",
       "        text-align: right;\n",
       "    }\n",
       "</style>\n",
       "<table border=\"1\" class=\"dataframe\">\n",
       "  <thead>\n",
       "    <tr style=\"text-align: right;\">\n",
       "      <th></th>\n",
       "      <th>location</th>\n",
       "      <th>continent</th>\n",
       "      <th>population</th>\n",
       "    </tr>\n",
       "  </thead>\n",
       "  <tbody>\n",
       "    <tr>\n",
       "      <th>0</th>\n",
       "      <td>Afghanistan</td>\n",
       "      <td>Asia</td>\n",
       "      <td>38928341</td>\n",
       "    </tr>\n",
       "    <tr>\n",
       "      <th>1</th>\n",
       "      <td>Albania</td>\n",
       "      <td>Europe</td>\n",
       "      <td>2877800</td>\n",
       "    </tr>\n",
       "    <tr>\n",
       "      <th>2</th>\n",
       "      <td>Algeria</td>\n",
       "      <td>Africa</td>\n",
       "      <td>43851043</td>\n",
       "    </tr>\n",
       "    <tr>\n",
       "      <th>3</th>\n",
       "      <td>Andorra</td>\n",
       "      <td>Europe</td>\n",
       "      <td>77265</td>\n",
       "    </tr>\n",
       "    <tr>\n",
       "      <th>4</th>\n",
       "      <td>Angola</td>\n",
       "      <td>Africa</td>\n",
       "      <td>32866268</td>\n",
       "    </tr>\n",
       "    <tr>\n",
       "      <th>...</th>\n",
       "      <td>...</td>\n",
       "      <td>...</td>\n",
       "      <td>...</td>\n",
       "    </tr>\n",
       "    <tr>\n",
       "      <th>205</th>\n",
       "      <td>Vietnam</td>\n",
       "      <td>Asia</td>\n",
       "      <td>97338583</td>\n",
       "    </tr>\n",
       "    <tr>\n",
       "      <th>206</th>\n",
       "      <td>Western Sahara</td>\n",
       "      <td>Africa</td>\n",
       "      <td>597330</td>\n",
       "    </tr>\n",
       "    <tr>\n",
       "      <th>207</th>\n",
       "      <td>Yemen</td>\n",
       "      <td>Asia</td>\n",
       "      <td>29825968</td>\n",
       "    </tr>\n",
       "    <tr>\n",
       "      <th>208</th>\n",
       "      <td>Zambia</td>\n",
       "      <td>Africa</td>\n",
       "      <td>18383956</td>\n",
       "    </tr>\n",
       "    <tr>\n",
       "      <th>209</th>\n",
       "      <td>Zimbabwe</td>\n",
       "      <td>Africa</td>\n",
       "      <td>14862927</td>\n",
       "    </tr>\n",
       "  </tbody>\n",
       "</table>\n",
       "<p>210 rows × 3 columns</p>\n",
       "</div>"
      ],
      "text/plain": [
       "           location continent  population\n",
       "0       Afghanistan      Asia    38928341\n",
       "1           Albania    Europe     2877800\n",
       "2           Algeria    Africa    43851043\n",
       "3           Andorra    Europe       77265\n",
       "4            Angola    Africa    32866268\n",
       "..              ...       ...         ...\n",
       "205         Vietnam      Asia    97338583\n",
       "206  Western Sahara    Africa      597330\n",
       "207           Yemen      Asia    29825968\n",
       "208          Zambia    Africa    18383956\n",
       "209        Zimbabwe    Africa    14862927\n",
       "\n",
       "[210 rows x 3 columns]"
      ]
     },
     "execution_count": 95,
     "metadata": {},
     "output_type": "execute_result"
    }
   ],
   "source": [
    "# Select all rows for multiple columns, ['location', 'continent', 'population']\n",
    "df[['location', 'continent', 'population']]\n",
    "#your code"
   ]
  },
  {
   "cell_type": "code",
   "execution_count": 96,
   "id": "4f634c0e",
   "metadata": {},
   "outputs": [
    {
     "data": {
      "text/html": [
       "<div>\n",
       "<style scoped>\n",
       "    .dataframe tbody tr th:only-of-type {\n",
       "        vertical-align: middle;\n",
       "    }\n",
       "\n",
       "    .dataframe tbody tr th {\n",
       "        vertical-align: top;\n",
       "    }\n",
       "\n",
       "    .dataframe thead th {\n",
       "        text-align: right;\n",
       "    }\n",
       "</style>\n",
       "<table border=\"1\" class=\"dataframe\">\n",
       "  <thead>\n",
       "    <tr style=\"text-align: right;\">\n",
       "      <th></th>\n",
       "      <th>location</th>\n",
       "      <th>continent</th>\n",
       "      <th>population</th>\n",
       "    </tr>\n",
       "  </thead>\n",
       "  <tbody>\n",
       "    <tr>\n",
       "      <th>0</th>\n",
       "      <td>Afghanistan</td>\n",
       "      <td>Asia</td>\n",
       "      <td>38928341</td>\n",
       "    </tr>\n",
       "    <tr>\n",
       "      <th>1</th>\n",
       "      <td>Albania</td>\n",
       "      <td>Europe</td>\n",
       "      <td>2877800</td>\n",
       "    </tr>\n",
       "    <tr>\n",
       "      <th>2</th>\n",
       "      <td>Algeria</td>\n",
       "      <td>Africa</td>\n",
       "      <td>43851043</td>\n",
       "    </tr>\n",
       "    <tr>\n",
       "      <th>3</th>\n",
       "      <td>Andorra</td>\n",
       "      <td>Europe</td>\n",
       "      <td>77265</td>\n",
       "    </tr>\n",
       "    <tr>\n",
       "      <th>4</th>\n",
       "      <td>Angola</td>\n",
       "      <td>Africa</td>\n",
       "      <td>32866268</td>\n",
       "    </tr>\n",
       "    <tr>\n",
       "      <th>5</th>\n",
       "      <td>Anguilla</td>\n",
       "      <td>North America</td>\n",
       "      <td>15002</td>\n",
       "    </tr>\n",
       "    <tr>\n",
       "      <th>6</th>\n",
       "      <td>Antigua and Barbuda</td>\n",
       "      <td>North America</td>\n",
       "      <td>97928</td>\n",
       "    </tr>\n",
       "    <tr>\n",
       "      <th>7</th>\n",
       "      <td>Argentina</td>\n",
       "      <td>South America</td>\n",
       "      <td>45195777</td>\n",
       "    </tr>\n",
       "    <tr>\n",
       "      <th>8</th>\n",
       "      <td>Armenia</td>\n",
       "      <td>Asia</td>\n",
       "      <td>2963234</td>\n",
       "    </tr>\n",
       "    <tr>\n",
       "      <th>9</th>\n",
       "      <td>Aruba</td>\n",
       "      <td>North America</td>\n",
       "      <td>106766</td>\n",
       "    </tr>\n",
       "  </tbody>\n",
       "</table>\n",
       "</div>"
      ],
      "text/plain": [
       "              location      continent  population\n",
       "0          Afghanistan           Asia    38928341\n",
       "1              Albania         Europe     2877800\n",
       "2              Algeria         Africa    43851043\n",
       "3              Andorra         Europe       77265\n",
       "4               Angola         Africa    32866268\n",
       "5             Anguilla  North America       15002\n",
       "6  Antigua and Barbuda  North America       97928\n",
       "7            Argentina  South America    45195777\n",
       "8              Armenia           Asia     2963234\n",
       "9                Aruba  North America      106766"
      ]
     },
     "execution_count": 96,
     "metadata": {},
     "output_type": "execute_result"
    }
   ],
   "source": [
    "# Select few rows for multiple columns, ['location', 'continent', 'population']\n",
    "df[['location', 'continent', 'population']].head(10)\n",
    "#your column"
   ]
  },
  {
   "cell_type": "code",
   "execution_count": 97,
   "id": "af4c580a",
   "metadata": {},
   "outputs": [
    {
     "data": {
      "text/html": [
       "<div>\n",
       "<style scoped>\n",
       "    .dataframe tbody tr th:only-of-type {\n",
       "        vertical-align: middle;\n",
       "    }\n",
       "\n",
       "    .dataframe tbody tr th {\n",
       "        vertical-align: top;\n",
       "    }\n",
       "\n",
       "    .dataframe thead th {\n",
       "        text-align: right;\n",
       "    }\n",
       "</style>\n",
       "<table border=\"1\" class=\"dataframe\">\n",
       "  <thead>\n",
       "    <tr style=\"text-align: right;\">\n",
       "      <th></th>\n",
       "      <th>location</th>\n",
       "    </tr>\n",
       "  </thead>\n",
       "  <tbody>\n",
       "    <tr>\n",
       "      <th>0</th>\n",
       "      <td>Afghanistan</td>\n",
       "    </tr>\n",
       "    <tr>\n",
       "      <th>1</th>\n",
       "      <td>Albania</td>\n",
       "    </tr>\n",
       "    <tr>\n",
       "      <th>2</th>\n",
       "      <td>Algeria</td>\n",
       "    </tr>\n",
       "    <tr>\n",
       "      <th>3</th>\n",
       "      <td>Andorra</td>\n",
       "    </tr>\n",
       "    <tr>\n",
       "      <th>4</th>\n",
       "      <td>Angola</td>\n",
       "    </tr>\n",
       "    <tr>\n",
       "      <th>...</th>\n",
       "      <td>...</td>\n",
       "    </tr>\n",
       "    <tr>\n",
       "      <th>205</th>\n",
       "      <td>Vietnam</td>\n",
       "    </tr>\n",
       "    <tr>\n",
       "      <th>206</th>\n",
       "      <td>Western Sahara</td>\n",
       "    </tr>\n",
       "    <tr>\n",
       "      <th>207</th>\n",
       "      <td>Yemen</td>\n",
       "    </tr>\n",
       "    <tr>\n",
       "      <th>208</th>\n",
       "      <td>Zambia</td>\n",
       "    </tr>\n",
       "    <tr>\n",
       "      <th>209</th>\n",
       "      <td>Zimbabwe</td>\n",
       "    </tr>\n",
       "  </tbody>\n",
       "</table>\n",
       "<p>210 rows × 1 columns</p>\n",
       "</div>"
      ],
      "text/plain": [
       "           location\n",
       "0       Afghanistan\n",
       "1           Albania\n",
       "2           Algeria\n",
       "3           Andorra\n",
       "4            Angola\n",
       "..              ...\n",
       "205         Vietnam\n",
       "206  Western Sahara\n",
       "207           Yemen\n",
       "208          Zambia\n",
       "209        Zimbabwe\n",
       "\n",
       "[210 rows x 1 columns]"
      ]
     },
     "execution_count": 97,
     "metadata": {},
     "output_type": "execute_result"
    }
   ],
   "source": [
    "# Return all observations of location\n",
    "df[['location']]\n",
    "#your code"
   ]
  },
  {
   "cell_type": "code",
   "execution_count": 98,
   "id": "9095047b",
   "metadata": {},
   "outputs": [
    {
     "name": "stdout",
     "output_type": "stream",
     "text": [
      "      location continent  population  life_expectancy  \\\n",
      "0  Afghanistan      Asia    38928341            64.83   \n",
      "1      Albania    Europe     2877800            78.57   \n",
      "2      Algeria    Africa    43851043            76.88   \n",
      "3      Andorra    Europe       77265            83.73   \n",
      "\n",
      "   hospital_beds_per_thousand  gdp_per_capita  \n",
      "0                        0.50        1803.987  \n",
      "1                        2.89       11803.431  \n",
      "2                        1.90       13913.839  \n",
      "3                         NaN             NaN  \n"
     ]
    }
   ],
   "source": [
    "# Show first 4 rows by using iloc()\n",
    "print(df.iloc[:4,])\n",
    "#your code"
   ]
  },
  {
   "cell_type": "code",
   "execution_count": 99,
   "id": "0a4ea2ed",
   "metadata": {},
   "outputs": [
    {
     "data": {
      "text/plain": [
       "array([['Afghanistan'],\n",
       "       ['Albania'],\n",
       "       ['Algeria'],\n",
       "       ['Andorra'],\n",
       "       ['Angola'],\n",
       "       ['Anguilla'],\n",
       "       ['Antigua and Barbuda'],\n",
       "       ['Argentina'],\n",
       "       ['Armenia'],\n",
       "       ['Aruba'],\n",
       "       ['Australia'],\n",
       "       ['Austria'],\n",
       "       ['Azerbaijan'],\n",
       "       ['Bahamas'],\n",
       "       ['Bahrain'],\n",
       "       ['Bangladesh'],\n",
       "       ['Barbados'],\n",
       "       ['Belarus'],\n",
       "       ['Belgium'],\n",
       "       ['Belize'],\n",
       "       ['Benin'],\n",
       "       ['Bermuda'],\n",
       "       ['Bhutan'],\n",
       "       ['Bolivia'],\n",
       "       ['Bonaire Sint Eustatius and Saba'],\n",
       "       ['Bosnia and Herzegovina'],\n",
       "       ['Botswana'],\n",
       "       ['Brazil'],\n",
       "       ['British Virgin Islands'],\n",
       "       ['Brunei'],\n",
       "       ['Bulgaria'],\n",
       "       ['Burkina Faso'],\n",
       "       ['Burundi'],\n",
       "       ['Cambodia'],\n",
       "       ['Cameroon'],\n",
       "       ['Canada'],\n",
       "       ['Cape Verde'],\n",
       "       ['Cayman Islands'],\n",
       "       ['Central African Republic'],\n",
       "       ['Chad'],\n",
       "       ['Chile'],\n",
       "       ['China'],\n",
       "       ['Colombia'],\n",
       "       ['Comoros'],\n",
       "       ['Congo'],\n",
       "       ['Costa Rica'],\n",
       "       [\"Cote d'Ivoire\"],\n",
       "       ['Croatia'],\n",
       "       ['Cuba'],\n",
       "       ['Curacao'],\n",
       "       ['Cyprus'],\n",
       "       ['Czech Republic'],\n",
       "       ['Democratic Republic of Congo'],\n",
       "       ['Denmark'],\n",
       "       ['Djibouti'],\n",
       "       ['Dominica'],\n",
       "       ['Dominican Republic'],\n",
       "       ['Ecuador'],\n",
       "       ['Egypt'],\n",
       "       ['El Salvador'],\n",
       "       ['Equatorial Guinea'],\n",
       "       ['Eritrea'],\n",
       "       ['Estonia'],\n",
       "       ['Ethiopia'],\n",
       "       ['Faeroe Islands'],\n",
       "       ['Falkland Islands'],\n",
       "       ['Fiji'],\n",
       "       ['Finland'],\n",
       "       ['France'],\n",
       "       ['French Polynesia'],\n",
       "       ['Gabon'],\n",
       "       ['Gambia'],\n",
       "       ['Georgia'],\n",
       "       ['Germany'],\n",
       "       ['Ghana'],\n",
       "       ['Gibraltar'],\n",
       "       ['Greece'],\n",
       "       ['Greenland'],\n",
       "       ['Grenada'],\n",
       "       ['Guam'],\n",
       "       ['Guatemala'],\n",
       "       ['Guernsey'],\n",
       "       ['Guinea'],\n",
       "       ['Guinea-Bissau'],\n",
       "       ['Guyana'],\n",
       "       ['Haiti'],\n",
       "       ['Honduras'],\n",
       "       ['Hong Kong'],\n",
       "       ['Hungary'],\n",
       "       ['Iceland'],\n",
       "       ['India'],\n",
       "       ['Indonesia'],\n",
       "       ['Iran'],\n",
       "       ['Iraq'],\n",
       "       ['Ireland'],\n",
       "       ['Isle of Man'],\n",
       "       ['Israel'],\n",
       "       ['Italy'],\n",
       "       ['Jamaica'],\n",
       "       ['Japan'],\n",
       "       ['Jersey'],\n",
       "       ['Jordan'],\n",
       "       ['Kazakhstan'],\n",
       "       ['Kenya'],\n",
       "       ['Kosovo'],\n",
       "       ['Kuwait'],\n",
       "       ['Kyrgyzstan'],\n",
       "       ['Laos'],\n",
       "       ['Latvia'],\n",
       "       ['Lebanon'],\n",
       "       ['Lesotho'],\n",
       "       ['Liberia'],\n",
       "       ['Libya'],\n",
       "       ['Liechtenstein'],\n",
       "       ['Lithuania'],\n",
       "       ['Luxembourg'],\n",
       "       ['Macedonia'],\n",
       "       ['Madagascar'],\n",
       "       ['Malawi'],\n",
       "       ['Malaysia'],\n",
       "       ['Maldives'],\n",
       "       ['Mali'],\n",
       "       ['Malta'],\n",
       "       ['Mauritania'],\n",
       "       ['Mauritius'],\n",
       "       ['Mexico'],\n",
       "       ['Moldova'],\n",
       "       ['Monaco'],\n",
       "       ['Mongolia'],\n",
       "       ['Montenegro'],\n",
       "       ['Montserrat'],\n",
       "       ['Morocco'],\n",
       "       ['Mozambique'],\n",
       "       ['Myanmar'],\n",
       "       ['Namibia'],\n",
       "       ['Nepal'],\n",
       "       ['Netherlands'],\n",
       "       ['New Caledonia'],\n",
       "       ['New Zealand'],\n",
       "       ['Nicaragua'],\n",
       "       ['Niger'],\n",
       "       ['Nigeria'],\n",
       "       ['Northern Mariana Islands'],\n",
       "       ['Norway'],\n",
       "       ['Oman'],\n",
       "       ['Pakistan'],\n",
       "       ['Palestine'],\n",
       "       ['Panama'],\n",
       "       ['Papua New Guinea'],\n",
       "       ['Paraguay'],\n",
       "       ['Peru'],\n",
       "       ['Philippines'],\n",
       "       ['Poland'],\n",
       "       ['Portugal'],\n",
       "       ['Puerto Rico'],\n",
       "       ['Qatar'],\n",
       "       ['Romania'],\n",
       "       ['Russia'],\n",
       "       ['Rwanda'],\n",
       "       ['Saint Kitts and Nevis'],\n",
       "       ['Saint Lucia'],\n",
       "       ['Saint Vincent and the Grenadines'],\n",
       "       ['San Marino'],\n",
       "       ['Sao Tome and Principe'],\n",
       "       ['Saudi Arabia'],\n",
       "       ['Senegal'],\n",
       "       ['Serbia'],\n",
       "       ['Seychelles'],\n",
       "       ['Sierra Leone'],\n",
       "       ['Singapore'],\n",
       "       ['Sint Maarten (Dutch part)'],\n",
       "       ['Slovakia'],\n",
       "       ['Slovenia'],\n",
       "       ['Somalia'],\n",
       "       ['South Africa'],\n",
       "       ['South Korea'],\n",
       "       ['South Sudan'],\n",
       "       ['Spain'],\n",
       "       ['Sri Lanka'],\n",
       "       ['Sudan'],\n",
       "       ['Suriname'],\n",
       "       ['Swaziland'],\n",
       "       ['Sweden'],\n",
       "       ['Switzerland'],\n",
       "       ['Syria'],\n",
       "       ['Taiwan'],\n",
       "       ['Tajikistan'],\n",
       "       ['Tanzania'],\n",
       "       ['Thailand'],\n",
       "       ['Timor'],\n",
       "       ['Togo'],\n",
       "       ['Trinidad and Tobago'],\n",
       "       ['Tunisia'],\n",
       "       ['Turkey'],\n",
       "       ['Turks and Caicos Islands'],\n",
       "       ['Uganda'],\n",
       "       ['Ukraine'],\n",
       "       ['United Arab Emirates'],\n",
       "       ['United Kingdom'],\n",
       "       ['United States'],\n",
       "       ['United States Virgin Islands'],\n",
       "       ['Uruguay'],\n",
       "       ['Uzbekistan'],\n",
       "       ['Vatican'],\n",
       "       ['Venezuela'],\n",
       "       ['Vietnam'],\n",
       "       ['Western Sahara'],\n",
       "       ['Yemen'],\n",
       "       ['Zambia'],\n",
       "       ['Zimbabwe']], dtype=object)"
      ]
     },
     "execution_count": 99,
     "metadata": {},
     "output_type": "execute_result"
    }
   ],
   "source": [
    "# List unique values in the df['location'] column\n",
    "df[['location']].values\n",
    "#your code"
   ]
  },
  {
   "cell_type": "code",
   "execution_count": 100,
   "id": "9534aad2",
   "metadata": {},
   "outputs": [
    {
     "data": {
      "text/plain": [
       "array([['Afghanistan', 'Asia'],\n",
       "       ['Albania', 'Europe'],\n",
       "       ['Algeria', 'Africa'],\n",
       "       ['Andorra', 'Europe'],\n",
       "       ['Angola', 'Africa'],\n",
       "       ['Anguilla', 'North America'],\n",
       "       ['Antigua and Barbuda', 'North America'],\n",
       "       ['Argentina', 'South America'],\n",
       "       ['Armenia', 'Asia'],\n",
       "       ['Aruba', 'North America'],\n",
       "       ['Australia', 'Oceania'],\n",
       "       ['Austria', 'Europe'],\n",
       "       ['Azerbaijan', 'Asia'],\n",
       "       ['Bahamas', 'North America'],\n",
       "       ['Bahrain', 'Asia'],\n",
       "       ['Bangladesh', 'Asia'],\n",
       "       ['Barbados', 'North America'],\n",
       "       ['Belarus', 'Europe'],\n",
       "       ['Belgium', 'Europe'],\n",
       "       ['Belize', 'North America'],\n",
       "       ['Benin', 'Africa'],\n",
       "       ['Bermuda', 'North America'],\n",
       "       ['Bhutan', 'Asia'],\n",
       "       ['Bolivia', 'South America'],\n",
       "       ['Bonaire Sint Eustatius and Saba', 'North America'],\n",
       "       ['Bosnia and Herzegovina', 'Europe'],\n",
       "       ['Botswana', 'Africa'],\n",
       "       ['Brazil', 'South America'],\n",
       "       ['British Virgin Islands', 'North America'],\n",
       "       ['Brunei', 'Asia'],\n",
       "       ['Bulgaria', 'Europe'],\n",
       "       ['Burkina Faso', 'Africa'],\n",
       "       ['Burundi', 'Africa'],\n",
       "       ['Cambodia', 'Asia'],\n",
       "       ['Cameroon', 'Africa'],\n",
       "       ['Canada', 'North America'],\n",
       "       ['Cape Verde', 'Africa'],\n",
       "       ['Cayman Islands', 'North America'],\n",
       "       ['Central African Republic', 'Africa'],\n",
       "       ['Chad', 'Africa'],\n",
       "       ['Chile', 'South America'],\n",
       "       ['China', 'Asia'],\n",
       "       ['Colombia', 'South America'],\n",
       "       ['Comoros', 'Africa'],\n",
       "       ['Congo', 'Africa'],\n",
       "       ['Costa Rica', 'North America'],\n",
       "       [\"Cote d'Ivoire\", 'Africa'],\n",
       "       ['Croatia', 'Europe'],\n",
       "       ['Cuba', 'North America'],\n",
       "       ['Curacao', 'North America'],\n",
       "       ['Cyprus', 'Europe'],\n",
       "       ['Czech Republic', 'Europe'],\n",
       "       ['Democratic Republic of Congo', 'Africa'],\n",
       "       ['Denmark', 'Europe'],\n",
       "       ['Djibouti', 'Africa'],\n",
       "       ['Dominica', 'North America'],\n",
       "       ['Dominican Republic', 'North America'],\n",
       "       ['Ecuador', 'South America'],\n",
       "       ['Egypt', 'Africa'],\n",
       "       ['El Salvador', 'North America'],\n",
       "       ['Equatorial Guinea', 'Africa'],\n",
       "       ['Eritrea', 'Africa'],\n",
       "       ['Estonia', 'Europe'],\n",
       "       ['Ethiopia', 'Africa'],\n",
       "       ['Faeroe Islands', 'Europe'],\n",
       "       ['Falkland Islands', 'South America'],\n",
       "       ['Fiji', 'Oceania'],\n",
       "       ['Finland', 'Europe'],\n",
       "       ['France', 'Europe'],\n",
       "       ['French Polynesia', 'Oceania'],\n",
       "       ['Gabon', 'Africa'],\n",
       "       ['Gambia', 'Africa'],\n",
       "       ['Georgia', 'Asia'],\n",
       "       ['Germany', 'Europe'],\n",
       "       ['Ghana', 'Africa'],\n",
       "       ['Gibraltar', 'Europe'],\n",
       "       ['Greece', 'Europe'],\n",
       "       ['Greenland', 'North America'],\n",
       "       ['Grenada', 'North America'],\n",
       "       ['Guam', 'Oceania'],\n",
       "       ['Guatemala', 'North America'],\n",
       "       ['Guernsey', 'Europe'],\n",
       "       ['Guinea', 'Africa'],\n",
       "       ['Guinea-Bissau', 'Africa'],\n",
       "       ['Guyana', 'South America'],\n",
       "       ['Haiti', 'North America'],\n",
       "       ['Honduras', 'North America'],\n",
       "       ['Hong Kong', 'Asia'],\n",
       "       ['Hungary', 'Europe'],\n",
       "       ['Iceland', 'Europe'],\n",
       "       ['India', 'Asia'],\n",
       "       ['Indonesia', 'Asia'],\n",
       "       ['Iran', 'Asia'],\n",
       "       ['Iraq', 'Asia'],\n",
       "       ['Ireland', 'Europe'],\n",
       "       ['Isle of Man', 'Europe'],\n",
       "       ['Israel', 'Asia'],\n",
       "       ['Italy', 'Europe'],\n",
       "       ['Jamaica', 'North America'],\n",
       "       ['Japan', 'Asia'],\n",
       "       ['Jersey', 'Europe'],\n",
       "       ['Jordan', 'Asia'],\n",
       "       ['Kazakhstan', 'Asia'],\n",
       "       ['Kenya', 'Africa'],\n",
       "       ['Kosovo', 'Europe'],\n",
       "       ['Kuwait', 'Asia'],\n",
       "       ['Kyrgyzstan', 'Asia'],\n",
       "       ['Laos', 'Asia'],\n",
       "       ['Latvia', 'Europe'],\n",
       "       ['Lebanon', 'Asia'],\n",
       "       ['Lesotho', 'Africa'],\n",
       "       ['Liberia', 'Africa'],\n",
       "       ['Libya', 'Africa'],\n",
       "       ['Liechtenstein', 'Europe'],\n",
       "       ['Lithuania', 'Europe'],\n",
       "       ['Luxembourg', 'Europe'],\n",
       "       ['Macedonia', 'Europe'],\n",
       "       ['Madagascar', 'Africa'],\n",
       "       ['Malawi', 'Africa'],\n",
       "       ['Malaysia', 'Asia'],\n",
       "       ['Maldives', 'Asia'],\n",
       "       ['Mali', 'Africa'],\n",
       "       ['Malta', 'Europe'],\n",
       "       ['Mauritania', 'Africa'],\n",
       "       ['Mauritius', 'Africa'],\n",
       "       ['Mexico', 'North America'],\n",
       "       ['Moldova', 'Europe'],\n",
       "       ['Monaco', 'Europe'],\n",
       "       ['Mongolia', 'Asia'],\n",
       "       ['Montenegro', 'Europe'],\n",
       "       ['Montserrat', 'North America'],\n",
       "       ['Morocco', 'Africa'],\n",
       "       ['Mozambique', 'Africa'],\n",
       "       ['Myanmar', 'Asia'],\n",
       "       ['Namibia', 'Africa'],\n",
       "       ['Nepal', 'Asia'],\n",
       "       ['Netherlands', 'Europe'],\n",
       "       ['New Caledonia', 'Oceania'],\n",
       "       ['New Zealand', 'Oceania'],\n",
       "       ['Nicaragua', 'North America'],\n",
       "       ['Niger', 'Africa'],\n",
       "       ['Nigeria', 'Africa'],\n",
       "       ['Northern Mariana Islands', 'Oceania'],\n",
       "       ['Norway', 'Europe'],\n",
       "       ['Oman', 'Asia'],\n",
       "       ['Pakistan', 'Asia'],\n",
       "       ['Palestine', 'Asia'],\n",
       "       ['Panama', 'North America'],\n",
       "       ['Papua New Guinea', 'Oceania'],\n",
       "       ['Paraguay', 'South America'],\n",
       "       ['Peru', 'South America'],\n",
       "       ['Philippines', 'Asia'],\n",
       "       ['Poland', 'Europe'],\n",
       "       ['Portugal', 'Europe'],\n",
       "       ['Puerto Rico', 'North America'],\n",
       "       ['Qatar', 'Asia'],\n",
       "       ['Romania', 'Europe'],\n",
       "       ['Russia', 'Europe'],\n",
       "       ['Rwanda', 'Africa'],\n",
       "       ['Saint Kitts and Nevis', 'North America'],\n",
       "       ['Saint Lucia', 'North America'],\n",
       "       ['Saint Vincent and the Grenadines', 'North America'],\n",
       "       ['San Marino', 'Europe'],\n",
       "       ['Sao Tome and Principe', 'Africa'],\n",
       "       ['Saudi Arabia', 'Asia'],\n",
       "       ['Senegal', 'Africa'],\n",
       "       ['Serbia', 'Europe'],\n",
       "       ['Seychelles', 'Africa'],\n",
       "       ['Sierra Leone', 'Africa'],\n",
       "       ['Singapore', 'Asia'],\n",
       "       ['Sint Maarten (Dutch part)', 'North America'],\n",
       "       ['Slovakia', 'Europe'],\n",
       "       ['Slovenia', 'Europe'],\n",
       "       ['Somalia', 'Africa'],\n",
       "       ['South Africa', 'Africa'],\n",
       "       ['South Korea', 'Asia'],\n",
       "       ['South Sudan', 'Africa'],\n",
       "       ['Spain', 'Europe'],\n",
       "       ['Sri Lanka', 'Asia'],\n",
       "       ['Sudan', 'Africa'],\n",
       "       ['Suriname', 'South America'],\n",
       "       ['Swaziland', 'Africa'],\n",
       "       ['Sweden', 'Europe'],\n",
       "       ['Switzerland', 'Europe'],\n",
       "       ['Syria', 'Asia'],\n",
       "       ['Taiwan', 'Asia'],\n",
       "       ['Tajikistan', 'Asia'],\n",
       "       ['Tanzania', 'Africa'],\n",
       "       ['Thailand', 'Asia'],\n",
       "       ['Timor', 'Asia'],\n",
       "       ['Togo', 'Africa'],\n",
       "       ['Trinidad and Tobago', 'North America'],\n",
       "       ['Tunisia', 'Africa'],\n",
       "       ['Turkey', 'Asia'],\n",
       "       ['Turks and Caicos Islands', 'North America'],\n",
       "       ['Uganda', 'Africa'],\n",
       "       ['Ukraine', 'Europe'],\n",
       "       ['United Arab Emirates', 'Asia'],\n",
       "       ['United Kingdom', 'Europe'],\n",
       "       ['United States', 'North America'],\n",
       "       ['United States Virgin Islands', 'North America'],\n",
       "       ['Uruguay', 'South America'],\n",
       "       ['Uzbekistan', 'Asia'],\n",
       "       ['Vatican', 'Europe'],\n",
       "       ['Venezuela', 'South America'],\n",
       "       ['Vietnam', 'Asia'],\n",
       "       ['Western Sahara', 'Africa'],\n",
       "       ['Yemen', 'Asia'],\n",
       "       ['Zambia', 'Africa'],\n",
       "       ['Zimbabwe', 'Africa']], dtype=object)"
      ]
     },
     "execution_count": 100,
     "metadata": {},
     "output_type": "execute_result"
    }
   ],
   "source": [
    "# Group data by 'location' and 'continent' columns\n",
    "df[['location', 'continent']].values\n",
    "#your code"
   ]
  },
  {
   "cell_type": "markdown",
   "id": "3f51da7d",
   "metadata": {},
   "source": [
    "# Practice work - 2 (1.5 point)"
   ]
  },
  {
   "cell_type": "markdown",
   "id": "f4b9bbe5",
   "metadata": {},
   "source": [
    "This labwork provides an introduction to Matplotlib, Seaborn, and Scipy, covering basic plotting, advanced data visualization, and scientific computing tasks."
   ]
  },
  {
   "cell_type": "markdown",
   "id": "616f05f3-d091-4ef0-b5a1-26cd17583903",
   "metadata": {},
   "source": [
    "### Matplotlib"
   ]
  },
  {
   "cell_type": "markdown",
   "id": "fb66f763-9eb5-4e29-b9b0-e9f9d4afa316",
   "metadata": {},
   "source": [
    "In this section, you will learn the basics of Matplotlib, a popular Python library for data visualization. You will create different types of plots and customize them to represent data effectively."
   ]
  },
  {
   "cell_type": "code",
   "execution_count": 1,
   "id": "d0712f99-c9be-48e1-aaff-ec822cfaebc9",
   "metadata": {},
   "outputs": [],
   "source": [
    "import warnings\n",
    "warnings.simplefilter(action='ignore', category=FutureWarning)\n",
    "warnings.simplefilter(action='ignore', category=DeprecationWarning)"
   ]
  },
  {
   "cell_type": "markdown",
   "id": "34d87686",
   "metadata": {},
   "source": [
    "#### Task 1: Creating a Scatter Plot "
   ]
  },
  {
   "cell_type": "markdown",
   "id": "6614c11d-cbb3-4674-889e-d8f434d24ce4",
   "metadata": {},
   "source": [
    "Create two lists, x and y, with random data points.\n",
    "\n",
    "1. Plot x against y as a scatter plot.\n",
    "2. Customize the plot with a green color, dashed line and star marker style.\n",
    "3. Add a title to the plot and label the x and y axes.\n",
    "4. Display the plot."
   ]
  },
  {
   "cell_type": "markdown",
   "id": "f7b39827-8f71-4d05-84f8-d47363018f8d",
   "metadata": {},
   "source": [
    "<img src=\"./task1.jpeg\" \n",
    "     align=\"left\" \n",
    "     width=\"400\" />"
   ]
  },
  {
   "cell_type": "code",
   "execution_count": 26,
   "id": "0f1d134f",
   "metadata": {},
   "outputs": [
    {
     "data": {
      "image/png": "[encoded data removed]",
      "text/plain": [
       "<Figure size 640x480 with 1 Axes>"
      ]
     },
     "metadata": {},
     "output_type": "display_data"
    }
   ],
   "source": [
    "#import libraries\n",
    "import matplotlib.pyplot as plt\n",
    "import random as rd\n",
    "import numpy as np\n",
    "# Generate random data\n",
    "n = rd.randint(5,10)\n",
    "x = np.array([rd.randint(0,100) for i in range(n)])\n",
    "y = np.array([rd.randint(0,100) for i in range(n)])\n",
    "\n",
    "\n",
    "# Create a scatter plot\n",
    "plt.plot(x, y, marker = '*', color = 'green', ls = '--')\n",
    "\n",
    "# Add title and labels\n",
    "plt.xlabel('X - axis')\n",
    "plt.ylabel('Y - axis')\n",
    "plt.title('Scatter Plot')\n",
    "\n",
    "# Display the plot\n",
    "plt.show()\n"
   ]
  },
  {
   "cell_type": "markdown",
   "id": "5a2c9d08-a49d-4728-97c9-3977866be9d2",
   "metadata": {},
   "source": [
    "#### Task 2: Creating a Bar Chart "
   ]
  },
  {
   "cell_type": "markdown",
   "id": "4a2814ac-e059-4519-93e9-118fbcb83f06",
   "metadata": {},
   "source": [
    "Create a list of categories and another list of corresponding values.\n",
    "\n",
    "1. Plot the values as a bar chart with the categories on the x-axis.\n",
    "2. Customize the bar chart with different colors and labels.\n",
    "3. Add a title to the plot and label the x and y axes.\n",
    "4. Display the plot."
   ]
  },
  {
   "cell_type": "code",
   "execution_count": 38,
   "id": "562c1ceb",
   "metadata": {},
   "outputs": [
    {
     "data": {
      "image/png": "[encoded data removed]",
      "text/plain": [
       "<Figure size 640x480 with 1 Axes>"
      ]
     },
     "metadata": {},
     "output_type": "display_data"
    }
   ],
   "source": [
    "# Sample data\n",
    "categories = ['Category A', 'Category B', 'Category C', 'Category D']\n",
    "values = [25, 30, 20, 35]\n",
    "colors = ['blue', 'green', 'red', 'purple', 'yellow', 'grey']\n",
    "# Create a bar chart\n",
    "plt.bar(categories, values, color=colors)\n",
    "# Add title and labels\n",
    "plt.xlabel('X - axis', color = colors[-1])\n",
    "plt.ylabel('Y - axis', color = colors[-2])\n",
    "plt.title('Bar Chart')\n",
    "# Display the plot\n",
    "plt.show()"
   ]
  },
  {
   "cell_type": "markdown",
   "id": "068f133a-bc22-43f4-b808-500e920d97ec",
   "metadata": {},
   "source": [
    "#### Task 3: Creating a Plot "
   ]
  },
  {
   "cell_type": "markdown",
   "id": "0de03553-5f60-41a3-abde-785ff43aa098",
   "metadata": {},
   "source": [
    "Write code so that the result of the graph you create looks like the graph in the image."
   ]
  },
  {
   "cell_type": "markdown",
   "id": "b1590365-bf1c-420f-a414-96c2d80cb938",
   "metadata": {},
   "source": [
    "<img src=\"./task3.jpeg\" \n",
    "     align=\"left\" \n",
    "     width=\"400\" />"
   ]
  },
  {
   "cell_type": "code",
   "execution_count": 51,
   "id": "e027acfb-556d-4155-a8bc-562380679048",
   "metadata": {},
   "outputs": [
    {
     "data": {
      "image/png": "[encoded data removed]",
      "text/plain": [
       "<Figure size 640x480 with 1 Axes>"
      ]
     },
     "metadata": {},
     "output_type": "display_data"
    }
   ],
   "source": [
    "import numpy as np\n",
    "# Compute the x and y coordinates for points on sine and cosine curves\n",
    "r = np.arange(0, 3 * np.pi, 0.1)\n",
    "y_sin = np.sin(r)\n",
    "x_cos = np.cos(r)\n",
    "# Plot the points using matplotlib\n",
    "plt.plot(r, y_sin)\n",
    "plt.plot(r, x_cos)\n",
    "\n",
    "# Add title, legend and labels\n",
    "\n",
    "plt.title('Sine and Cosine')\n",
    "plt.legend(['Sine', 'Cosine'])\n",
    "plt.xlabel('x axis label')\n",
    "plt.ylabel('y axis label')\n",
    "\n",
    "# Display the plot\n",
    "plt.show()"
   ]
  },
  {
   "cell_type": "markdown",
   "id": "5902b4c7-2cf6-4ea1-a39b-3a46189a5985",
   "metadata": {},
   "source": [
    "#### Task 4: Creating a Histogram "
   ]
  },
  {
   "cell_type": "markdown",
   "id": "39f4874b-93ea-47a5-b26f-b61018f36e86",
   "metadata": {},
   "source": [
    "Generate a list of random data points (e.g., using numpy).\n",
    "\n",
    "1. Create a histogram to visualize the distribution of the data.\n",
    "2. Customize the histogram with a different number of bins, color, and alpha value.\n",
    "3. Add a title to the plot and label the x and y axes.\n",
    "4. Display the plot."
   ]
  },
  {
   "cell_type": "code",
   "execution_count": 67,
   "id": "d79e9b9a-b718-431a-ac18-600b9b98912d",
   "metadata": {},
   "outputs": [
    {
     "data": {
      "image/png": "[encoded data removed]",
      "text/plain": [
       "<Figure size 640x480 with 1 Axes>"
      ]
     },
     "metadata": {},
     "output_type": "display_data"
    }
   ],
   "source": [
    "import numpy as np\n",
    "\n",
    "# Generate random data\n",
    "data = np.random.normal(0, 1, 1000)  # 1000 data points with mean 0 and standard deviation 1\n",
    "# Create a histogram\n",
    "\n",
    "plt.hist(data, bins=20, color='blue', alpha=0.3)\n",
    "# Add title and labels\n",
    "plt.xlabel('x axis label', color = 'blue')\n",
    "plt.ylabel('y axis label', color = 'blue')\n",
    "plt.title('Histogram')\n",
    "# Display the plot\n",
    "plt.show()"
   ]
  },
  {
   "cell_type": "markdown",
   "id": "e444e1f2-91e4-435a-b11e-8aecb0233494",
   "metadata": {},
   "source": [
    "#### Task 5: Creating a Pie Chart "
   ]
  },
  {
   "cell_type": "markdown",
   "id": "a627909e-d7d7-4a9e-9238-81516a2397e4",
   "metadata": {},
   "source": [
    "Create a list of labels and another list of corresponding values.\n",
    "\n",
    "1. Plot the values as a pie chart with labels.\n",
    "2. Customize the pie chart with different colors and explode a slice.\n",
    "3. Add a title to the plot.\n",
    "4. Display the plot."
   ]
  },
  {
   "cell_type": "code",
   "execution_count": 96,
   "id": "6f0f7657-4cce-4998-b6ce-303b0cc187fd",
   "metadata": {},
   "outputs": [
    {
     "data": {
      "image/png": "[encoded data removed]",
      "text/plain": [
       "<Figure size 640x480 with 1 Axes>"
      ]
     },
     "metadata": {},
     "output_type": "display_data"
    }
   ],
   "source": [
    "# Sample data\n",
    "labels = ['Category A', 'Category B', 'Category C', 'Category D']\n",
    "sizes = [15, 30, 25, 30]\n",
    "\n",
    "# Explode the first slice\n",
    "my_explode = [0.2,0,0,0]\n",
    "# Create a pie chart\n",
    "plt.pie(sizes, labels = labels, explode = my_explode, autopct='%1.1f%%', shadow=True, startangle=90)\n",
    "# Add title\n",
    "plt.title('a Pie Chart')\n",
    "# Display the plot\n",
    "plt.show()"
   ]
  },
  {
   "cell_type": "markdown",
   "id": "b8929827-7fd1-466c-bf1b-e238cf458ba1",
   "metadata": {},
   "source": [
    "### SciPy (bonus)"
   ]
  },
  {
   "cell_type": "markdown",
   "id": "7f969117-2ba0-46d6-a059-826bf4ecb62b",
   "metadata": {},
   "source": [
    "#### Task 11: Calculate Descriptive Statistics"
   ]
  },
  {
   "cell_type": "markdown",
   "id": "ee00ab4e-6e8b-4cc1-a943-036f5665d589",
   "metadata": {},
   "source": [
    "Given a dataset of exam scores, calculate the mean, mode, median, standard deviation scores using scipy.stats."
   ]
  },
  {
   "cell_type": "code",
   "execution_count": 13,
   "id": "80500aa2-7ed2-4241-b1c4-ec2422d3b196",
   "metadata": {},
   "outputs": [
    {
     "name": "stdout",
     "output_type": "stream",
     "text": [
      "Mean - 87.2\n",
      "Moda - 92\n",
      "Median - 88.5\n",
      "std_dev - 5.7758116312774614\n"
     ]
    },
    {
     "name": "stderr",
     "output_type": "stream",
     "text": [
      "C:\\Users\\anuar\\AppData\\Local\\Temp\\ipykernel_16972\\957187845.py:8: FutureWarning: Unlike other reduction functions (e.g. `skew`, `kurtosis`), the default behavior of `mode` typically preserves the axis it acts along. In SciPy 1.11.0, this behavior will change: the default value of `keepdims` will become False, the `axis` over which the statistic is taken will be eliminated, and the value None will no longer be accepted. Set `keepdims` to True or False to avoid this warning.\n",
      "  moda = stats.mode(scores).mode[0]\n"
     ]
    }
   ],
   "source": [
    "#import libraries\n",
    "from scipy import stats \n",
    "# Sample data (exam scores)\n",
    "scores = [85, 92, 78, 90, 88, 76, 95, 89, 92, 87]\n",
    "# # Calculate mean, median, mode, standard deviation\n",
    "mean = sum(scores) / len(scores)\n",
    "\n",
    "moda = stats.mode(scores).mode[0]\n",
    "\n",
    "sorted_scores = sorted(scores)\n",
    "n = len(sorted_scores)\n",
    "if n % 2 == 0:\n",
    "    median = (sorted_scores[n // 2 - 1] + sorted_scores[n // 2]) / 2\n",
    "else:\n",
    "    median = sorted_scores[n // 2]\n",
    "\n",
    "mean_difference_squared = [(x - mean) ** 2 for x in scores]\n",
    "variance = sum(mean_difference_squared) / len(scores)\n",
    "std_dev = variance ** 0.5\n",
    "\n",
    "print(f'Mean - {mean}')\n",
    "print(f'Moda - {moda}')\n",
    "print(f'Median - {median}')\n",
    "print(f'std_dev - {std_dev}')\n",
    "#print scores\n"
   ]
  },
  {
   "cell_type": "markdown",
   "id": "c27029d4-f1fe-4d9d-87da-787d25c1e00a",
   "metadata": {},
   "source": [
    "#### Task 12: Print Normal Random Variables "
   ]
  },
  {
   "cell_type": "markdown",
   "id": "da400d71-0b67-4da1-ab35-466c9d4214a1",
   "metadata": {},
   "source": [
    "Print a list of random variables of size 20 using scipy.stats."
   ]
  },
  {
   "cell_type": "code",
   "execution_count": 19,
   "id": "8d542708-0456-4bcd-890c-d2010fb40528",
   "metadata": {},
   "outputs": [
    {
     "name": "stdout",
     "output_type": "stream",
     "text": [
      "[146.73691265 119.3800489   17.92030282  37.73193823  67.3157593\n",
      " 149.7011046  185.90786027  83.08036874  59.09710181 182.79654447\n",
      "  28.98905147 115.47781355 173.44304147  99.47651047  49.55084225\n",
      "  11.40041135  56.29954993  35.25232734 135.14364109 105.51298185]\n"
     ]
    }
   ],
   "source": [
    "# Print Normal Random Variable list\n",
    "from scipy.stats import norm\n",
    "import random \n",
    "\n",
    "random_variables = norm.rvs(loc=random.randint(0,100), scale=random.randint(0,100), size=20)\n",
    "\n",
    "print(random_variables)\n"
   ]
  },
  {
   "cell_type": "code",
   "execution_count": 1,
   "id": "57fca7fb",
   "metadata": {},
   "outputs": [
    {
     "ename": "SyntaxError",
     "evalue": "invalid syntax (3836728859.py, line 3)",
     "output_type": "error",
     "traceback": [
      "\u001b[1;36m  Cell \u001b[1;32mIn[1], line 3\u001b[1;36m\u001b[0m\n\u001b[1;33m    This labwork provides an introduction to Matplotlib, Seaborn, and Scipy, covering basic plotting, advanced data visualization, and scientific computing tasks.\u001b[0m\n\u001b[1;37m         ^\u001b[0m\n\u001b[1;31mSyntaxError\u001b[0m\u001b[1;31m:\u001b[0m invalid syntax\n"
     ]
    }
   ],
   "source": []
  },
  {
   "cell_type": "markdown",
   "id": "2a40831d",
   "metadata": {
    "colab_type": "text",
    "id": "nA06qD27mcwM"
   },
   "source": [
    "## How to select dataframe subsets from multivariate data"
   ]
  },
  {
   "cell_type": "code",
   "execution_count": 106,
   "id": "68442a3b",
   "metadata": {
    "colab": {},
    "colab_type": "code",
    "id": "Xcir3sFcmcwN"
   },
   "outputs": [],
   "source": [
    "import numpy as np\n",
    "import pandas as pd\n",
    "pd.set_option('display.max_columns', 100) # Show all columns when looking at dataframe"
   ]
  },
  {
   "cell_type": "code",
   "execution_count": 107,
   "id": "27a9f3e3",
   "metadata": {
    "colab": {},
    "colab_type": "code",
    "id": "3bqkbFQNmcwR"
   },
   "outputs": [],
   "source": [
    "# Download NHANES 2015-2016 data\n",
    "df = pd.read_csv(\"nhanes_2015_2016.csv\")"
   ]
  },
  {
   "cell_type": "code",
   "execution_count": 108,
   "id": "f78d1d9c",
   "metadata": {
    "colab": {},
    "colab_type": "code",
    "id": "35UcGlLHmcwV"
   },
   "outputs": [
    {
     "data": {
      "text/html": [
       "<div>\n",
       "<style scoped>\n",
       "    .dataframe tbody tr th:only-of-type {\n",
       "        vertical-align: middle;\n",
       "    }\n",
       "\n",
       "    .dataframe tbody tr th {\n",
       "        vertical-align: top;\n",
       "    }\n",
       "\n",
       "    .dataframe thead th {\n",
       "        text-align: right;\n",
       "    }\n",
       "</style>\n",
       "<table border=\"1\" class=\"dataframe\">\n",
       "  <thead>\n",
       "    <tr style=\"text-align: right;\">\n",
       "      <th></th>\n",
       "      <th>SEQN</th>\n",
       "      <th>ALQ101</th>\n",
       "      <th>ALQ110</th>\n",
       "      <th>ALQ130</th>\n",
       "      <th>SMQ020</th>\n",
       "      <th>RIAGENDR</th>\n",
       "      <th>RIDAGEYR</th>\n",
       "      <th>RIDRETH1</th>\n",
       "      <th>DMDCITZN</th>\n",
       "      <th>DMDEDUC2</th>\n",
       "      <th>DMDMARTL</th>\n",
       "      <th>DMDHHSIZ</th>\n",
       "      <th>WTINT2YR</th>\n",
       "      <th>SDMVPSU</th>\n",
       "      <th>SDMVSTRA</th>\n",
       "      <th>INDFMPIR</th>\n",
       "      <th>BPXSY1</th>\n",
       "      <th>BPXDI1</th>\n",
       "      <th>BPXSY2</th>\n",
       "      <th>BPXDI2</th>\n",
       "      <th>BMXWT</th>\n",
       "      <th>BMXHT</th>\n",
       "      <th>BMXBMI</th>\n",
       "      <th>BMXLEG</th>\n",
       "      <th>BMXARML</th>\n",
       "      <th>BMXARMC</th>\n",
       "      <th>BMXWAIST</th>\n",
       "      <th>HIQ210</th>\n",
       "    </tr>\n",
       "  </thead>\n",
       "  <tbody>\n",
       "    <tr>\n",
       "      <th>0</th>\n",
       "      <td>83732</td>\n",
       "      <td>1.0</td>\n",
       "      <td>NaN</td>\n",
       "      <td>1.0</td>\n",
       "      <td>1</td>\n",
       "      <td>1</td>\n",
       "      <td>62</td>\n",
       "      <td>3</td>\n",
       "      <td>1.0</td>\n",
       "      <td>5.0</td>\n",
       "      <td>1.0</td>\n",
       "      <td>2</td>\n",
       "      <td>134671.37</td>\n",
       "      <td>1</td>\n",
       "      <td>125</td>\n",
       "      <td>4.39</td>\n",
       "      <td>128.0</td>\n",
       "      <td>70.0</td>\n",
       "      <td>124.0</td>\n",
       "      <td>64.0</td>\n",
       "      <td>94.8</td>\n",
       "      <td>184.5</td>\n",
       "      <td>27.8</td>\n",
       "      <td>43.3</td>\n",
       "      <td>43.6</td>\n",
       "      <td>35.9</td>\n",
       "      <td>101.1</td>\n",
       "      <td>2.0</td>\n",
       "    </tr>\n",
       "  </tbody>\n",
       "</table>\n",
       "</div>"
      ],
      "text/plain": [
       "    SEQN  ALQ101  ALQ110  ALQ130  SMQ020  RIAGENDR  RIDAGEYR  RIDRETH1  \\\n",
       "0  83732     1.0     NaN     1.0       1         1        62         3   \n",
       "\n",
       "   DMDCITZN  DMDEDUC2  DMDMARTL  DMDHHSIZ   WTINT2YR  SDMVPSU  SDMVSTRA  \\\n",
       "0       1.0       5.0       1.0         2  134671.37        1       125   \n",
       "\n",
       "   INDFMPIR  BPXSY1  BPXDI1  BPXSY2  BPXDI2  BMXWT  BMXHT  BMXBMI  BMXLEG  \\\n",
       "0      4.39   128.0    70.0   124.0    64.0   94.8  184.5    27.8    43.3   \n",
       "\n",
       "   BMXARML  BMXARMC  BMXWAIST  HIQ210  \n",
       "0     43.6     35.9     101.1     2.0  "
      ]
     },
     "execution_count": 108,
     "metadata": {},
     "output_type": "execute_result"
    }
   ],
   "source": [
    "df.head(1)"
   ]
  },
  {
   "cell_type": "markdown",
   "id": "62dc570a",
   "metadata": {
    "colab_type": "text",
    "id": "iaWM5HAlmcwY"
   },
   "source": [
    "### Keep only body measures columns, so only columns with \"BMX\" in the name"
   ]
  },
  {
   "cell_type": "code",
   "execution_count": 109,
   "id": "97d57c8e",
   "metadata": {
    "colab": {},
    "colab_type": "code",
    "id": "U1RFm9g5mcwZ"
   },
   "outputs": [
    {
     "data": {
      "text/plain": [
       "Index(['SEQN', 'ALQ101', 'ALQ110', 'ALQ130', 'SMQ020', 'RIAGENDR', 'RIDAGEYR',\n",
       "       'RIDRETH1', 'DMDCITZN', 'DMDEDUC2', 'DMDMARTL', 'DMDHHSIZ', 'WTINT2YR',\n",
       "       'SDMVPSU', 'SDMVSTRA', 'INDFMPIR', 'BPXSY1', 'BPXDI1', 'BPXSY2',\n",
       "       'BPXDI2', 'BMXWT', 'BMXHT', 'BMXBMI', 'BMXLEG', 'BMXARML', 'BMXARMC',\n",
       "       'BMXWAIST', 'HIQ210'],\n",
       "      dtype='object')"
      ]
     },
     "execution_count": 109,
     "metadata": {},
     "output_type": "execute_result"
    }
   ],
   "source": [
    "# get columns names\n",
    "col_names = df.columns\n",
    "col_names"
   ]
  },
  {
   "cell_type": "code",
   "execution_count": 110,
   "id": "6ab0a378",
   "metadata": {
    "colab": {},
    "colab_type": "code",
    "id": "ALi9_6dTmcwb"
   },
   "outputs": [],
   "source": [
    "# One way to get the column names we want to keep is simply by copying from the above output and storing in a list\n",
    "keep = ['BMXWT', 'BMXHT', 'BMXBMI', 'BMXLEG', 'BMXARML', 'BMXARMC',\n",
    "       'BMXWAIST']"
   ]
  },
  {
   "cell_type": "code",
   "execution_count": 111,
   "id": "c002e31b",
   "metadata": {
    "colab": {},
    "colab_type": "code",
    "id": "Yo1-ZFvcmcwe"
   },
   "outputs": [
    {
     "data": {
      "text/plain": [
       "['BMXWT', 'BMXHT', 'BMXBMI', 'BMXLEG', 'BMXARML', 'BMXARMC', 'BMXWAIST']"
      ]
     },
     "execution_count": 111,
     "metadata": {},
     "output_type": "execute_result"
    }
   ],
   "source": [
    "# Another way to get only column names that include 'BMX' is with list comprehension\n",
    "# [keep x for x in list if condition met]\n",
    "[column for column in col_names if 'BMX' in column]"
   ]
  },
  {
   "cell_type": "code",
   "execution_count": 112,
   "id": "4c5114e6",
   "metadata": {
    "colab": {},
    "colab_type": "code",
    "id": "fDzH5zDwmcwh"
   },
   "outputs": [],
   "source": [
    "keep = [column for column in col_names if 'BMX' in column]"
   ]
  },
  {
   "cell_type": "code",
   "execution_count": 113,
   "id": "45e6e491",
   "metadata": {
    "colab": {},
    "colab_type": "code",
    "id": "1jLmtt4fmcwj"
   },
   "outputs": [],
   "source": [
    "# use [] notation to keep columns\n",
    "df_BMX = df[keep]"
   ]
  },
  {
   "cell_type": "code",
   "execution_count": 114,
   "id": "bc95cf8e",
   "metadata": {
    "colab": {},
    "colab_type": "code",
    "id": "QYv6Qbzimcwn"
   },
   "outputs": [
    {
     "data": {
      "text/html": [
       "<div>\n",
       "<style scoped>\n",
       "    .dataframe tbody tr th:only-of-type {\n",
       "        vertical-align: middle;\n",
       "    }\n",
       "\n",
       "    .dataframe tbody tr th {\n",
       "        vertical-align: top;\n",
       "    }\n",
       "\n",
       "    .dataframe thead th {\n",
       "        text-align: right;\n",
       "    }\n",
       "</style>\n",
       "<table border=\"1\" class=\"dataframe\">\n",
       "  <thead>\n",
       "    <tr style=\"text-align: right;\">\n",
       "      <th></th>\n",
       "      <th>BMXWT</th>\n",
       "      <th>BMXHT</th>\n",
       "      <th>BMXBMI</th>\n",
       "      <th>BMXLEG</th>\n",
       "      <th>BMXARML</th>\n",
       "      <th>BMXARMC</th>\n",
       "      <th>BMXWAIST</th>\n",
       "    </tr>\n",
       "  </thead>\n",
       "  <tbody>\n",
       "    <tr>\n",
       "      <th>0</th>\n",
       "      <td>94.8</td>\n",
       "      <td>184.5</td>\n",
       "      <td>27.8</td>\n",
       "      <td>43.3</td>\n",
       "      <td>43.6</td>\n",
       "      <td>35.9</td>\n",
       "      <td>101.1</td>\n",
       "    </tr>\n",
       "    <tr>\n",
       "      <th>1</th>\n",
       "      <td>90.4</td>\n",
       "      <td>171.4</td>\n",
       "      <td>30.8</td>\n",
       "      <td>38.0</td>\n",
       "      <td>40.0</td>\n",
       "      <td>33.2</td>\n",
       "      <td>107.9</td>\n",
       "    </tr>\n",
       "    <tr>\n",
       "      <th>2</th>\n",
       "      <td>83.4</td>\n",
       "      <td>170.1</td>\n",
       "      <td>28.8</td>\n",
       "      <td>35.6</td>\n",
       "      <td>37.0</td>\n",
       "      <td>31.0</td>\n",
       "      <td>116.5</td>\n",
       "    </tr>\n",
       "    <tr>\n",
       "      <th>3</th>\n",
       "      <td>109.8</td>\n",
       "      <td>160.9</td>\n",
       "      <td>42.4</td>\n",
       "      <td>38.5</td>\n",
       "      <td>37.7</td>\n",
       "      <td>38.3</td>\n",
       "      <td>110.1</td>\n",
       "    </tr>\n",
       "    <tr>\n",
       "      <th>4</th>\n",
       "      <td>55.2</td>\n",
       "      <td>164.9</td>\n",
       "      <td>20.3</td>\n",
       "      <td>37.4</td>\n",
       "      <td>36.0</td>\n",
       "      <td>27.2</td>\n",
       "      <td>80.4</td>\n",
       "    </tr>\n",
       "  </tbody>\n",
       "</table>\n",
       "</div>"
      ],
      "text/plain": [
       "   BMXWT  BMXHT  BMXBMI  BMXLEG  BMXARML  BMXARMC  BMXWAIST\n",
       "0   94.8  184.5    27.8    43.3     43.6     35.9     101.1\n",
       "1   90.4  171.4    30.8    38.0     40.0     33.2     107.9\n",
       "2   83.4  170.1    28.8    35.6     37.0     31.0     116.5\n",
       "3  109.8  160.9    42.4    38.5     37.7     38.3     110.1\n",
       "4   55.2  164.9    20.3    37.4     36.0     27.2      80.4"
      ]
     },
     "execution_count": 114,
     "metadata": {},
     "output_type": "execute_result"
    }
   ],
   "source": [
    "df_BMX.head()"
   ]
  },
  {
   "cell_type": "markdown",
   "id": "eb6dec87",
   "metadata": {
    "colab_type": "text",
    "id": "TDHmQ_YVmcwr"
   },
   "source": [
    "There are two methods for selecting by row and column. \n",
    "# link for pandas cheat sheets\n",
    "* df.loc[row labels or bool, col labels or bool]\n",
    "* df.iloc[row int or bool, col int or bool]"
   ]
  },
  {
   "cell_type": "markdown",
   "id": "c0e908e1",
   "metadata": {
    "colab_type": "text",
    "id": "TDHmQ_YVmcwr"
   },
   "source": [
    "There are two methods for selecting by row and column. \n",
    "# link for pandas cheat sheets\n",
    "* df.loc[row labels or bool, col labels or bool]\n",
    "* df.iloc[row int or bool, col int or bool]"
   ]
  },
  {
   "cell_type": "markdown",
   "id": "1c76551c",
   "metadata": {
    "colab_type": "text",
    "id": "TDHmQ_YVmcwr"
   },
   "source": [
    "There are two methods for selecting by row and column. \n",
    "# link for pandas cheat sheets\n",
    "* df.loc[row labels or bool, col labels or bool]\n",
    "* df.iloc[row int or bool, col int or bool]"
   ]
  },
  {
   "cell_type": "markdown",
   "id": "182847d9",
   "metadata": {
    "colab_type": "text",
    "id": "bmgBtWvnmcws"
   },
   "source": [
    "### [From pandas docs](https://pandas.pydata.org/pandas-docs/stable/indexing.html]):  \n",
    "* [ ] column indexing\n",
    "* .loc is primarily label based, but may also be used with a boolean array.   \n",
    "* .iloc is primarily integer position based (from 0 to length-1 of the axis), but may also be used with a boolean array."
   ]
  },
  {
   "cell_type": "code",
   "execution_count": 115,
   "id": "ec3be7b0",
   "metadata": {
    "colab": {},
    "colab_type": "code",
    "id": "6ONAajAOmcws"
   },
   "outputs": [
    {
     "data": {
      "text/html": [
       "<div>\n",
       "<style scoped>\n",
       "    .dataframe tbody tr th:only-of-type {\n",
       "        vertical-align: middle;\n",
       "    }\n",
       "\n",
       "    .dataframe tbody tr th {\n",
       "        vertical-align: top;\n",
       "    }\n",
       "\n",
       "    .dataframe thead th {\n",
       "        text-align: right;\n",
       "    }\n",
       "</style>\n",
       "<table border=\"1\" class=\"dataframe\">\n",
       "  <thead>\n",
       "    <tr style=\"text-align: right;\">\n",
       "      <th></th>\n",
       "      <th>BMXWT</th>\n",
       "      <th>BMXHT</th>\n",
       "      <th>BMXBMI</th>\n",
       "      <th>BMXLEG</th>\n",
       "      <th>BMXARML</th>\n",
       "      <th>BMXARMC</th>\n",
       "      <th>BMXWAIST</th>\n",
       "    </tr>\n",
       "  </thead>\n",
       "  <tbody>\n",
       "    <tr>\n",
       "      <th>0</th>\n",
       "      <td>94.8</td>\n",
       "      <td>184.5</td>\n",
       "      <td>27.8</td>\n",
       "      <td>43.3</td>\n",
       "      <td>43.6</td>\n",
       "      <td>35.9</td>\n",
       "      <td>101.1</td>\n",
       "    </tr>\n",
       "    <tr>\n",
       "      <th>1</th>\n",
       "      <td>90.4</td>\n",
       "      <td>171.4</td>\n",
       "      <td>30.8</td>\n",
       "      <td>38.0</td>\n",
       "      <td>40.0</td>\n",
       "      <td>33.2</td>\n",
       "      <td>107.9</td>\n",
       "    </tr>\n",
       "    <tr>\n",
       "      <th>2</th>\n",
       "      <td>83.4</td>\n",
       "      <td>170.1</td>\n",
       "      <td>28.8</td>\n",
       "      <td>35.6</td>\n",
       "      <td>37.0</td>\n",
       "      <td>31.0</td>\n",
       "      <td>116.5</td>\n",
       "    </tr>\n",
       "    <tr>\n",
       "      <th>3</th>\n",
       "      <td>109.8</td>\n",
       "      <td>160.9</td>\n",
       "      <td>42.4</td>\n",
       "      <td>38.5</td>\n",
       "      <td>37.7</td>\n",
       "      <td>38.3</td>\n",
       "      <td>110.1</td>\n",
       "    </tr>\n",
       "    <tr>\n",
       "      <th>4</th>\n",
       "      <td>55.2</td>\n",
       "      <td>164.9</td>\n",
       "      <td>20.3</td>\n",
       "      <td>37.4</td>\n",
       "      <td>36.0</td>\n",
       "      <td>27.2</td>\n",
       "      <td>80.4</td>\n",
       "    </tr>\n",
       "  </tbody>\n",
       "</table>\n",
       "</div>"
      ],
      "text/plain": [
       "   BMXWT  BMXHT  BMXBMI  BMXLEG  BMXARML  BMXARMC  BMXWAIST\n",
       "0   94.8  184.5    27.8    43.3     43.6     35.9     101.1\n",
       "1   90.4  171.4    30.8    38.0     40.0     33.2     107.9\n",
       "2   83.4  170.1    28.8    35.6     37.0     31.0     116.5\n",
       "3  109.8  160.9    42.4    38.5     37.7     38.3     110.1\n",
       "4   55.2  164.9    20.3    37.4     36.0     27.2      80.4"
      ]
     },
     "execution_count": 115,
     "metadata": {},
     "output_type": "execute_result"
    }
   ],
   "source": [
    "df.loc[:, keep].head()"
   ]
  },
  {
   "cell_type": "code",
   "execution_count": 116,
   "id": "94957041",
   "metadata": {
    "colab": {},
    "colab_type": "code",
    "id": "sjwUOKz3mcwv"
   },
   "outputs": [],
   "source": [
    "index_bool = np.isin(df.columns, keep)"
   ]
  },
  {
   "cell_type": "code",
   "execution_count": 117,
   "id": "a5cdc927",
   "metadata": {
    "colab": {},
    "colab_type": "code",
    "id": "AU4Wp9cNmcwx"
   },
   "outputs": [
    {
     "data": {
      "text/plain": [
       "array([False, False, False, False, False, False, False, False, False,\n",
       "       False, False, False, False, False, False, False, False, False,\n",
       "       False, False,  True,  True,  True,  True,  True,  True,  True,\n",
       "       False])"
      ]
     },
     "execution_count": 117,
     "metadata": {},
     "output_type": "execute_result"
    }
   ],
   "source": [
    "index_bool "
   ]
  },
  {
   "cell_type": "code",
   "execution_count": 118,
   "id": "82951d5d",
   "metadata": {
    "colab": {},
    "colab_type": "code",
    "id": "gtwY8Rl1mcw2"
   },
   "outputs": [
    {
     "data": {
      "text/html": [
       "<div>\n",
       "<style scoped>\n",
       "    .dataframe tbody tr th:only-of-type {\n",
       "        vertical-align: middle;\n",
       "    }\n",
       "\n",
       "    .dataframe tbody tr th {\n",
       "        vertical-align: top;\n",
       "    }\n",
       "\n",
       "    .dataframe thead th {\n",
       "        text-align: right;\n",
       "    }\n",
       "</style>\n",
       "<table border=\"1\" class=\"dataframe\">\n",
       "  <thead>\n",
       "    <tr style=\"text-align: right;\">\n",
       "      <th></th>\n",
       "      <th>BMXWT</th>\n",
       "      <th>BMXHT</th>\n",
       "      <th>BMXBMI</th>\n",
       "      <th>BMXLEG</th>\n",
       "      <th>BMXARML</th>\n",
       "      <th>BMXARMC</th>\n",
       "      <th>BMXWAIST</th>\n",
       "    </tr>\n",
       "  </thead>\n",
       "  <tbody>\n",
       "    <tr>\n",
       "      <th>0</th>\n",
       "      <td>94.8</td>\n",
       "      <td>184.5</td>\n",
       "      <td>27.8</td>\n",
       "      <td>43.3</td>\n",
       "      <td>43.6</td>\n",
       "      <td>35.9</td>\n",
       "      <td>101.1</td>\n",
       "    </tr>\n",
       "    <tr>\n",
       "      <th>1</th>\n",
       "      <td>90.4</td>\n",
       "      <td>171.4</td>\n",
       "      <td>30.8</td>\n",
       "      <td>38.0</td>\n",
       "      <td>40.0</td>\n",
       "      <td>33.2</td>\n",
       "      <td>107.9</td>\n",
       "    </tr>\n",
       "    <tr>\n",
       "      <th>2</th>\n",
       "      <td>83.4</td>\n",
       "      <td>170.1</td>\n",
       "      <td>28.8</td>\n",
       "      <td>35.6</td>\n",
       "      <td>37.0</td>\n",
       "      <td>31.0</td>\n",
       "      <td>116.5</td>\n",
       "    </tr>\n",
       "    <tr>\n",
       "      <th>3</th>\n",
       "      <td>109.8</td>\n",
       "      <td>160.9</td>\n",
       "      <td>42.4</td>\n",
       "      <td>38.5</td>\n",
       "      <td>37.7</td>\n",
       "      <td>38.3</td>\n",
       "      <td>110.1</td>\n",
       "    </tr>\n",
       "    <tr>\n",
       "      <th>4</th>\n",
       "      <td>55.2</td>\n",
       "      <td>164.9</td>\n",
       "      <td>20.3</td>\n",
       "      <td>37.4</td>\n",
       "      <td>36.0</td>\n",
       "      <td>27.2</td>\n",
       "      <td>80.4</td>\n",
       "    </tr>\n",
       "  </tbody>\n",
       "</table>\n",
       "</div>"
      ],
      "text/plain": [
       "   BMXWT  BMXHT  BMXBMI  BMXLEG  BMXARML  BMXARMC  BMXWAIST\n",
       "0   94.8  184.5    27.8    43.3     43.6     35.9     101.1\n",
       "1   90.4  171.4    30.8    38.0     40.0     33.2     107.9\n",
       "2   83.4  170.1    28.8    35.6     37.0     31.0     116.5\n",
       "3  109.8  160.9    42.4    38.5     37.7     38.3     110.1\n",
       "4   55.2  164.9    20.3    37.4     36.0     27.2      80.4"
      ]
     },
     "execution_count": 118,
     "metadata": {},
     "output_type": "execute_result"
    }
   ],
   "source": [
    "df.iloc[:,index_bool].head() # Indexing with boolean list"
   ]
  },
  {
   "cell_type": "markdown",
   "id": "690c4a5a",
   "metadata": {
    "colab_type": "text",
    "id": "zvju43u7mcw5"
   },
   "source": [
    "### Selection by conditions"
   ]
  },
  {
   "cell_type": "code",
   "execution_count": 119,
   "id": "c0a30560",
   "metadata": {
    "colab": {},
    "colab_type": "code",
    "id": "MBvQTHn5mcw5"
   },
   "outputs": [],
   "source": [
    "# Lets only look at rows who 'BMXWAIST' is larger than the median\n",
    "waist_median = pd.Series.median(df_BMX['BMXWAIST']) # get the median of 'BMXWAIST'"
   ]
  },
  {
   "cell_type": "code",
   "execution_count": 120,
   "id": "93094160",
   "metadata": {
    "colab": {},
    "colab_type": "code",
    "id": "b2m-lke1mcw8"
   },
   "outputs": [
    {
     "data": {
      "text/plain": [
       "98.3"
      ]
     },
     "execution_count": 120,
     "metadata": {},
     "output_type": "execute_result"
    }
   ],
   "source": [
    "waist_median"
   ]
  },
  {
   "cell_type": "code",
   "execution_count": 121,
   "id": "7851f630",
   "metadata": {
    "colab": {},
    "colab_type": "code",
    "id": "bNdQvxRcmcw-"
   },
   "outputs": [
    {
     "data": {
      "text/html": [
       "<div>\n",
       "<style scoped>\n",
       "    .dataframe tbody tr th:only-of-type {\n",
       "        vertical-align: middle;\n",
       "    }\n",
       "\n",
       "    .dataframe tbody tr th {\n",
       "        vertical-align: top;\n",
       "    }\n",
       "\n",
       "    .dataframe thead th {\n",
       "        text-align: right;\n",
       "    }\n",
       "</style>\n",
       "<table border=\"1\" class=\"dataframe\">\n",
       "  <thead>\n",
       "    <tr style=\"text-align: right;\">\n",
       "      <th></th>\n",
       "      <th>BMXWT</th>\n",
       "      <th>BMXHT</th>\n",
       "      <th>BMXBMI</th>\n",
       "      <th>BMXLEG</th>\n",
       "      <th>BMXARML</th>\n",
       "      <th>BMXARMC</th>\n",
       "      <th>BMXWAIST</th>\n",
       "    </tr>\n",
       "  </thead>\n",
       "  <tbody>\n",
       "    <tr>\n",
       "      <th>0</th>\n",
       "      <td>94.8</td>\n",
       "      <td>184.5</td>\n",
       "      <td>27.8</td>\n",
       "      <td>43.3</td>\n",
       "      <td>43.6</td>\n",
       "      <td>35.9</td>\n",
       "      <td>101.1</td>\n",
       "    </tr>\n",
       "    <tr>\n",
       "      <th>1</th>\n",
       "      <td>90.4</td>\n",
       "      <td>171.4</td>\n",
       "      <td>30.8</td>\n",
       "      <td>38.0</td>\n",
       "      <td>40.0</td>\n",
       "      <td>33.2</td>\n",
       "      <td>107.9</td>\n",
       "    </tr>\n",
       "    <tr>\n",
       "      <th>2</th>\n",
       "      <td>83.4</td>\n",
       "      <td>170.1</td>\n",
       "      <td>28.8</td>\n",
       "      <td>35.6</td>\n",
       "      <td>37.0</td>\n",
       "      <td>31.0</td>\n",
       "      <td>116.5</td>\n",
       "    </tr>\n",
       "    <tr>\n",
       "      <th>3</th>\n",
       "      <td>109.8</td>\n",
       "      <td>160.9</td>\n",
       "      <td>42.4</td>\n",
       "      <td>38.5</td>\n",
       "      <td>37.7</td>\n",
       "      <td>38.3</td>\n",
       "      <td>110.1</td>\n",
       "    </tr>\n",
       "    <tr>\n",
       "      <th>9</th>\n",
       "      <td>108.3</td>\n",
       "      <td>179.4</td>\n",
       "      <td>33.6</td>\n",
       "      <td>46.0</td>\n",
       "      <td>44.1</td>\n",
       "      <td>38.5</td>\n",
       "      <td>116.0</td>\n",
       "    </tr>\n",
       "  </tbody>\n",
       "</table>\n",
       "</div>"
      ],
      "text/plain": [
       "   BMXWT  BMXHT  BMXBMI  BMXLEG  BMXARML  BMXARMC  BMXWAIST\n",
       "0   94.8  184.5    27.8    43.3     43.6     35.9     101.1\n",
       "1   90.4  171.4    30.8    38.0     40.0     33.2     107.9\n",
       "2   83.4  170.1    28.8    35.6     37.0     31.0     116.5\n",
       "3  109.8  160.9    42.4    38.5     37.7     38.3     110.1\n",
       "9  108.3  179.4    33.6    46.0     44.1     38.5     116.0"
      ]
     },
     "execution_count": 121,
     "metadata": {},
     "output_type": "execute_result"
    }
   ],
   "source": [
    "df_BMX[df_BMX['BMXWAIST'] > waist_median].head()"
   ]
  },
  {
   "cell_type": "code",
   "execution_count": 122,
   "id": "61ace9cc",
   "metadata": {
    "colab": {},
    "colab_type": "code",
    "id": "Z1h6cnwKmcxB"
   },
   "outputs": [
    {
     "data": {
      "text/html": [
       "<div>\n",
       "<style scoped>\n",
       "    .dataframe tbody tr th:only-of-type {\n",
       "        vertical-align: middle;\n",
       "    }\n",
       "\n",
       "    .dataframe tbody tr th {\n",
       "        vertical-align: top;\n",
       "    }\n",
       "\n",
       "    .dataframe thead th {\n",
       "        text-align: right;\n",
       "    }\n",
       "</style>\n",
       "<table border=\"1\" class=\"dataframe\">\n",
       "  <thead>\n",
       "    <tr style=\"text-align: right;\">\n",
       "      <th></th>\n",
       "      <th>BMXWT</th>\n",
       "      <th>BMXHT</th>\n",
       "      <th>BMXBMI</th>\n",
       "      <th>BMXLEG</th>\n",
       "      <th>BMXARML</th>\n",
       "      <th>BMXARMC</th>\n",
       "      <th>BMXWAIST</th>\n",
       "    </tr>\n",
       "  </thead>\n",
       "  <tbody>\n",
       "    <tr>\n",
       "      <th>15</th>\n",
       "      <td>80.5</td>\n",
       "      <td>150.8</td>\n",
       "      <td>35.4</td>\n",
       "      <td>31.6</td>\n",
       "      <td>32.7</td>\n",
       "      <td>33.7</td>\n",
       "      <td>113.5</td>\n",
       "    </tr>\n",
       "    <tr>\n",
       "      <th>27</th>\n",
       "      <td>75.6</td>\n",
       "      <td>145.2</td>\n",
       "      <td>35.9</td>\n",
       "      <td>31.0</td>\n",
       "      <td>33.1</td>\n",
       "      <td>36.0</td>\n",
       "      <td>108.0</td>\n",
       "    </tr>\n",
       "    <tr>\n",
       "      <th>39</th>\n",
       "      <td>63.7</td>\n",
       "      <td>147.9</td>\n",
       "      <td>29.1</td>\n",
       "      <td>26.0</td>\n",
       "      <td>34.0</td>\n",
       "      <td>31.5</td>\n",
       "      <td>110.0</td>\n",
       "    </tr>\n",
       "    <tr>\n",
       "      <th>52</th>\n",
       "      <td>105.9</td>\n",
       "      <td>157.7</td>\n",
       "      <td>42.6</td>\n",
       "      <td>29.2</td>\n",
       "      <td>35.0</td>\n",
       "      <td>40.7</td>\n",
       "      <td>129.1</td>\n",
       "    </tr>\n",
       "    <tr>\n",
       "      <th>55</th>\n",
       "      <td>77.5</td>\n",
       "      <td>148.3</td>\n",
       "      <td>35.2</td>\n",
       "      <td>30.5</td>\n",
       "      <td>34.0</td>\n",
       "      <td>34.4</td>\n",
       "      <td>107.6</td>\n",
       "    </tr>\n",
       "  </tbody>\n",
       "</table>\n",
       "</div>"
      ],
      "text/plain": [
       "    BMXWT  BMXHT  BMXBMI  BMXLEG  BMXARML  BMXARMC  BMXWAIST\n",
       "15   80.5  150.8    35.4    31.6     32.7     33.7     113.5\n",
       "27   75.6  145.2    35.9    31.0     33.1     36.0     108.0\n",
       "39   63.7  147.9    29.1    26.0     34.0     31.5     110.0\n",
       "52  105.9  157.7    42.6    29.2     35.0     40.7     129.1\n",
       "55   77.5  148.3    35.2    30.5     34.0     34.4     107.6"
      ]
     },
     "execution_count": 122,
     "metadata": {},
     "output_type": "execute_result"
    }
   ],
   "source": [
    "# Lets add another condition, that 'BMXLEG' must be less than 32\n",
    "condition1 = df_BMX['BMXWAIST'] > waist_median\n",
    "condition2 = df_BMX['BMXLEG'] < 32\n",
    "df_BMX[condition1 & condition2].head() # Using [] method\n",
    "# Note: can't use 'and' instead of '&'"
   ]
  },
  {
   "cell_type": "code",
   "execution_count": 123,
   "id": "eff69810",
   "metadata": {
    "colab": {},
    "colab_type": "code",
    "id": "s1L5rS29mcxD"
   },
   "outputs": [
    {
     "data": {
      "text/html": [
       "<div>\n",
       "<style scoped>\n",
       "    .dataframe tbody tr th:only-of-type {\n",
       "        vertical-align: middle;\n",
       "    }\n",
       "\n",
       "    .dataframe tbody tr th {\n",
       "        vertical-align: top;\n",
       "    }\n",
       "\n",
       "    .dataframe thead th {\n",
       "        text-align: right;\n",
       "    }\n",
       "</style>\n",
       "<table border=\"1\" class=\"dataframe\">\n",
       "  <thead>\n",
       "    <tr style=\"text-align: right;\">\n",
       "      <th></th>\n",
       "      <th>BMXWT</th>\n",
       "      <th>BMXHT</th>\n",
       "      <th>BMXBMI</th>\n",
       "      <th>BMXLEG</th>\n",
       "      <th>BMXARML</th>\n",
       "      <th>BMXARMC</th>\n",
       "      <th>BMXWAIST</th>\n",
       "    </tr>\n",
       "  </thead>\n",
       "  <tbody>\n",
       "    <tr>\n",
       "      <th>15</th>\n",
       "      <td>80.5</td>\n",
       "      <td>150.8</td>\n",
       "      <td>35.4</td>\n",
       "      <td>31.6</td>\n",
       "      <td>32.7</td>\n",
       "      <td>33.7</td>\n",
       "      <td>113.5</td>\n",
       "    </tr>\n",
       "    <tr>\n",
       "      <th>27</th>\n",
       "      <td>75.6</td>\n",
       "      <td>145.2</td>\n",
       "      <td>35.9</td>\n",
       "      <td>31.0</td>\n",
       "      <td>33.1</td>\n",
       "      <td>36.0</td>\n",
       "      <td>108.0</td>\n",
       "    </tr>\n",
       "    <tr>\n",
       "      <th>39</th>\n",
       "      <td>63.7</td>\n",
       "      <td>147.9</td>\n",
       "      <td>29.1</td>\n",
       "      <td>26.0</td>\n",
       "      <td>34.0</td>\n",
       "      <td>31.5</td>\n",
       "      <td>110.0</td>\n",
       "    </tr>\n",
       "    <tr>\n",
       "      <th>52</th>\n",
       "      <td>105.9</td>\n",
       "      <td>157.7</td>\n",
       "      <td>42.6</td>\n",
       "      <td>29.2</td>\n",
       "      <td>35.0</td>\n",
       "      <td>40.7</td>\n",
       "      <td>129.1</td>\n",
       "    </tr>\n",
       "    <tr>\n",
       "      <th>55</th>\n",
       "      <td>77.5</td>\n",
       "      <td>148.3</td>\n",
       "      <td>35.2</td>\n",
       "      <td>30.5</td>\n",
       "      <td>34.0</td>\n",
       "      <td>34.4</td>\n",
       "      <td>107.6</td>\n",
       "    </tr>\n",
       "  </tbody>\n",
       "</table>\n",
       "</div>"
      ],
      "text/plain": [
       "    BMXWT  BMXHT  BMXBMI  BMXLEG  BMXARML  BMXARMC  BMXWAIST\n",
       "15   80.5  150.8    35.4    31.6     32.7     33.7     113.5\n",
       "27   75.6  145.2    35.9    31.0     33.1     36.0     108.0\n",
       "39   63.7  147.9    29.1    26.0     34.0     31.5     110.0\n",
       "52  105.9  157.7    42.6    29.2     35.0     40.7     129.1\n",
       "55   77.5  148.3    35.2    30.5     34.0     34.4     107.6"
      ]
     },
     "execution_count": 123,
     "metadata": {},
     "output_type": "execute_result"
    }
   ],
   "source": [
    "df_BMX.loc[condition1 & condition2, :].head() # Using df.loc[] method\n",
    "# note that the conditiona are describing the rows to keep"
   ]
  },
  {
   "cell_type": "code",
   "execution_count": 124,
   "id": "564bdd38",
   "metadata": {
    "colab": {},
    "colab_type": "code",
    "id": "0Oznkq8GmcxF"
   },
   "outputs": [
    {
     "data": {
      "text/html": [
       "<div>\n",
       "<style scoped>\n",
       "    .dataframe tbody tr th:only-of-type {\n",
       "        vertical-align: middle;\n",
       "    }\n",
       "\n",
       "    .dataframe tbody tr th {\n",
       "        vertical-align: top;\n",
       "    }\n",
       "\n",
       "    .dataframe thead th {\n",
       "        text-align: right;\n",
       "    }\n",
       "</style>\n",
       "<table border=\"1\" class=\"dataframe\">\n",
       "  <thead>\n",
       "    <tr style=\"text-align: right;\">\n",
       "      <th></th>\n",
       "      <th>BMXWT</th>\n",
       "      <th>BMXHT</th>\n",
       "      <th>BMXBMI</th>\n",
       "      <th>BMXLEG</th>\n",
       "      <th>BMXARML</th>\n",
       "      <th>BMXARMC</th>\n",
       "      <th>BMXWAIST</th>\n",
       "    </tr>\n",
       "  </thead>\n",
       "  <tbody>\n",
       "    <tr>\n",
       "      <th>a</th>\n",
       "      <td>80.5</td>\n",
       "      <td>150.8</td>\n",
       "      <td>35.4</td>\n",
       "      <td>31.6</td>\n",
       "      <td>32.7</td>\n",
       "      <td>33.7</td>\n",
       "      <td>113.5</td>\n",
       "    </tr>\n",
       "    <tr>\n",
       "      <th>b</th>\n",
       "      <td>75.6</td>\n",
       "      <td>145.2</td>\n",
       "      <td>35.9</td>\n",
       "      <td>31.0</td>\n",
       "      <td>33.1</td>\n",
       "      <td>36.0</td>\n",
       "      <td>108.0</td>\n",
       "    </tr>\n",
       "    <tr>\n",
       "      <th>c</th>\n",
       "      <td>63.7</td>\n",
       "      <td>147.9</td>\n",
       "      <td>29.1</td>\n",
       "      <td>26.0</td>\n",
       "      <td>34.0</td>\n",
       "      <td>31.5</td>\n",
       "      <td>110.0</td>\n",
       "    </tr>\n",
       "    <tr>\n",
       "      <th>d</th>\n",
       "      <td>105.9</td>\n",
       "      <td>157.7</td>\n",
       "      <td>42.6</td>\n",
       "      <td>29.2</td>\n",
       "      <td>35.0</td>\n",
       "      <td>40.7</td>\n",
       "      <td>129.1</td>\n",
       "    </tr>\n",
       "    <tr>\n",
       "      <th>e</th>\n",
       "      <td>77.5</td>\n",
       "      <td>148.3</td>\n",
       "      <td>35.2</td>\n",
       "      <td>30.5</td>\n",
       "      <td>34.0</td>\n",
       "      <td>34.4</td>\n",
       "      <td>107.6</td>\n",
       "    </tr>\n",
       "  </tbody>\n",
       "</table>\n",
       "</div>"
      ],
      "text/plain": [
       "   BMXWT  BMXHT  BMXBMI  BMXLEG  BMXARML  BMXARMC  BMXWAIST\n",
       "a   80.5  150.8    35.4    31.6     32.7     33.7     113.5\n",
       "b   75.6  145.2    35.9    31.0     33.1     36.0     108.0\n",
       "c   63.7  147.9    29.1    26.0     34.0     31.5     110.0\n",
       "d  105.9  157.7    42.6    29.2     35.0     40.7     129.1\n",
       "e   77.5  148.3    35.2    30.5     34.0     34.4     107.6"
      ]
     },
     "execution_count": 124,
     "metadata": {},
     "output_type": "execute_result"
    }
   ],
   "source": [
    "# Lets make a small dataframe and give it a new index so can more clearly see the differences between .loc and .iloc\n",
    "tmp = df_BMX.loc[condition1 & condition2, :].head()\n",
    "tmp.index = ['a', 'b', 'c', 'd', 'e'] # If you use different years than 2015-2016, this my give an error. Why?\n",
    "tmp"
   ]
  },
  {
   "cell_type": "code",
   "execution_count": 125,
   "id": "80732cef",
   "metadata": {
    "colab": {},
    "colab_type": "code",
    "id": "-NVXIb54mcxJ"
   },
   "outputs": [
    {
     "data": {
      "text/plain": [
       "a    31.6\n",
       "b    31.0\n",
       "Name: BMXLEG, dtype: float64"
      ]
     },
     "execution_count": 125,
     "metadata": {},
     "output_type": "execute_result"
    }
   ],
   "source": [
    "tmp.loc[['a', 'b'],'BMXLEG']"
   ]
  },
  {
   "cell_type": "code",
   "execution_count": 126,
   "id": "f7d677bc",
   "metadata": {
    "colab": {},
    "colab_type": "code",
    "id": "l_5tUyMYmcxL"
   },
   "outputs": [
    {
     "data": {
      "text/plain": [
       "a    31.6\n",
       "b    31.0\n",
       "Name: BMXLEG, dtype: float64"
      ]
     },
     "execution_count": 126,
     "metadata": {},
     "output_type": "execute_result"
    }
   ],
   "source": [
    "tmp.iloc[[0, 1],3]"
   ]
  },
  {
   "cell_type": "markdown",
   "id": "b1bf6964",
   "metadata": {
    "colab_type": "text",
    "id": "-sSTrqkNmcxN"
   },
   "source": [
    "### Common errors and how to read them"
   ]
  },
  {
   "cell_type": "code",
   "execution_count": 127,
   "id": "502d711a",
   "metadata": {
    "colab": {},
    "colab_type": "code",
    "id": "xocUtLX9mcxO"
   },
   "outputs": [
    {
     "ename": "InvalidIndexError",
     "evalue": "(slice(None, None, None), 'BMXBMI')",
     "output_type": "error",
     "traceback": [
      "\u001b[1;31m---------------------------------------------------------------------------\u001b[0m",
      "\u001b[1;31mTypeError\u001b[0m                                 Traceback (most recent call last)",
      "File \u001b[1;32mD:\\anakonda\\Lib\\site-packages\\pandas\\core\\indexes\\base.py:3802\u001b[0m, in \u001b[0;36mIndex.get_loc\u001b[1;34m(self, key, method, tolerance)\u001b[0m\n\u001b[0;32m   3801\u001b[0m \u001b[38;5;28;01mtry\u001b[39;00m:\n\u001b[1;32m-> 3802\u001b[0m     \u001b[38;5;28;01mreturn\u001b[39;00m \u001b[38;5;28mself\u001b[39m\u001b[38;5;241m.\u001b[39m_engine\u001b[38;5;241m.\u001b[39mget_loc(casted_key)\n\u001b[0;32m   3803\u001b[0m \u001b[38;5;28;01mexcept\u001b[39;00m \u001b[38;5;167;01mKeyError\u001b[39;00m \u001b[38;5;28;01mas\u001b[39;00m err:\n",
      "File \u001b[1;32mD:\\anakonda\\Lib\\site-packages\\pandas\\_libs\\index.pyx:138\u001b[0m, in \u001b[0;36mpandas._libs.index.IndexEngine.get_loc\u001b[1;34m()\u001b[0m\n",
      "File \u001b[1;32mD:\\anakonda\\Lib\\site-packages\\pandas\\_libs\\index.pyx:144\u001b[0m, in \u001b[0;36mpandas._libs.index.IndexEngine.get_loc\u001b[1;34m()\u001b[0m\n",
      "\u001b[1;31mTypeError\u001b[0m: '(slice(None, None, None), 'BMXBMI')' is an invalid key",
      "\nDuring handling of the above exception, another exception occurred:\n",
      "\u001b[1;31mInvalidIndexError\u001b[0m                         Traceback (most recent call last)",
      "Cell \u001b[1;32mIn[127], line 1\u001b[0m\n\u001b[1;32m----> 1\u001b[0m tmp[:, \u001b[38;5;124m'\u001b[39m\u001b[38;5;124mBMXBMI\u001b[39m\u001b[38;5;124m'\u001b[39m]\n",
      "File \u001b[1;32mD:\\anakonda\\Lib\\site-packages\\pandas\\core\\frame.py:3807\u001b[0m, in \u001b[0;36mDataFrame.__getitem__\u001b[1;34m(self, key)\u001b[0m\n\u001b[0;32m   3805\u001b[0m \u001b[38;5;28;01mif\u001b[39;00m \u001b[38;5;28mself\u001b[39m\u001b[38;5;241m.\u001b[39mcolumns\u001b[38;5;241m.\u001b[39mnlevels \u001b[38;5;241m>\u001b[39m \u001b[38;5;241m1\u001b[39m:\n\u001b[0;32m   3806\u001b[0m     \u001b[38;5;28;01mreturn\u001b[39;00m \u001b[38;5;28mself\u001b[39m\u001b[38;5;241m.\u001b[39m_getitem_multilevel(key)\n\u001b[1;32m-> 3807\u001b[0m indexer \u001b[38;5;241m=\u001b[39m \u001b[38;5;28mself\u001b[39m\u001b[38;5;241m.\u001b[39mcolumns\u001b[38;5;241m.\u001b[39mget_loc(key)\n\u001b[0;32m   3808\u001b[0m \u001b[38;5;28;01mif\u001b[39;00m is_integer(indexer):\n\u001b[0;32m   3809\u001b[0m     indexer \u001b[38;5;241m=\u001b[39m [indexer]\n",
      "File \u001b[1;32mD:\\anakonda\\Lib\\site-packages\\pandas\\core\\indexes\\base.py:3809\u001b[0m, in \u001b[0;36mIndex.get_loc\u001b[1;34m(self, key, method, tolerance)\u001b[0m\n\u001b[0;32m   3804\u001b[0m         \u001b[38;5;28;01mraise\u001b[39;00m \u001b[38;5;167;01mKeyError\u001b[39;00m(key) \u001b[38;5;28;01mfrom\u001b[39;00m \u001b[38;5;21;01merr\u001b[39;00m\n\u001b[0;32m   3805\u001b[0m     \u001b[38;5;28;01mexcept\u001b[39;00m \u001b[38;5;167;01mTypeError\u001b[39;00m:\n\u001b[0;32m   3806\u001b[0m         \u001b[38;5;66;03m# If we have a listlike key, _check_indexing_error will raise\u001b[39;00m\n\u001b[0;32m   3807\u001b[0m         \u001b[38;5;66;03m#  InvalidIndexError. Otherwise we fall through and re-raise\u001b[39;00m\n\u001b[0;32m   3808\u001b[0m         \u001b[38;5;66;03m#  the TypeError.\u001b[39;00m\n\u001b[1;32m-> 3809\u001b[0m         \u001b[38;5;28mself\u001b[39m\u001b[38;5;241m.\u001b[39m_check_indexing_error(key)\n\u001b[0;32m   3810\u001b[0m         \u001b[38;5;28;01mraise\u001b[39;00m\n\u001b[0;32m   3812\u001b[0m \u001b[38;5;66;03m# GH#42269\u001b[39;00m\n",
      "File \u001b[1;32mD:\\anakonda\\Lib\\site-packages\\pandas\\core\\indexes\\base.py:5925\u001b[0m, in \u001b[0;36mIndex._check_indexing_error\u001b[1;34m(self, key)\u001b[0m\n\u001b[0;32m   5921\u001b[0m \u001b[38;5;28;01mdef\u001b[39;00m \u001b[38;5;21m_check_indexing_error\u001b[39m(\u001b[38;5;28mself\u001b[39m, key):\n\u001b[0;32m   5922\u001b[0m     \u001b[38;5;28;01mif\u001b[39;00m \u001b[38;5;129;01mnot\u001b[39;00m is_scalar(key):\n\u001b[0;32m   5923\u001b[0m         \u001b[38;5;66;03m# if key is not a scalar, directly raise an error (the code below\u001b[39;00m\n\u001b[0;32m   5924\u001b[0m         \u001b[38;5;66;03m# would convert to numpy arrays and raise later any way) - GH29926\u001b[39;00m\n\u001b[1;32m-> 5925\u001b[0m         \u001b[38;5;28;01mraise\u001b[39;00m InvalidIndexError(key)\n",
      "\u001b[1;31mInvalidIndexError\u001b[0m: (slice(None, None, None), 'BMXBMI')"
     ]
    }
   ],
   "source": [
    "tmp[:, 'BMXBMI'] "
   ]
  },
  {
   "cell_type": "markdown",
   "id": "45108ae9",
   "metadata": {
    "colab_type": "text",
    "id": "Nd3g-kDlmcxQ"
   },
   "source": [
    "### Problem\n",
    "The above gives: TypeError: unhashable type: 'slice' \n",
    "\n",
    "The [ ] method uses hashes to identify the columns to keep, and each column has an associated hash. A 'slice' (a subset of rows and columns) does not have an associated hash, thus causing this TypeError."
   ]
  },
  {
   "cell_type": "code",
   "execution_count": null,
   "id": "982aba98",
   "metadata": {
    "colab": {},
    "colab_type": "code",
    "id": "LwRx-ZNVmcxQ"
   },
   "outputs": [],
   "source": [
    "tmp.loc[:, 'BMXBMI']"
   ]
  },
  {
   "cell_type": "code",
   "execution_count": null,
   "id": "ffea90f6",
   "metadata": {
    "colab": {},
    "colab_type": "code",
    "id": "qW4MxqfYmcxT"
   },
   "outputs": [],
   "source": [
    "tmp.loc[:, 'BMXBMI'].values"
   ]
  },
  {
   "cell_type": "code",
   "execution_count": null,
   "id": "dfb1cfbe",
   "metadata": {
    "colab": {},
    "colab_type": "code",
    "id": "JxT4Q9MbmcxY"
   },
   "outputs": [],
   "source": [
    "tmp.iloc[:, 'BMXBMI']"
   ]
  },
  {
   "cell_type": "markdown",
   "id": "27ba93f0",
   "metadata": {
    "colab_type": "text",
    "id": "JP56H_f4mcxa"
   },
   "source": [
    "### Problem\n",
    "The above gives: ValueError: Location based indexing can only have [integer, integer slice (START point is INCLUDED, END point is EXCLUDED), listlike of integers, boolean array] types\n",
    "\n",
    "'BMXBMI' is not an integer that is less than or equal number of columns -1, or a list of boolean values, so it is the wrong value type. "
   ]
  },
  {
   "cell_type": "code",
   "execution_count": null,
   "id": "684f3a88",
   "metadata": {
    "colab": {},
    "colab_type": "code",
    "id": "KTNYYjS3mcxb"
   },
   "outputs": [],
   "source": [
    "tmp.iloc[:, 2]"
   ]
  },
  {
   "cell_type": "code",
   "execution_count": null,
   "id": "869396df",
   "metadata": {
    "colab": {},
    "colab_type": "code",
    "id": "_agjxInnmcxe"
   },
   "outputs": [],
   "source": [
    "tmp.loc[:, 2]"
   ]
  },
  {
   "cell_type": "markdown",
   "id": "5c3c70bf",
   "metadata": {
    "colab_type": "text",
    "id": "v-B3c54Cmcxh"
   },
   "source": [
    "### Problem\n",
    "The above code gives: ```TypeError: cannot do label indexing on <class 'pandas.core.indexes.base.Index'> with these indexers [2] of <class 'int'>```\n",
    "\n",
    "2 is not one of the labels (i.e. column names) in the dataframe"
   ]
  },
  {
   "cell_type": "code",
   "execution_count": 128,
   "id": "b85a3a18",
   "metadata": {
    "colab": {},
    "colab_type": "code",
    "id": "ihBV3Zx5mcxi"
   },
   "outputs": [
    {
     "data": {
      "text/html": [
       "<div>\n",
       "<style scoped>\n",
       "    .dataframe tbody tr th:only-of-type {\n",
       "        vertical-align: middle;\n",
       "    }\n",
       "\n",
       "    .dataframe tbody tr th {\n",
       "        vertical-align: top;\n",
       "    }\n",
       "\n",
       "    .dataframe thead th {\n",
       "        text-align: right;\n",
       "    }\n",
       "</style>\n",
       "<table border=\"1\" class=\"dataframe\">\n",
       "  <thead>\n",
       "    <tr style=\"text-align: right;\">\n",
       "      <th></th>\n",
       "      <th>BMXBMI</th>\n",
       "    </tr>\n",
       "  </thead>\n",
       "  <tbody>\n",
       "    <tr>\n",
       "      <th>a</th>\n",
       "      <td>35.4</td>\n",
       "    </tr>\n",
       "    <tr>\n",
       "      <th>b</th>\n",
       "      <td>35.9</td>\n",
       "    </tr>\n",
       "    <tr>\n",
       "      <th>c</th>\n",
       "      <td>29.1</td>\n",
       "    </tr>\n",
       "    <tr>\n",
       "      <th>d</th>\n",
       "      <td>42.6</td>\n",
       "    </tr>\n",
       "    <tr>\n",
       "      <th>e</th>\n",
       "      <td>35.2</td>\n",
       "    </tr>\n",
       "  </tbody>\n",
       "</table>\n",
       "</div>"
      ],
      "text/plain": [
       "   BMXBMI\n",
       "a    35.4\n",
       "b    35.9\n",
       "c    29.1\n",
       "d    42.6\n",
       "e    35.2"
      ]
     },
     "execution_count": 128,
     "metadata": {},
     "output_type": "execute_result"
    }
   ],
   "source": [
    "# Here is another example of using a boolean list for indexing columns\n",
    "tmp.loc[:, [False, False, True] +[False]*4]"
   ]
  },
  {
   "cell_type": "code",
   "execution_count": 129,
   "id": "96b88f79",
   "metadata": {
    "colab": {},
    "colab_type": "code",
    "id": "sTRacZ08mcxk"
   },
   "outputs": [
    {
     "data": {
      "text/plain": [
       "a    35.4\n",
       "b    35.9\n",
       "c    29.1\n",
       "d    42.6\n",
       "e    35.2\n",
       "Name: BMXBMI, dtype: float64"
      ]
     },
     "execution_count": 129,
     "metadata": {},
     "output_type": "execute_result"
    }
   ],
   "source": [
    "tmp.iloc[:, 2]"
   ]
  },
  {
   "cell_type": "code",
   "execution_count": 130,
   "id": "d1729f19",
   "metadata": {
    "colab": {},
    "colab_type": "code",
    "id": "tlch7rjomcxm"
   },
   "outputs": [
    {
     "data": {
      "text/plain": [
       "a     0.0\n",
       "b     0.0\n",
       "c     0.0\n",
       "d    42.6\n",
       "e    35.2\n",
       "Name: BMXBMI, dtype: float64"
      ]
     },
     "execution_count": 130,
     "metadata": {},
     "output_type": "execute_result"
    }
   ],
   "source": [
    "# We can use the .loc and .iloc methods to change values within the dataframe\n",
    "tmp.iloc[0:3,2] = [0]*3\n",
    "tmp.iloc[:,2]"
   ]
  },
  {
   "cell_type": "code",
   "execution_count": 131,
   "id": "05d3aa80",
   "metadata": {
    "colab": {},
    "colab_type": "code",
    "id": "hZi7YHFUmcxq"
   },
   "outputs": [
    {
     "data": {
      "text/plain": [
       "a     1.0\n",
       "b     1.0\n",
       "c     1.0\n",
       "d    42.6\n",
       "e    35.2\n",
       "Name: BMXBMI, dtype: float64"
      ]
     },
     "execution_count": 131,
     "metadata": {},
     "output_type": "execute_result"
    }
   ],
   "source": [
    "tmp.loc['a':'c','BMXBMI'] = [1]*3\n",
    "tmp.loc[:,'BMXBMI']"
   ]
  },
  {
   "cell_type": "code",
   "execution_count": 132,
   "id": "bb2ba672",
   "metadata": {
    "colab": {},
    "colab_type": "code",
    "id": "DVCVp7yUmcxt"
   },
   "outputs": [
    {
     "data": {
      "text/html": [
       "<div>\n",
       "<style scoped>\n",
       "    .dataframe tbody tr th:only-of-type {\n",
       "        vertical-align: middle;\n",
       "    }\n",
       "\n",
       "    .dataframe tbody tr th {\n",
       "        vertical-align: top;\n",
       "    }\n",
       "\n",
       "    .dataframe thead th {\n",
       "        text-align: right;\n",
       "    }\n",
       "</style>\n",
       "<table border=\"1\" class=\"dataframe\">\n",
       "  <thead>\n",
       "    <tr style=\"text-align: right;\">\n",
       "      <th></th>\n",
       "      <th>BMXWT</th>\n",
       "      <th>BMXHT</th>\n",
       "      <th>BMXBMI</th>\n",
       "      <th>BMXLEG</th>\n",
       "      <th>BMXARML</th>\n",
       "      <th>BMXARMC</th>\n",
       "      <th>BMXWAIST</th>\n",
       "    </tr>\n",
       "  </thead>\n",
       "  <tbody>\n",
       "    <tr>\n",
       "      <th>a</th>\n",
       "      <td>80.5</td>\n",
       "      <td>150.8</td>\n",
       "      <td>0</td>\n",
       "      <td>31.6</td>\n",
       "      <td>32.7</td>\n",
       "      <td>33.7</td>\n",
       "      <td>113.5</td>\n",
       "    </tr>\n",
       "    <tr>\n",
       "      <th>b</th>\n",
       "      <td>75.6</td>\n",
       "      <td>145.2</td>\n",
       "      <td>1</td>\n",
       "      <td>31.0</td>\n",
       "      <td>33.1</td>\n",
       "      <td>36.0</td>\n",
       "      <td>108.0</td>\n",
       "    </tr>\n",
       "    <tr>\n",
       "      <th>c</th>\n",
       "      <td>63.7</td>\n",
       "      <td>147.9</td>\n",
       "      <td>2</td>\n",
       "      <td>26.0</td>\n",
       "      <td>34.0</td>\n",
       "      <td>31.5</td>\n",
       "      <td>110.0</td>\n",
       "    </tr>\n",
       "    <tr>\n",
       "      <th>d</th>\n",
       "      <td>105.9</td>\n",
       "      <td>157.7</td>\n",
       "      <td>3</td>\n",
       "      <td>29.2</td>\n",
       "      <td>35.0</td>\n",
       "      <td>40.7</td>\n",
       "      <td>129.1</td>\n",
       "    </tr>\n",
       "    <tr>\n",
       "      <th>e</th>\n",
       "      <td>77.5</td>\n",
       "      <td>148.3</td>\n",
       "      <td>4</td>\n",
       "      <td>30.5</td>\n",
       "      <td>34.0</td>\n",
       "      <td>34.4</td>\n",
       "      <td>107.6</td>\n",
       "    </tr>\n",
       "  </tbody>\n",
       "</table>\n",
       "</div>"
      ],
      "text/plain": [
       "   BMXWT  BMXHT  BMXBMI  BMXLEG  BMXARML  BMXARMC  BMXWAIST\n",
       "a   80.5  150.8       0    31.6     32.7     33.7     113.5\n",
       "b   75.6  145.2       1    31.0     33.1     36.0     108.0\n",
       "c   63.7  147.9       2    26.0     34.0     31.5     110.0\n",
       "d  105.9  157.7       3    29.2     35.0     40.7     129.1\n",
       "e   77.5  148.3       4    30.5     34.0     34.4     107.6"
      ]
     },
     "execution_count": 132,
     "metadata": {},
     "output_type": "execute_result"
    }
   ],
   "source": [
    "# We can use the [] method when changing all the values of a column\n",
    "tmp['BMXBMI'] = range(0, 5)\n",
    "tmp"
   ]
  },
  {
   "cell_type": "code",
   "execution_count": 133,
   "id": "4dd7df07",
   "metadata": {
    "colab": {},
    "colab_type": "code",
    "id": "GyWDv9Remcxw"
   },
   "outputs": [
    {
     "name": "stderr",
     "output_type": "stream",
     "text": [
      "C:\\Users\\anuar\\AppData\\Local\\Temp\\ipykernel_12428\\2589394178.py:2: SettingWithCopyWarning: \n",
      "A value is trying to be set on a copy of a slice from a DataFrame.\n",
      "Try using .loc[row_indexer,col_indexer] = value instead\n",
      "\n",
      "See the caveats in the documentation: https://pandas.pydata.org/pandas-docs/stable/user_guide/indexing.html#returning-a-view-versus-a-copy\n",
      "  tmp[tmp.BMXBMI > 2]['BMXBMI'] = [10]*2 # Setting new values to a copy of tmp, but not tmp itself\n"
     ]
    },
    {
     "data": {
      "text/html": [
       "<div>\n",
       "<style scoped>\n",
       "    .dataframe tbody tr th:only-of-type {\n",
       "        vertical-align: middle;\n",
       "    }\n",
       "\n",
       "    .dataframe tbody tr th {\n",
       "        vertical-align: top;\n",
       "    }\n",
       "\n",
       "    .dataframe thead th {\n",
       "        text-align: right;\n",
       "    }\n",
       "</style>\n",
       "<table border=\"1\" class=\"dataframe\">\n",
       "  <thead>\n",
       "    <tr style=\"text-align: right;\">\n",
       "      <th></th>\n",
       "      <th>BMXWT</th>\n",
       "      <th>BMXHT</th>\n",
       "      <th>BMXBMI</th>\n",
       "      <th>BMXLEG</th>\n",
       "      <th>BMXARML</th>\n",
       "      <th>BMXARMC</th>\n",
       "      <th>BMXWAIST</th>\n",
       "    </tr>\n",
       "  </thead>\n",
       "  <tbody>\n",
       "    <tr>\n",
       "      <th>a</th>\n",
       "      <td>80.5</td>\n",
       "      <td>150.8</td>\n",
       "      <td>0</td>\n",
       "      <td>31.6</td>\n",
       "      <td>32.7</td>\n",
       "      <td>33.7</td>\n",
       "      <td>113.5</td>\n",
       "    </tr>\n",
       "    <tr>\n",
       "      <th>b</th>\n",
       "      <td>75.6</td>\n",
       "      <td>145.2</td>\n",
       "      <td>1</td>\n",
       "      <td>31.0</td>\n",
       "      <td>33.1</td>\n",
       "      <td>36.0</td>\n",
       "      <td>108.0</td>\n",
       "    </tr>\n",
       "    <tr>\n",
       "      <th>c</th>\n",
       "      <td>63.7</td>\n",
       "      <td>147.9</td>\n",
       "      <td>2</td>\n",
       "      <td>26.0</td>\n",
       "      <td>34.0</td>\n",
       "      <td>31.5</td>\n",
       "      <td>110.0</td>\n",
       "    </tr>\n",
       "    <tr>\n",
       "      <th>d</th>\n",
       "      <td>105.9</td>\n",
       "      <td>157.7</td>\n",
       "      <td>3</td>\n",
       "      <td>29.2</td>\n",
       "      <td>35.0</td>\n",
       "      <td>40.7</td>\n",
       "      <td>129.1</td>\n",
       "    </tr>\n",
       "    <tr>\n",
       "      <th>e</th>\n",
       "      <td>77.5</td>\n",
       "      <td>148.3</td>\n",
       "      <td>4</td>\n",
       "      <td>30.5</td>\n",
       "      <td>34.0</td>\n",
       "      <td>34.4</td>\n",
       "      <td>107.6</td>\n",
       "    </tr>\n",
       "  </tbody>\n",
       "</table>\n",
       "</div>"
      ],
      "text/plain": [
       "   BMXWT  BMXHT  BMXBMI  BMXLEG  BMXARML  BMXARMC  BMXWAIST\n",
       "a   80.5  150.8       0    31.6     32.7     33.7     113.5\n",
       "b   75.6  145.2       1    31.0     33.1     36.0     108.0\n",
       "c   63.7  147.9       2    26.0     34.0     31.5     110.0\n",
       "d  105.9  157.7       3    29.2     35.0     40.7     129.1\n",
       "e   77.5  148.3       4    30.5     34.0     34.4     107.6"
      ]
     },
     "execution_count": 133,
     "metadata": {},
     "output_type": "execute_result"
    }
   ],
   "source": [
    "# We will get a warning when using the [] method with conditions to set new values in our dataframe\n",
    "tmp[tmp.BMXBMI > 2]['BMXBMI'] = [10]*2 # Setting new values to a copy of tmp, but not tmp itself\n",
    "tmp\n",
    "# You can see that the above code did not change our dataframe 'tmp'. This"
   ]
  },
  {
   "cell_type": "code",
   "execution_count": 135,
   "id": "c4fbbb5a",
   "metadata": {
    "colab": {},
    "colab_type": "code",
    "id": "QuvTiBmDmcxy"
   },
   "outputs": [
    {
     "data": {
      "text/html": [
       "<div>\n",
       "<style scoped>\n",
       "    .dataframe tbody tr th:only-of-type {\n",
       "        vertical-align: middle;\n",
       "    }\n",
       "\n",
       "    .dataframe tbody tr th {\n",
       "        vertical-align: top;\n",
       "    }\n",
       "\n",
       "    .dataframe thead th {\n",
       "        text-align: right;\n",
       "    }\n",
       "</style>\n",
       "<table border=\"1\" class=\"dataframe\">\n",
       "  <thead>\n",
       "    <tr style=\"text-align: right;\">\n",
       "      <th></th>\n",
       "      <th>BMXWT</th>\n",
       "      <th>BMXHT</th>\n",
       "      <th>BMXBMI</th>\n",
       "      <th>BMXLEG</th>\n",
       "      <th>BMXARML</th>\n",
       "      <th>BMXARMC</th>\n",
       "      <th>BMXWAIST</th>\n",
       "    </tr>\n",
       "  </thead>\n",
       "  <tbody>\n",
       "    <tr>\n",
       "      <th>a</th>\n",
       "      <td>80.5</td>\n",
       "      <td>150.8</td>\n",
       "      <td>0</td>\n",
       "      <td>31.6</td>\n",
       "      <td>32.7</td>\n",
       "      <td>33.7</td>\n",
       "      <td>113.5</td>\n",
       "    </tr>\n",
       "    <tr>\n",
       "      <th>b</th>\n",
       "      <td>75.6</td>\n",
       "      <td>145.2</td>\n",
       "      <td>1</td>\n",
       "      <td>31.0</td>\n",
       "      <td>33.1</td>\n",
       "      <td>36.0</td>\n",
       "      <td>108.0</td>\n",
       "    </tr>\n",
       "    <tr>\n",
       "      <th>c</th>\n",
       "      <td>63.7</td>\n",
       "      <td>147.9</td>\n",
       "      <td>2</td>\n",
       "      <td>26.0</td>\n",
       "      <td>34.0</td>\n",
       "      <td>31.5</td>\n",
       "      <td>110.0</td>\n",
       "    </tr>\n",
       "    <tr>\n",
       "      <th>d</th>\n",
       "      <td>105.9</td>\n",
       "      <td>157.7</td>\n",
       "      <td>10</td>\n",
       "      <td>29.2</td>\n",
       "      <td>35.0</td>\n",
       "      <td>40.7</td>\n",
       "      <td>129.1</td>\n",
       "    </tr>\n",
       "    <tr>\n",
       "      <th>e</th>\n",
       "      <td>77.5</td>\n",
       "      <td>148.3</td>\n",
       "      <td>10</td>\n",
       "      <td>30.5</td>\n",
       "      <td>34.0</td>\n",
       "      <td>34.4</td>\n",
       "      <td>107.6</td>\n",
       "    </tr>\n",
       "  </tbody>\n",
       "</table>\n",
       "</div>"
      ],
      "text/plain": [
       "   BMXWT  BMXHT  BMXBMI  BMXLEG  BMXARML  BMXARMC  BMXWAIST\n",
       "a   80.5  150.8       0    31.6     32.7     33.7     113.5\n",
       "b   75.6  145.2       1    31.0     33.1     36.0     108.0\n",
       "c   63.7  147.9       2    26.0     34.0     31.5     110.0\n",
       "d  105.9  157.7      10    29.2     35.0     40.7     129.1\n",
       "e   77.5  148.3      10    30.5     34.0     34.4     107.6"
      ]
     },
     "execution_count": 135,
     "metadata": {},
     "output_type": "execute_result"
    }
   ],
   "source": [
    "# The correct way to do the above is with .loc or .iloc\n",
    "tmp.loc[tmp.BMXBMI > 2, 'BMXBMI']  = [10]*2\n",
    "tmp # Now contains the chances"
   ]
  },
  {
   "cell_type": "code",
   "execution_count": null,
   "id": "fa7ce106",
   "metadata": {},
   "outputs": [],
   "source": []
  },
  {
   "cell_type": "code",
   "execution_count": null,
   "id": "8a613729",
   "metadata": {},
   "outputs": [],
   "source": [
    "## How to select dataframe subsets from multivariate data\n",
    "\n",
    "import numpy as np\n",
    "import pandas as pd\n",
    "pd.set_option('display.max_columns', 100) # Show all columns when looking at dataframe\n",
    "\n",
    "# Download NHANES 2015-2016 data\n",
    "df = pd.read_csv(\"nhanes_2015_2016.csv\")\n",
    "\n",
    "df.head(1)\n",
    "\n",
    "### Keep only body measures columns, so only columns with \"BMX\" in the name\n",
    "\n",
    "# get columns names\n",
    "col_names = df.columns\n",
    "col_names\n",
    "\n",
    "# One way to get the column names we want to keep is simply by copying from the above output and storing in a list\n",
    "keep = ['BMXWT', 'BMXHT', 'BMXBMI', 'BMXLEG', 'BMXARML', 'BMXARMC',\n",
    "       'BMXWAIST']\n",
    "\n",
    "# Another way to get only column names that include 'BMX' is with list comprehension\n",
    "# [keep x for x in list if condition met]\n",
    "[column for column in col_names if 'BMX' in column]\n",
    "\n",
    "keep = [column for column in col_names if 'BMX' in column]\n",
    "\n",
    "# use [] notation to keep columns\n",
    "df_BMX = df[keep]\n",
    "\n",
    "df_BMX.head()\n",
    "\n",
    "There are two methods for selecting by row and column. \n",
    "# link for pandas cheat sheets\n",
    "* df.loc[row labels or bool, col labels or bool]\n",
    "* df.iloc[row int or bool, col int or bool]\n",
    "\n",
    "There are two methods for selecting by row and column. \n",
    "# link for pandas cheat sheets\n",
    "* df.loc[row labels or bool, col labels or bool]\n",
    "* df.iloc[row int or bool, col int or bool]\n",
    "\n",
    "There are two methods for selecting by row and column. \n",
    "# link for pandas cheat sheets\n",
    "* df.loc[row labels or bool, col labels or bool]\n",
    "* df.iloc[row int or bool, col int or bool]\n",
    "\n",
    "### [From pandas docs](https://pandas.pydata.org/pandas-docs/stable/indexing.html]):  \n",
    "* [ ] column indexing\n",
    "* .loc is primarily label based, but may also be used with a boolean array.   \n",
    "* .iloc is primarily integer position based (from 0 to length-1 of the axis), but may also be used with a boolean array.\n",
    "\n",
    "df.loc[:, keep].head()\n",
    "\n",
    "index_bool = np.isin(df.columns, keep)\n",
    "\n",
    "index_bool \n",
    "\n",
    "df.iloc[:,index_bool].head() # Indexing with boolean list\n",
    "\n",
    "### Selection by conditions\n",
    "\n",
    "# Lets only look at rows who 'BMXWAIST' is larger than the median\n",
    "waist_median = pd.Series.median(df_BMX['BMXWAIST']) # get the median of 'BMXWAIST'\n",
    "\n",
    "waist_median\n",
    "\n",
    "df_BMX[df_BMX['BMXWAIST'] > waist_median].head()\n",
    "\n",
    "# Lets add another condition, that 'BMXLEG' must be less than 32\n",
    "condition1 = df_BMX['BMXWAIST'] > waist_median\n",
    "condition2 = df_BMX['BMXLEG'] < 32\n",
    "df_BMX[condition1 & condition2].head() # Using [] method\n",
    "# Note: can't use 'and' instead of '&'\n",
    "\n",
    "df_BMX.loc[condition1 & condition2, :].head() # Using df.loc[] method\n",
    "# note that the conditiona are describing the rows to keep\n",
    "\n",
    "# Lets make a small dataframe and give it a new index so can more clearly see the differences between .loc and .iloc\n",
    "tmp = df_BMX.loc[condition1 & condition2, :].head()\n",
    "tmp.index = ['a', 'b', 'c', 'd', 'e'] # If you use different years than 2015-2016, this my give an error. Why?\n",
    "tmp\n",
    "\n",
    "tmp.loc[['a', 'b'],'BMXLEG']\n",
    "\n",
    "tmp.iloc[[0, 1],3]\n",
    "\n",
    "### Common errors and how to read them\n",
    "\n",
    "tmp[:, 'BMXBMI'] \n",
    "\n",
    "### Problem\n",
    "The above gives: TypeError: unhashable type: 'slice' \n",
    "\n",
    "The [ ] method uses hashes to identify the columns to keep, and each column has an associated hash. A 'slice' (a subset of rows and columns) does not have an associated hash, thus causing this TypeError.\n",
    "\n",
    "tmp.loc[:, 'BMXBMI']\n",
    "\n",
    "tmp.loc[:, 'BMXBMI'].values\n",
    "\n",
    "tmp.iloc[:, 'BMXBMI']\n",
    "\n",
    "### Problem\n",
    "The above gives: ValueError: Location based indexing can only have [integer, integer slice (START point is INCLUDED, END point is EXCLUDED), listlike of integers, boolean array] types\n",
    "\n",
    "'BMXBMI' is not an integer that is less than or equal number of columns -1, or a list of boolean values, so it is the wrong value type. \n",
    "\n",
    "tmp.iloc[:, 2]\n",
    "\n",
    "tmp.loc[:, 2]\n",
    "\n",
    "### Problem\n",
    "The above code gives: ```TypeError: cannot do label indexing on <class 'pandas.core.indexes.base.Index'> with these indexers [2] of <class 'int'>```\n",
    "\n",
    "2 is not one of the labels (i.e. column names) in the dataframe\n",
    "\n",
    "# Here is another example of using a boolean list for indexing columns\n",
    "tmp.loc[:, [False, False, True] +[False]*4]\n",
    "\n",
    "tmp.iloc[:, 2]\n",
    "\n",
    "# We can use the .loc and .iloc methods to change values within the dataframe\n",
    "tmp.iloc[0:3,2] = [0]*3\n",
    "tmp.iloc[:,2]\n",
    "\n",
    "tmp.loc['a':'c','BMXBMI'] = [1]*3\n",
    "tmp.loc[:,'BMXBMI']\n",
    "\n",
    "# We can use the [] method when changing all the values of a column\n",
    "tmp['BMXBMI'] = range(0, 5)\n",
    "tmp\n",
    "\n",
    "# We will get a warning when using the [] method with conditions to set new values in our dataframe\n",
    "tmp[tmp.BMXBMI > 2]['BMXBMI'] = [10]*2 # Setting new values to a copy of tmp, but not tmp itself\n",
    "tmp\n",
    "# You can see that the above code did not change our dataframe 'tmp'. This\n",
    "\n",
    "# The correct way to do the above is with .loc or .iloc\n",
    "tmp.loc[tmp.BMXBMI > 2, 'BMXBMI']  = [10]*2\n",
    "tmp # Now contains the chances\n",
    "\n"
   ]
  },
  {
   "cell_type": "markdown",
   "id": "e00b3239",
   "metadata": {},
   "source": [
    "## Multivariate Distributions in Python\n",
    "\n",
    "Sometimes we can get a lot of information about how two variables (or more) relate if we plot them together. This tutorial aims to show how plotting two variables together can give us information that plotting each one separately may miss.\n",
    "\n"
   ]
  },
  {
   "cell_type": "code",
   "execution_count": 1,
   "id": "b363d805",
   "metadata": {},
   "outputs": [
    {
     "data": {
      "image/png": "[encoded data removed]",
      "text/plain": [
       "<Figure size 1000x500 with 2 Axes>"
      ]
     },
     "metadata": {},
     "output_type": "display_data"
    }
   ],
   "source": [
    "# import the packages we are going to be using\n",
    "import numpy as np # for getting our distribution\n",
    "import matplotlib.pyplot as plt # for plotting\n",
    "import seaborn as sns; sns.set() # For a different plotting theme\n",
    "\n",
    "# Don't worry so much about what rho is doing here\n",
    "# Just know if we have a rho of 1 then we will get a perfectly\n",
    "# upward sloping line, and if we have a rho of -1, we will get \n",
    "# a perfectly downward slopping line. A rho of 0 will \n",
    "# get us a 'cloud' of points\n",
    "r = 1\n",
    "\n",
    "# Don't worry so much about the following three lines of code for now\n",
    "# this is just getting the data for us to plot\n",
    "mean = [15, 5]\n",
    "cov = [[1, r], [r, 1]]\n",
    "x, y = x, y = np.random.multivariate_normal(mean, cov, 400).T\n",
    "\n",
    "# Adjust the figure size\n",
    "plt.figure(figsize=(10,5))\n",
    "\n",
    "# Plot the histograms of X and Y next to each other\n",
    "plt.subplot(1,2,1)\n",
    "plt.hist(x = x, bins = 15)\n",
    "plt.title(\"X\")\n",
    "\n",
    "plt.subplot(1,2,2)\n",
    "plt.hist(x = y, bins = 15)\n",
    "plt.title(\"Y\")\n",
    "\n",
    "plt.show()"
   ]
  },
  {
   "cell_type": "code",
   "execution_count": 2,
   "id": "e5cd2fe5",
   "metadata": {},
   "outputs": [
    {
     "data": {
      "image/png": "[encoded data removed]",
      "text/plain": [
       "<Figure size 1000x1000 with 3 Axes>"
      ]
     },
     "metadata": {},
     "output_type": "display_data"
    }
   ],
   "source": [
    "# Plot the data\n",
    "plt.figure(figsize=(10,10))\n",
    "plt.subplot(2,2,2)\n",
    "plt.scatter(x = x, y = y)\n",
    "plt.title(\"Joint Distribution of X and Y\")\n",
    "\n",
    "# Plot the Marginal X Distribution\n",
    "plt.subplot(2,2,4)\n",
    "plt.hist(x = x, bins = 15)\n",
    "plt.title(\"Marginal Distribution of X\")\n",
    "\n",
    "\n",
    "# Plot the Marginal Y Distribution\n",
    "plt.subplot(2,2,1)\n",
    "plt.hist(x = y, orientation = \"horizontal\", bins = 15)\n",
    "plt.title(\"Marginal Distribution of Y\")\n",
    "\n",
    "# Show the plots\n",
    "plt.show()"
   ]
  },
  {
   "cell_type": "code",
   "execution_count": null,
   "id": "ae6927b4",
   "metadata": {},
   "outputs": [],
   "source": []
  },
  {
   "cell_type": "code",
   "execution_count": null,
   "id": "63ab2943",
   "metadata": {},
   "outputs": [],
   "source": [
    "## Multivariate Distributions in Python\n",
    "\n",
    "Sometimes we can get a lot of information about how two variables (or more) relate if we plot them together. This tutorial aims to show how plotting two variables together can give us information that plotting each one separately may miss.\n",
    "\n",
    "\n",
    "\n",
    "# import the packages we are going to be using\n",
    "import numpy as np # for getting our distribution\n",
    "import matplotlib.pyplot as plt # for plotting\n",
    "import seaborn as sns; sns.set() # For a different plotting theme\n",
    "\n",
    "# Don't worry so much about what rho is doing here\n",
    "# Just know if we have a rho of 1 then we will get a perfectly\n",
    "# upward sloping line, and if we have a rho of -1, we will get \n",
    "# a perfectly downward slopping line. A rho of 0 will \n",
    "# get us a 'cloud' of points\n",
    "r = 1\n",
    "\n",
    "# Don't worry so much about the following three lines of code for now\n",
    "# this is just getting the data for us to plot\n",
    "mean = [15, 5]\n",
    "cov = [[1, r], [r, 1]]\n",
    "x, y = x, y = np.random.multivariate_normal(mean, cov, 400).T\n",
    "\n",
    "# Adjust the figure size\n",
    "plt.figure(figsize=(10,5))\n",
    "\n",
    "# Plot the histograms of X and Y next to each other\n",
    "plt.subplot(1,2,1)\n",
    "plt.hist(x = x, bins = 15)\n",
    "plt.title(\"X\")\n",
    "\n",
    "plt.subplot(1,2,2)\n",
    "plt.hist(x = y, bins = 15)\n",
    "plt.title(\"Y\")\n",
    "\n",
    "plt.show()\n",
    "\n",
    "# Plot the data\n",
    "plt.figure(figsize=(10,10))\n",
    "plt.subplot(2,2,2)\n",
    "plt.scatter(x = x, y = y)\n",
    "plt.title(\"Joint Distribution of X and Y\")\n",
    "\n",
    "# Plot the Marginal X Distribution\n",
    "plt.subplot(2,2,4)\n",
    "plt.hist(x = x, bins = 15)\n",
    "plt.title(\"Marginal Distribution of X\")\n",
    "\n",
    "\n",
    "# Plot the Marginal Y Distribution\n",
    "plt.subplot(2,2,1)\n",
    "plt.hist(x = y, orientation = \"horizontal\", bins = 15)\n",
    "plt.title(\"Marginal Distribution of Y\")\n",
    "\n",
    "# Show the plots\n",
    "plt.show()\n",
    "\n"
   ]
  },
  {
   "cell_type": "markdown",
   "id": "470ca32f",
   "metadata": {},
   "source": [
    "## Unit Testing\n",
    "While we will not cover the [unit testing library](https://docs.python.org/3/library/unittest.html) that python has, we wanted to introduce you to a simple way that you can test your code.\n",
    "\n",
    "Unit testing is important because it the only way you can be sure that your code is do what you think it is doing. \n",
    "\n",
    "Remember, just because there are no errors does not mean your code is correct."
   ]
  },
  {
   "cell_type": "code",
   "execution_count": 1,
   "id": "49213924",
   "metadata": {},
   "outputs": [],
   "source": [
    "import numpy as np\n",
    "import pandas as pd\n",
    "import matplotlib as plt\n",
    "pd.set_option('display.max_columns', 100) # Show all columns when looking at dataframe"
   ]
  },
  {
   "cell_type": "code",
   "execution_count": 2,
   "id": "05da327e",
   "metadata": {},
   "outputs": [],
   "source": [
    "# Download NHANES 2015-2016 data\n",
    "df = pd.read_csv(\"nhanes_2015_2016.csv\")\n",
    "df.index = range(1,df.shape[0]+1)"
   ]
  },
  {
   "cell_type": "code",
   "execution_count": 3,
   "id": "066e48a1",
   "metadata": {},
   "outputs": [
    {
     "data": {
      "text/html": [
       "<div>\n",
       "<style scoped>\n",
       "    .dataframe tbody tr th:only-of-type {\n",
       "        vertical-align: middle;\n",
       "    }\n",
       "\n",
       "    .dataframe tbody tr th {\n",
       "        vertical-align: top;\n",
       "    }\n",
       "\n",
       "    .dataframe thead th {\n",
       "        text-align: right;\n",
       "    }\n",
       "</style>\n",
       "<table border=\"1\" class=\"dataframe\">\n",
       "  <thead>\n",
       "    <tr style=\"text-align: right;\">\n",
       "      <th></th>\n",
       "      <th>SEQN</th>\n",
       "      <th>ALQ101</th>\n",
       "      <th>ALQ110</th>\n",
       "      <th>ALQ130</th>\n",
       "      <th>SMQ020</th>\n",
       "      <th>RIAGENDR</th>\n",
       "      <th>RIDAGEYR</th>\n",
       "      <th>RIDRETH1</th>\n",
       "      <th>DMDCITZN</th>\n",
       "      <th>DMDEDUC2</th>\n",
       "      <th>DMDMARTL</th>\n",
       "      <th>DMDHHSIZ</th>\n",
       "      <th>WTINT2YR</th>\n",
       "      <th>SDMVPSU</th>\n",
       "      <th>SDMVSTRA</th>\n",
       "      <th>INDFMPIR</th>\n",
       "      <th>BPXSY1</th>\n",
       "      <th>BPXDI1</th>\n",
       "      <th>BPXSY2</th>\n",
       "      <th>BPXDI2</th>\n",
       "      <th>BMXWT</th>\n",
       "      <th>BMXHT</th>\n",
       "      <th>BMXBMI</th>\n",
       "      <th>BMXLEG</th>\n",
       "      <th>BMXARML</th>\n",
       "      <th>BMXARMC</th>\n",
       "      <th>BMXWAIST</th>\n",
       "      <th>HIQ210</th>\n",
       "    </tr>\n",
       "  </thead>\n",
       "  <tbody>\n",
       "    <tr>\n",
       "      <th>1</th>\n",
       "      <td>83732</td>\n",
       "      <td>1.0</td>\n",
       "      <td>NaN</td>\n",
       "      <td>1.0</td>\n",
       "      <td>1</td>\n",
       "      <td>1</td>\n",
       "      <td>62</td>\n",
       "      <td>3</td>\n",
       "      <td>1.0</td>\n",
       "      <td>5.0</td>\n",
       "      <td>1.0</td>\n",
       "      <td>2</td>\n",
       "      <td>134671.37</td>\n",
       "      <td>1</td>\n",
       "      <td>125</td>\n",
       "      <td>4.39</td>\n",
       "      <td>128.0</td>\n",
       "      <td>70.0</td>\n",
       "      <td>124.0</td>\n",
       "      <td>64.0</td>\n",
       "      <td>94.8</td>\n",
       "      <td>184.5</td>\n",
       "      <td>27.8</td>\n",
       "      <td>43.3</td>\n",
       "      <td>43.6</td>\n",
       "      <td>35.9</td>\n",
       "      <td>101.1</td>\n",
       "      <td>2.0</td>\n",
       "    </tr>\n",
       "    <tr>\n",
       "      <th>2</th>\n",
       "      <td>83733</td>\n",
       "      <td>1.0</td>\n",
       "      <td>NaN</td>\n",
       "      <td>6.0</td>\n",
       "      <td>1</td>\n",
       "      <td>1</td>\n",
       "      <td>53</td>\n",
       "      <td>3</td>\n",
       "      <td>2.0</td>\n",
       "      <td>3.0</td>\n",
       "      <td>3.0</td>\n",
       "      <td>1</td>\n",
       "      <td>24328.56</td>\n",
       "      <td>1</td>\n",
       "      <td>125</td>\n",
       "      <td>1.32</td>\n",
       "      <td>146.0</td>\n",
       "      <td>88.0</td>\n",
       "      <td>140.0</td>\n",
       "      <td>88.0</td>\n",
       "      <td>90.4</td>\n",
       "      <td>171.4</td>\n",
       "      <td>30.8</td>\n",
       "      <td>38.0</td>\n",
       "      <td>40.0</td>\n",
       "      <td>33.2</td>\n",
       "      <td>107.9</td>\n",
       "      <td>NaN</td>\n",
       "    </tr>\n",
       "    <tr>\n",
       "      <th>3</th>\n",
       "      <td>83734</td>\n",
       "      <td>1.0</td>\n",
       "      <td>NaN</td>\n",
       "      <td>NaN</td>\n",
       "      <td>1</td>\n",
       "      <td>1</td>\n",
       "      <td>78</td>\n",
       "      <td>3</td>\n",
       "      <td>1.0</td>\n",
       "      <td>3.0</td>\n",
       "      <td>1.0</td>\n",
       "      <td>2</td>\n",
       "      <td>12400.01</td>\n",
       "      <td>1</td>\n",
       "      <td>131</td>\n",
       "      <td>1.51</td>\n",
       "      <td>138.0</td>\n",
       "      <td>46.0</td>\n",
       "      <td>132.0</td>\n",
       "      <td>44.0</td>\n",
       "      <td>83.4</td>\n",
       "      <td>170.1</td>\n",
       "      <td>28.8</td>\n",
       "      <td>35.6</td>\n",
       "      <td>37.0</td>\n",
       "      <td>31.0</td>\n",
       "      <td>116.5</td>\n",
       "      <td>2.0</td>\n",
       "    </tr>\n",
       "    <tr>\n",
       "      <th>4</th>\n",
       "      <td>83735</td>\n",
       "      <td>2.0</td>\n",
       "      <td>1.0</td>\n",
       "      <td>1.0</td>\n",
       "      <td>2</td>\n",
       "      <td>2</td>\n",
       "      <td>56</td>\n",
       "      <td>3</td>\n",
       "      <td>1.0</td>\n",
       "      <td>5.0</td>\n",
       "      <td>6.0</td>\n",
       "      <td>1</td>\n",
       "      <td>102718.00</td>\n",
       "      <td>1</td>\n",
       "      <td>131</td>\n",
       "      <td>5.00</td>\n",
       "      <td>132.0</td>\n",
       "      <td>72.0</td>\n",
       "      <td>134.0</td>\n",
       "      <td>68.0</td>\n",
       "      <td>109.8</td>\n",
       "      <td>160.9</td>\n",
       "      <td>42.4</td>\n",
       "      <td>38.5</td>\n",
       "      <td>37.7</td>\n",
       "      <td>38.3</td>\n",
       "      <td>110.1</td>\n",
       "      <td>2.0</td>\n",
       "    </tr>\n",
       "    <tr>\n",
       "      <th>5</th>\n",
       "      <td>83736</td>\n",
       "      <td>2.0</td>\n",
       "      <td>1.0</td>\n",
       "      <td>1.0</td>\n",
       "      <td>2</td>\n",
       "      <td>2</td>\n",
       "      <td>42</td>\n",
       "      <td>4</td>\n",
       "      <td>1.0</td>\n",
       "      <td>4.0</td>\n",
       "      <td>3.0</td>\n",
       "      <td>5</td>\n",
       "      <td>17627.67</td>\n",
       "      <td>2</td>\n",
       "      <td>126</td>\n",
       "      <td>1.23</td>\n",
       "      <td>100.0</td>\n",
       "      <td>70.0</td>\n",
       "      <td>114.0</td>\n",
       "      <td>54.0</td>\n",
       "      <td>55.2</td>\n",
       "      <td>164.9</td>\n",
       "      <td>20.3</td>\n",
       "      <td>37.4</td>\n",
       "      <td>36.0</td>\n",
       "      <td>27.2</td>\n",
       "      <td>80.4</td>\n",
       "      <td>2.0</td>\n",
       "    </tr>\n",
       "  </tbody>\n",
       "</table>\n",
       "</div>"
      ],
      "text/plain": [
       "    SEQN  ALQ101  ALQ110  ALQ130  SMQ020  RIAGENDR  RIDAGEYR  RIDRETH1  \\\n",
       "1  83732     1.0     NaN     1.0       1         1        62         3   \n",
       "2  83733     1.0     NaN     6.0       1         1        53         3   \n",
       "3  83734     1.0     NaN     NaN       1         1        78         3   \n",
       "4  83735     2.0     1.0     1.0       2         2        56         3   \n",
       "5  83736     2.0     1.0     1.0       2         2        42         4   \n",
       "\n",
       "   DMDCITZN  DMDEDUC2  DMDMARTL  DMDHHSIZ   WTINT2YR  SDMVPSU  SDMVSTRA  \\\n",
       "1       1.0       5.0       1.0         2  134671.37        1       125   \n",
       "2       2.0       3.0       3.0         1   24328.56        1       125   \n",
       "3       1.0       3.0       1.0         2   12400.01        1       131   \n",
       "4       1.0       5.0       6.0         1  102718.00        1       131   \n",
       "5       1.0       4.0       3.0         5   17627.67        2       126   \n",
       "\n",
       "   INDFMPIR  BPXSY1  BPXDI1  BPXSY2  BPXDI2  BMXWT  BMXHT  BMXBMI  BMXLEG  \\\n",
       "1      4.39   128.0    70.0   124.0    64.0   94.8  184.5    27.8    43.3   \n",
       "2      1.32   146.0    88.0   140.0    88.0   90.4  171.4    30.8    38.0   \n",
       "3      1.51   138.0    46.0   132.0    44.0   83.4  170.1    28.8    35.6   \n",
       "4      5.00   132.0    72.0   134.0    68.0  109.8  160.9    42.4    38.5   \n",
       "5      1.23   100.0    70.0   114.0    54.0   55.2  164.9    20.3    37.4   \n",
       "\n",
       "   BMXARML  BMXARMC  BMXWAIST  HIQ210  \n",
       "1     43.6     35.9     101.1     2.0  \n",
       "2     40.0     33.2     107.9     NaN  \n",
       "3     37.0     31.0     116.5     2.0  \n",
       "4     37.7     38.3     110.1     2.0  \n",
       "5     36.0     27.2      80.4     2.0  "
      ]
     },
     "execution_count": 3,
     "metadata": {},
     "output_type": "execute_result"
    }
   ],
   "source": [
    "df.head()"
   ]
  },
  {
   "cell_type": "markdown",
   "id": "9cb91c73",
   "metadata": {},
   "source": [
    "### Goal\n",
    "We want to find the mean of first 100 rows of 'BPXSY1' when 'RIDAGEYR' > 60"
   ]
  },
  {
   "cell_type": "code",
   "execution_count": 6,
   "id": "eeae26e8",
   "metadata": {},
   "outputs": [
    {
     "ename": "AttributeError",
     "evalue": "module 'pandas' has no attribute 'df'",
     "output_type": "error",
     "traceback": [
      "\u001b[1;31m---------------------------------------------------------------------------\u001b[0m",
      "\u001b[1;31mAttributeError\u001b[0m                            Traceback (most recent call last)",
      "Cell \u001b[1;32mIn[6], line 2\u001b[0m\n\u001b[0;32m      1\u001b[0m \u001b[38;5;66;03m# One possible way of doing this is:\u001b[39;00m\n\u001b[1;32m----> 2\u001b[0m pd\u001b[38;5;241m.\u001b[39mdf[df\u001b[38;5;241m.\u001b[39mRIDAGEYR \u001b[38;5;241m>\u001b[39m \u001b[38;5;241m60\u001b[39m]\u001b[38;5;241m.\u001b[39mloc[\u001b[38;5;28mrange\u001b[39m(\u001b[38;5;241m0\u001b[39m,\u001b[38;5;241m100\u001b[39m), \u001b[38;5;124m'\u001b[39m\u001b[38;5;124mBPXSY1\u001b[39m\u001b[38;5;124m'\u001b[39m]\u001b[38;5;241m.\u001b[39mmean()\n",
      "File \u001b[1;32mD:\\anakonda\\Lib\\site-packages\\pandas\\__init__.py:264\u001b[0m, in \u001b[0;36m__getattr__\u001b[1;34m(name)\u001b[0m\n\u001b[0;32m    260\u001b[0m     \u001b[38;5;28;01mfrom\u001b[39;00m \u001b[38;5;21;01mpandas\u001b[39;00m\u001b[38;5;21;01m.\u001b[39;00m\u001b[38;5;21;01mcore\u001b[39;00m\u001b[38;5;21;01m.\u001b[39;00m\u001b[38;5;21;01marrays\u001b[39;00m\u001b[38;5;21;01m.\u001b[39;00m\u001b[38;5;21;01msparse\u001b[39;00m \u001b[38;5;28;01mimport\u001b[39;00m SparseArray \u001b[38;5;28;01mas\u001b[39;00m _SparseArray\n\u001b[0;32m    262\u001b[0m     \u001b[38;5;28;01mreturn\u001b[39;00m _SparseArray\n\u001b[1;32m--> 264\u001b[0m \u001b[38;5;28;01mraise\u001b[39;00m \u001b[38;5;167;01mAttributeError\u001b[39;00m(\u001b[38;5;124mf\u001b[39m\u001b[38;5;124m\"\u001b[39m\u001b[38;5;124mmodule \u001b[39m\u001b[38;5;124m'\u001b[39m\u001b[38;5;124mpandas\u001b[39m\u001b[38;5;124m'\u001b[39m\u001b[38;5;124m has no attribute \u001b[39m\u001b[38;5;124m'\u001b[39m\u001b[38;5;132;01m{\u001b[39;00mname\u001b[38;5;132;01m}\u001b[39;00m\u001b[38;5;124m'\u001b[39m\u001b[38;5;124m\"\u001b[39m)\n",
      "\u001b[1;31mAttributeError\u001b[0m: module 'pandas' has no attribute 'df'"
     ]
    }
   ],
   "source": [
    "# One possible way of doing this is:\n",
    "pd.Series.mean(df[df.RIDAGEYR > 60].loc[range(0,100), 'BPXSY1']) \n",
    "# Current version of python will include this warning, older versions will not"
   ]
  },
  {
   "cell_type": "code",
   "execution_count": null,
   "id": "a3f478fb",
   "metadata": {},
   "outputs": [],
   "source": [
    "# test our code on only ten rows so we can easily check\n",
    "test = pd.DataFrame({'col1': np.repeat([3,1],5), 'col2': range(3,13)}, index=range(1,11))\n",
    "test"
   ]
  },
  {
   "cell_type": "code",
   "execution_count": null,
   "id": "beec9356",
   "metadata": {},
   "outputs": [],
   "source": [
    "# pd.Series.mean(df[df.RIDAGEYR > 60].loc[range(0,5), 'BPXSY1'])\n",
    "# should return 5\n",
    "\n",
    "pd.Series.mean(test[test.col1 > 2].loc[range(0,5), 'col2'])"
   ]
  },
  {
   "cell_type": "markdown",
   "id": "c1cec42e",
   "metadata": {},
   "source": [
    "What went wrong?"
   ]
  },
  {
   "cell_type": "code",
   "execution_count": null,
   "id": "9c8d4f35",
   "metadata": {},
   "outputs": [],
   "source": [
    "test[test.col1 > 2].loc[range(0,5), 'col2']\n",
    "# 0 is not in the row index labels because the second row's value is < 2. For now, pandas defaults to filling this\n",
    "# with NaN"
   ]
  },
  {
   "cell_type": "code",
   "execution_count": null,
   "id": "45ed11c5",
   "metadata": {},
   "outputs": [],
   "source": [
    "# Using the .iloc method instead, we are correctly choosing the first 5 rows, regardless of their row labels\n",
    "test[test.col1 >2].iloc[range(0,5), 1]"
   ]
  },
  {
   "cell_type": "code",
   "execution_count": null,
   "id": "bd931864",
   "metadata": {},
   "outputs": [],
   "source": [
    "pd.Series.mean(test[test.col1 >2].iloc[range(0,5), 1])"
   ]
  },
  {
   "cell_type": "code",
   "execution_count": null,
   "id": "14562774",
   "metadata": {},
   "outputs": [],
   "source": [
    "# We can compare what our real dataframe looks like with the incorrect and correct methods\n",
    "df[df.RIDAGEYR > 60].loc[range(0,5), :] # Filled with NaN whenever a row label does not meet the condition"
   ]
  },
  {
   "cell_type": "code",
   "execution_count": null,
   "id": "6e9f7c12",
   "metadata": {},
   "outputs": [],
   "source": [
    "df[df.RIDAGEYR > 60].iloc[range(0,5), :] # Correct picks the first fice rows such that 'RIDAGEYR\" > 60"
   ]
  },
  {
   "cell_type": "code",
   "execution_count": 7,
   "id": "e3b3a0e4",
   "metadata": {},
   "outputs": [
    {
     "name": "stdout",
     "output_type": "stream",
     "text": [
      "136.29166666666666\n",
      "136.29166666666666\n"
     ]
    }
   ],
   "source": [
    "# Applying the correct method to the original question about BPXSY1\n",
    "print(pd.Series.mean(df[df.RIDAGEYR > 60].iloc[range(0,100), 16]))\n",
    "\n",
    "# Another way to reference the BPXSY1 variable\n",
    "print(pd.Series.mean(df[df.RIDAGEYR > 60].iloc[range(0,100), df.columns.get_loc('BPXSY1')]))"
   ]
  },
  {
   "cell_type": "markdown",
   "id": "eccb970b-a5d2-4371-8b6d-2e10d0e4409c",
   "metadata": {},
   "source": [
    "# Practice work(1.5 point)"
   ]
  },
  {
   "cell_type": "code",
   "execution_count": 1,
   "id": "9bed8258-ebed-46a1-8978-89f58237891c",
   "metadata": {},
   "outputs": [],
   "source": [
    "import warnings\n",
    "warnings.simplefilter(action='ignore', category=FutureWarning)\n",
    "warnings.simplefilter(action='ignore', category=DeprecationWarning)\n",
    "warnings.simplefilter(action='ignore', category=UserWarning)"
   ]
  },
  {
   "cell_type": "markdown",
   "id": "3281f63e-a8fa-4043-bb56-df471de982ea",
   "metadata": {},
   "source": [
    "## Distinguishing Between Probability & Non-Probability Samples"
   ]
  },
  {
   "cell_type": "markdown",
   "id": "5ba74ff7-9421-400a-a999-d9d0ba58713b",
   "metadata": {},
   "source": [
    "1st, 2nd, 3rd questions in this assessment, you'll read a description of a sample, and decide whether or not it is a probably or non-probability sample.\n"
   ]
  },
  {
   "cell_type": "markdown",
   "id": "1167675e-ec2c-40c6-bbb9-71e0f1df98a4",
   "metadata": {},
   "source": [
    "#### Task 1: Is this a probably or non-probability sample? (0.1p)\n"
   ]
  },
  {
   "cell_type": "markdown",
   "id": "543cd0d8-c971-4898-bacf-94a2924851fc",
   "metadata": {},
   "source": [
    "A doctoral student in psychology wants to collect opinion information from the general campus population but doesn't have a large budget for her research. She decides to go out on one of the busiest campus streets, wait on the corner, and ask people walking by if they would like to answer a few brief questions. She ultimately speaks with 100 people and analyzes the data."
   ]
  },
  {
   "cell_type": "code",
   "execution_count": null,
   "id": "5db00198-1e09-4a10-9577-3f639c107720",
   "metadata": {},
   "outputs": [],
   "source": [
    "# probably sample or non-probability sample\n",
    "# Your answer: non-probability, because \n",
    "# There is no guarantee that all respondents are campus population (lack of representation)\n",
    "# The 100 people have not been selected at random (risk of sampling bias).\n",
    "# time can be important \n"
   ]
  },
  {
   "cell_type": "markdown",
   "id": "af0a9eea-66fb-4e30-882f-932f7d44a2f0",
   "metadata": {},
   "source": [
    "#### Task 2: Is this a probably or non-probability sample? (0.1p)"
   ]
  },
  {
   "cell_type": "markdown",
   "id": "91ab2220-381f-40b6-a247-9df8ff6538cc",
   "metadata": {},
   "source": [
    "A University survey research center selects a random sample of counties in the U.S. using probability proportionate to size, with a certain number of counties to be sampled from each of the four major regions of the United States. One hundred housing units are then selected at random within each randomly selected county, from all available housing units within each county, and one adult is selected at random within each household and invited to participate in a survey."
   ]
  },
  {
   "cell_type": "code",
   "execution_count": null,
   "id": "56ab9be3-7ef4-4063-b3f0-931e739db5ac",
   "metadata": {},
   "outputs": [],
   "source": [
    "# probably sample or non-probability sample\n",
    "# Your answer: probably sample"
   ]
  },
  {
   "cell_type": "markdown",
   "id": "8da9d514-b7e6-4976-8db2-30104394af92",
   "metadata": {},
   "source": [
    "#### Task 3: Is this a probably or non-probability sample? (0.1p)"
   ]
  },
  {
   "cell_type": "markdown",
   "id": "15bc1782-794a-4b4f-9233-d241e30c8562",
   "metadata": {},
   "source": [
    "A researcher visits a homeless shelter in a nearby city, tells some individuals currently residing in the center that they can receive compensation for participating in a survey, and indicates that they should also tell everyone in their social networks about this opportunity."
   ]
  },
  {
   "cell_type": "code",
   "execution_count": null,
   "id": "d7ea8333-f15e-413d-83e7-4ab38da722a9",
   "metadata": {},
   "outputs": [],
   "source": [
    "# probably sample or non-probability sample\n",
    "# Your answer: non-probability"
   ]
  },
  {
   "cell_type": "markdown",
   "id": "bd8b918e-2a5e-4d49-b7aa-b52c175c1bc6",
   "metadata": {},
   "source": [
    "## Working with Randomness and Random Sampling from a Population."
   ]
  },
  {
   "cell_type": "markdown",
   "id": "aab7189b-d53e-4929-a728-b9d276b2d46b",
   "metadata": {},
   "source": [
    "#### Task 4: Generating Random Numbers with random.uniform() function. (0.2p)"
   ]
  },
  {
   "cell_type": "markdown",
   "id": "5fd14888-d95c-417b-aa78-a33c6d6ef53e",
   "metadata": {},
   "source": [
    "1. Describe what the random.uniform(a, b) function does and its purpose.\n",
    "\n",
    "Python random.uniform() function is a part of the random module which is used to generate a random floating number between the two specified numbers. It takes two parameters(a, b) and returns a random floating number between a and b, inclusive of a but exclusive of b.\n",
    "\n",
    "2. Write a Python program that uses the random.uniform() function to generate 100 random numbers between 30 (inclusive) and 50 (exclusive)."
   ]
  },
  {
   "cell_type": "code",
   "execution_count": 28,
   "id": "3a69ddcc-5168-4eaf-8850-ea3b0529500b",
   "metadata": {},
   "outputs": [
    {
     "name": "stdout",
     "output_type": "stream",
     "text": [
      "[48.078767336743816, 44.58602288075644, 31.931420106070185, 31.023569035364506, 47.30475645450029, 30.403570874532747, 46.20715992294332, 44.115233521823335, 39.93825658654809, 47.673133509423046, 38.586292061939766, 42.78254408805278, 47.80814263441816, 30.633940022260052, 47.10974122783685, 48.23815154456304, 46.10233666063464, 47.95685301493161, 40.057197460567366, 45.8598356703296, 39.12630836095744, 39.07846611766168, 31.36708895525785, 44.37817818289151, 49.057751435517844, 41.52346843305135, 32.01735308575713, 36.40549369250247, 39.251877245461664, 34.63198459300103, 34.944940851360975, 45.26395023914342, 32.37429455400252, 35.27380593687723, 47.18023081597889, 38.79307419012913, 41.118634032785735, 44.27752679878164, 38.98507534459898, 48.258201794382394, 48.81778480788869, 37.70070259685692, 46.18433780626371, 43.884779238673, 40.984334473597286, 31.33351721662687, 49.375980666811856, 46.820330436557356, 41.73693088294064, 32.35336753223037, 46.989923639676576, 45.16279795202797, 42.47585425396832, 46.957306196395756, 40.17782365784518, 48.23592419155291, 33.292097785808835, 41.54904096652321, 43.475406703725454, 31.27962613471159, 47.58371448581436, 30.516660159554462, 40.59656400862387, 31.99841167316477, 43.91376932675761, 43.54774475088546, 41.205186810849135, 36.6946908646327, 37.358197300627985, 39.30398683447572, 34.53819454635854, 44.12314531129611, 35.56200596906312, 39.11466254282016, 38.32654434490231, 32.47957252407257, 36.417298371852944, 41.309708715015574, 49.41885642618224, 30.435971244133984, 46.431608814486474, 38.704143576529034, 42.4450714639737, 35.109024532924444, 40.948732005057686, 48.43932015409989, 31.90956194266429, 44.99468733451154, 30.04533082317977, 31.182196698538384, 44.68469832416305, 30.724184927991608, 38.891254122494395, 38.20594952183004, 32.97994363880779, 45.48450810632883, 49.89706085965594, 31.01832296350373, 38.45617477779814, 49.37982630364623, 30.80700448818996, 45.37462100265191, 42.145343197325964, 33.178138223933026, 38.222481984504256, 44.81168570538291, 33.52929930880315, 41.23632200111487, 43.234462573882276, 36.6037948055801, 45.840585426316274, 33.077376105405705, 48.47862067910023, 44.852813969161794, 35.17246246261736, 41.77380736338819, 39.7084675097053, 46.45666506005101, 41.98415698844222, 47.92258946058078, 37.49667914433888, 45.93924490402584, 42.8415305792839, 41.93115673667797, 43.79306885524186, 46.24895593688602, 38.15730908976043, 46.48019535497437, 36.434056906668516, 35.51718569477728, 44.65528070027359, 37.32450433205502, 48.02671951589166, 39.228837465690866, 41.20584438774681, 49.56748425066773, 43.33992212526934, 44.540773815421396, 49.094992826405914, 39.68629910197649, 31.338535980918795, 31.19676438562685, 44.01703153887607, 33.750284608292404, 41.73938404692055, 43.91715901238847, 37.0921246182262, 44.27894064636392, 31.10286799015028, 38.6032856543663, 46.13168723815161, 39.19181259280029, 41.164905924173084, 33.90079047005107, 38.02604258090592, 45.35701314139053, 32.13636658720134, 35.789515365419774, 34.48798398683071, 30.40041197198406, 31.225350493641606, 48.4944895145007, 37.00388541475246, 49.081822155902955, 31.177448041251505, 35.87034271969162, 34.019563034233435, 31.992052258403415, 43.64154702378002, 46.93444840523642, 39.29696445943752, 32.95318908695829, 45.52822023625092, 30.011955564889092, 32.209983615668506, 33.114990723333726, 38.95761081213551, 49.857640818748564, 44.6996384394961, 39.37426285484223, 38.78157115429259, 34.259815773559986, 49.14970030274917, 30.185411931639138, 47.46691894482928, 45.22151370281418, 33.56895789497806, 43.92601318039286, 33.1456831946179, 44.41400179378532, 48.335482779668936, 43.75108276219806, 34.213184492546446, 40.95516065196313, 32.01383553252827, 48.16894363154316, 38.14404598800167, 37.952785512133445, 48.65845126876371, 33.35900006416233, 47.67654336071061, 30.692911616539448, 44.764851383528224, 36.240215785291, 49.01510016200879, 37.925334519199964, 49.6803812669688, 34.642691250824, 31.33490880110373, 40.20550196006605, 49.91222849801298, 35.45418305483313, 39.64984433742026, 36.70926919855799, 31.083578888499904, 35.655195025198175, 46.13797761014001, 49.776587172050775, 40.24745690190422, 49.62165469726497, 30.896063995667298, 34.083287929868234, 42.40708887896575, 37.81561891640793, 48.1609475772827, 36.405449317400034, 45.91078351481805, 37.01842263829924, 43.26247167783101, 33.695664464365095, 48.205726752380556, 34.75116301437711, 30.59023420536095, 42.47665403348918, 49.81395311225424, 34.528701617359616, 47.302749475101535, 33.09457850351379, 45.41603411317095, 31.108456971576402, 46.278819994958205, 38.63919278739065, 38.781051700625845, 38.11889797004179, 36.45943273402557, 43.119683266320024, 36.48643675957795, 44.717670475680364, 33.57519928778949, 33.13544461536555, 49.4326962011947, 32.27838645750375, 47.24870047150159, 49.55673554021072, 35.55081937033752, 36.69880080575698, 44.02550461391576, 48.9009514400836, 40.011581591578434, 38.686719672901575, 31.465572635287316, 41.00299427889726, 30.24053117121652, 41.080410613040215, 31.355638837778635, 49.51995431885364, 40.385877345803706, 49.071426441212196, 39.061680320553684, 33.73581828411587, 34.47156032594501, 45.51533159709802, 38.871634581276425, 41.15844380217909, 48.70745970496814, 43.070358270420286, 37.69699026593752, 37.137962182201214, 46.643176283283495, 32.66766196619896, 32.20427070786101, 32.38285094949191, 38.80934924053169, 49.858066102128205, 36.95561210298451, 37.30793058600685, 39.95451912409049, 37.283402228954394, 49.13879858798377, 42.45788945947084, 37.46963128985731, 41.24258360244001, 40.63205234597802, 47.78967288104347, 35.33873040814605, 31.85219736795237, 45.448803930126395, 36.87345652705226, 43.47260439197406, 41.65077892502711, 47.017310703890885, 43.97317283543389, 41.78653187066598, 43.11600762208326, 48.655550171981304, 36.35927462001389, 37.94292369435753, 33.00938231859446, 37.98336017824846, 36.2728307293185, 30.499112909285994, 37.65751356604057, 33.74172588210198, 43.31024145272947, 31.25817214939065, 31.747849953557342, 46.006769204343016, 49.02951964547917, 47.451113724006646, 38.9347186229806, 49.042431915287914, 31.511125395595897, 41.7006042898828, 39.492439609392676, 40.41963640607358, 41.75923188545934, 34.357591877418315, 46.702218946703894, 33.45316521143056, 46.05230617491685, 35.34236368018854, 47.36603815126093, 46.14469407023796, 36.684614349895774, 42.92731404600947, 43.38075832518001, 42.488246708152396, 39.85026067839718, 43.7543550371384, 32.239969998204664, 48.75834886265463, 38.33753746201012, 31.783593058096034, 35.54463322210955, 37.53414021088855, 36.39687242339507, 48.770168378936134, 46.09064443647, 38.63061245829185, 36.70772585991935, 33.02336779421685, 32.82274754755294, 46.93705658244309, 45.817306974785026, 48.058952522091, 45.475609667547374, 30.78252237162918, 43.53015877456336, 31.895608899030815, 49.79128047859834, 32.14422215070897, 40.56050966545763, 32.16280954596754, 41.657177019199914, 38.85457010154451, 42.308470988030734, 40.70488158948266, 30.87120440220741, 46.801421725087835, 42.02181501384403, 49.348751255615944, 35.02140585277357, 38.948745245941595, 45.81854491657043, 36.04081534650971, 43.32052584950762, 48.34628356464688, 42.95763324609504, 46.374805529903185, 47.6341065942326, 46.189946701490854, 47.88483133939653, 40.30652852504934, 39.750670605015166, 48.519055038910196, 34.99478101853817, 44.55656394574121, 40.42391283090075, 30.362346667592305, 40.29970117536781, 46.12857022773771, 42.16050712356318, 30.238378693118758, 47.05527389859921, 48.181568978615395, 40.15735924866803, 40.93012066494498, 35.35541415454133, 33.85180416951036, 35.65239305978989, 46.78706720846328, 36.79832518010872, 30.666626774201717, 46.77697684482858, 32.24611873848411, 44.434252067384776, 30.96449350403296, 37.53309830739027, 48.97743667814191, 34.427122524570564, 49.14392361664365, 40.36426435718807, 46.47203723449874, 38.6423390821157, 46.040247617857, 41.80597901911087, 42.6952734864321, 49.22860996509512, 45.557867472754964, 49.99300078578102, 31.94426691695036, 44.03310677630322, 41.367912933746084, 38.36039364666348, 47.79416667477738, 49.21603912657071, 31.501726830119384, 48.25180231869366, 47.601959748657364, 48.11435273739166, 49.255833394529986, 46.589201155606716, 45.515594222885184, 32.88373313929441, 32.295036934171975, 44.11305437764852, 44.4817494939611, 36.93432771652669, 40.47370863913745, 33.80291914888307, 45.54651426653454, 31.031490632450158, 46.36492800842609, 35.34952307073683, 40.18496525639064, 41.19999047866781, 46.783912221112814, 41.69575868568623, 43.80484651392408, 36.42063328606163, 31.49703366268204, 33.443263529061205, 30.089997479614542, 41.57449739406041, 30.009752697451628, 34.481838655328, 44.47987434915137, 35.19433151857362, 38.654709960437444, 38.345060641857735, 43.73696943431371, 39.90872527888922, 48.03013099308356, 32.39966508135386, 38.391394971421825, 37.08845682307611, 47.012416401598, 48.380343692346024, 42.634368255220515, 34.22163546423608, 35.70819079577527, 41.493989322129146, 36.90727186938594, 31.146807268739693, 34.702417839634066, 40.0261884286716, 43.508244418174264, 37.9218586222383, 42.98490540689632, 37.958712171117966, 37.034192240158426, 40.567264018300065, 32.883359622305356, 44.48220010197795, 48.641419196656194, 47.55015541955261, 33.8006052068333, 47.75375010522955, 45.377266127925836, 46.9403975048825, 30.459338645899845, 49.9235090833528, 49.86435164082287, 47.866911251465666, 49.579716322136434, 41.05167968831348, 39.783949313394444, 35.093462928239276, 48.33708110248286, 38.26441751401682, 47.852008077140184, 43.390025327564345, 41.37020846666016, 46.294864988294556, 48.64873286772963, 37.26077444702498, 35.02590854772849, 40.881760477551936, 32.37140052079936, 44.91740852792876, 43.756585765318874, 47.104810551404846, 34.00155210146438, 34.90800340656818, 47.69024565284902, 30.7227354523656, 34.38495552077786, 35.425905083639805, 46.31157933555677, 35.58507231479872, 32.8151630871488, 42.78132952359708, 40.29916353976736, 37.05740534731723, 40.91451375601828, 40.19892306998139, 41.79022359430561, 30.303552960361632, 42.23825102792289, 37.4577971370355, 42.264494329116424, 33.55559846318601, 43.28608079483615, 41.95804408412975, 46.20470674962873, 49.03744987524807, 38.71182153945258, 33.26465161723738, 34.79985362504692, 40.77744994103258, 31.658153505057168, 33.48034403771324, 36.809123937889325, 48.11549846147251, 32.455317010346555, 34.11720642641514, 44.79059869160304, 44.074352048723945, 49.98908778196387, 49.30503880071855, 42.69561454506551, 39.40598977134044, 41.220473769484606, 44.967979457837345, 49.019301687585724, 33.21998401061969, 49.238003311071495, 48.56625181762911, 47.003978765666915, 32.68402738780037, 40.278437587283236, 31.75861013843025, 39.087004884650334, 31.61331425278543, 49.46319654982325, 38.40989546923997, 41.28056798818716, 37.25709332042142, 48.283479961414656, 32.67039101554458, 37.73149306484166, 45.168009932546596, 35.725269357481054, 39.09662637460378, 45.5389002509049, 43.33891990982698, 35.55145905844605, 49.87961543801663, 46.77879015245115, 35.637487872916054, 34.93416884858681, 31.46446884135168, 44.85968369498288, 33.72558518495865, 34.7666674458915, 44.00443257744555, 46.53966077098073, 38.623672997650374, 43.25959485000591, 38.53904365991534, 39.373205580822386, 41.462371295265626, 30.998744500940383, 38.49101356000137, 42.79462195729499, 49.19404011140609, 35.1401511536083, 39.641407079383676, 42.69499363537779, 45.02311692412795, 44.24860848884547, 31.951857370059646, 43.23734996802847, 31.230338706862245, 30.030736111298832, 34.60922308404697, 35.00645581586653, 44.83358524267004, 46.92368783918158, 33.468339948994014, 30.356873391919635, 31.698656475903235, 40.92514372571788, 39.375510321791474, 39.51355886248471, 42.41745214953052, 36.91584864919635, 34.43377497619231, 47.32963590818568, 44.93950082844824, 35.650026223431084, 32.665009993985656, 34.23486539594425, 34.51953633743164, 42.31930555845376, 32.67864857072796, 32.562974447024374, 47.70145129623654, 39.85078878356414, 39.020241166645675, 33.62916148543179, 39.123755283989624, 37.24223948209007, 43.489055982094555, 30.95802950335376, 49.90247251192491, 43.16738632388791, 40.42331554376189, 47.545281401913606, 33.73402596909321, 31.99615030522417, 48.51142306357236, 40.526632265599346, 38.6395192139269, 30.696907822381597, 44.219508972534804, 33.79208766389561, 34.60585841274795, 46.542092024719125, 44.230082149187055, 40.6846056117395, 40.84040117743389, 40.109961759028046, 35.9546497726956, 46.22670647260111, 30.316290521341607, 44.96158119973862, 43.34305603584081, 39.24242724943543, 48.00431068063694, 42.5170868176139, 47.688298312998796, 45.43716349608389, 34.93168210513982, 43.267737850989185, 45.83191358954593, 36.22146806822329, 45.056328397215, 31.119554025003314, 37.66637527588431, 44.031251512792636, 44.4453349455285, 34.88882581628404, 41.79486202860746, 40.52449037735656, 34.82694061559472, 42.90428051933183, 31.091409347983216, 49.81560811003283, 48.674207078998165, 36.20973146070575, 31.624276168968382, 38.39372898827318, 43.30329190255362, 42.9081239512862, 41.8410533592485, 35.79622274808725, 44.92260873126364, 38.902110851532925, 39.045118022760626, 43.290124504731025, 31.364965516301613, 49.87328317190919, 41.39013298105905, 45.747927790063365, 34.304985361930626, 38.28529875670258, 48.39016095972489, 47.46217269075291, 47.39456468435992, 36.51136303222182, 44.37293429532295, 45.60536036449874, 36.56059115799397, 45.70368388083209, 32.70135666493522, 49.447225043869494, 32.2953207362208, 41.20550324549019, 44.96645024988466, 33.45833081448918, 49.05708367117602, 36.643769586270025, 42.607291646548966, 31.74769187253308, 35.61569146225248, 34.27528358911414, 39.74831425710727, 38.45039608145346, 38.020567547482806, 33.93404133695089, 48.30544021456506, 41.668259110908636, 47.66681996444345, 37.06158508242066, 45.31580447553646, 41.254496118970984, 42.44564263192695, 39.86929367169236, 39.29532849344497, 31.717892245650297, 39.57381584554244, 42.540883217999756, 33.07401862890881, 47.302703379735014, 32.702908220935655, 30.87984927745769, 44.36197826933927, 32.46650234211107, 45.779885654175025, 31.948345563166576, 35.11045100955751, 40.09219479814131, 38.15599898514224, 38.32433813752988, 31.154174416529003, 33.644096898993375, 31.71613265898995, 39.768853533769104, 41.72346865239662, 32.153602578246314, 47.34081560115382, 45.34438069980675, 45.223065472058146, 41.3012477307446, 37.95077017624748, 31.96309888846673, 43.945722696856016, 43.41382220251725, 46.09132364601197, 43.27600173819859, 30.158452242846025, 44.26345307605998, 42.62325047553643, 37.060754822916444, 43.89267168696932, 48.00421762218963, 35.457944595311076, 43.17916053153507, 39.675416478188055, 43.467748895258794, 42.82220800116631, 47.531400915377574, 44.41392640654212, 41.7822952506847, 37.881549212863916, 36.991419450010426, 43.184600193576316, 42.38313411137625, 46.32224552575861, 33.96749822102201, 30.897475026525665, 49.882158986528395, 32.29934058437321, 32.48595067654904, 39.294971995843724, 44.858845074756054, 31.278918710357157, 43.050697329214714, 47.292901711178644, 35.120381445537795, 45.177371791453275, 34.70031027906338, 34.640274486623234, 38.6403883193874, 37.46277044348616, 38.94991139767252, 39.6812327947775, 38.88554874251423, 35.01381559717663, 44.44369417235496, 46.415614505124225, 37.76005384313555, 46.65953602925535, 36.69612862647063, 47.0841426375667, 36.45341709972742, 34.136340419294804, 31.39197886125372, 35.99112983179977, 42.941116182549145, 38.75206673134349, 31.84300575506102, 30.02018965338355, 48.24922985991583, 31.5002443834466, 47.90877620663096, 42.555030760515926, 47.34902776926825, 30.596921884353623, 45.769759925147255, 31.706781229432032, 43.20723891128369, 41.52842366640716, 30.704608184303233, 46.847380290061295, 49.92897546206832, 37.86073042264425, 44.15964126279165, 38.2460465437543, 45.25890968703271, 46.65050024814994, 35.45898563780894, 33.03121921325545, 46.89367501406721, 48.332261256870666, 31.80204860262028, 32.39413958053271, 48.714654620033244, 35.796619172103185, 34.60526784781401, 37.80096403109959, 40.009039887254474, 46.19336057379542, 45.65268769704839, 44.70692486322193, 34.36047660613647, 36.96529682832486, 33.94451236529013, 48.60470488502409, 46.951332079940116, 41.45643239791913, 44.302571437419644, 47.67154400980577, 36.518494864108995, 38.90978555793268, 44.71853984735215, 37.59516484880749, 34.13760592344045, 44.58590194739699, 39.490975286004726, 41.20472025264359, 31.87233220728005, 31.107743182955137, 39.98438256619238, 40.45183817872001, 34.47994733638445, 41.90774236582739, 46.23384497482355, 46.82274824172363, 35.36058946658481, 44.520444782852955, 44.98328755474522, 49.30270507031906, 31.439527449520522, 43.59729310555421, 31.76334995930017, 42.187863990317176, 42.78021973202751, 42.14988085696244, 43.125216127169686, 43.40358733118111, 34.7307033996756, 45.418711837099586, 37.897205080994176, 47.21266433031426, 48.330569333046284, 36.67491605795365, 43.96071468265551, 35.11333111270743, 41.60188628248699, 45.241070395447295, 41.661370742077125, 31.27266088568378, 42.10311350775354, 36.73789060015212, 47.773479967136126, 38.017967822806845, 49.97674361117331, 31.233285762659552, 37.877311885483785, 37.801367364092634, 44.22012879335594, 32.36240458377334, 49.811839767369165, 37.174059998813675, 31.544409601217627, 35.17953456289864, 38.906663583281286, 39.24641130419477, 44.819335336246226, 49.202074827226284, 44.246065891810645, 42.95948655239835, 47.421900674769276, 46.78551672540576, 40.02859012903187, 31.808118552637353, 44.817912527030096, 37.27891411858019, 47.271067633032075, 45.07477524808218, 47.4728993970437, 43.75653084061593, 39.528384469244585, 42.6358404746059, 43.4165076361594, 34.926781893424995, 38.31231942249692, 48.62019317747527, 39.65461357264423, 42.57217316133357, 33.263766432616364, 46.03626453812376, 36.338057157508274, 44.985982260722714, 37.851340389351066, 39.21621776652533, 43.9394611211403, 36.69278224714727, 35.963986294989134, 41.854486850614904, 44.28454499994199, 30.738661806911725, 31.783435193552275, 33.64293838938997, 41.756307768811816, 42.103111503151155, 42.1796814748017, 42.02642693079234, 31.9219817706433, 35.84882731792377, 40.98185944305073, 49.47907758088296, 48.81560034725936, 30.1893107667008, 43.13715728033967, 41.477610505713095, 34.337818440188514, 43.90828457852825, 32.09738451423418, 49.61218850742142, 37.821897642212285, 41.43856885955271, 39.41930172076386, 35.23639983247108, 30.39422901818216, 31.286771185653468, 38.691176736033654, 40.900457180188056, 40.71488638030402, 31.514848375276642, 39.99444342881882, 31.671839608727186, 32.70815204707527, 42.15056359631207, 31.347968507751933, 35.318255450245985, 44.007693771333095, 42.92294954872281, 31.2624863866617, 41.80871864455842, 45.92994085158052, 45.057765556122874, 39.4584245138963, 43.32866787727154, 48.143862689224996, 36.71993174522743, 42.000686847643706, 33.10277062954225, 43.85441308745764, 37.23062200589626, 32.592921508968374, 40.935910392278956, 41.127441598511666, 43.3636179604876, 47.39252805535786, 47.96498767095494, 33.89918640341491, 45.676697442963494]\n"
     ]
    }
   ],
   "source": [
    "# your code and answer\n",
    "import random \n",
    "num_samples = 1000\n",
    "\n",
    "random_numbers = [ random.uniform(30, 50) for _ in range(num_samples)]\n",
    "\n",
    "\n",
    "\n",
    "print(random_numbers)"
   ]
  },
  {
   "cell_type": "markdown",
   "id": "0fdbaa30-e273-4090-b68c-c0be01ad6978",
   "metadata": {},
   "source": [
    "#### Task 5: Generating Random Numbers with random.normalvariate() function. (0.4p)"
   ]
  },
  {
   "cell_type": "markdown",
   "id": "782bff90-e0ba-4327-a9cc-87f9972bc6d1",
   "metadata": {},
   "source": [
    "1. Describe what the random.normalvariate(mu, sigma) function does and its purpose.\n",
    "2. Write a Python program that uses the random.normalvariate() function to generate 1000 random numbers from a normal distribution with a mean of mu = 50 and a standard deviation of sigma = 0.8.\n",
    "3. Visualize the generated data using Seaborn's displot function to create a distribution plot. Label the axes appropriately.\n",
    "4. Answer the following question:\n",
    "   Does the distribution plot resemble a typical bell-shaped curve? Explain why or why not."
   ]
  },
  {
   "cell_type": "code",
   "execution_count": 14,
   "id": "931b7425-bf3c-4ee2-baa3-3d805b5f028e",
   "metadata": {},
   "outputs": [
    {
     "data": {
      "text/plain": [
       "Text(0.5, 1.0, 'Distribution Plot of Random Numbers')"
      ]
     },
     "execution_count": 14,
     "metadata": {},
     "output_type": "execute_result"
    },
    {
     "data": {
      "image/png": "[encoded data removed]",
      "text/plain": [
       "<Figure size 1000x600 with 1 Axes>"
      ]
     },
     "metadata": {},
     "output_type": "display_data"
    }
   ],
   "source": [
    "import random\n",
    "import seaborn as sns\n",
    "import matplotlib.pyplot as plt\n",
    "\n",
    "mu = 50\n",
    "sigma = 0.8\n",
    "num_samples = 1000\n",
    "\n",
    "random_numbers = [random.normalvariate(mu, sigma) for _ in range(num_samples)]\n",
    "\n",
    "sns.set(style=\"whitegrid\")\n",
    "plt.figure(figsize=(10, 6))\n",
    "sns.histplot(random_numbers, kde=True, color=\"blue\")\n",
    "\n",
    "plt.xlabel(\"Value\")\n",
    "plt.ylabel(\"Frequency\")\n",
    "plt.title(\"Distribution Plot of Random Numbers\")"
   ]
  },
  {
   "cell_type": "markdown",
   "id": "38faf562-46ac-47df-9e12-dc5e517381d2",
   "metadata": {},
   "source": [
    "#### Task 6: Generating and Visualizing Sampling Distribution (0.6p)"
   ]
  },
  {
   "cell_type": "markdown",
   "id": "08d8a96d-7d54-4143-9134-2f5dc3ca42e4",
   "metadata": {},
   "source": [
    "1. Generate a population of 1000 random numbers from a normal distribution with a mean of mu = 0 and a standard deviation of sigma = 1 using the random.normalvariate(mu, sigma) function.\n",
    "2. Divide the population into three random samples of size 100 each using the random.sample() function.\n",
    "3. Create a subplot with four plots:\n",
    "   - Plot 1: A displot of the entire population.\n",
    "   - Plot 2: A displot of the first random sample.\n",
    "   - Plot 3: A displot of the second random sample.\n",
    "   - Plot 4: A displot of the third random sample.\n",
    "4. Show the mean of the entire population as a vertical line (axvline()) on the histogram of the entire population.\n",
    "5. Sample means and calculate the mean and standard deviation of the sampling distribution of sample means.\n",
    "6. Visualize the sampling distribution of sample means using a distplot."
   ]
  },
  {
   "cell_type": "code",
   "execution_count": 26,
   "id": "ad085803-3e96-4b07-b892-03037b7cb1ff",
   "metadata": {},
   "outputs": [
    {
     "data": {
      "image/png": "[encoded data removed]",
      "text/plain": [
       "<Figure size 1200x800 with 4 Axes>"
      ]
     },
     "metadata": {},
     "output_type": "display_data"
    },
    {
     "data": {
      "image/png": "[encoded data removed]",
      "text/plain": [
       "<Figure size 800x400 with 1 Axes>"
      ]
     },
     "metadata": {},
     "output_type": "display_data"
    },
    {
     "name": "stdout",
     "output_type": "stream",
     "text": [
      "Population Mean: 0.02, Population Std Deviation: 1.00\n",
      "Sampling Mean: -0.12, Sampling Std Deviation: 0.00\n"
     ]
    }
   ],
   "source": [
    "import random\n",
    "import numpy as np\n",
    "import seaborn as sns\n",
    "import matplotlib.pyplot as plt\n",
    "\n",
    "mu = 0\n",
    "sigma = 1\n",
    "population_size = 1000\n",
    "sample_size = 100\n",
    "num_samples = 3\n",
    "\n",
    "population = [random.normalvariate(mu, sigma) for _ in range(population_size)]\n",
    "\n",
    "random_samples = [random.sample(population, sample_size) for _ in range(num_samples)]\n",
    "\n",
    "fig, axes = plt.subplots(2, 2, figsize=(12, 8))\n",
    "\n",
    "sns.histplot(population, kde=True, ax=axes[0, 0])\n",
    "axes[0, 0].set_title(\"Entire Population\")\n",
    "axes[0, 0].axvline(np.mean(population), color='red', linestyle='dashed', linewidth=2, label='Mean')\n",
    "axes[0, 0].legend()\n",
    "\n",
    "sns.histplot(random_samples[0], kde=True, ax=axes[0, 1])\n",
    "axes[0, 1].set_title(\"Sample 1\")\n",
    "\n",
    "sns.histplot(random_samples[1], kde=True, ax=axes[1, 0])\n",
    "axes[1, 0].set_title(\"Sample 2\")\n",
    "\n",
    "sns.histplot(random_samples[2], kde=True, ax=axes[1, 1])\n",
    "axes[1, 1].set_title(\"Sample 3\")\n",
    "\n",
    "population_mean = np.mean(population)\n",
    "population_std = np.std(population)\n",
    "\n",
    "sample_means = [np.mean(sample) for sample in random_samples]\n",
    "sampling_mean = np.mean(sample_means)\n",
    "sampling_std = np.std(sample_means)\n",
    "\n",
    "plt.figure(figsize=(8, 4))\n",
    "sns.histplot(sample_means, kde=True, color=\"green\")\n",
    "plt.title(\"Sampling Distribution of Sample Means\")\n",
    "plt.xlabel(\"Sample Mean\")\n",
    "plt.ylabel(\"Frequency\")\n",
    "plt.axvline(sampling_mean, color='blue', linestyle='dashed', linewidth=2, label='Sampling Mean')\n",
    "plt.legend()\n",
    "\n",
    "\n",
    "\n",
    "plt.tight_layout()\n",
    "plt.show()\n",
    "\n",
    "print(f\"Population Mean: {population_mean:.2f}, Population Std Deviation: {population_std:.2f}\")\n",
    "print(f\"Sampling Mean: {sampling_mean:.2f}, Sampling Std Deviation: {sampling_std:.2f}\")\n"
   ]
  },
  {
   "cell_type": "markdown",
   "id": "1b4a30b8",
   "metadata": {
    "colab_type": "text",
    "id": "MDT07IhatSmn"
   },
   "source": [
    "# Homework Week4"
   ]
  },
  {
   "cell_type": "markdown",
   "id": "92997cc1",
   "metadata": {},
   "source": [
    "In this assignment we'll ask you to plot multiple variables.\n",
    "\n",
    "You will use what you find in this assignment to answer the questions in the quiz that follows. It may be useful to keep this notebook side-by-side with this week's quiz on your screen."
   ]
  },
  {
   "cell_type": "code",
   "execution_count": 5,
   "id": "5080245f",
   "metadata": {
    "colab": {},
    "colab_type": "code",
    "id": "dPO-NCCntSmo"
   },
   "outputs": [],
   "source": [
    "import numpy as np\n",
    "import pandas as pd\n",
    "import seaborn as sns\n",
    "import scipy.stats as stats\n",
    "%matplotlib inline\n",
    "import matplotlib.pyplot as plt\n",
    "pd.set_option('display.max_columns', 100)\n",
    "\n",
    "path = \"Cartwheeldata.csv\" #write your path"
   ]
  },
  {
   "cell_type": "code",
   "execution_count": 6,
   "id": "a117b237",
   "metadata": {
    "colab": {},
    "colab_type": "code",
    "id": "wWRTC7FAtSmr"
   },
   "outputs": [],
   "source": [
    "# First, you must import the cartwheel data from the path given above\n",
    "df = pd.read_csv(path)\n",
    "# using pandas, read in the csv data found at the url defined by 'path'"
   ]
  },
  {
   "cell_type": "code",
   "execution_count": 7,
   "id": "460015e6",
   "metadata": {
    "colab": {},
    "colab_type": "code",
    "id": "fxUTrcaItSmu"
   },
   "outputs": [
    {
     "data": {
      "text/html": [
       "<div>\n",
       "<style scoped>\n",
       "    .dataframe tbody tr th:only-of-type {\n",
       "        vertical-align: middle;\n",
       "    }\n",
       "\n",
       "    .dataframe tbody tr th {\n",
       "        vertical-align: top;\n",
       "    }\n",
       "\n",
       "    .dataframe thead th {\n",
       "        text-align: right;\n",
       "    }\n",
       "</style>\n",
       "<table border=\"1\" class=\"dataframe\">\n",
       "  <thead>\n",
       "    <tr style=\"text-align: right;\">\n",
       "      <th></th>\n",
       "      <th>ID</th>\n",
       "      <th>Age</th>\n",
       "      <th>Gender</th>\n",
       "      <th>GenderGroup</th>\n",
       "      <th>Glasses</th>\n",
       "      <th>GlassesGroup</th>\n",
       "      <th>Height</th>\n",
       "      <th>Wingspan</th>\n",
       "      <th>CWDistance</th>\n",
       "      <th>Complete</th>\n",
       "      <th>CompleteGroup</th>\n",
       "      <th>Score</th>\n",
       "    </tr>\n",
       "  </thead>\n",
       "  <tbody>\n",
       "    <tr>\n",
       "      <th>0</th>\n",
       "      <td>1</td>\n",
       "      <td>56</td>\n",
       "      <td>F</td>\n",
       "      <td>1</td>\n",
       "      <td>Y</td>\n",
       "      <td>1</td>\n",
       "      <td>62.0</td>\n",
       "      <td>61.0</td>\n",
       "      <td>79</td>\n",
       "      <td>Y</td>\n",
       "      <td>1</td>\n",
       "      <td>7</td>\n",
       "    </tr>\n",
       "    <tr>\n",
       "      <th>1</th>\n",
       "      <td>2</td>\n",
       "      <td>26</td>\n",
       "      <td>F</td>\n",
       "      <td>1</td>\n",
       "      <td>Y</td>\n",
       "      <td>1</td>\n",
       "      <td>62.0</td>\n",
       "      <td>60.0</td>\n",
       "      <td>70</td>\n",
       "      <td>Y</td>\n",
       "      <td>1</td>\n",
       "      <td>8</td>\n",
       "    </tr>\n",
       "    <tr>\n",
       "      <th>2</th>\n",
       "      <td>3</td>\n",
       "      <td>33</td>\n",
       "      <td>F</td>\n",
       "      <td>1</td>\n",
       "      <td>Y</td>\n",
       "      <td>1</td>\n",
       "      <td>66.0</td>\n",
       "      <td>64.0</td>\n",
       "      <td>85</td>\n",
       "      <td>Y</td>\n",
       "      <td>1</td>\n",
       "      <td>7</td>\n",
       "    </tr>\n",
       "    <tr>\n",
       "      <th>3</th>\n",
       "      <td>4</td>\n",
       "      <td>39</td>\n",
       "      <td>F</td>\n",
       "      <td>1</td>\n",
       "      <td>N</td>\n",
       "      <td>0</td>\n",
       "      <td>64.0</td>\n",
       "      <td>63.0</td>\n",
       "      <td>87</td>\n",
       "      <td>Y</td>\n",
       "      <td>1</td>\n",
       "      <td>10</td>\n",
       "    </tr>\n",
       "    <tr>\n",
       "      <th>4</th>\n",
       "      <td>5</td>\n",
       "      <td>27</td>\n",
       "      <td>M</td>\n",
       "      <td>2</td>\n",
       "      <td>N</td>\n",
       "      <td>0</td>\n",
       "      <td>73.0</td>\n",
       "      <td>75.0</td>\n",
       "      <td>72</td>\n",
       "      <td>N</td>\n",
       "      <td>0</td>\n",
       "      <td>4</td>\n",
       "    </tr>\n",
       "  </tbody>\n",
       "</table>\n",
       "</div>"
      ],
      "text/plain": [
       "   ID  Age Gender  GenderGroup Glasses  GlassesGroup  Height  Wingspan  \\\n",
       "0   1   56      F            1       Y             1    62.0      61.0   \n",
       "1   2   26      F            1       Y             1    62.0      60.0   \n",
       "2   3   33      F            1       Y             1    66.0      64.0   \n",
       "3   4   39      F            1       N             0    64.0      63.0   \n",
       "4   5   27      M            2       N             0    73.0      75.0   \n",
       "\n",
       "   CWDistance Complete  CompleteGroup  Score  \n",
       "0          79        Y              1      7  \n",
       "1          70        Y              1      8  \n",
       "2          85        Y              1      7  \n",
       "3          87        Y              1     10  \n",
       "4          72        N              0      4  "
      ]
     },
     "execution_count": 7,
     "metadata": {},
     "output_type": "execute_result"
    }
   ],
   "source": [
    "# Next, look at the 'head' of our DataFrame 'df'. \n",
    "df.head()"
   ]
  },
  {
   "cell_type": "markdown",
   "id": "56a8aa30",
   "metadata": {
    "colab_type": "text",
    "id": "WrdLGMjCtSmz"
   },
   "source": [
    "## Scatter plots"
   ]
  },
  {
   "cell_type": "markdown",
   "id": "51adbc73",
   "metadata": {
    "colab_type": "text",
    "id": "rDZi4jEttSmz"
   },
   "source": [
    "First, let's looks at two variables that we expect to have a strong relationship, 'Height' and 'Wingspan'."
   ]
  },
  {
   "cell_type": "code",
   "execution_count": 8,
   "id": "a93d5bc4",
   "metadata": {
    "colab": {},
    "colab_type": "code",
    "id": "3e4rvki6tSmz"
   },
   "outputs": [
    {
     "data": {
      "text/plain": [
       "<Axes: xlabel='Height', ylabel='Wingspan'>"
      ]
     },
     "execution_count": 8,
     "metadata": {},
     "output_type": "execute_result"
    },
    {
     "data": {
      "image/png": "[encoded data removed]",
      "text/plain": [
       "<Figure size 640x480 with 1 Axes>"
      ]
     },
     "metadata": {},
     "output_type": "display_data"
    }
   ],
   "source": [
    "# Make a Seaborn scatter plot with x = height and y = wingspan using sns.scatterplot(x, y)\n",
    "sns.scatterplot(x = 'Height', y = 'Wingspan', data = df)"
   ]
  },
  {
   "cell_type": "markdown",
   "id": "e224b827",
   "metadata": {
    "colab_type": "text",
    "id": "VK94jjjXtSm2"
   },
   "source": [
    "How would you describe the relationship between 'Height' and 'Wingspan'?   \n",
    "Questions you can ask:\n",
    "* Is it linear? Yes, it is linear form\n",
    "* Are there outliers? There no obviously outliers\n",
    "* Are their ranges similar or different?  yes\n",
    "\n",
    "How else could you describe the relationship?\n",
    "\n",
    "There is a strong positive linear association between  'Height' and 'Wingspan'.\n"
   ]
  },
  {
   "cell_type": "markdown",
   "id": "72216ff4",
   "metadata": {
    "colab_type": "text",
    "id": "gb7B2S5BtSm3"
   },
   "source": [
    "Now let's look at two variables that we don't yet assume have a strong relationship, 'Wingspan' and 'CWDistance'"
   ]
  },
  {
   "cell_type": "code",
   "execution_count": 12,
   "id": "c3d8bdf1",
   "metadata": {
    "colab": {},
    "colab_type": "code",
    "id": "NUQUCZHstSm3"
   },
   "outputs": [
    {
     "data": {
      "text/plain": [
       "<Axes: xlabel='Wingspan', ylabel='CWDistance'>"
      ]
     },
     "execution_count": 12,
     "metadata": {},
     "output_type": "execute_result"
    },
    {
     "data": {
      "image/png": "[encoded data removed]",
      "text/plain": [
       "<Figure size 640x480 with 1 Axes>"
      ]
     },
     "metadata": {},
     "output_type": "display_data"
    }
   ],
   "source": [
    "# Make a Seaborn scatter plot with x = wingspan and y = cartwheel distance\n",
    "sns.scatterplot(x = 'Wingspan', y = 'CWDistance', data = df)"
   ]
  },
  {
   "cell_type": "markdown",
   "id": "9b969144",
   "metadata": {
    "colab_type": "text",
    "id": "QQUuk0YltSm6"
   },
   "source": [
    "How would you describe the relationship between 'Wingspan' and 'CWDistance'?   \n",
    "* Is it linear? yes\n",
    "* Are there outliers? Yes\n",
    "* Are their ranges similar or different? different\n",
    "\n",
    "How else could you describe the relationship?\n",
    "\n",
    "There is a weak positive linear association between 'Wingspan' and 'CWDistance'\n"
   ]
  },
  {
   "cell_type": "markdown",
   "id": "8131e229",
   "metadata": {
    "colab_type": "text",
    "id": "1klq6ToQtSm8"
   },
   "source": [
    "Let makes the same plot as above, but now include 'Gender' as the color scheme by including the argument\n",
    "```\n",
    "hue=df['Gender']\n",
    "```\n",
    "in the Seaborn function"
   ]
  },
  {
   "cell_type": "code",
   "execution_count": 22,
   "id": "8795a724",
   "metadata": {
    "colab": {},
    "colab_type": "code",
    "id": "U6dld9fntSm9"
   },
   "outputs": [
    {
     "data": {
      "text/plain": [
       "<Axes: xlabel='Wingspan', ylabel='CWDistance'>"
      ]
     },
     "execution_count": 22,
     "metadata": {},
     "output_type": "execute_result"
    },
    {
     "data": {
      "image/png": "[encoded data removed]",
      "text/plain": [
       "<Figure size 640x480 with 1 Axes>"
      ]
     },
     "metadata": {},
     "output_type": "display_data"
    }
   ],
   "source": [
    "# Make a Seaborn scatter plot with x = wingspan and y = cartwheel distance, and hue = gender\n",
    "sns.scatterplot(x = 'Wingspan', y = 'CWDistance', hue = 'Gender', data = df)\n"
   ]
  },
  {
   "cell_type": "markdown",
   "id": "c9bf252e",
   "metadata": {
    "colab_type": "text",
    "id": "Twz6CrCEtSnA"
   },
   "source": [
    "Does does this new information on the plot change your interpretation of the relationship between 'Wingspan' and 'CWDistance'?\n",
    "Yes, for male we can see nonlinear relationship between 'Wingspan' and 'CWDistance'\n"
   ]
  },
  {
   "cell_type": "markdown",
   "id": "d71fb92c",
   "metadata": {
    "colab_type": "text",
    "id": "sHcrM2octSnA"
   },
   "source": [
    "## Barcharts\n",
    "Now lets plot barplots of 'Glasses'"
   ]
  },
  {
   "cell_type": "code",
   "execution_count": 24,
   "id": "a16e3ca9",
   "metadata": {
    "colab": {},
    "colab_type": "code",
    "id": "O6XvCPJhtSnB"
   },
   "outputs": [
    {
     "data": {
      "text/plain": [
       "<Axes: xlabel='Glasses', ylabel='CWDistance'>"
      ]
     },
     "execution_count": 24,
     "metadata": {},
     "output_type": "execute_result"
    },
    {
     "data": {
      "image/png": "[encoded data removed]",
      "text/plain": [
       "<Figure size 640x480 with 1 Axes>"
      ]
     },
     "metadata": {},
     "output_type": "display_data"
    }
   ],
   "source": [
    "# Make a Seaborn barplot with x = glasses and y = cartwheel distance\n",
    "sns.barplot(x = 'Glasses', y = 'CWDistance', data = df)"
   ]
  },
  {
   "cell_type": "markdown",
   "id": "775f16b0",
   "metadata": {
    "colab_type": "text",
    "id": "FzE9HhnRtSnE"
   },
   "source": [
    "What can you say about the relationship of 'Glasses' and 'CWDistance'?\n",
    "both Glasses have same cartwheel distance"
   ]
  },
  {
   "cell_type": "code",
   "execution_count": 25,
   "id": "4a53b3dd",
   "metadata": {
    "colab": {},
    "colab_type": "code",
    "id": "GVeCQcKUtSnG"
   },
   "outputs": [
    {
     "data": {
      "text/plain": [
       "<Axes: xlabel='Glasses', ylabel='CWDistance'>"
      ]
     },
     "execution_count": 25,
     "metadata": {},
     "output_type": "execute_result"
    },
    {
     "data": {
      "image/png": "[encoded data removed]",
      "text/plain": [
       "<Figure size 640x480 with 1 Axes>"
      ]
     },
     "metadata": {},
     "output_type": "display_data"
    }
   ],
   "source": [
    "# Make the same Seaborn boxplot as above, but include gender for the hue argument\n",
    "sns.barplot(x = 'Glasses', y = 'CWDistance', hue = 'Gender' ,data = df)"
   ]
  },
  {
   "cell_type": "markdown",
   "id": "2d50fa97",
   "metadata": {
    "colab_type": "text",
    "id": "XcXUPeD5tSnK"
   },
   "source": [
    "How does this new plot change your interpretation about the relationship of 'Glasses' and 'CWDistance'?\n",
    "Glasses Y have more different cartwheel distance between male and female, than Glasses N . \n"
   ]
  },
  {
   "cell_type": "markdown",
   "id": "e6af49c1",
   "metadata": {},
   "source": [
    "# Home work - Week 6"
   ]
  },
  {
   "cell_type": "markdown",
   "id": "83c10192",
   "metadata": {},
   "source": [
    "1)What happens when the function save_plot is called? (0.1 p)\n",
    "``` \n",
    "import matplotlib.pyplot as plt\n",
    "\n",
    "def save_plot(x, y):\n",
    "  plt.plot(x, y)\n",
    "  plt.savefig('new_plot')\n",
    "``` "
   ]
  },
  {
   "cell_type": "code",
   "execution_count": 2,
   "id": "68a0aae0",
   "metadata": {},
   "outputs": [
    {
     "data": {
      "image/png": "[encoded data removed]",
      "text/plain": [
       "<Figure size 640x480 with 1 Axes>"
      ]
     },
     "metadata": {},
     "output_type": "display_data"
    }
   ],
   "source": [
    "# create plot with parametrs x and y and save the current figure\n",
    "\n",
    "import matplotlib.pyplot as plt\n",
    "\n",
    "def save_plot(x, y):\n",
    "  plt.plot(x, y)\n",
    "  plt.savefig('new_plot')\n",
    "save_plot(1,1)\n",
    "\n",
    "\n"
   ]
  },
  {
   "cell_type": "markdown",
   "id": "a2a77503",
   "metadata": {},
   "source": [
    "2)What are the values in my_dict? (0.1 p)\n",
    "``` \n",
    "my_dict = {'peaches':'cream', 'cat':'dog', 'this one':'that one'}\n",
    "``` "
   ]
  },
  {
   "cell_type": "code",
   "execution_count": null,
   "id": "6457df5a",
   "metadata": {},
   "outputs": [],
   "source": [
    "#answer: strings : 'cream', 'dog', 'that one' \n"
   ]
  },
  {
   "cell_type": "markdown",
   "id": "038f5e82",
   "metadata": {},
   "source": [
    "3)What does the following function return when the input is 1st=[1, 7, 3, 5] (0.1 p)\n",
    "``` \n",
    "def get_element(lst):\n",
    "  new_lst = []\n",
    "  for i in lst:\n",
    "    new_lst.append(i**2)\n",
    "    return lst[1]\n",
    "    \n",
    "``` "
   ]
  },
  {
   "cell_type": "code",
   "execution_count": 8,
   "id": "0af54160",
   "metadata": {},
   "outputs": [],
   "source": [
    "#answer: 7"
   ]
  },
  {
   "cell_type": "markdown",
   "id": "981852c7",
   "metadata": {},
   "source": [
    "4)What are the keys in my_dict: (0.1 p)\n",
    "```     \n",
    "my_dict = {'peaches':'cream', 'cat':'dog', 'this one':'that one'}\n",
    "my_dict['this one']\n",
    "``` "
   ]
  },
  {
   "cell_type": "code",
   "execution_count": null,
   "id": "5f9c6a21",
   "metadata": {},
   "outputs": [],
   "source": [
    "#answer: 'peaches', 'cat', 'this one'\n"
   ]
  },
  {
   "cell_type": "markdown",
   "id": "38978219",
   "metadata": {},
   "source": [
    "5)What is the output of following code: (0.1 p)\n",
    "\n",
    "``` \n",
    "my_dict = {'peaches':'cream', 'cat':'dog', 'this one':'that one'}\n",
    "my_dict['this one']\n",
    "``` "
   ]
  },
  {
   "cell_type": "code",
   "execution_count": null,
   "id": "ba20459f",
   "metadata": {},
   "outputs": [],
   "source": [
    "#answer: 'that one'\n"
   ]
  },
  {
   "cell_type": "markdown",
   "id": "2e662ab5",
   "metadata": {},
   "source": [
    "6. Write a function that inputs an integers and returns the negative. Test your function with input x (0.15 p)"
   ]
  },
  {
   "cell_type": "code",
   "execution_count": 9,
   "id": "f4687a45",
   "metadata": {},
   "outputs": [
    {
     "name": "stdout",
     "output_type": "stream",
     "text": [
      "-10\n"
     ]
    }
   ],
   "source": [
    "#your code\n",
    "def negation(x):\n",
    "    return -x\n",
    "print(negation(10))\n"
   ]
  },
  {
   "cell_type": "markdown",
   "id": "e29ed9f3",
   "metadata": {},
   "source": [
    "7. Write a function that inputs a list of integers and returns the minimum value. Test your function with input lst. lst = [-3, 0, 2, 100, -1, 2] (0.15 p)"
   ]
  },
  {
   "cell_type": "code",
   "execution_count": 25,
   "id": "c0b9db37",
   "metadata": {},
   "outputs": [
    {
     "name": "stdout",
     "output_type": "stream",
     "text": [
      "-3\n"
     ]
    }
   ],
   "source": [
    "def minimum(arr):\n",
    "    minimum_v = arr[0]\n",
    "    for i in arr:\n",
    "        if minimum_v > i:\n",
    "            minimum_v = i\n",
    "    return minimum_v\n",
    "\n",
    "print(minimum([-3, 0, 2, 100, -1, 2]))"
   ]
  },
  {
   "cell_type": "markdown",
   "id": "7a001283",
   "metadata": {},
   "source": [
    "8. #### Challenge problem:  \n",
    "Write a function that take in four arguments: lst1, lst2, str1, str2, and returns a pandas DataFrame that has the first column labeled str1 and the second column labaled str2, that have values lst1 and lst2 scaled to be between 0 and 1. (0.2 p)\n",
    "\n",
    "For example\n",
    "```\n",
    "lst1 = [1, 2, 3]\n",
    "lst2 = [2, 4, 5]\n",
    "str1 = 'one'\n",
    "str2 = 'two'\n",
    "\n",
    "my_function(lst1, lst2, str1, str2)\n",
    "``` \n",
    "should return a DataFrame that looks like:\n",
    "\n",
    "\n",
    "\n",
    "|  <i></i> | one | two |\n",
    "| --- | --- | --- |\n",
    "| 0 | 0 | 0 |\n",
    "| 1 | .5 | .666 |\n",
    "| 2 | 1 | 1 |\n",
    "\n"
   ]
  },
  {
   "cell_type": "code",
   "execution_count": 95,
   "id": "c2f5d34d",
   "metadata": {},
   "outputs": [
    {
     "data": {
      "text/html": [
       "<div>\n",
       "<style scoped>\n",
       "    .dataframe tbody tr th:only-of-type {\n",
       "        vertical-align: middle;\n",
       "    }\n",
       "\n",
       "    .dataframe tbody tr th {\n",
       "        vertical-align: top;\n",
       "    }\n",
       "\n",
       "    .dataframe thead th {\n",
       "        text-align: right;\n",
       "    }\n",
       "</style>\n",
       "<table border=\"1\" class=\"dataframe\">\n",
       "  <thead>\n",
       "    <tr style=\"text-align: right;\">\n",
       "      <th></th>\n",
       "      <th>one</th>\n",
       "      <th>two</th>\n",
       "    </tr>\n",
       "  </thead>\n",
       "  <tbody>\n",
       "    <tr>\n",
       "      <th>0</th>\n",
       "      <td>0.000</td>\n",
       "      <td>0.000</td>\n",
       "    </tr>\n",
       "    <tr>\n",
       "      <th>1</th>\n",
       "      <td>1.000</td>\n",
       "      <td>0.667</td>\n",
       "    </tr>\n",
       "    <tr>\n",
       "      <th>2</th>\n",
       "      <td>0.000</td>\n",
       "      <td>1.000</td>\n",
       "    </tr>\n",
       "  </tbody>\n",
       "</table>\n",
       "</div>"
      ],
      "text/plain": [
       "    one   two\n",
       "0 0.000 0.000\n",
       "1 1.000 0.667\n",
       "2 0.000 1.000"
      ]
     },
     "execution_count": 95,
     "metadata": {},
     "output_type": "execute_result"
    }
   ],
   "source": [
    "import pandas as pd\n",
    "\n",
    "def my_function(lst1, lst2, str1, str2):    \n",
    "    data = { str1 : lst1 ,\n",
    "        str2 : lst2}\n",
    "    \n",
    "    dff = pd.DataFrame(data)\n",
    "    \n",
    "    dff[str1] = (dff[str1] - min(dff[str1])) / (max(dff[str1]) - min(dff[str1]))\n",
    "    dff[str2] = (dff[str2] - min(dff[str2])) / (max(dff[str2]) - min(dff[str2]))\n",
    "       \n",
    "    def format_number(number):\n",
    "        if number == 0:\n",
    "            return '0'\n",
    "        elif number < 1:\n",
    "            return f'.{int(number * 10)}'\n",
    "        else:\n",
    "            return str(number)\n",
    "        \n",
    "    pd.options.display.float_format = '{:.3f}'.format\n",
    "    \n",
    "    \n",
    "        \n",
    "    formatted_dff = dff.applymap(format_number)\n",
    "\n",
    "    return dff\n",
    "\n",
    "\n",
    "lst1 = [1, 2, 1]\n",
    "lst2 = [2, 4, 5]\n",
    "str1 = 'one'\n",
    "str2 = 'two'\n",
    "\n",
    "my_function(lst1, lst2, str1, str2)  \n"
   ]
  },
  {
   "cell_type": "markdown",
   "id": "262872a9",
   "metadata": {},
   "source": [
    "9. Write a lambda function that checks if a number is even. (0.1 p)"
   ]
  },
  {
   "cell_type": "code",
   "execution_count": 67,
   "id": "442d0ab2",
   "metadata": {},
   "outputs": [
    {
     "name": "stdout",
     "output_type": "stream",
     "text": [
      "True\n",
      "False\n"
     ]
    }
   ],
   "source": [
    "even =lambda x : x%2 == 0\n",
    "\n",
    "print(even(10))\n",
    "print(even(11))\n",
    "\n"
   ]
  },
  {
   "cell_type": "markdown",
   "id": "772b8dfd",
   "metadata": {},
   "source": [
    "10. Write a lambda function that converts a string to uppercase. (0.1 p)"
   ]
  },
  {
   "cell_type": "code",
   "execution_count": 75,
   "id": "0a8fb071",
   "metadata": {},
   "outputs": [
    {
     "name": "stdout",
     "output_type": "stream",
     "text": [
      "ABCD\n"
     ]
    }
   ],
   "source": [
    "upper_case = lambda string : string.upper()\n",
    "\n",
    "\n",
    "print(upper_case(\"abcd\"))\n"
   ]
  },
  {
   "cell_type": "markdown",
   "id": "1a220112",
   "metadata": {},
   "source": [
    "11. Answer to the following questions (0.3 p)\n",
    "\n",
    "    - What is the purpose of inference methods in statistics and data analysis?\n",
    "Based on the sample statistic, i.e., the corresponding value calculated from the\n",
    "sample data, we use statistical inference to find out what we know about the\n",
    "corresponding parameter in the population.\n",
    "\n",
    "    - What is research question?\n",
    "    \n",
    "A research question is a question that a study or research project aims to answer. \n",
    "    \n",
    "    - Write me about Bayesian\n",
    "    \n",
    "it lets us bring in prior knowledge into the calculation of the probability p,\n",
    "through the application of Bayes’ Theorem.\n",
    "In its most common form, it is:\n"
   ]
  },
  {
   "cell_type": "markdown",
   "id": "9d582d19",
   "metadata": {},
   "source": [
    "$$P(A|B) = \\frac{P(B|A)P(A)}{P(B)}$$\n",
    "\n",
    "In the Bayesian interpretation, probability measures a degree of belief. Bayes’\n",
    "theorem then links the degree of belief in a proposition before and after accounting\n",
    "for evidence\n"
   ]
  },
  {
   "cell_type": "code",
   "execution_count": 2,
   "id": "29b73139-6640-4c92-a665-e6723387157c",
   "metadata": {},
   "outputs": [],
   "source": [
    "import matplotlib.pyplot as plt"
   ]
  },
  {
   "cell_type": "code",
   "execution_count": 6,
   "id": "5569bcae-fbe1-4f74-9cc9-313f900bf1ed",
   "metadata": {},
   "outputs": [
    {
     "data": {
      "image/png": "[encoded data removed]",
      "text/plain": [
       "<Figure size 640x480 with 1 Axes>"
      ]
     },
     "metadata": {},
     "output_type": "display_data"
    }
   ],
   "source": [
    "# Sample data\n",
    "x = [1, 2, 3, 4, 5]\n",
    "y = [2, 4, 6, 8, 10]\n",
    "\n",
    "# Create a line plot\n",
    "plt.plot(x, y, marker = 'o')\n",
    "\n",
    "#Format Strings fmt\n",
    "#marker|line|color\n",
    "plt.plot([4,5,6], 'o:r', ms = 10)\n",
    "\n",
    "\n",
    "# Add labels and a title\n",
    "plt.xlabel('X-axis')\n",
    "plt.ylabel('Y-axis')\n",
    "plt.title('Simple Line Plot')\n",
    "\n",
    "# Show the plot\n",
    "plt.show()\n"
   ]
  },
  {
   "cell_type": "code",
   "execution_count": 7,
   "id": "1c3360c2-4ddc-41e5-b2bf-bfdb1a343514",
   "metadata": {},
   "outputs": [
    {
     "data": {
      "image/png": "[encoded data removed]",
      "text/plain": [
       "<Figure size 640x480 with 1 Axes>"
      ]
     },
     "metadata": {},
     "output_type": "display_data"
    }
   ],
   "source": [
    "font1 = {'family':'serif','color':'darkred','size':15}\n",
    "plt.plot([3, 8, 1, 10], ls = ':')\n",
    "plt.xlabel('X-axis')\n",
    "plt.ylabel('Y-axis', fontdict = font1)\n",
    "plt.title('Simple Line Plot', loc = 'left')\n",
    "plt.show()\n"
   ]
  },
  {
   "cell_type": "code",
   "execution_count": 8,
   "id": "78872527-81c9-45b2-8e66-8a79f1427d58",
   "metadata": {},
   "outputs": [
    {
     "data": {
      "image/png": "[encoded data removed]",
      "text/plain": [
       "<Figure size 640x480 with 2 Axes>"
      ]
     },
     "metadata": {},
     "output_type": "display_data"
    }
   ],
   "source": [
    "import numpy as np\n",
    "\n",
    "\n",
    "# Compute the x and y coordinates for points on sine and cosine curves\n",
    "x = np.arange(0, 3 * np.pi, 0.1)\n",
    "y_sin = np.sin(x)\n",
    "y_cos = np.cos(x)\n",
    "\n",
    "# Set up a subplot grid that has height 2 and width 1,\n",
    "# and set the first such subplot as active.\n",
    "plt.subplot(2, 1, 1)\n",
    "\n",
    "# Make the first plot\n",
    "plt.plot(x, y_sin)\n",
    "plt.title('Sine')\n",
    "\n",
    "# Set the second subplot as active, and make the second plot.\n",
    "plt.subplot(2, 1, 2)\n",
    "plt.plot(x, y_cos)\n",
    "plt.title('Cosine')\n",
    "\n",
    "# Show the figure.\n",
    "plt.show()"
   ]
  },
  {
   "cell_type": "code",
   "execution_count": 11,
   "id": "895b7632-027a-4832-8de0-4b91879fc891",
   "metadata": {},
   "outputs": [
    {
     "data": {
      "image/png": "[encoded data removed]",
      "text/plain": [
       "<Figure size 640x480 with 1 Axes>"
      ]
     },
     "metadata": {},
     "output_type": "display_data"
    }
   ],
   "source": [
    "\n",
    "x = np.array([\"A\", \"B\", \"C\", \"D\"])\n",
    "y = np.array([3, 8, 1, 10])\n",
    "\n",
    "plt.bar(x,y, color = ['red', 'black'], alpha = 0.5)\n",
    "plt.show()"
   ]
  },
  {
   "cell_type": "markdown",
   "id": "7cb7f9a9",
   "metadata": {
    "colab_type": "text",
    "id": "rI9-dSe5he9e"
   },
   "source": [
    "# Python Libraries\n",
    "\n",
    "For this tutorial, we are going to outline the most common uses for each of the following libraries:\n",
    "\n",
    "* **Numpy** is a library for working with arrays of data.\n",
    "\n",
    "* **Scipy** is a library of techniques for numerical and scientific computing.\n",
    "\n",
    "* **Matplotlib** is a library for making visualizations.\n",
    "\n",
    "* **Seaborn** is a higher-level interface to Matplotlib that can be used to simplify many visualization tasks.\n",
    "\n",
    "*__Important__: While this tutorial provides insight into the basics of these libraries,  I recommend digging into the documentation that is available online.*"
   ]
  },
  {
   "cell_type": "markdown",
   "id": "952e9c51",
   "metadata": {
    "colab_type": "text",
    "id": "3jBxP9ZhigUY"
   },
   "source": [
    "## NumPy\n",
    "\n",
    "NumPy is the fundamental package for scientific computing with Python. It contains among other things:\n",
    "\n",
    "* a powerful N-dimensional array object\n",
    "* sophisticated (broadcasting) functions\n",
    "* tools for integrating C/C++ and Fortran code\n",
    "* useful linear algebra, Fourier transform, and random number capabilities\n",
    "\n",
    "We will focus on the numpy array object.\n",
    "\n",
    "#### Numpy Array\n",
    "\n",
    "A numpy array is a grid of values, all of the same type, and is indexed by a tuple of nonnegative integers. The number of dimensions is the rank of the array; the shape of an array is a tuple of integers giving the size of the array along each dimension. "
   ]
  },
  {
   "cell_type": "code",
   "execution_count": 0,
   "id": "9e68fc58",
   "metadata": {
    "colab": {},
    "colab_type": "code",
    "id": "3K83K-VAlPn2"
   },
   "outputs": [],
   "source": [
    "import numpy as np"
   ]
  },
  {
   "cell_type": "code",
   "execution_count": 0,
   "id": "efab1b69",
   "metadata": {
    "colab": {},
    "colab_type": "code",
    "id": "ZQTQGd_KlJf2"
   },
   "outputs": [],
   "source": [
    "### Create a 3x1 numpy array\n",
    "a = np.array([1,2,3])\n",
    "\n",
    "### Print object type\n",
    "print(type(a))\n",
    "\n",
    "### Print shape\n",
    "print(a.shape)\n",
    "\n",
    "### Print some values in a\n",
    "print(a[0], a[1], a[2])\n",
    "\n",
    "### Create a 2x2 numpy array\n",
    "b = np.array([[1,2],[3,4]])\n",
    "\n",
    "### Print shape\n",
    "print(b.shape)\n",
    "\n",
    "## Print some values in b\n",
    "print(b[0,0], b[0,1], b[1,1])\n",
    "\n",
    "### Create a 3x2 numpy array\n",
    "c = np.array([[1,2],[3,4],[5,6]])\n",
    "\n",
    "### Print shape\n",
    "print(c.shape)\n",
    "\n",
    "### Print some values in c\n",
    "print(c[0,1], c[1,0], c[2,0], c[2,1])"
   ]
  },
  {
   "cell_type": "code",
   "execution_count": 0,
   "id": "91135951",
   "metadata": {
    "colab": {},
    "colab_type": "code",
    "id": "SKAeIpOUm6oC"
   },
   "outputs": [],
   "source": [
    "### 2x3 zero array \n",
    "d = np.zeros((2,3))\n",
    "\n",
    "print(d)\n",
    "\n",
    "### 4x2 array of ones\n",
    "e = np.ones((4,2))\n",
    "\n",
    "print(e)\n",
    "\n",
    "### 2x2 constant array\n",
    "f = np.full((2,2), 9)\n",
    "\n",
    "print(f)\n",
    "\n",
    "### 3x3 random array\n",
    "g = np.random.random((3,3))\n",
    "\n",
    "print(g)\n"
   ]
  },
  {
   "cell_type": "markdown",
   "id": "b08c280e",
   "metadata": {
    "colab_type": "text",
    "id": "G5MxjOzNpXRf"
   },
   "source": [
    "#### Array Indexing"
   ]
  },
  {
   "cell_type": "code",
   "execution_count": 0,
   "id": "5af68e57",
   "metadata": {
    "colab": {},
    "colab_type": "code",
    "id": "wLqIR_J7pdxE"
   },
   "outputs": [],
   "source": [
    "### Create 3x4 array\n",
    "h = np.array([[1,2,3,4,], [5,6,7,8], [9,10,11,12]])\n",
    "\n",
    "print(h)\n",
    "\n",
    "### Slice array to make a 2x2 sub-array\n",
    "i = h[:2, 1:3]\n",
    "\n",
    "print(i)"
   ]
  },
  {
   "cell_type": "code",
   "execution_count": 0,
   "id": "783aa555",
   "metadata": {
    "colab": {},
    "colab_type": "code",
    "id": "6eJBCxlyqm6i"
   },
   "outputs": [],
   "source": [
    "print(h[0,1])\n",
    "\n",
    "### Modify the slice\n",
    "i[0,0] = 1738\n",
    "\n",
    "### Print to show how modifying the slice also changes the base object\n",
    "print(h[0,1])"
   ]
  },
  {
   "cell_type": "markdown",
   "id": "5321c8dc",
   "metadata": {
    "colab_type": "text",
    "id": "u1CDIqHXtCe5"
   },
   "source": [
    "#### Datatypes in Arrays"
   ]
  },
  {
   "cell_type": "code",
   "execution_count": 0,
   "id": "0e773dce",
   "metadata": {
    "colab": {},
    "colab_type": "code",
    "id": "RumLhraYtGlU"
   },
   "outputs": [],
   "source": [
    "### Integer\n",
    "j = np.array([1, 2])\n",
    "print(j.dtype)  \n",
    "\n",
    "\n",
    "### Float\n",
    "k = np.array([1.0, 2.0])\n",
    "print(k.dtype)         \n",
    "\n",
    "### Force Data Type\n",
    "l = np.array([1.0, 2.0], dtype=np.int64)\n",
    "print(l.dtype)"
   ]
  },
  {
   "cell_type": "markdown",
   "id": "cc07ab64",
   "metadata": {
    "colab_type": "text",
    "id": "NMaOi2kStjJ5"
   },
   "source": [
    "#### Array Math\n",
    "\n",
    "Basic mathematical functions operate elementwise on arrays, and are available both as operator overloads and as functions in the numpy module:"
   ]
  },
  {
   "cell_type": "code",
   "execution_count": 0,
   "id": "dda039b4",
   "metadata": {
    "colab": {},
    "colab_type": "code",
    "id": "MjSXIlPetl6q"
   },
   "outputs": [],
   "source": [
    "x = np.array([[1,2],[3,4]], dtype=np.float64)\n",
    "y = np.array([[5,6],[7,8]], dtype=np.float64)\n",
    "\n",
    "# Elementwise sum; both produce the array\n",
    "# [[ 6.0  8.0]\n",
    "#  [10.0 12.0]]\n",
    "print(x + y)\n",
    "print(np.add(x, y))\n",
    "\n",
    "# Elementwise difference; both produce the array\n",
    "# [[-4.0 -4.0]\n",
    "#  [-4.0 -4.0]]\n",
    "print(x - y)\n",
    "print(np.subtract(x, y))\n",
    "\n",
    "# Elementwise product; both produce the array\n",
    "# [[ 5.0 12.0]\n",
    "#  [21.0 32.0]]\n",
    "print(x * y)\n",
    "print(np.multiply(x, y))\n",
    "\n",
    "# Elementwise division; both produce the array\n",
    "# [[ 0.2         0.33333333]\n",
    "#  [ 0.42857143  0.5       ]]\n",
    "print(x / y)\n",
    "print(np.divide(x, y))\n",
    "\n",
    "# Elementwise square root; produces the array\n",
    "# [[ 1.          1.41421356]\n",
    "#  [ 1.73205081  2.        ]]\n",
    "print(np.sqrt(x))"
   ]
  },
  {
   "cell_type": "code",
   "execution_count": 0,
   "id": "084c0a7c",
   "metadata": {
    "colab": {},
    "colab_type": "code",
    "id": "gWn0vrZwt-SN"
   },
   "outputs": [],
   "source": [
    "x = np.array([[1,2],[3,4]])\n",
    "\n",
    "### Compute sum of all elements; prints \"10\"\n",
    "print(np.sum(x))\n",
    "\n",
    "### Compute sum of each column; prints \"[4 6]\"\n",
    "print(np.sum(x, axis=0)) \n",
    "\n",
    "### Compute sum of each row; prints \"[3 7]\"\n",
    "print(np.sum(x, axis=1))"
   ]
  },
  {
   "cell_type": "code",
   "execution_count": 0,
   "id": "64c06449",
   "metadata": {
    "colab": {},
    "colab_type": "code",
    "id": "7HttMbUHuPOP"
   },
   "outputs": [],
   "source": [
    "x = np.array([[1,2],[3,4]])\n",
    "\n",
    "### Compute mean of all elements; prints \"2.5\"\n",
    "print(np.mean(x))\n",
    "\n",
    "### Compute mean of each column; prints \"[2 3]\"\n",
    "print(np.mean(x, axis=0)) \n",
    "\n",
    "### Compute mean of each row; prints \"[1.5 3.5]\"\n",
    "print(np.mean(x, axis=1))"
   ]
  },
  {
   "cell_type": "markdown",
   "id": "324c23f9",
   "metadata": {
    "colab_type": "text",
    "id": "yJfJSSu6uaCT"
   },
   "source": [
    "## SciPy\n",
    "\n",
    "Numpy provides a high-performance multidimensional array and basic tools to compute with and manipulate these arrays. SciPy builds on this, and provides a large number of functions that operate on numpy arrays and are useful for different types of scientific and engineering applications.\n",
    "\n",
    "For this course, we will primariyl be using the **SciPy.Stats** sub-library.\n",
    "\n",
    "### SciPy.Stats\n",
    "\n",
    "The SciPy.Stats module contains a large number of probability distributions as well as a growing library of statistical functions such as:\n",
    "\n",
    "* Continuous and Discrete Distributions (i.e Normal, Uniform, Binomial, etc.)\n",
    "\n",
    "* Descriptive Statistcs\n",
    "\n",
    "* Statistical Tests (i.e T-Test)"
   ]
  },
  {
   "cell_type": "code",
   "execution_count": 0,
   "id": "0057177e",
   "metadata": {
    "colab": {},
    "colab_type": "code",
    "id": "WU4IDn3rxRqH"
   },
   "outputs": [],
   "source": [
    "from scipy import stats\n",
    "import numpy as np"
   ]
  },
  {
   "cell_type": "code",
   "execution_count": 0,
   "id": "01f7d0ea",
   "metadata": {
    "colab": {},
    "colab_type": "code",
    "id": "bglGZ0nhxSNz"
   },
   "outputs": [],
   "source": [
    "### Print Normal Random Variables\n",
    "print(stats.norm.rvs(size = 10))"
   ]
  },
  {
   "cell_type": "code",
   "execution_count": 0,
   "id": "a8bde1d6",
   "metadata": {
    "colab": {},
    "colab_type": "code",
    "id": "jbv47bNHEoDn"
   },
   "outputs": [],
   "source": [
    "from pylab import *\n",
    "\n",
    "# Create some test data\n",
    "dx = .01\n",
    "X  = np.arange(-2,2,dx)\n",
    "Y  = exp(-X**2)\n",
    "\n",
    "# Normalize the data to a proper PDF\n",
    "Y /= (dx*Y).sum()\n",
    "\n",
    "# Compute the CDF\n",
    "CY = np.cumsum(Y*dx)\n",
    "\n",
    "# Plot both\n",
    "plot(X,Y)\n",
    "plot(X,CY,'r--')\n",
    "\n",
    "show()"
   ]
  },
  {
   "cell_type": "code",
   "execution_count": 0,
   "id": "f6d42e9f",
   "metadata": {
    "colab": {},
    "colab_type": "code",
    "id": "iZ7OsmRWDs2e"
   },
   "outputs": [],
   "source": [
    "### Compute the Normal CDF of certain values.\n",
    "print(stats.norm.cdf(np.array([1,-1., 0, 1, 3, 4, -2, 6])))"
   ]
  },
  {
   "cell_type": "markdown",
   "id": "01c8c2c2",
   "metadata": {
    "colab_type": "text",
    "id": "hH2Dr9OQFhXg"
   },
   "source": [
    "#### Descriptive Statistics"
   ]
  },
  {
   "cell_type": "code",
   "execution_count": 0,
   "id": "dde94e54",
   "metadata": {
    "colab": {},
    "colab_type": "code",
    "id": "X6pmHJ8LFjO5"
   },
   "outputs": [],
   "source": [
    "np.random.seed(282629734)\n",
    "\n",
    "# Generate 1000 Student’s T continuous random variables.\n",
    "x = stats.t.rvs(10, size=1000)"
   ]
  },
  {
   "cell_type": "code",
   "execution_count": 0,
   "id": "151b51f1",
   "metadata": {
    "colab": {},
    "colab_type": "code",
    "id": "jIhbREk8FnHX"
   },
   "outputs": [],
   "source": [
    "# Do some descriptive statistics\n",
    "print(x.min())   # equivalent to np.min(x)\n",
    "\n",
    "print(x.max())   # equivalent to np.max(x)\n",
    "\n",
    "print(x.mean())  # equivalent to np.mean(x)\n",
    "\n",
    "print(x.var())   # equivalent to np.var(x))\n",
    "\n",
    "stats.describe(x)"
   ]
  },
  {
   "cell_type": "markdown",
   "id": "83e8208e",
   "metadata": {
    "colab_type": "text",
    "id": "q7gjLQq3GY8c"
   },
   "source": [
    "Later in the course, we will discuss distributions and statistical tests such as a T-Test.  SciPy has built in functions for these operations."
   ]
  },
  {
   "cell_type": "markdown",
   "id": "1faeec83",
   "metadata": {
    "colab_type": "text",
    "id": "WfAh0w76xSWP"
   },
   "source": [
    "## MatPlotLib\n",
    "\n",
    "Matplotlib is a plotting library. In this section give a brief introduction to the matplotlib.pyplot module."
   ]
  },
  {
   "cell_type": "code",
   "execution_count": 0,
   "id": "b214a8f4",
   "metadata": {
    "colab": {},
    "colab_type": "code",
    "id": "A3sWS5S8xdjh"
   },
   "outputs": [],
   "source": [
    "import numpy as np\n",
    "import matplotlib.pyplot as plt"
   ]
  },
  {
   "cell_type": "code",
   "execution_count": 0,
   "id": "bbc050cc",
   "metadata": {
    "colab": {},
    "colab_type": "code",
    "id": "Izsn4gRFxb4A"
   },
   "outputs": [],
   "source": [
    "# Compute the x and y coordinates for points on a sine curve\n",
    "x = np.arange(0, 3 * np.pi, 0.1)\n",
    "y = np.sin(x)\n",
    "\n",
    "# Plot the points using matplotlib\n",
    "plt.plot(x, y)\n",
    "plt.show()  # You must call plt.show() to make graphics appear."
   ]
  },
  {
   "cell_type": "code",
   "execution_count": 0,
   "id": "5e659c89",
   "metadata": {
    "colab": {},
    "colab_type": "code",
    "id": "5QTLLYzWxhCv"
   },
   "outputs": [],
   "source": [
    "# Compute the x and y coordinates for points on sine and cosine curves\n",
    "x = np.arange(0, 3 * np.pi, 0.1)\n",
    "y_sin = np.sin(x)\n",
    "y_cos = np.cos(x)\n",
    "\n",
    "# Plot the points using matplotlib\n",
    "plt.plot(x, y_sin)\n",
    "plt.plot(x, y_cos)\n",
    "plt.xlabel('x axis label')\n",
    "plt.ylabel('y axis label')\n",
    "plt.title('Sine and Cosine')\n",
    "plt.legend(['Sine', 'Cosine'])\n",
    "plt.show()"
   ]
  },
  {
   "cell_type": "markdown",
   "id": "e7aee865",
   "metadata": {
    "colab_type": "text",
    "id": "mivfc7qvxk5k"
   },
   "source": [
    "#### Subplots"
   ]
  },
  {
   "cell_type": "code",
   "execution_count": 0,
   "id": "24988a3e",
   "metadata": {
    "colab": {},
    "colab_type": "code",
    "id": "YsfeH4QSxoZ4"
   },
   "outputs": [],
   "source": [
    "import numpy as np\n",
    "import matplotlib.pyplot as plt\n",
    "\n",
    "# Compute the x and y coordinates for points on sine and cosine curves\n",
    "x = np.arange(0, 3 * np.pi, 0.1)\n",
    "y_sin = np.sin(x)\n",
    "y_cos = np.cos(x)\n",
    "\n",
    "# Set up a subplot grid that has height 2 and width 1,\n",
    "# and set the first such subplot as active.\n",
    "plt.subplot(2, 1, 1)\n",
    "\n",
    "# Make the first plot\n",
    "plt.plot(x, y_sin)\n",
    "plt.title('Sine')\n",
    "\n",
    "# Set the second subplot as active, and make the second plot.\n",
    "plt.subplot(2, 1, 2)\n",
    "plt.plot(x, y_cos)\n",
    "plt.title('Cosine')\n",
    "\n",
    "# Show the figure.\n",
    "plt.show()"
   ]
  },
  {
   "cell_type": "markdown",
   "id": "c5b2558b",
   "metadata": {
    "colab_type": "text",
    "id": "BexAudm39FDR"
   },
   "source": [
    "## Seaborn\n",
    "\n",
    "Seaborn is complimentary to Matplotlib and it specifically targets statistical data visualization. But it goes even further than that: Seaborn extends Matplotlib and makes generating visualizations convenient.\n",
    "\n",
    "While Matplotlib is a robust solution for various problems, Seaborn utilizes more concise paramesters for ease-of-use.\n",
    "\n",
    "#### Scatterplots\n",
    "\n"
   ]
  },
  {
   "cell_type": "code",
   "execution_count": 0,
   "id": "cda153d2",
   "metadata": {
    "colab": {},
    "colab_type": "code",
    "id": "90VVVCGO-Xxg"
   },
   "outputs": [],
   "source": [
    "# Import necessary libraries\n",
    "import seaborn as sns\n",
    "import matplotlib.pyplot as plt\n",
    "import pandas as pd\n",
    "\n",
    "# Store the url string that hosts our .csv file\n",
    "url = \"Cartwheeldata.csv\"\n",
    "\n",
    "# Read the .csv file and store it as a pandas Data Frame\n",
    "df = pd.read_csv(url)\n",
    "\n",
    "# Create Scatterplot\n",
    "sns.lmplot(x='Wingspan', y='CWDistance', data=df)\n",
    "\n",
    "plt.show()"
   ]
  },
  {
   "cell_type": "code",
   "execution_count": 0,
   "id": "abc99758",
   "metadata": {
    "colab": {},
    "colab_type": "code",
    "id": "wrzxtgn5-olI"
   },
   "outputs": [],
   "source": [
    "# Scatterplot arguments\n",
    "sns.lmplot(x='Wingspan', y='CWDistance', data=df,\n",
    "           fit_reg=False, # No regression line\n",
    "           hue='Gender')   # Color by evolution stage\n",
    "\n",
    "plt.show()"
   ]
  },
  {
   "cell_type": "markdown",
   "id": "7fb911d1",
   "metadata": {
    "colab_type": "text",
    "id": "OGQzWWMi-80n"
   },
   "source": []
  },
  {
   "cell_type": "code",
   "execution_count": 0,
   "id": "5f8ba84d",
   "metadata": {
    "colab": {},
    "colab_type": "code",
    "id": "TPKCLQUD9G6G"
   },
   "outputs": [],
   "source": [
    "# Construct Cartwheel distance plot\n",
    "sns.swarmplot(x=\"Gender\", y=\"CWDistance\", data=df)\n",
    "\n",
    "plt.show()"
   ]
  },
  {
   "cell_type": "markdown",
   "id": "cba52c94",
   "metadata": {
    "colab_type": "text",
    "id": "94-D7AEI_Fyl"
   },
   "source": [
    "#### Boxplots"
   ]
  },
  {
   "cell_type": "code",
   "execution_count": 0,
   "id": "1c0e8898",
   "metadata": {
    "colab": {},
    "colab_type": "code",
    "id": "kT-VKWiGAyYa"
   },
   "outputs": [],
   "source": [
    "sns.boxplot(data=df.loc[:, [\"Age\", \"Height\", \"Wingspan\", \"CWDistance\", \"Score\"]])\n",
    "\n",
    "plt.show()"
   ]
  },
  {
   "cell_type": "code",
   "execution_count": 0,
   "id": "bd2b6b27",
   "metadata": {
    "colab": {},
    "colab_type": "code",
    "id": "UsZahu0X_HwC"
   },
   "outputs": [],
   "source": [
    "# Male Boxplot\n",
    "sns.boxplot(data=df.loc[df['Gender'] == 'M', [\"Age\", \"Height\", \"Wingspan\", \"CWDistance\", \"Score\"]])\n",
    "\n",
    "plt.show()"
   ]
  },
  {
   "cell_type": "code",
   "execution_count": 0,
   "id": "cba466be",
   "metadata": {
    "colab": {},
    "colab_type": "code",
    "id": "XdHWF3vyA0M1"
   },
   "outputs": [],
   "source": [
    "# Female Boxplot\n",
    "sns.boxplot(data=df.loc[df['Gender'] == 'F', [\"Age\", \"Height\", \"Wingspan\", \"CWDistance\", \"Score\"]])\n",
    "\n",
    "plt.show()"
   ]
  },
  {
   "cell_type": "code",
   "execution_count": 0,
   "id": "b977a227",
   "metadata": {
    "colab": {},
    "colab_type": "code",
    "id": "wi4Qco88BLHQ"
   },
   "outputs": [],
   "source": [
    "# Male Boxplot\n",
    "sns.boxplot(data=df.loc[df['Gender'] == 'M', [\"Score\"]])\n",
    "\n",
    "plt.show()"
   ]
  },
  {
   "cell_type": "code",
   "execution_count": 0,
   "id": "da3afde6",
   "metadata": {
    "colab": {},
    "colab_type": "code",
    "id": "8NjIShaZBL3A"
   },
   "outputs": [],
   "source": [
    "# Female Boxplot\n",
    "sns.boxplot(data=df.loc[df['Gender'] == 'F', [\"Score\"]])\n",
    "\n",
    "plt.show()"
   ]
  },
  {
   "cell_type": "markdown",
   "id": "c4ddcd05",
   "metadata": {
    "colab_type": "text",
    "id": "ui1yjuY0Bm-H"
   },
   "source": [
    "#### Histogram"
   ]
  },
  {
   "cell_type": "code",
   "execution_count": 0,
   "id": "b2d3a3a8",
   "metadata": {
    "colab": {},
    "colab_type": "code",
    "id": "aJPdjHmHBob4"
   },
   "outputs": [],
   "source": [
    "# Distribution Plot (a.k.a. Histogram)\n",
    "sns.distplot(df.CWDistance)\n",
    "\n",
    "plt.show()"
   ]
  },
  {
   "cell_type": "markdown",
   "id": "d7b2290c",
   "metadata": {
    "colab_type": "text",
    "id": "Ens8D4xXBxuN"
   },
   "source": [
    "#### Count Plot"
   ]
  },
  {
   "cell_type": "code",
   "execution_count": 0,
   "id": "b6b16aab",
   "metadata": {
    "colab": {},
    "colab_type": "code",
    "id": "HSuc79qqBxQq"
   },
   "outputs": [],
   "source": [
    "# Count Plot (a.k.a. Bar Plot)\n",
    "sns.countplot(x='Gender', data=df)\n",
    " \n",
    "plt.xticks(rotation=-45)\n",
    "\n",
    "plt.show()"
   ]
  },
  {
   "cell_type": "markdown",
   "id": "0534403a",
   "metadata": {},
   "source": [
    "# Practice work(1.5 point)"
   ]
  },
  {
   "cell_type": "markdown",
   "id": "a48db3d4",
   "metadata": {},
   "source": [
    "### Estimating population parameters via confidence intervals"
   ]
  },
  {
   "cell_type": "markdown",
   "id": "000edb24",
   "metadata": {},
   "source": [
    "#### Task 1: What is a confidence interval in statistics? (0.1p)\n"
   ]
  },
  {
   "cell_type": "code",
   "execution_count": null,
   "id": "051aad9e",
   "metadata": {},
   "outputs": [],
   "source": [
    "# Your answer:  The confidence interval is the range in\n",
    "which the true mean of the population lies with a certain probability.\n",
    "95% - 99%"
   ]
  },
  {
   "cell_type": "markdown",
   "id": "90c1e40c-985c-4494-8b2f-94e367efda48",
   "metadata": {},
   "source": [
    "----"
   ]
  },
  {
   "cell_type": "markdown",
   "id": "da4abcd3",
   "metadata": {},
   "source": [
    "#### Task 2: Write a Python function to calculate a Confidence Interval for the Population Proportion. (0.2p)"
   ]
  },
  {
   "cell_type": "code",
   "execution_count": 13,
   "id": "9d88f6e2",
   "metadata": {},
   "outputs": [
    {
     "name": "stdout",
     "output_type": "stream",
     "text": [
      "Confidence Interval: (0.9333597376581902, 0.9666402623418097)\n"
     ]
    }
   ],
   "source": [
    "import math\n",
    "\n",
    "def proportion_confidence_interval(pp, s, n, z=1.96):\n",
    "    # pp: sample proportion\n",
    "    # s: sample size\n",
    "    # n: total population size\n",
    "    # z: z-value for the desired confidence level (default is for 95% confidence)\n",
    "    \n",
    "    standard_error = math.sqrt((pp * (1 - pp)) / n)\n",
    "    margin_of_error = z * standard_error\n",
    "    lower_bound = pp - margin_of_error\n",
    "    upper_bound = pp + margin_of_error\n",
    "    \n",
    "    return lower_bound, upper_bound\n",
    "\n",
    "sample_proportion = 0.95 \n",
    "sample_size = 659  \n",
    "confidence_level = 0.95  \n",
    "\n",
    "lower, upper = proportion_confidence_interval(sample_proportion, confidence_level,sample_size)\n",
    "print(f\"Confidence Interval: ({lower}, {upper})\")\n",
    "\n",
    "\n",
    "\n",
    "\n"
   ]
  },
  {
   "cell_type": "markdown",
   "id": "71fbf720-b7d5-43e6-b0ee-61fb782f9414",
   "metadata": {},
   "source": [
    "-----"
   ]
  },
  {
   "cell_type": "markdown",
   "id": "1a3c9e33",
   "metadata": {},
   "source": [
    "#### Task 3: Write a Python function to Calculate a Confidence Interval for the Population Mean (0.2p)"
   ]
  },
  {
   "cell_type": "code",
   "execution_count": 32,
   "id": "c3a1cffc",
   "metadata": {},
   "outputs": [
    {
     "name": "stdout",
     "output_type": "stream",
     "text": [
      "Confidence Interval: (23.62344286879758, 27.37655713120242)\n"
     ]
    }
   ],
   "source": [
    "def mean_confidence_interval(data, confidence_level=0.95, z = 1.96):\n",
    "    sample_mean = sum(data) / len(data)\n",
    "    sample_stddev = (sum([(x - sample_mean) ** 2 for x in data]) / (len(data) - 1)) ** 0.5\n",
    "    degrees_of_freedom = len(data) - 1\n",
    "\n",
    "    margin_of_error = z * (sample_stddev / (len(data) ** 0.5))\n",
    "\n",
    "    lower_bound = sample_mean - margin_of_error\n",
    "    upper_bound = sample_mean + margin_of_error\n",
    "\n",
    "    return lower_bound, upper_bound\n",
    "\n",
    "sample_data = [23, 25, 28, 22, 30, 27, 26, 29, 24, 21] \n",
    "confidence_level = 0.95 \n",
    "\n",
    "lower, upper = mean_confidence_interval(sample_data, confidence_level)\n",
    "print(f\"Confidence Interval: ({lower}, {upper})\")"
   ]
  },
  {
   "cell_type": "markdown",
   "id": "3e7cc98c-54f1-4db5-b190-d76a83ac77f9",
   "metadata": {},
   "source": [
    "------"
   ]
  },
  {
   "cell_type": "markdown",
   "id": "099fb5f8",
   "metadata": {},
   "source": [
    "#### Task 4: Now, lets take Cartwheel dataset(\"Cartwheeldata.csv\") and calculate a 95%( z-value = 1.96) confidence interval for mean cartwheel age. (0.25p)"
   ]
  },
  {
   "cell_type": "code",
   "execution_count": 33,
   "id": "3cafe6d4",
   "metadata": {},
   "outputs": [
    {
     "name": "stdout",
     "output_type": "stream",
     "text": [
      "(25.5000162725544, 30.979983727445596)\n"
     ]
    }
   ],
   "source": [
    "import pandas as pd\n",
    "import scipy.stats as st\n",
    "\n",
    "df = pd.read_csv(\"Cartwheeldata.csv\")\n",
    "\n",
    "data = df[\"Age\"].dropna()  \n",
    "\n",
    "print(mean_confidence_interval(data))"
   ]
  },
  {
   "cell_type": "markdown",
   "id": "5b2136ed-3fc2-48b5-9749-ce94b630d6e6",
   "metadata": {},
   "source": [
    "----"
   ]
  },
  {
   "cell_type": "markdown",
   "id": "ed3c4609",
   "metadata": {},
   "source": [
    "#### Task 5: Create a Python Function for Estimating a Difference in Population Proportions with Confidence (0.25p)"
   ]
  },
  {
   "cell_type": "code",
   "execution_count": 35,
   "id": "1075837f",
   "metadata": {},
   "outputs": [],
   "source": [
    "def proportion_difference_confidence_interval(pp1, n1, pp2, n2, z=1.96):\n",
    "    # pp1: sample proportion for the first population\n",
    "    # n1: sample size for the first population\n",
    "    # pp2: sample proportion for the second population\n",
    "    # n2: sample size for the second population\n",
    "    # z: z-value for the desired confidence level (default is for 95% confidence)\n",
    "    \n",
    "    p1 = pp1\n",
    "    p2 = pp2\n",
    "    se = math.sqrt((p1 * (1 - p1) / n1) + (p2 * (1 - p2) / n2))\n",
    "    margin_of_error = z * se\n",
    "    \n",
    "    difference = p1 - p2\n",
    "    lower_bound = difference - margin_of_error\n",
    "    upper_bound = difference + margin_of_error\n",
    "    \n",
    "    return lower_bound, upper_bound"
   ]
  },
  {
   "cell_type": "markdown",
   "id": "8840210e-2f1c-4e78-afaa-bf629702c21c",
   "metadata": {},
   "source": [
    "#### Task 6: Calculate Confidence interval for single population Mean (0.25p)"
   ]
  },
  {
   "cell_type": "markdown",
   "id": "22480a91-1fdb-489b-acea-759b9a695918",
   "metadata": {},
   "source": [
    "A random sample of n = 50 males showed a mean average daily intake of dairy products equal to 756 grams with a standard deviation of 35 grams. \n",
    "Find a 95%( z-value = 1.96) and 99%( z-value = 2.576) confidence interval for the population average?\n"
   ]
  },
  {
   "cell_type": "code",
   "execution_count": 36,
   "id": "3fc5d798-e5f3-4468-952e-16d45c0f6132",
   "metadata": {},
   "outputs": [
    {
     "name": "stdout",
     "output_type": "stream",
     "text": [
      "95% Confidence Interval: (746.2984949621206, 765.7015050378794)\n",
      "99% Confidence Interval: (743.2494505216441, 768.7505494783559)\n"
     ]
    }
   ],
   "source": [
    "\n",
    "'''z= 1.96'''\n",
    "sample_mean = 756\n",
    "sample_stddev = 35\n",
    "sample_size = 50\n",
    "confidence_level = 0.95\n",
    "z_value = 1.96\n",
    "\n",
    "margin_of_error = z_value * (sample_stddev / (sample_size ** 0.5))\n",
    "\n",
    "lower_bound = sample_mean - margin_of_error\n",
    "upper_bound = sample_mean + margin_of_error\n",
    "\n",
    "print(f\"95% Confidence Interval: ({lower_bound}, {upper_bound})\")\n",
    "\n",
    "\n",
    "'''z = 2.576'''\n",
    "\n",
    "confidence_level = 0.99\n",
    "z_value = 2.576\n",
    "\n",
    "margin_of_error = z_value * (sample_stddev / (sample_size ** 0.5))\n",
    "\n",
    "lower_bound = sample_mean - margin_of_error\n",
    "upper_bound = sample_mean + margin_of_error\n",
    "\n",
    "print(f\"99% Confidence Interval: ({lower_bound}, {upper_bound})\")\n"
   ]
  },
  {
   "cell_type": "markdown",
   "id": "325ea269-b0f2-4b10-80b1-2f56f3ddd023",
   "metadata": {},
   "source": [
    "#### Task 7: Calculate Confidence interval for Single population Proportion (0.25p)"
   ]
  },
  {
   "cell_type": "markdown",
   "id": "eb678f9e-1873-4326-8c2b-a0c8b25a6a7b",
   "metadata": {},
   "source": [
    "Billing statement for 1000 patients discharged from a particular hospital were randomly selected for error. Out of 1000 billing statements, 102 were found to contain errors. Using this formation lets construct 99%( z-value = 2.576) confidence interval ?"
   ]
  },
  {
   "cell_type": "code",
   "execution_count": 38,
   "id": "f3ce9c8f-11de-41e8-aeca-236f3a55d577",
   "metadata": {},
   "outputs": [
    {
     "name": "stdout",
     "output_type": "stream",
     "text": [
      "99% Confidence Interval: (0.07734618612676732, 0.12665381387323266)\n"
     ]
    }
   ],
   "source": [
    "sample_proportion = 102 / 1000 \n",
    "sample_size = 1000\n",
    "confidence_level = 0.99 \n",
    "z_value = 2.576\n",
    "\n",
    "standard_error = math.sqrt((sample_proportion * (1 - sample_proportion)) / sample_size)\n",
    "\n",
    "margin_of_error = z_value * standard_error\n",
    "\n",
    "lower_bound = sample_proportion - margin_of_error\n",
    "upper_bound = sample_proportion + margin_of_error\n",
    "\n",
    "print(f\"99% Confidence Interval: ({lower_bound}, {upper_bound})\")\n"
   ]
  },
  {
   "cell_type": "markdown",
   "id": "5603d1c8",
   "metadata": {},
   "source": [
    "# Practice work - 8 week"
   ]
  },
  {
   "cell_type": "markdown",
   "id": "de3a10e4",
   "metadata": {},
   "source": [
    "1. Read Cartweeldata file (0.1p)"
   ]
  },
  {
   "cell_type": "code",
   "execution_count": 4,
   "id": "467776cc",
   "metadata": {},
   "outputs": [],
   "source": [
    "import statsmodels.api as sm\n",
    "import numpy as np\n",
    "import pandas as pd\n",
    "import scipy.stats.distributions as dist"
   ]
  },
  {
   "cell_type": "code",
   "execution_count": 6,
   "id": "11832f70",
   "metadata": {},
   "outputs": [
    {
     "data": {
      "text/html": [
       "<div>\n",
       "<style scoped>\n",
       "    .dataframe tbody tr th:only-of-type {\n",
       "        vertical-align: middle;\n",
       "    }\n",
       "\n",
       "    .dataframe tbody tr th {\n",
       "        vertical-align: top;\n",
       "    }\n",
       "\n",
       "    .dataframe thead th {\n",
       "        text-align: right;\n",
       "    }\n",
       "</style>\n",
       "<table border=\"1\" class=\"dataframe\">\n",
       "  <thead>\n",
       "    <tr style=\"text-align: right;\">\n",
       "      <th></th>\n",
       "      <th>ID</th>\n",
       "      <th>Age</th>\n",
       "      <th>Gender</th>\n",
       "      <th>GenderGroup</th>\n",
       "      <th>Glasses</th>\n",
       "      <th>GlassesGroup</th>\n",
       "      <th>Height</th>\n",
       "      <th>Wingspan</th>\n",
       "      <th>CWDistance</th>\n",
       "      <th>Complete</th>\n",
       "      <th>CompleteGroup</th>\n",
       "      <th>Score</th>\n",
       "    </tr>\n",
       "  </thead>\n",
       "  <tbody>\n",
       "    <tr>\n",
       "      <th>0</th>\n",
       "      <td>1</td>\n",
       "      <td>56</td>\n",
       "      <td>F</td>\n",
       "      <td>1</td>\n",
       "      <td>Y</td>\n",
       "      <td>1</td>\n",
       "      <td>62.00</td>\n",
       "      <td>61.0</td>\n",
       "      <td>79</td>\n",
       "      <td>Y</td>\n",
       "      <td>1</td>\n",
       "      <td>7</td>\n",
       "    </tr>\n",
       "    <tr>\n",
       "      <th>1</th>\n",
       "      <td>2</td>\n",
       "      <td>26</td>\n",
       "      <td>F</td>\n",
       "      <td>1</td>\n",
       "      <td>Y</td>\n",
       "      <td>1</td>\n",
       "      <td>62.00</td>\n",
       "      <td>60.0</td>\n",
       "      <td>70</td>\n",
       "      <td>Y</td>\n",
       "      <td>1</td>\n",
       "      <td>8</td>\n",
       "    </tr>\n",
       "    <tr>\n",
       "      <th>2</th>\n",
       "      <td>3</td>\n",
       "      <td>33</td>\n",
       "      <td>F</td>\n",
       "      <td>1</td>\n",
       "      <td>Y</td>\n",
       "      <td>1</td>\n",
       "      <td>66.00</td>\n",
       "      <td>64.0</td>\n",
       "      <td>85</td>\n",
       "      <td>Y</td>\n",
       "      <td>1</td>\n",
       "      <td>7</td>\n",
       "    </tr>\n",
       "    <tr>\n",
       "      <th>3</th>\n",
       "      <td>4</td>\n",
       "      <td>39</td>\n",
       "      <td>F</td>\n",
       "      <td>1</td>\n",
       "      <td>N</td>\n",
       "      <td>0</td>\n",
       "      <td>64.00</td>\n",
       "      <td>63.0</td>\n",
       "      <td>87</td>\n",
       "      <td>Y</td>\n",
       "      <td>1</td>\n",
       "      <td>10</td>\n",
       "    </tr>\n",
       "    <tr>\n",
       "      <th>4</th>\n",
       "      <td>5</td>\n",
       "      <td>27</td>\n",
       "      <td>M</td>\n",
       "      <td>2</td>\n",
       "      <td>N</td>\n",
       "      <td>0</td>\n",
       "      <td>73.00</td>\n",
       "      <td>75.0</td>\n",
       "      <td>72</td>\n",
       "      <td>N</td>\n",
       "      <td>0</td>\n",
       "      <td>4</td>\n",
       "    </tr>\n",
       "    <tr>\n",
       "      <th>5</th>\n",
       "      <td>6</td>\n",
       "      <td>24</td>\n",
       "      <td>M</td>\n",
       "      <td>2</td>\n",
       "      <td>N</td>\n",
       "      <td>0</td>\n",
       "      <td>75.00</td>\n",
       "      <td>71.0</td>\n",
       "      <td>81</td>\n",
       "      <td>N</td>\n",
       "      <td>0</td>\n",
       "      <td>3</td>\n",
       "    </tr>\n",
       "    <tr>\n",
       "      <th>6</th>\n",
       "      <td>7</td>\n",
       "      <td>28</td>\n",
       "      <td>M</td>\n",
       "      <td>2</td>\n",
       "      <td>N</td>\n",
       "      <td>0</td>\n",
       "      <td>75.00</td>\n",
       "      <td>76.0</td>\n",
       "      <td>107</td>\n",
       "      <td>Y</td>\n",
       "      <td>1</td>\n",
       "      <td>10</td>\n",
       "    </tr>\n",
       "    <tr>\n",
       "      <th>7</th>\n",
       "      <td>8</td>\n",
       "      <td>22</td>\n",
       "      <td>F</td>\n",
       "      <td>1</td>\n",
       "      <td>N</td>\n",
       "      <td>0</td>\n",
       "      <td>65.00</td>\n",
       "      <td>62.0</td>\n",
       "      <td>98</td>\n",
       "      <td>Y</td>\n",
       "      <td>1</td>\n",
       "      <td>9</td>\n",
       "    </tr>\n",
       "    <tr>\n",
       "      <th>8</th>\n",
       "      <td>9</td>\n",
       "      <td>29</td>\n",
       "      <td>M</td>\n",
       "      <td>2</td>\n",
       "      <td>Y</td>\n",
       "      <td>1</td>\n",
       "      <td>74.00</td>\n",
       "      <td>73.0</td>\n",
       "      <td>106</td>\n",
       "      <td>N</td>\n",
       "      <td>0</td>\n",
       "      <td>5</td>\n",
       "    </tr>\n",
       "    <tr>\n",
       "      <th>9</th>\n",
       "      <td>10</td>\n",
       "      <td>33</td>\n",
       "      <td>F</td>\n",
       "      <td>1</td>\n",
       "      <td>Y</td>\n",
       "      <td>1</td>\n",
       "      <td>63.00</td>\n",
       "      <td>60.0</td>\n",
       "      <td>65</td>\n",
       "      <td>Y</td>\n",
       "      <td>1</td>\n",
       "      <td>8</td>\n",
       "    </tr>\n",
       "    <tr>\n",
       "      <th>10</th>\n",
       "      <td>11</td>\n",
       "      <td>30</td>\n",
       "      <td>M</td>\n",
       "      <td>2</td>\n",
       "      <td>Y</td>\n",
       "      <td>1</td>\n",
       "      <td>69.50</td>\n",
       "      <td>66.0</td>\n",
       "      <td>96</td>\n",
       "      <td>Y</td>\n",
       "      <td>1</td>\n",
       "      <td>6</td>\n",
       "    </tr>\n",
       "    <tr>\n",
       "      <th>11</th>\n",
       "      <td>12</td>\n",
       "      <td>28</td>\n",
       "      <td>F</td>\n",
       "      <td>1</td>\n",
       "      <td>Y</td>\n",
       "      <td>1</td>\n",
       "      <td>62.75</td>\n",
       "      <td>58.0</td>\n",
       "      <td>79</td>\n",
       "      <td>Y</td>\n",
       "      <td>1</td>\n",
       "      <td>10</td>\n",
       "    </tr>\n",
       "    <tr>\n",
       "      <th>12</th>\n",
       "      <td>13</td>\n",
       "      <td>25</td>\n",
       "      <td>F</td>\n",
       "      <td>1</td>\n",
       "      <td>Y</td>\n",
       "      <td>1</td>\n",
       "      <td>65.00</td>\n",
       "      <td>64.5</td>\n",
       "      <td>92</td>\n",
       "      <td>Y</td>\n",
       "      <td>1</td>\n",
       "      <td>6</td>\n",
       "    </tr>\n",
       "    <tr>\n",
       "      <th>13</th>\n",
       "      <td>14</td>\n",
       "      <td>23</td>\n",
       "      <td>F</td>\n",
       "      <td>1</td>\n",
       "      <td>N</td>\n",
       "      <td>0</td>\n",
       "      <td>61.50</td>\n",
       "      <td>57.5</td>\n",
       "      <td>66</td>\n",
       "      <td>Y</td>\n",
       "      <td>1</td>\n",
       "      <td>4</td>\n",
       "    </tr>\n",
       "    <tr>\n",
       "      <th>14</th>\n",
       "      <td>15</td>\n",
       "      <td>31</td>\n",
       "      <td>M</td>\n",
       "      <td>2</td>\n",
       "      <td>Y</td>\n",
       "      <td>1</td>\n",
       "      <td>73.00</td>\n",
       "      <td>74.0</td>\n",
       "      <td>72</td>\n",
       "      <td>Y</td>\n",
       "      <td>1</td>\n",
       "      <td>9</td>\n",
       "    </tr>\n",
       "    <tr>\n",
       "      <th>15</th>\n",
       "      <td>16</td>\n",
       "      <td>26</td>\n",
       "      <td>M</td>\n",
       "      <td>2</td>\n",
       "      <td>Y</td>\n",
       "      <td>1</td>\n",
       "      <td>71.00</td>\n",
       "      <td>72.0</td>\n",
       "      <td>115</td>\n",
       "      <td>Y</td>\n",
       "      <td>1</td>\n",
       "      <td>6</td>\n",
       "    </tr>\n",
       "    <tr>\n",
       "      <th>16</th>\n",
       "      <td>17</td>\n",
       "      <td>26</td>\n",
       "      <td>F</td>\n",
       "      <td>1</td>\n",
       "      <td>N</td>\n",
       "      <td>0</td>\n",
       "      <td>61.50</td>\n",
       "      <td>59.5</td>\n",
       "      <td>90</td>\n",
       "      <td>N</td>\n",
       "      <td>0</td>\n",
       "      <td>10</td>\n",
       "    </tr>\n",
       "    <tr>\n",
       "      <th>17</th>\n",
       "      <td>18</td>\n",
       "      <td>27</td>\n",
       "      <td>M</td>\n",
       "      <td>2</td>\n",
       "      <td>N</td>\n",
       "      <td>0</td>\n",
       "      <td>66.00</td>\n",
       "      <td>66.0</td>\n",
       "      <td>74</td>\n",
       "      <td>Y</td>\n",
       "      <td>1</td>\n",
       "      <td>5</td>\n",
       "    </tr>\n",
       "    <tr>\n",
       "      <th>18</th>\n",
       "      <td>19</td>\n",
       "      <td>23</td>\n",
       "      <td>M</td>\n",
       "      <td>2</td>\n",
       "      <td>Y</td>\n",
       "      <td>1</td>\n",
       "      <td>70.00</td>\n",
       "      <td>69.0</td>\n",
       "      <td>64</td>\n",
       "      <td>Y</td>\n",
       "      <td>1</td>\n",
       "      <td>3</td>\n",
       "    </tr>\n",
       "    <tr>\n",
       "      <th>19</th>\n",
       "      <td>20</td>\n",
       "      <td>24</td>\n",
       "      <td>F</td>\n",
       "      <td>1</td>\n",
       "      <td>Y</td>\n",
       "      <td>1</td>\n",
       "      <td>68.00</td>\n",
       "      <td>66.0</td>\n",
       "      <td>85</td>\n",
       "      <td>Y</td>\n",
       "      <td>1</td>\n",
       "      <td>8</td>\n",
       "    </tr>\n",
       "    <tr>\n",
       "      <th>20</th>\n",
       "      <td>21</td>\n",
       "      <td>23</td>\n",
       "      <td>M</td>\n",
       "      <td>2</td>\n",
       "      <td>Y</td>\n",
       "      <td>1</td>\n",
       "      <td>69.00</td>\n",
       "      <td>67.0</td>\n",
       "      <td>66</td>\n",
       "      <td>N</td>\n",
       "      <td>0</td>\n",
       "      <td>2</td>\n",
       "    </tr>\n",
       "    <tr>\n",
       "      <th>21</th>\n",
       "      <td>22</td>\n",
       "      <td>29</td>\n",
       "      <td>M</td>\n",
       "      <td>2</td>\n",
       "      <td>N</td>\n",
       "      <td>0</td>\n",
       "      <td>71.00</td>\n",
       "      <td>70.0</td>\n",
       "      <td>101</td>\n",
       "      <td>Y</td>\n",
       "      <td>1</td>\n",
       "      <td>8</td>\n",
       "    </tr>\n",
       "    <tr>\n",
       "      <th>22</th>\n",
       "      <td>23</td>\n",
       "      <td>25</td>\n",
       "      <td>M</td>\n",
       "      <td>2</td>\n",
       "      <td>N</td>\n",
       "      <td>0</td>\n",
       "      <td>70.00</td>\n",
       "      <td>68.0</td>\n",
       "      <td>82</td>\n",
       "      <td>Y</td>\n",
       "      <td>1</td>\n",
       "      <td>4</td>\n",
       "    </tr>\n",
       "    <tr>\n",
       "      <th>23</th>\n",
       "      <td>24</td>\n",
       "      <td>26</td>\n",
       "      <td>M</td>\n",
       "      <td>2</td>\n",
       "      <td>N</td>\n",
       "      <td>0</td>\n",
       "      <td>69.00</td>\n",
       "      <td>71.0</td>\n",
       "      <td>63</td>\n",
       "      <td>Y</td>\n",
       "      <td>1</td>\n",
       "      <td>5</td>\n",
       "    </tr>\n",
       "    <tr>\n",
       "      <th>24</th>\n",
       "      <td>25</td>\n",
       "      <td>23</td>\n",
       "      <td>F</td>\n",
       "      <td>1</td>\n",
       "      <td>Y</td>\n",
       "      <td>1</td>\n",
       "      <td>65.00</td>\n",
       "      <td>63.0</td>\n",
       "      <td>67</td>\n",
       "      <td>N</td>\n",
       "      <td>0</td>\n",
       "      <td>3</td>\n",
       "    </tr>\n",
       "  </tbody>\n",
       "</table>\n",
       "</div>"
      ],
      "text/plain": [
       "    ID  Age Gender  GenderGroup Glasses  GlassesGroup  Height  Wingspan  \\\n",
       "0    1   56      F            1       Y             1   62.00      61.0   \n",
       "1    2   26      F            1       Y             1   62.00      60.0   \n",
       "2    3   33      F            1       Y             1   66.00      64.0   \n",
       "3    4   39      F            1       N             0   64.00      63.0   \n",
       "4    5   27      M            2       N             0   73.00      75.0   \n",
       "5    6   24      M            2       N             0   75.00      71.0   \n",
       "6    7   28      M            2       N             0   75.00      76.0   \n",
       "7    8   22      F            1       N             0   65.00      62.0   \n",
       "8    9   29      M            2       Y             1   74.00      73.0   \n",
       "9   10   33      F            1       Y             1   63.00      60.0   \n",
       "10  11   30      M            2       Y             1   69.50      66.0   \n",
       "11  12   28      F            1       Y             1   62.75      58.0   \n",
       "12  13   25      F            1       Y             1   65.00      64.5   \n",
       "13  14   23      F            1       N             0   61.50      57.5   \n",
       "14  15   31      M            2       Y             1   73.00      74.0   \n",
       "15  16   26      M            2       Y             1   71.00      72.0   \n",
       "16  17   26      F            1       N             0   61.50      59.5   \n",
       "17  18   27      M            2       N             0   66.00      66.0   \n",
       "18  19   23      M            2       Y             1   70.00      69.0   \n",
       "19  20   24      F            1       Y             1   68.00      66.0   \n",
       "20  21   23      M            2       Y             1   69.00      67.0   \n",
       "21  22   29      M            2       N             0   71.00      70.0   \n",
       "22  23   25      M            2       N             0   70.00      68.0   \n",
       "23  24   26      M            2       N             0   69.00      71.0   \n",
       "24  25   23      F            1       Y             1   65.00      63.0   \n",
       "\n",
       "    CWDistance Complete  CompleteGroup  Score  \n",
       "0           79        Y              1      7  \n",
       "1           70        Y              1      8  \n",
       "2           85        Y              1      7  \n",
       "3           87        Y              1     10  \n",
       "4           72        N              0      4  \n",
       "5           81        N              0      3  \n",
       "6          107        Y              1     10  \n",
       "7           98        Y              1      9  \n",
       "8          106        N              0      5  \n",
       "9           65        Y              1      8  \n",
       "10          96        Y              1      6  \n",
       "11          79        Y              1     10  \n",
       "12          92        Y              1      6  \n",
       "13          66        Y              1      4  \n",
       "14          72        Y              1      9  \n",
       "15         115        Y              1      6  \n",
       "16          90        N              0     10  \n",
       "17          74        Y              1      5  \n",
       "18          64        Y              1      3  \n",
       "19          85        Y              1      8  \n",
       "20          66        N              0      2  \n",
       "21         101        Y              1      8  \n",
       "22          82        Y              1      4  \n",
       "23          63        Y              1      5  \n",
       "24          67        N              0      3  "
      ]
     },
     "execution_count": 6,
     "metadata": {},
     "output_type": "execute_result"
    }
   ],
   "source": [
    "#your code\n",
    "df = pd.read_csv('Cartwheeldata.csv')\n",
    "df"
   ]
  },
  {
   "cell_type": "markdown",
   "id": "a03ba377",
   "metadata": {},
   "source": [
    "2. Find parameters (length, mean and standard deviation) of population (0.2p)"
   ]
  },
  {
   "cell_type": "code",
   "execution_count": 19,
   "id": "6b62b1f5",
   "metadata": {},
   "outputs": [
    {
     "name": "stdout",
     "output_type": "stream",
     "text": [
      "25\n",
      "----------------------------------------------------\n",
      "MEAN\n",
      " ID               13.00\n",
      "Age              28.24\n",
      "GenderGroup       1.52\n",
      "GlassesGroup      0.56\n",
      "Height           67.65\n",
      "Wingspan         66.26\n",
      "CWDistance       82.48\n",
      "CompleteGroup     0.76\n",
      "Score             6.40\n",
      "dtype: float64\n",
      "----------------------------------------------------\n",
      "STANDARD DEVIATION\n",
      " ID                7.359801\n",
      "Age               6.989754\n",
      "GenderGroup       0.509902\n",
      "GlassesGroup      0.506623\n",
      "Height            4.431187\n",
      "Wingspan          5.492647\n",
      "CWDistance       15.058552\n",
      "CompleteGroup     0.435890\n",
      "Score             2.533114\n",
      "dtype: float64\n"
     ]
    },
    {
     "name": "stderr",
     "output_type": "stream",
     "text": [
      "C:\\Users\\anuar\\AppData\\Local\\Temp\\ipykernel_21196\\2044245707.py:3: FutureWarning: The default value of numeric_only in DataFrame.mean is deprecated. In a future version, it will default to False. In addition, specifying 'numeric_only=None' is deprecated. Select only valid columns or specify the value of numeric_only to silence this warning.\n",
      "  mean = df.mean(axis=0)\n",
      "D:\\anakonda\\Lib\\site-packages\\numpy\\core\\fromnumeric.py:3603: FutureWarning: The default value of numeric_only in DataFrame.std is deprecated. In a future version, it will default to False. In addition, specifying 'numeric_only=None' is deprecated. Select only valid columns or specify the value of numeric_only to silence this warning.\n",
      "  return std(axis=axis, dtype=dtype, out=out, ddof=ddof, **kwargs)\n"
     ]
    }
   ],
   "source": [
    "length = len(df)\n",
    "\n",
    "mean = df.mean(axis=0)\n",
    "\n",
    "std = np.std(df, ddof = 1)\n",
    "\n",
    "print(length)\n",
    "print('----------------------------------------------------')\n",
    "print('MEAN\\n', mean)\n",
    "print('----------------------------------------------------')\n",
    "print('STANDARD DEVIATION\\n', std)"
   ]
  },
  {
   "cell_type": "markdown",
   "id": "9179b89a",
   "metadata": {},
   "source": [
    "3. Write about Hypothesis Testing(0.2p)"
   ]
  },
  {
   "cell_type": "markdown",
   "id": "5e3c7fc3",
   "metadata": {},
   "source": [
    "#your answer\n",
    "\n",
    "The statistical analysis of data was typically restricted to hypothesis\n",
    "tests: you formulate a hypothesis, collect your data, and then accept or reject the\n",
    "hypothesis. The resulting hypothesis tests form the basic framework for by far most\n",
    "analyses in medicine and life sciences, and the most important hypotheses tests will\n",
    "be described in the following chapters."
   ]
  },
  {
   "cell_type": "markdown",
   "id": "7dc052b3",
   "metadata": {},
   "source": [
    "4. Write about P-values (0.2p)"
   ]
  },
  {
   "cell_type": "markdown",
   "id": "2baac66c",
   "metadata": {},
   "source": [
    "#your answer\n",
    "\n",
    "Comparing the observed value of the statistic (here the obtained t-value) with the\n",
    "corresponding distribution (the t-distribution), we can find the likelihood that a\n",
    "value as extreme as or more extreme than the observed one is found by chance.\n",
    "This is the so-called p-value"
   ]
  },
  {
   "cell_type": "markdown",
   "id": "19252013",
   "metadata": {},
   "source": [
    "Task Description:\n",
    "\n",
    "You work for a marketing department in a retail company, and you've recently launched a new advertising campaign to increase sales of a specific product category. The campaign involved targeting potential customers through social media ads. Now, you need to assess the effectiveness of this campaign through hypothesis testing.\n",
    "\n"
   ]
  },
  {
   "cell_type": "markdown",
   "id": "05f90904",
   "metadata": {},
   "source": [
    "5. Formulate Research Question. (0.3p)"
   ]
  },
  {
   "cell_type": "markdown",
   "id": "a0260bb6",
   "metadata": {},
   "source": [
    "How does our social media advertising campaign's effectiveness vary across different marketing channels and platforms in terms of its impact on the sales of specific product category?"
   ]
  },
  {
   "cell_type": "markdown",
   "id": "f6e2afbd",
   "metadata": {},
   "source": [
    "6. Formulate Hypotheses. (0.5p)"
   ]
  },
  {
   "cell_type": "markdown",
   "id": "fcc07769",
   "metadata": {},
   "source": [
    "The advertising campaign has a different impact on sales across marketing channels and platforms for the specific product category, with at least one channel or platform having a significantly greater positive effect on sales, while others may have no effect or a negative effect.\n"
   ]
  },
  {
   "cell_type": "markdown",
   "id": "f117bb83",
   "metadata": {
    "colab_type": "text",
    "id": "8BYZBHWdMyV4"
   },
   "source": [
    "## Confidence intervals in python\n",
    "In this assessment, you will look at data from a study on toddler sleep habits. \n",
    "\n",
    "The confidence intervals you create and the questions you answer in this Jupyter notebook will be used to answer questions in the following graded assignment."
   ]
  },
  {
   "cell_type": "code",
   "execution_count": 2,
   "id": "a86fa970",
   "metadata": {
    "colab": {},
    "colab_type": "code",
    "id": "XgFyiBR-MyV6"
   },
   "outputs": [],
   "source": [
    "import numpy as np\n",
    "import pandas as pd\n",
    "from scipy.stats import t\n",
    "pd.set_option('display.max_columns', 30) # set so can see all columns of the DataFrame"
   ]
  },
  {
   "cell_type": "markdown",
   "id": "3a9b7ad5",
   "metadata": {
    "colab_type": "text",
    "id": "Tdw2MXJrMyWA"
   },
   "source": [
    "Your goal is to analyse data which is the result of a study that examined\n",
    "differences in a number of sleep variables between napping and non-napping toddlers. Some of these\n",
    "sleep variables included: Bedtime (lights-off time in decimalized time), Night Sleep Onset Time (in\n",
    "decimalized time), Wake Time (sleep end time in decimalized time), Night Sleep Duration (interval\n",
    "between sleep onset and sleep end in minutes), and Total 24-Hour Sleep Duration (in minutes). Note:\n",
    "[Decimalized time](https://en.wikipedia.org/wiki/Decimal_time) is the representation of the time of day using units which are decimally related.   \n",
    "\n",
    "\n",
    "The 20 study participants were healthy, normally developing toddlers with no sleep or behavioral\n",
    "problems. These children were categorized as napping or non-napping based upon parental report of\n",
    "children’s habitual sleep patterns. Researchers then verified napping status with data from actigraphy (a\n",
    "non-invasive method of monitoring human rest/activity cycles by wearing of a sensor on the wrist) and\n",
    "sleep diaries during the 5 days before the study assessments were made.\n",
    "\n",
    "\n",
    "You are specifically interested in the results for Bedtime. "
   ]
  },
  {
   "cell_type": "markdown",
   "id": "2d7759ed",
   "metadata": {
    "colab_type": "text",
    "id": "qZeYAvHRMyWC"
   },
   "source": [
    "Reference: Akacem LD, Simpkin CT, Carskadon MA, Wright KP Jr, Jenni OG, Achermann P, et al. (2015) The Timing of the Circadian Clock and Sleep Differ between Napping and Non-Napping Toddlers. PLoS ONE 10(4): e0125181. https://doi.org/10.1371/journal.pone.0125181"
   ]
  },
  {
   "cell_type": "code",
   "execution_count": 33,
   "id": "0169833c",
   "metadata": {
    "colab": {},
    "colab_type": "code",
    "id": "tY3EqOuoMyWD"
   },
   "outputs": [],
   "source": [
    "# Import the data\n",
    "df = pd.read_csv(\"nap_no_nap.csv\") "
   ]
  },
  {
   "cell_type": "code",
   "execution_count": 4,
   "id": "f36fa7f5",
   "metadata": {
    "colab": {},
    "colab_type": "code",
    "id": "pcjLN7goMyWH",
    "scrolled": true
   },
   "outputs": [
    {
     "data": {
      "text/html": [
       "<div>\n",
       "<style scoped>\n",
       "    .dataframe tbody tr th:only-of-type {\n",
       "        vertical-align: middle;\n",
       "    }\n",
       "\n",
       "    .dataframe tbody tr th {\n",
       "        vertical-align: top;\n",
       "    }\n",
       "\n",
       "    .dataframe thead th {\n",
       "        text-align: right;\n",
       "    }\n",
       "</style>\n",
       "<table border=\"1\" class=\"dataframe\">\n",
       "  <thead>\n",
       "    <tr style=\"text-align: right;\">\n",
       "      <th></th>\n",
       "      <th>id</th>\n",
       "      <th>sex</th>\n",
       "      <th>age (months)</th>\n",
       "      <th>dlmo time</th>\n",
       "      <th>days napped</th>\n",
       "      <th>napping</th>\n",
       "      <th>nap lights outl time</th>\n",
       "      <th>nap sleep onset</th>\n",
       "      <th>nap midsleep</th>\n",
       "      <th>nap sleep offset</th>\n",
       "      <th>nap wake time</th>\n",
       "      <th>nap duration</th>\n",
       "      <th>nap time in bed</th>\n",
       "      <th>night bedtime</th>\n",
       "      <th>night sleep onset</th>\n",
       "      <th>sleep onset latency</th>\n",
       "      <th>night midsleep time</th>\n",
       "      <th>night wake time</th>\n",
       "      <th>night sleep duration</th>\n",
       "      <th>night time in bed</th>\n",
       "      <th>24 h sleep duration</th>\n",
       "      <th>bedtime phase difference</th>\n",
       "      <th>sleep onset phase difference</th>\n",
       "      <th>midsleep phase difference</th>\n",
       "      <th>wake time phase difference</th>\n",
       "    </tr>\n",
       "  </thead>\n",
       "  <tbody>\n",
       "    <tr>\n",
       "      <th>0</th>\n",
       "      <td>1</td>\n",
       "      <td>female</td>\n",
       "      <td>33.7</td>\n",
       "      <td>19.24</td>\n",
       "      <td>0</td>\n",
       "      <td>0</td>\n",
       "      <td>NaN</td>\n",
       "      <td>NaN</td>\n",
       "      <td>NaN</td>\n",
       "      <td>NaN</td>\n",
       "      <td>NaN</td>\n",
       "      <td>NaN</td>\n",
       "      <td>NaN</td>\n",
       "      <td>20.45</td>\n",
       "      <td>20.68</td>\n",
       "      <td>0.23</td>\n",
       "      <td>1.92</td>\n",
       "      <td>7.17</td>\n",
       "      <td>629.40</td>\n",
       "      <td>643.00</td>\n",
       "      <td>629.40</td>\n",
       "      <td>-1.21</td>\n",
       "      <td>-1.44</td>\n",
       "      <td>6.68</td>\n",
       "      <td>11.93</td>\n",
       "    </tr>\n",
       "    <tr>\n",
       "      <th>1</th>\n",
       "      <td>2</td>\n",
       "      <td>female</td>\n",
       "      <td>31.5</td>\n",
       "      <td>18.27</td>\n",
       "      <td>0</td>\n",
       "      <td>0</td>\n",
       "      <td>NaN</td>\n",
       "      <td>NaN</td>\n",
       "      <td>NaN</td>\n",
       "      <td>NaN</td>\n",
       "      <td>NaN</td>\n",
       "      <td>NaN</td>\n",
       "      <td>NaN</td>\n",
       "      <td>19.23</td>\n",
       "      <td>19.48</td>\n",
       "      <td>0.25</td>\n",
       "      <td>1.09</td>\n",
       "      <td>6.69</td>\n",
       "      <td>672.40</td>\n",
       "      <td>700.40</td>\n",
       "      <td>672.40</td>\n",
       "      <td>-0.96</td>\n",
       "      <td>-1.21</td>\n",
       "      <td>6.82</td>\n",
       "      <td>12.42</td>\n",
       "    </tr>\n",
       "    <tr>\n",
       "      <th>2</th>\n",
       "      <td>3</td>\n",
       "      <td>male</td>\n",
       "      <td>31.9</td>\n",
       "      <td>19.14</td>\n",
       "      <td>0</td>\n",
       "      <td>0</td>\n",
       "      <td>NaN</td>\n",
       "      <td>NaN</td>\n",
       "      <td>NaN</td>\n",
       "      <td>NaN</td>\n",
       "      <td>NaN</td>\n",
       "      <td>NaN</td>\n",
       "      <td>NaN</td>\n",
       "      <td>19.60</td>\n",
       "      <td>20.05</td>\n",
       "      <td>0.45</td>\n",
       "      <td>1.29</td>\n",
       "      <td>6.53</td>\n",
       "      <td>628.80</td>\n",
       "      <td>682.60</td>\n",
       "      <td>628.80</td>\n",
       "      <td>-0.46</td>\n",
       "      <td>-0.91</td>\n",
       "      <td>6.15</td>\n",
       "      <td>11.39</td>\n",
       "    </tr>\n",
       "    <tr>\n",
       "      <th>3</th>\n",
       "      <td>4</td>\n",
       "      <td>female</td>\n",
       "      <td>31.6</td>\n",
       "      <td>19.69</td>\n",
       "      <td>0</td>\n",
       "      <td>0</td>\n",
       "      <td>NaN</td>\n",
       "      <td>NaN</td>\n",
       "      <td>NaN</td>\n",
       "      <td>NaN</td>\n",
       "      <td>NaN</td>\n",
       "      <td>NaN</td>\n",
       "      <td>NaN</td>\n",
       "      <td>19.46</td>\n",
       "      <td>19.50</td>\n",
       "      <td>0.05</td>\n",
       "      <td>1.89</td>\n",
       "      <td>8.28</td>\n",
       "      <td>766.60</td>\n",
       "      <td>784.00</td>\n",
       "      <td>766.60</td>\n",
       "      <td>0.23</td>\n",
       "      <td>0.19</td>\n",
       "      <td>6.20</td>\n",
       "      <td>12.59</td>\n",
       "    </tr>\n",
       "    <tr>\n",
       "      <th>4</th>\n",
       "      <td>5</td>\n",
       "      <td>female</td>\n",
       "      <td>33.0</td>\n",
       "      <td>19.52</td>\n",
       "      <td>0</td>\n",
       "      <td>0</td>\n",
       "      <td>NaN</td>\n",
       "      <td>NaN</td>\n",
       "      <td>NaN</td>\n",
       "      <td>NaN</td>\n",
       "      <td>NaN</td>\n",
       "      <td>NaN</td>\n",
       "      <td>NaN</td>\n",
       "      <td>19.21</td>\n",
       "      <td>19.65</td>\n",
       "      <td>0.45</td>\n",
       "      <td>1.30</td>\n",
       "      <td>6.95</td>\n",
       "      <td>678.00</td>\n",
       "      <td>718.00</td>\n",
       "      <td>678.00</td>\n",
       "      <td>0.31</td>\n",
       "      <td>-0.13</td>\n",
       "      <td>5.78</td>\n",
       "      <td>11.43</td>\n",
       "    </tr>\n",
       "    <tr>\n",
       "      <th>5</th>\n",
       "      <td>6</td>\n",
       "      <td>female</td>\n",
       "      <td>36.2</td>\n",
       "      <td>18.22</td>\n",
       "      <td>4</td>\n",
       "      <td>1</td>\n",
       "      <td>14.00</td>\n",
       "      <td>14.22</td>\n",
       "      <td>15.00</td>\n",
       "      <td>15.78</td>\n",
       "      <td>16.28</td>\n",
       "      <td>93.75</td>\n",
       "      <td>137.00</td>\n",
       "      <td>19.95</td>\n",
       "      <td>20.25</td>\n",
       "      <td>0.29</td>\n",
       "      <td>1.26</td>\n",
       "      <td>6.28</td>\n",
       "      <td>602.20</td>\n",
       "      <td>653.80</td>\n",
       "      <td>695.95</td>\n",
       "      <td>-1.73</td>\n",
       "      <td>-2.03</td>\n",
       "      <td>7.05</td>\n",
       "      <td>12.06</td>\n",
       "    </tr>\n",
       "    <tr>\n",
       "      <th>6</th>\n",
       "      <td>7</td>\n",
       "      <td>male</td>\n",
       "      <td>36.3</td>\n",
       "      <td>19.28</td>\n",
       "      <td>1</td>\n",
       "      <td>1</td>\n",
       "      <td>14.75</td>\n",
       "      <td>15.03</td>\n",
       "      <td>15.92</td>\n",
       "      <td>16.80</td>\n",
       "      <td>16.08</td>\n",
       "      <td>106.00</td>\n",
       "      <td>80.00</td>\n",
       "      <td>20.60</td>\n",
       "      <td>20.96</td>\n",
       "      <td>0.36</td>\n",
       "      <td>2.12</td>\n",
       "      <td>7.27</td>\n",
       "      <td>618.40</td>\n",
       "      <td>655.40</td>\n",
       "      <td>724.40</td>\n",
       "      <td>-1.32</td>\n",
       "      <td>-1.68</td>\n",
       "      <td>6.84</td>\n",
       "      <td>11.99</td>\n",
       "    </tr>\n",
       "    <tr>\n",
       "      <th>7</th>\n",
       "      <td>8</td>\n",
       "      <td>male</td>\n",
       "      <td>30.0</td>\n",
       "      <td>21.06</td>\n",
       "      <td>5</td>\n",
       "      <td>1</td>\n",
       "      <td>13.09</td>\n",
       "      <td>13.43</td>\n",
       "      <td>14.44</td>\n",
       "      <td>15.46</td>\n",
       "      <td>15.82</td>\n",
       "      <td>121.60</td>\n",
       "      <td>163.80</td>\n",
       "      <td>22.01</td>\n",
       "      <td>22.53</td>\n",
       "      <td>0.51</td>\n",
       "      <td>2.92</td>\n",
       "      <td>7.31</td>\n",
       "      <td>526.80</td>\n",
       "      <td>582.40</td>\n",
       "      <td>648.40</td>\n",
       "      <td>-0.95</td>\n",
       "      <td>-1.47</td>\n",
       "      <td>5.86</td>\n",
       "      <td>10.25</td>\n",
       "    </tr>\n",
       "    <tr>\n",
       "      <th>8</th>\n",
       "      <td>9</td>\n",
       "      <td>male</td>\n",
       "      <td>33.2</td>\n",
       "      <td>19.38</td>\n",
       "      <td>2</td>\n",
       "      <td>1</td>\n",
       "      <td>14.41</td>\n",
       "      <td>14.42</td>\n",
       "      <td>15.71</td>\n",
       "      <td>17.01</td>\n",
       "      <td>16.60</td>\n",
       "      <td>155.50</td>\n",
       "      <td>131.25</td>\n",
       "      <td>20.24</td>\n",
       "      <td>20.37</td>\n",
       "      <td>0.13</td>\n",
       "      <td>1.60</td>\n",
       "      <td>6.82</td>\n",
       "      <td>626.80</td>\n",
       "      <td>660.33</td>\n",
       "      <td>782.30</td>\n",
       "      <td>-0.86</td>\n",
       "      <td>-0.99</td>\n",
       "      <td>6.22</td>\n",
       "      <td>11.44</td>\n",
       "    </tr>\n",
       "    <tr>\n",
       "      <th>9</th>\n",
       "      <td>10</td>\n",
       "      <td>female</td>\n",
       "      <td>37.1</td>\n",
       "      <td>19.93</td>\n",
       "      <td>3</td>\n",
       "      <td>1</td>\n",
       "      <td>13.12</td>\n",
       "      <td>13.42</td>\n",
       "      <td>14.31</td>\n",
       "      <td>15.19</td>\n",
       "      <td>15.30</td>\n",
       "      <td>106.67</td>\n",
       "      <td>130.67</td>\n",
       "      <td>20.78</td>\n",
       "      <td>21.63</td>\n",
       "      <td>0.84</td>\n",
       "      <td>2.20</td>\n",
       "      <td>6.52</td>\n",
       "      <td>549.50</td>\n",
       "      <td>626.00</td>\n",
       "      <td>656.17</td>\n",
       "      <td>-0.76</td>\n",
       "      <td>-1.82</td>\n",
       "      <td>6.21</td>\n",
       "      <td>10.59</td>\n",
       "    </tr>\n",
       "    <tr>\n",
       "      <th>10</th>\n",
       "      <td>11</td>\n",
       "      <td>male</td>\n",
       "      <td>32.9</td>\n",
       "      <td>18.79</td>\n",
       "      <td>4</td>\n",
       "      <td>1</td>\n",
       "      <td>13.99</td>\n",
       "      <td>14.03</td>\n",
       "      <td>14.85</td>\n",
       "      <td>15.68</td>\n",
       "      <td>16.10</td>\n",
       "      <td>98.75</td>\n",
       "      <td>126.60</td>\n",
       "      <td>19.45</td>\n",
       "      <td>19.88</td>\n",
       "      <td>0.44</td>\n",
       "      <td>1.34</td>\n",
       "      <td>6.80</td>\n",
       "      <td>655.20</td>\n",
       "      <td>694.80</td>\n",
       "      <td>753.95</td>\n",
       "      <td>-0.66</td>\n",
       "      <td>-1.09</td>\n",
       "      <td>6.55</td>\n",
       "      <td>12.01</td>\n",
       "    </tr>\n",
       "    <tr>\n",
       "      <th>11</th>\n",
       "      <td>12</td>\n",
       "      <td>female</td>\n",
       "      <td>35.0</td>\n",
       "      <td>19.65</td>\n",
       "      <td>5</td>\n",
       "      <td>1</td>\n",
       "      <td>13.18</td>\n",
       "      <td>13.45</td>\n",
       "      <td>14.33</td>\n",
       "      <td>15.21</td>\n",
       "      <td>15.35</td>\n",
       "      <td>105.80</td>\n",
       "      <td>130.40</td>\n",
       "      <td>20.18</td>\n",
       "      <td>20.84</td>\n",
       "      <td>0.66</td>\n",
       "      <td>1.93</td>\n",
       "      <td>7.03</td>\n",
       "      <td>611.20</td>\n",
       "      <td>660.40</td>\n",
       "      <td>717.00</td>\n",
       "      <td>-0.53</td>\n",
       "      <td>-1.19</td>\n",
       "      <td>6.28</td>\n",
       "      <td>11.38</td>\n",
       "    </tr>\n",
       "    <tr>\n",
       "      <th>12</th>\n",
       "      <td>13</td>\n",
       "      <td>male</td>\n",
       "      <td>35.1</td>\n",
       "      <td>19.83</td>\n",
       "      <td>3</td>\n",
       "      <td>1</td>\n",
       "      <td>13.94</td>\n",
       "      <td>14.48</td>\n",
       "      <td>15.26</td>\n",
       "      <td>16.03</td>\n",
       "      <td>15.78</td>\n",
       "      <td>93.33</td>\n",
       "      <td>110.20</td>\n",
       "      <td>20.22</td>\n",
       "      <td>20.89</td>\n",
       "      <td>0.67</td>\n",
       "      <td>1.99</td>\n",
       "      <td>7.09</td>\n",
       "      <td>611.80</td>\n",
       "      <td>662.20</td>\n",
       "      <td>705.13</td>\n",
       "      <td>-0.39</td>\n",
       "      <td>-1.06</td>\n",
       "      <td>6.16</td>\n",
       "      <td>11.26</td>\n",
       "    </tr>\n",
       "    <tr>\n",
       "      <th>13</th>\n",
       "      <td>14</td>\n",
       "      <td>female</td>\n",
       "      <td>35.6</td>\n",
       "      <td>19.88</td>\n",
       "      <td>4</td>\n",
       "      <td>1</td>\n",
       "      <td>12.68</td>\n",
       "      <td>13.08</td>\n",
       "      <td>13.92</td>\n",
       "      <td>14.76</td>\n",
       "      <td>15.00</td>\n",
       "      <td>100.75</td>\n",
       "      <td>139.33</td>\n",
       "      <td>20.26</td>\n",
       "      <td>20.80</td>\n",
       "      <td>0.54</td>\n",
       "      <td>1.96</td>\n",
       "      <td>7.11</td>\n",
       "      <td>618.80</td>\n",
       "      <td>671.20</td>\n",
       "      <td>719.55</td>\n",
       "      <td>-0.38</td>\n",
       "      <td>-0.92</td>\n",
       "      <td>6.08</td>\n",
       "      <td>11.23</td>\n",
       "    </tr>\n",
       "    <tr>\n",
       "      <th>14</th>\n",
       "      <td>15</td>\n",
       "      <td>female</td>\n",
       "      <td>36.6</td>\n",
       "      <td>19.94</td>\n",
       "      <td>4</td>\n",
       "      <td>1</td>\n",
       "      <td>12.71</td>\n",
       "      <td>12.88</td>\n",
       "      <td>13.80</td>\n",
       "      <td>14.72</td>\n",
       "      <td>14.88</td>\n",
       "      <td>110.75</td>\n",
       "      <td>130.00</td>\n",
       "      <td>20.28</td>\n",
       "      <td>20.92</td>\n",
       "      <td>0.64</td>\n",
       "      <td>1.49</td>\n",
       "      <td>6.33</td>\n",
       "      <td>548.00</td>\n",
       "      <td>595.00</td>\n",
       "      <td>658.75</td>\n",
       "      <td>-0.34</td>\n",
       "      <td>-0.90</td>\n",
       "      <td>5.64</td>\n",
       "      <td>10.39</td>\n",
       "    </tr>\n",
       "    <tr>\n",
       "      <th>15</th>\n",
       "      <td>16</td>\n",
       "      <td>male</td>\n",
       "      <td>36.5</td>\n",
       "      <td>20.25</td>\n",
       "      <td>3</td>\n",
       "      <td>1</td>\n",
       "      <td>13.74</td>\n",
       "      <td>14.68</td>\n",
       "      <td>15.66</td>\n",
       "      <td>16.64</td>\n",
       "      <td>16.45</td>\n",
       "      <td>117.33</td>\n",
       "      <td>162.75</td>\n",
       "      <td>20.46</td>\n",
       "      <td>21.25</td>\n",
       "      <td>0.79</td>\n",
       "      <td>2.19</td>\n",
       "      <td>7.13</td>\n",
       "      <td>593.25</td>\n",
       "      <td>662.00</td>\n",
       "      <td>710.58</td>\n",
       "      <td>-0.21</td>\n",
       "      <td>-1.00</td>\n",
       "      <td>5.94</td>\n",
       "      <td>10.88</td>\n",
       "    </tr>\n",
       "    <tr>\n",
       "      <th>16</th>\n",
       "      <td>17</td>\n",
       "      <td>female</td>\n",
       "      <td>33.7</td>\n",
       "      <td>20.33</td>\n",
       "      <td>5</td>\n",
       "      <td>1</td>\n",
       "      <td>13.15</td>\n",
       "      <td>13.87</td>\n",
       "      <td>14.49</td>\n",
       "      <td>15.11</td>\n",
       "      <td>15.40</td>\n",
       "      <td>74.20</td>\n",
       "      <td>135.00</td>\n",
       "      <td>20.43</td>\n",
       "      <td>21.03</td>\n",
       "      <td>0.60</td>\n",
       "      <td>2.44</td>\n",
       "      <td>7.86</td>\n",
       "      <td>649.80</td>\n",
       "      <td>708.60</td>\n",
       "      <td>724.00</td>\n",
       "      <td>-0.10</td>\n",
       "      <td>-0.70</td>\n",
       "      <td>6.12</td>\n",
       "      <td>11.53</td>\n",
       "    </tr>\n",
       "    <tr>\n",
       "      <th>17</th>\n",
       "      <td>18</td>\n",
       "      <td>male</td>\n",
       "      <td>36.4</td>\n",
       "      <td>20.16</td>\n",
       "      <td>5</td>\n",
       "      <td>1</td>\n",
       "      <td>12.47</td>\n",
       "      <td>12.56</td>\n",
       "      <td>13.30</td>\n",
       "      <td>14.05</td>\n",
       "      <td>14.25</td>\n",
       "      <td>89.80</td>\n",
       "      <td>107.00</td>\n",
       "      <td>20.02</td>\n",
       "      <td>20.45</td>\n",
       "      <td>0.43</td>\n",
       "      <td>1.23</td>\n",
       "      <td>6.01</td>\n",
       "      <td>573.60</td>\n",
       "      <td>614.60</td>\n",
       "      <td>663.40</td>\n",
       "      <td>0.14</td>\n",
       "      <td>-0.29</td>\n",
       "      <td>5.07</td>\n",
       "      <td>9.85</td>\n",
       "    </tr>\n",
       "    <tr>\n",
       "      <th>18</th>\n",
       "      <td>19</td>\n",
       "      <td>female</td>\n",
       "      <td>33.6</td>\n",
       "      <td>19.68</td>\n",
       "      <td>3</td>\n",
       "      <td>1</td>\n",
       "      <td>14.71</td>\n",
       "      <td>14.85</td>\n",
       "      <td>15.46</td>\n",
       "      <td>16.07</td>\n",
       "      <td>16.20</td>\n",
       "      <td>73.00</td>\n",
       "      <td>89.40</td>\n",
       "      <td>19.50</td>\n",
       "      <td>19.64</td>\n",
       "      <td>0.14</td>\n",
       "      <td>1.42</td>\n",
       "      <td>7.20</td>\n",
       "      <td>693.40</td>\n",
       "      <td>715.00</td>\n",
       "      <td>766.40</td>\n",
       "      <td>0.18</td>\n",
       "      <td>0.04</td>\n",
       "      <td>5.74</td>\n",
       "      <td>11.52</td>\n",
       "    </tr>\n",
       "    <tr>\n",
       "      <th>19</th>\n",
       "      <td>20</td>\n",
       "      <td>male</td>\n",
       "      <td>33.8</td>\n",
       "      <td>20.51</td>\n",
       "      <td>3</td>\n",
       "      <td>1</td>\n",
       "      <td>12.68</td>\n",
       "      <td>13.54</td>\n",
       "      <td>14.30</td>\n",
       "      <td>15.07</td>\n",
       "      <td>15.23</td>\n",
       "      <td>91.67</td>\n",
       "      <td>152.67</td>\n",
       "      <td>20.18</td>\n",
       "      <td>21.38</td>\n",
       "      <td>1.19</td>\n",
       "      <td>2.51</td>\n",
       "      <td>7.63</td>\n",
       "      <td>615.33</td>\n",
       "      <td>692.00</td>\n",
       "      <td>707.00</td>\n",
       "      <td>0.33</td>\n",
       "      <td>-0.87</td>\n",
       "      <td>6.00</td>\n",
       "      <td>11.12</td>\n",
       "    </tr>\n",
       "  </tbody>\n",
       "</table>\n",
       "</div>"
      ],
      "text/plain": [
       "    id     sex  age (months)  dlmo time  days napped  napping  \\\n",
       "0    1  female          33.7      19.24            0        0   \n",
       "1    2  female          31.5      18.27            0        0   \n",
       "2    3    male          31.9      19.14            0        0   \n",
       "3    4  female          31.6      19.69            0        0   \n",
       "4    5  female          33.0      19.52            0        0   \n",
       "5    6  female          36.2      18.22            4        1   \n",
       "6    7    male          36.3      19.28            1        1   \n",
       "7    8    male          30.0      21.06            5        1   \n",
       "8    9    male          33.2      19.38            2        1   \n",
       "9   10  female          37.1      19.93            3        1   \n",
       "10  11    male          32.9      18.79            4        1   \n",
       "11  12  female          35.0      19.65            5        1   \n",
       "12  13    male          35.1      19.83            3        1   \n",
       "13  14  female          35.6      19.88            4        1   \n",
       "14  15  female          36.6      19.94            4        1   \n",
       "15  16    male          36.5      20.25            3        1   \n",
       "16  17  female          33.7      20.33            5        1   \n",
       "17  18    male          36.4      20.16            5        1   \n",
       "18  19  female          33.6      19.68            3        1   \n",
       "19  20    male          33.8      20.51            3        1   \n",
       "\n",
       "    nap lights outl time  nap sleep onset  nap midsleep  nap sleep offset  \\\n",
       "0                    NaN              NaN           NaN               NaN   \n",
       "1                    NaN              NaN           NaN               NaN   \n",
       "2                    NaN              NaN           NaN               NaN   \n",
       "3                    NaN              NaN           NaN               NaN   \n",
       "4                    NaN              NaN           NaN               NaN   \n",
       "5                  14.00            14.22         15.00             15.78   \n",
       "6                  14.75            15.03         15.92             16.80   \n",
       "7                  13.09            13.43         14.44             15.46   \n",
       "8                  14.41            14.42         15.71             17.01   \n",
       "9                  13.12            13.42         14.31             15.19   \n",
       "10                 13.99            14.03         14.85             15.68   \n",
       "11                 13.18            13.45         14.33             15.21   \n",
       "12                 13.94            14.48         15.26             16.03   \n",
       "13                 12.68            13.08         13.92             14.76   \n",
       "14                 12.71            12.88         13.80             14.72   \n",
       "15                 13.74            14.68         15.66             16.64   \n",
       "16                 13.15            13.87         14.49             15.11   \n",
       "17                 12.47            12.56         13.30             14.05   \n",
       "18                 14.71            14.85         15.46             16.07   \n",
       "19                 12.68            13.54         14.30             15.07   \n",
       "\n",
       "    nap wake time  nap duration  nap time in bed  night bedtime  \\\n",
       "0             NaN           NaN              NaN          20.45   \n",
       "1             NaN           NaN              NaN          19.23   \n",
       "2             NaN           NaN              NaN          19.60   \n",
       "3             NaN           NaN              NaN          19.46   \n",
       "4             NaN           NaN              NaN          19.21   \n",
       "5           16.28         93.75           137.00          19.95   \n",
       "6           16.08        106.00            80.00          20.60   \n",
       "7           15.82        121.60           163.80          22.01   \n",
       "8           16.60        155.50           131.25          20.24   \n",
       "9           15.30        106.67           130.67          20.78   \n",
       "10          16.10         98.75           126.60          19.45   \n",
       "11          15.35        105.80           130.40          20.18   \n",
       "12          15.78         93.33           110.20          20.22   \n",
       "13          15.00        100.75           139.33          20.26   \n",
       "14          14.88        110.75           130.00          20.28   \n",
       "15          16.45        117.33           162.75          20.46   \n",
       "16          15.40         74.20           135.00          20.43   \n",
       "17          14.25         89.80           107.00          20.02   \n",
       "18          16.20         73.00            89.40          19.50   \n",
       "19          15.23         91.67           152.67          20.18   \n",
       "\n",
       "    night sleep onset  sleep onset latency  night midsleep time  \\\n",
       "0               20.68                 0.23                 1.92   \n",
       "1               19.48                 0.25                 1.09   \n",
       "2               20.05                 0.45                 1.29   \n",
       "3               19.50                 0.05                 1.89   \n",
       "4               19.65                 0.45                 1.30   \n",
       "5               20.25                 0.29                 1.26   \n",
       "6               20.96                 0.36                 2.12   \n",
       "7               22.53                 0.51                 2.92   \n",
       "8               20.37                 0.13                 1.60   \n",
       "9               21.63                 0.84                 2.20   \n",
       "10              19.88                 0.44                 1.34   \n",
       "11              20.84                 0.66                 1.93   \n",
       "12              20.89                 0.67                 1.99   \n",
       "13              20.80                 0.54                 1.96   \n",
       "14              20.92                 0.64                 1.49   \n",
       "15              21.25                 0.79                 2.19   \n",
       "16              21.03                 0.60                 2.44   \n",
       "17              20.45                 0.43                 1.23   \n",
       "18              19.64                 0.14                 1.42   \n",
       "19              21.38                 1.19                 2.51   \n",
       "\n",
       "    night wake time  night sleep duration  night time in bed  \\\n",
       "0              7.17                629.40             643.00   \n",
       "1              6.69                672.40             700.40   \n",
       "2              6.53                628.80             682.60   \n",
       "3              8.28                766.60             784.00   \n",
       "4              6.95                678.00             718.00   \n",
       "5              6.28                602.20             653.80   \n",
       "6              7.27                618.40             655.40   \n",
       "7              7.31                526.80             582.40   \n",
       "8              6.82                626.80             660.33   \n",
       "9              6.52                549.50             626.00   \n",
       "10             6.80                655.20             694.80   \n",
       "11             7.03                611.20             660.40   \n",
       "12             7.09                611.80             662.20   \n",
       "13             7.11                618.80             671.20   \n",
       "14             6.33                548.00             595.00   \n",
       "15             7.13                593.25             662.00   \n",
       "16             7.86                649.80             708.60   \n",
       "17             6.01                573.60             614.60   \n",
       "18             7.20                693.40             715.00   \n",
       "19             7.63                615.33             692.00   \n",
       "\n",
       "    24 h sleep duration  bedtime phase difference  \\\n",
       "0                629.40                     -1.21   \n",
       "1                672.40                     -0.96   \n",
       "2                628.80                     -0.46   \n",
       "3                766.60                      0.23   \n",
       "4                678.00                      0.31   \n",
       "5                695.95                     -1.73   \n",
       "6                724.40                     -1.32   \n",
       "7                648.40                     -0.95   \n",
       "8                782.30                     -0.86   \n",
       "9                656.17                     -0.76   \n",
       "10               753.95                     -0.66   \n",
       "11               717.00                     -0.53   \n",
       "12               705.13                     -0.39   \n",
       "13               719.55                     -0.38   \n",
       "14               658.75                     -0.34   \n",
       "15               710.58                     -0.21   \n",
       "16               724.00                     -0.10   \n",
       "17               663.40                      0.14   \n",
       "18               766.40                      0.18   \n",
       "19               707.00                      0.33   \n",
       "\n",
       "    sleep onset phase difference  midsleep phase difference  \\\n",
       "0                          -1.44                       6.68   \n",
       "1                          -1.21                       6.82   \n",
       "2                          -0.91                       6.15   \n",
       "3                           0.19                       6.20   \n",
       "4                          -0.13                       5.78   \n",
       "5                          -2.03                       7.05   \n",
       "6                          -1.68                       6.84   \n",
       "7                          -1.47                       5.86   \n",
       "8                          -0.99                       6.22   \n",
       "9                          -1.82                       6.21   \n",
       "10                         -1.09                       6.55   \n",
       "11                         -1.19                       6.28   \n",
       "12                         -1.06                       6.16   \n",
       "13                         -0.92                       6.08   \n",
       "14                         -0.90                       5.64   \n",
       "15                         -1.00                       5.94   \n",
       "16                         -0.70                       6.12   \n",
       "17                         -0.29                       5.07   \n",
       "18                          0.04                       5.74   \n",
       "19                         -0.87                       6.00   \n",
       "\n",
       "    wake time phase difference  \n",
       "0                        11.93  \n",
       "1                        12.42  \n",
       "2                        11.39  \n",
       "3                        12.59  \n",
       "4                        11.43  \n",
       "5                        12.06  \n",
       "6                        11.99  \n",
       "7                        10.25  \n",
       "8                        11.44  \n",
       "9                        10.59  \n",
       "10                       12.01  \n",
       "11                       11.38  \n",
       "12                       11.26  \n",
       "13                       11.23  \n",
       "14                       10.39  \n",
       "15                       10.88  \n",
       "16                       11.53  \n",
       "17                        9.85  \n",
       "18                       11.52  \n",
       "19                       11.12  "
      ]
     },
     "execution_count": 4,
     "metadata": {},
     "output_type": "execute_result"
    }
   ],
   "source": [
    "# First, look at the DataFrame to get a sense of the data\n",
    "df"
   ]
  },
  {
   "cell_type": "markdown",
   "id": "1e3c756b",
   "metadata": {
    "colab_type": "text",
    "id": "38Oy8dWVMyWM"
   },
   "source": [
    "**Question**: What value is used in the column 'napping' to indicate a toddler takes a nap? (see reference article)\n",
    "\n",
    "1 and 0 (True/False)\n",
    "\n",
    "**Question**: What is the overall sample size $n$? What is the sample size for toddlers who nap, $n_1$, and toddlers who don't nap, $n_2$? \n",
    "\n",
    "n = 20 ,  $n_1$ = 15 , $n_2$ = 5"
   ]
  },
  {
   "cell_type": "markdown",
   "id": "3b90b1e4",
   "metadata": {
    "colab_type": "text",
    "id": "2sPjUew6MyWN"
   },
   "source": [
    "### Average bedtime confidence interval for napping and non napping toddlers\n",
    "Create two 95% confidence intervals for the average bedtime, one for toddler who nap and one for toddlers who don't."
   ]
  },
  {
   "cell_type": "markdown",
   "id": "97754eeb",
   "metadata": {
    "colab_type": "text",
    "id": "u4kYFl3OMyWR"
   },
   "source": [
    "First, isolate the column 'night bedtime' for those who nap into a new variable, and those who didn't nap into another new variable. "
   ]
  },
  {
   "cell_type": "code",
   "execution_count": 7,
   "id": "75e54e68",
   "metadata": {
    "colab": {},
    "colab_type": "code",
    "id": "umYCPgifMyWT"
   },
   "outputs": [
    {
     "data": {
      "text/plain": [
       "5     19.95\n",
       "6     20.60\n",
       "7     22.01\n",
       "8     20.24\n",
       "9     20.78\n",
       "10    19.45\n",
       "11    20.18\n",
       "12    20.22\n",
       "13    20.26\n",
       "14    20.28\n",
       "15    20.46\n",
       "16    20.43\n",
       "17    20.02\n",
       "18    19.50\n",
       "19    20.18\n",
       "Name: night bedtime, dtype: float64"
      ]
     },
     "execution_count": 7,
     "metadata": {},
     "output_type": "execute_result"
    }
   ],
   "source": [
    "bedtime_nap =  df[df['napping'] == 1]\n",
    "\n",
    "bedtime_nap = bedtime_nap['night bedtime']\n",
    "bedtime_nap"
   ]
  },
  {
   "cell_type": "code",
   "execution_count": 8,
   "id": "85bc2bd8",
   "metadata": {
    "colab": {},
    "colab_type": "code",
    "id": "Jgv1CweOMyWU"
   },
   "outputs": [
    {
     "data": {
      "text/plain": [
       "0    20.45\n",
       "1    19.23\n",
       "2    19.60\n",
       "3    19.46\n",
       "4    19.21\n",
       "Name: night bedtime, dtype: float64"
      ]
     },
     "execution_count": 8,
     "metadata": {},
     "output_type": "execute_result"
    }
   ],
   "source": [
    "didnt_nap_df = df[df['napping'] == 0]\n",
    "\n",
    "bedtime_no_nap = didnt_nap_df['night bedtime']\n",
    "bedtime_no_nap"
   ]
  },
  {
   "cell_type": "markdown",
   "id": "eb856226",
   "metadata": {
    "colab_type": "text",
    "id": "w7D04IiqMyWX"
   },
   "source": [
    "Now find the sample mean bedtime for nap and no_nap."
   ]
  },
  {
   "cell_type": "code",
   "execution_count": 9,
   "id": "98b573b2",
   "metadata": {
    "colab": {},
    "colab_type": "code",
    "id": "ukpOHZk9MyWZ"
   },
   "outputs": [
    {
     "name": "stdout",
     "output_type": "stream",
     "text": [
      "20.304\n"
     ]
    }
   ],
   "source": [
    "nap_mean_bedtime = bedtime_nap.mean(axis=0)\n",
    "print(nap_mean_bedtime)"
   ]
  },
  {
   "cell_type": "code",
   "execution_count": 10,
   "id": "eac31d06",
   "metadata": {
    "colab": {},
    "colab_type": "code",
    "id": "S16eWcwrMyWc"
   },
   "outputs": [
    {
     "name": "stdout",
     "output_type": "stream",
     "text": [
      "19.590000000000003\n"
     ]
    }
   ],
   "source": [
    "no_nap_mean_bedtime = bedtime_no_nap.mean(axis=0)\n",
    "print(no_nap_mean_bedtime)"
   ]
  },
  {
   "cell_type": "markdown",
   "id": "d074cb10",
   "metadata": {},
   "source": [
    "Now find the sample standard deviation for $X_{nap}$ and $X_{no\\ nap}$."
   ]
  },
  {
   "cell_type": "code",
   "execution_count": 16,
   "id": "46d8a2b1",
   "metadata": {},
   "outputs": [
    {
     "name": "stdout",
     "output_type": "stream",
     "text": [
      "0.5910619981984009\n"
     ]
    }
   ],
   "source": [
    "# The np.std function can be used to find the standard deviation. The\n",
    "# ddof parameter must be set to 1 to get the sample standard deviation.\n",
    "# If it is not, you will be using the population standard deviation which\n",
    "# is not the correct estimator\n",
    "nap_s_bedtime = np.std(bedtime_nap, ddof = 1)\n",
    "print(nap_s_bedtime)"
   ]
  },
  {
   "cell_type": "code",
   "execution_count": 17,
   "id": "f68575f8",
   "metadata": {},
   "outputs": [
    {
     "name": "stdout",
     "output_type": "stream",
     "text": [
      "0.5075923561284187\n"
     ]
    }
   ],
   "source": [
    "no_nap_s_bedtime = np.std(bedtime_no_nap, ddof = 1)\n",
    "print(no_nap_s_bedtime)"
   ]
  },
  {
   "cell_type": "markdown",
   "id": "27db6140",
   "metadata": {
    "colab_type": "text",
    "id": "Gsyq63z9MyWf"
   },
   "source": [
    "Now find the standard error for $\\bar{X}_{nap}$ and $\\bar{X}_{no\\ nap}$."
   ]
  },
  {
   "cell_type": "code",
   "execution_count": 23,
   "id": "9fe7b56f",
   "metadata": {
    "colab": {},
    "colab_type": "code",
    "id": "CRkxL29UMyWg"
   },
   "outputs": [
    {
     "name": "stdout",
     "output_type": "stream",
     "text": [
      "0.13105978279650332\n"
     ]
    }
   ],
   "source": [
    "nap_se_mean_bedtime = no_nap_s_bedtime/ np.sqrt(len(bedtime_nap))\n",
    "print(nap_se_mean_bedtime)"
   ]
  },
  {
   "cell_type": "code",
   "execution_count": 22,
   "id": "9612409d",
   "metadata": {
    "colab": {},
    "colab_type": "code",
    "id": "mMaluR9uMyWj"
   },
   "outputs": [
    {
     "name": "stdout",
     "output_type": "stream",
     "text": [
      "0.22700220263248522\n"
     ]
    }
   ],
   "source": [
    "no_nap_se_mean_bedtime = no_nap_s_bedtime/ np.sqrt(len(bedtime_no_nap))\n",
    "print(no_nap_se_mean_bedtime)"
   ]
  },
  {
   "cell_type": "markdown",
   "id": "41471b5e",
   "metadata": {
    "colab_type": "text",
    "id": "RaMARY4aMyWl"
   },
   "source": [
    "**Question**: Given our sample sizes of $n_1$ and $n_2$ for napping and non napping toddlers respectively, how many degrees of freedom ($df$) are there for the associated $t$ distributions?"
   ]
  },
  {
   "cell_type": "markdown",
   "id": "37569f0a",
   "metadata": {
    "colab_type": "text",
    "id": "7MLtPm0LMyWm"
   },
   "source": [
    "To build a 95% confidence interval, what is the value of t\\*?  You can find this value using the percent point function (PPF): \n",
    "```\n",
    "from scipy.stats import t\n",
    "\n",
    "t.ppf(probability, df)\n",
    "```\n",
    "This will return the quantile value such that to the left of this value, the tail probabiliy is equal to the input probabiliy (for the specified degrees of freedom). "
   ]
  },
  {
   "cell_type": "markdown",
   "id": "9195ca9f",
   "metadata": {
    "colab_type": "text",
    "id": "oTOR6oRFMyWm"
   },
   "source": [
    "Example: to find the $t^*$ for a 90% confidence interval, we want $t^*$ such that 90% of the density of the $t$ distribution lies between $-t^*$ and $t^*$.\n",
    "\n",
    "Or in other words if $X \\sim t(df)$:\n",
    "\n",
    "P($-t^*$ < X < $t^*$) = .90\n",
    "\n",
    "Which, because the $t$ distribution is symmetric, is equivalent to finding $t^*$ such that:  \n",
    "\n",
    "P(X < $t^*$) = .95\n",
    "\n",
    "(0.95 = 1 - (1 - confidence) / 2 = 1 - 0.1 / 2 = 1 - 0.05)\n",
    "\n",
    "So the $t^*$ for a 90% confidence interval, and lets say df=10, will be:\n",
    "\n",
    "t_star = t.ppf(.95, df=10)\n"
   ]
  },
  {
   "cell_type": "code",
   "execution_count": 29,
   "id": "0c2bbb94",
   "metadata": {
    "colab": {},
    "colab_type": "code",
    "id": "swHZqQ9LMyWo"
   },
   "outputs": [
    {
     "name": "stdout",
     "output_type": "stream",
     "text": [
      "[1.72492797 1.72228461 1.71711011 1.72372667 1.72158316 1.72708736\n",
      " 1.72397225 1.72380836 1.72364515 1.7235638  1.7228391  1.72295896\n",
      " 1.72463466 1.7268662  1.72397225]\n"
     ]
    }
   ],
   "source": [
    "from scipy.stats import t\n",
    "\n",
    "# Find the t_stars for the 95% confidence intervals\n",
    "nap_t_star = t.ppf(0.95, bedtime_nap)\n",
    "print(nap_t_star)"
   ]
  },
  {
   "cell_type": "code",
   "execution_count": 31,
   "id": "af1bb65c",
   "metadata": {
    "colab": {},
    "colab_type": "code",
    "id": "ZwKnTJbPMyWq"
   },
   "outputs": [
    {
     "name": "stdout",
     "output_type": "stream",
     "text": [
      "[1.72287901 1.72807481 1.72642742 1.72704303 1.72816576]\n"
     ]
    }
   ],
   "source": [
    "no_nap_t_star = t.ppf(0.95, bedtime_no_nap)\n",
    "print(no_nap_t_star)"
   ]
  },
  {
   "cell_type": "markdown",
   "id": "f536ee03",
   "metadata": {
    "colab_type": "text",
    "id": "AnhhDXMbMyWs"
   },
   "source": [
    "**Quesion**: What is $t^*$ for nap and no nap?"
   ]
  },
  {
   "cell_type": "markdown",
   "id": "ed04a1ca",
   "metadata": {
    "colab_type": "text",
    "id": "WeTPNMzRMyWt"
   },
   "source": [
    "Now to create our confidence intervals. For the average bedtime for nap and no nap, find the upper and lower bounds for the respective 95% confidence intervals."
   ]
  },
  {
   "cell_type": "code",
   "execution_count": 40,
   "id": "17d582cc",
   "metadata": {
    "colab": {},
    "colab_type": "code",
    "id": "k3iNowvfMyWv"
   },
   "outputs": [
    {
     "name": "stdout",
     "output_type": "stream",
     "text": [
      "19.391023796397665 19.788976203602342\n",
      "20.23767459879922 20.370325401200777\n"
     ]
    }
   ],
   "source": [
    "no_nap_margin_of_error = 1.96 * (no_nap_se_mean_bedtime/ (len(bedtime_no_nap) ** 0.5))\n",
    "\n",
    "\n",
    "\n",
    "no_nap_lower_bound = no_nap_mean_bedtime - no_nap_margin_of_error\n",
    "no_nap_upper_bound = no_nap_mean_bedtime + no_nap_margin_of_error\n",
    "\n",
    "\n",
    "nap_margin_of_error = 1.96 * (nap_se_mean_bedtime/ (len(bedtime_nap) ** 0.5))\n",
    "\n",
    "\n",
    "nap_lower_bound = nap_mean_bedtime - nap_margin_of_error\n",
    "nap_upper_bound = nap_mean_bedtime + nap_margin_of_error\n",
    "\n",
    "\n",
    "\n",
    "print(no_nap_lower_bound, no_nap_upper_bound)\n",
    "print(nap_lower_bound, nap_upper_bound)"
   ]
  },
  {
   "cell_type": "markdown",
   "id": "bcf05aff",
   "metadata": {
    "colab_type": "text",
    "id": "3skLkWyyMyWy"
   },
   "source": [
    "**Question**: What are the 95% confidence intervals for the average bedtime for toddlers who nap and for toddlers who don't nap? \n",
    "\n",
    "CI = $\\bar{X} \\pm \\ t^* \\cdot s.e.(\\bar{X})$"
   ]
  },
  {
   "cell_type": "code",
   "execution_count": null,
   "id": "971d931e",
   "metadata": {},
   "outputs": [],
   "source": []
  },
  {
   "cell_type": "code",
   "execution_count": null,
   "id": "84ec1850",
   "metadata": {},
   "outputs": [],
   "source": []
  },
  {
   "cell_type": "code",
   "execution_count": null,
   "id": "8753a828-842d-4824-8671-6ec88cb93641",
   "metadata": {},
   "outputs": [],
   "source": []
  },
  {
   "cell_type": "code",
   "execution_count": null,
   "id": "3ce7af78",
   "metadata": {},
   "outputs": [],
   "source": []
  },
  {
   "cell_type": "code",
   "execution_count": null,
   "id": "4a351751",
   "metadata": {},
   "outputs": [],
   "source": []
  },
  {
   "cell_type": "code",
   "execution_count": null,
   "id": "3aafc8ee",
   "metadata": {},
   "outputs": [],
   "source": []
  },
  {
   "cell_type": "code",
   "execution_count": null,
   "id": "3caf27ec",
   "metadata": {},
   "outputs": [],
   "source": []
  },
  {
   "cell_type": "code",
   "execution_count": null,
   "id": "521aa739",
   "metadata": {},
   "outputs": [],
   "source": []
  }
 ],
 "metadata": {
  "kernelspec": {
   "display_name": "Python 3 (ipykernel)",
   "language": "python",
   "name": "python3"
  },
  "language_info": {
   "codemirror_mode": {
    "name": "ipython",
    "version": 3
   },
   "file_extension": ".py",
   "mimetype": "text/x-python",
   "name": "python",
   "nbconvert_exporter": "python",
   "pygments_lexer": "ipython3",
   "version": "3.11.4"
  }
 },
 "nbformat": 4,
 "nbformat_minor": 5
}
