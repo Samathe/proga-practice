{
 "cells": [
  {
   "cell_type": "markdown",
   "id": "220fca84",
   "metadata": {},
   "source": [
    "# Home Work"
   ]
  },
  {
   "cell_type": "markdown",
   "id": "23958bbe",
   "metadata": {},
   "source": [
    "Choose 2 topics from list below:\n",
    "\n",
    "- Confidence interval\n",
    "- Hypothesis testing\n",
    "- Populations and samples\n",
    "- Numpy\n",
    "- Pandas\n",
    "- Seaborn\n",
    "- Matplotlib"
   ]
  },
  {
   "cell_type": "markdown",
   "id": "3637db6e",
   "metadata": {},
   "source": [
    "Make a presentation and defend your topic on practice session. (1.5 p)"
   ]
  },
  {
   "cell_type": "markdown",
   "id": "e3aa002e",
   "metadata": {},
   "source": [
    "Requirements: \n",
    "- You can make this HW in group. Your group should consist of maximum 4 people.\n",
    "- Defence duration maximum 7 minutes: 5 minutes for presentation and 2 minutes for questions.\n",
    "- Number of pages of presentation minimum 5 pages."
   ]
  },
  {
   "cell_type": "code",
   "execution_count": null,
   "id": "01fd5ab2",
   "metadata": {},
   "outputs": [],
   "source": []
  }
 ],
 "metadata": {
  "kernelspec": {
   "display_name": "Python 3 (ipykernel)",
   "language": "python",
   "name": "python3"
  },
  "language_info": {
   "codemirror_mode": {
    "name": "ipython",
    "version": 3
   },
   "file_extension": ".py",
   "mimetype": "text/x-python",
   "name": "python",
   "nbconvert_exporter": "python",
   "pygments_lexer": "ipython3",
   "version": "3.11.5"
  }
 },
 "nbformat": 4,
 "nbformat_minor": 5
}
