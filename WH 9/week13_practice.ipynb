{
 "cells": [
  {
   "cell_type": "markdown",
   "metadata": {
    "id": "8W9S3KQ3l2r8"
   },
   "source": [
    "# Practice notebook for regression analysis with dependent data in NHANES\n",
    "\n",
    "This notebook will give you the opportunity to perform some analyses\n",
    "using the regression methods for dependent data that we are focusing\n",
    "on in this week of the course.\n",
    "\n",
    "Enter the code in response to each question in the boxes labeled \"enter your code here\".\n",
    "Then enter your responses to the questions in the boxes labeled \"Type\n",
    "Markdown and Latex\".\n",
    "\n",
    "This notebook is based on the NHANES case study notebook for\n",
    "regression with dependent data.  Most of the code that you will need\n",
    "to write below is very similar to code that appears in the case study\n",
    "notebook.  You will need to edit code from that notebook in small ways\n",
    "to adapt it to the prompts below.\n",
    "\n",
    "To get started, we will use the same module imports and read the data\n",
    "in the same way as we did in the case study:"
   ]
  },
  {
   "cell_type": "code",
   "execution_count": 49,
   "metadata": {
    "colab": {
     "base_uri": "https://localhost:8080/",
     "height": 0
    },
    "executionInfo": {
     "elapsed": 3002,
     "status": "error",
     "timestamp": 1701496565766,
     "user": {
      "displayName": "Zhaniya Medeuova",
      "userId": "12272757727629892604"
     },
     "user_tz": -360
    },
    "id": "Xo72wt47l2sA",
    "outputId": "55a2b99b-cc84-49c0-a181-e35250c56d38"
   },
   "outputs": [
    {
     "data": {
      "text/html": [
       "<div>\n",
       "<style scoped>\n",
       "    .dataframe tbody tr th:only-of-type {\n",
       "        vertical-align: middle;\n",
       "    }\n",
       "\n",
       "    .dataframe tbody tr th {\n",
       "        vertical-align: top;\n",
       "    }\n",
       "\n",
       "    .dataframe thead th {\n",
       "        text-align: right;\n",
       "    }\n",
       "</style>\n",
       "<table border=\"1\" class=\"dataframe\">\n",
       "  <thead>\n",
       "    <tr style=\"text-align: right;\">\n",
       "      <th></th>\n",
       "      <th>BPXSY1</th>\n",
       "      <th>RIDAGEYR</th>\n",
       "      <th>RIAGENDR</th>\n",
       "      <th>RIDRETH1</th>\n",
       "      <th>DMDEDUC2</th>\n",
       "      <th>BMXBMI</th>\n",
       "      <th>SMQ020</th>\n",
       "      <th>SDMVSTRA</th>\n",
       "      <th>SDMVPSU</th>\n",
       "      <th>BPXDI1</th>\n",
       "      <th>group</th>\n",
       "    </tr>\n",
       "  </thead>\n",
       "  <tbody>\n",
       "    <tr>\n",
       "      <th>0</th>\n",
       "      <td>128.0</td>\n",
       "      <td>62</td>\n",
       "      <td>1</td>\n",
       "      <td>3</td>\n",
       "      <td>5.0</td>\n",
       "      <td>27.8</td>\n",
       "      <td>1</td>\n",
       "      <td>125</td>\n",
       "      <td>1</td>\n",
       "      <td>70.0</td>\n",
       "      <td>1251</td>\n",
       "    </tr>\n",
       "    <tr>\n",
       "      <th>1</th>\n",
       "      <td>146.0</td>\n",
       "      <td>53</td>\n",
       "      <td>1</td>\n",
       "      <td>3</td>\n",
       "      <td>3.0</td>\n",
       "      <td>30.8</td>\n",
       "      <td>1</td>\n",
       "      <td>125</td>\n",
       "      <td>1</td>\n",
       "      <td>88.0</td>\n",
       "      <td>1251</td>\n",
       "    </tr>\n",
       "    <tr>\n",
       "      <th>2</th>\n",
       "      <td>138.0</td>\n",
       "      <td>78</td>\n",
       "      <td>1</td>\n",
       "      <td>3</td>\n",
       "      <td>3.0</td>\n",
       "      <td>28.8</td>\n",
       "      <td>1</td>\n",
       "      <td>131</td>\n",
       "      <td>1</td>\n",
       "      <td>46.0</td>\n",
       "      <td>1311</td>\n",
       "    </tr>\n",
       "    <tr>\n",
       "      <th>3</th>\n",
       "      <td>132.0</td>\n",
       "      <td>56</td>\n",
       "      <td>2</td>\n",
       "      <td>3</td>\n",
       "      <td>5.0</td>\n",
       "      <td>42.4</td>\n",
       "      <td>2</td>\n",
       "      <td>131</td>\n",
       "      <td>1</td>\n",
       "      <td>72.0</td>\n",
       "      <td>1311</td>\n",
       "    </tr>\n",
       "    <tr>\n",
       "      <th>4</th>\n",
       "      <td>100.0</td>\n",
       "      <td>42</td>\n",
       "      <td>2</td>\n",
       "      <td>4</td>\n",
       "      <td>4.0</td>\n",
       "      <td>20.3</td>\n",
       "      <td>2</td>\n",
       "      <td>126</td>\n",
       "      <td>2</td>\n",
       "      <td>70.0</td>\n",
       "      <td>1262</td>\n",
       "    </tr>\n",
       "    <tr>\n",
       "      <th>...</th>\n",
       "      <td>...</td>\n",
       "      <td>...</td>\n",
       "      <td>...</td>\n",
       "      <td>...</td>\n",
       "      <td>...</td>\n",
       "      <td>...</td>\n",
       "      <td>...</td>\n",
       "      <td>...</td>\n",
       "      <td>...</td>\n",
       "      <td>...</td>\n",
       "      <td>...</td>\n",
       "    </tr>\n",
       "    <tr>\n",
       "      <th>5730</th>\n",
       "      <td>112.0</td>\n",
       "      <td>76</td>\n",
       "      <td>2</td>\n",
       "      <td>3</td>\n",
       "      <td>3.0</td>\n",
       "      <td>21.5</td>\n",
       "      <td>1</td>\n",
       "      <td>130</td>\n",
       "      <td>2</td>\n",
       "      <td>48.0</td>\n",
       "      <td>1302</td>\n",
       "    </tr>\n",
       "    <tr>\n",
       "      <th>5731</th>\n",
       "      <td>118.0</td>\n",
       "      <td>26</td>\n",
       "      <td>1</td>\n",
       "      <td>3</td>\n",
       "      <td>5.0</td>\n",
       "      <td>33.8</td>\n",
       "      <td>2</td>\n",
       "      <td>121</td>\n",
       "      <td>1</td>\n",
       "      <td>68.0</td>\n",
       "      <td>1211</td>\n",
       "    </tr>\n",
       "    <tr>\n",
       "      <th>5732</th>\n",
       "      <td>154.0</td>\n",
       "      <td>80</td>\n",
       "      <td>2</td>\n",
       "      <td>3</td>\n",
       "      <td>4.0</td>\n",
       "      <td>31.0</td>\n",
       "      <td>1</td>\n",
       "      <td>132</td>\n",
       "      <td>2</td>\n",
       "      <td>56.0</td>\n",
       "      <td>1322</td>\n",
       "    </tr>\n",
       "    <tr>\n",
       "      <th>5733</th>\n",
       "      <td>104.0</td>\n",
       "      <td>35</td>\n",
       "      <td>1</td>\n",
       "      <td>3</td>\n",
       "      <td>1.0</td>\n",
       "      <td>26.0</td>\n",
       "      <td>1</td>\n",
       "      <td>126</td>\n",
       "      <td>1</td>\n",
       "      <td>62.0</td>\n",
       "      <td>1261</td>\n",
       "    </tr>\n",
       "    <tr>\n",
       "      <th>5734</th>\n",
       "      <td>118.0</td>\n",
       "      <td>24</td>\n",
       "      <td>2</td>\n",
       "      <td>3</td>\n",
       "      <td>5.0</td>\n",
       "      <td>21.4</td>\n",
       "      <td>2</td>\n",
       "      <td>119</td>\n",
       "      <td>2</td>\n",
       "      <td>66.0</td>\n",
       "      <td>1192</td>\n",
       "    </tr>\n",
       "  </tbody>\n",
       "</table>\n",
       "<p>5102 rows × 11 columns</p>\n",
       "</div>"
      ],
      "text/plain": [
       "      BPXSY1  RIDAGEYR  RIAGENDR  RIDRETH1  DMDEDUC2  BMXBMI  SMQ020  \\\n",
       "0      128.0        62         1         3       5.0    27.8       1   \n",
       "1      146.0        53         1         3       3.0    30.8       1   \n",
       "2      138.0        78         1         3       3.0    28.8       1   \n",
       "3      132.0        56         2         3       5.0    42.4       2   \n",
       "4      100.0        42         2         4       4.0    20.3       2   \n",
       "...      ...       ...       ...       ...       ...     ...     ...   \n",
       "5730   112.0        76         2         3       3.0    21.5       1   \n",
       "5731   118.0        26         1         3       5.0    33.8       2   \n",
       "5732   154.0        80         2         3       4.0    31.0       1   \n",
       "5733   104.0        35         1         3       1.0    26.0       1   \n",
       "5734   118.0        24         2         3       5.0    21.4       2   \n",
       "\n",
       "      SDMVSTRA  SDMVPSU  BPXDI1  group  \n",
       "0          125        1    70.0   1251  \n",
       "1          125        1    88.0   1251  \n",
       "2          131        1    46.0   1311  \n",
       "3          131        1    72.0   1311  \n",
       "4          126        2    70.0   1262  \n",
       "...        ...      ...     ...    ...  \n",
       "5730       130        2    48.0   1302  \n",
       "5731       121        1    68.0   1211  \n",
       "5732       132        2    56.0   1322  \n",
       "5733       126        1    62.0   1261  \n",
       "5734       119        2    66.0   1192  \n",
       "\n",
       "[5102 rows x 11 columns]"
      ]
     },
     "execution_count": 49,
     "metadata": {},
     "output_type": "execute_result"
    }
   ],
   "source": [
    "%matplotlib inline\n",
    "import matplotlib.pyplot as plt\n",
    "import seaborn as sns\n",
    "import pandas as pd\n",
    "import statsmodels.api as sm\n",
    "import numpy as np\n",
    "\n",
    "url = \"nhanes_2015_2016.csv\"\n",
    "da = pd.read_csv(url)\n",
    "XDI1 = da['BPXDI1']\n",
    "# Drop unused columns, drop rows with any missing values.\n",
    "vars = [\"BPXSY1\", \"RIDAGEYR\", \"RIAGENDR\", \"RIDRETH1\", \"DMDEDUC2\", \"BMXBMI\",\n",
    "        \"SMQ020\", \"SDMVSTRA\", \"SDMVPSU\",'BPXDI1']\n",
    "\n",
    "da = da[vars].dropna()\n",
    "# This is the grouping variable\n",
    "da[\"group\"] = 10*da.SDMVSTRA + da.SDMVPSU\n",
    "da"
   ]
  },
  {
   "cell_type": "markdown",
   "metadata": {
    "id": "TdT7YoC8l2sC"
   },
   "source": [
    "## Question 1:\n",
    "\n",
    "Build a marginal linear model using GEE for the first measurement of diastolic blood pressure (`BPXDI1`), accounting for the grouping variable defined above.  This initial model should have no covariates, and will be used to assess the ICC of this blood pressure measure."
   ]
  },
  {
   "cell_type": "code",
   "execution_count": 52,
   "metadata": {
    "id": "kM-yDnO3l2sD",
    "scrolled": true
   },
   "outputs": [
    {
     "ename": "SyntaxError",
     "evalue": "invalid syntax (60437967.py, line 2)",
     "output_type": "error",
     "traceback": [
      "\u001b[1;36m  Cell \u001b[1;32mIn[52], line 2\u001b[1;36m\u001b[0m\n\u001b[1;33m    import statsmodels.genmod.cov_struct as cov_struct qw=sm.GEE.from_formula('BPXDI1 ~ RIDAGEYR + RIAGENDR + BMXBMI',groups='group',data=da)\u001b[0m\n\u001b[1;37m                                                       ^\u001b[0m\n\u001b[1;31mSyntaxError\u001b[0m\u001b[1;31m:\u001b[0m invalid syntax\n"
     ]
    }
   ],
   "source": [
    "# enter your code hereimport statsmodels.api as sm \n",
    "import statsmodels.genmod.cov_struct as cov_struct qw=sm.GEE.from_formula('BPXDI1 ~ RIDAGEYR + RIAGENDR + BMXBMI',groups='group',data=da)\n",
    "qwer=qw.fit()print(qwer.summary())\n",
    "\n",
    "# Assuming you have already fitted the GEE model with covariatesvar_between_groups_covariates = qwer.scale\n",
    "total_variance_covariates = var_between_groups_covariates + qwer.scale\n",
    "# Calculate ICC for the model with covariatesicc_covariates = var_between_groups_covariates / total_variance_covariates\n",
    "# Print ICC for the model with covariates\n",
    "print(\"ICC for Model with Covariates:\", icc_covariates)"
   ]
  },
  {
   "cell_type": "markdown",
   "metadata": {
    "id": "s5I2QNqWl2sE"
   },
   "source": [
    "__Q1a.__ What is the ICC for diastolic blood pressure?  What can you\n",
    "  conclude by comparing it to the ICC for systolic blood pressure?"
   ]
  },
  {
   "cell_type": "markdown",
   "metadata": {
    "id": "YPOCu0VSl2sE"
   },
   "source": [
    "It seems that the GEE model did not converge successfully, and as a result, the cov_struct attribute is None. When the model doesn't converge, it means that the optimization algorithm failed to find a solution within the specified maximum number of iterations."
   ]
  },
  {
   "cell_type": "markdown",
   "metadata": {
    "id": "vIHDh_uXl2sF"
   },
   "source": [
    "## Question 2:\n",
    "\n",
    "Take your model from question 1, and add gender, age, and BMI to it as covariates."
   ]
  },
  {
   "cell_type": "code",
   "execution_count": 51,
   "metadata": {
    "id": "lKevsvPMl2sF"
   },
   "outputs": [
    {
     "name": "stdout",
     "output_type": "stream",
     "text": [
      "                               GEE Regression Results                              \n",
      "===================================================================================\n",
      "Dep. Variable:                      BPXDI1   No. Observations:                 5102\n",
      "Model:                                 GEE   No. clusters:                       30\n",
      "Method:                        Generalized   Min. cluster size:                 106\n",
      "                      Estimating Equations   Max. cluster size:                 226\n",
      "Family:                           Gaussian   Mean cluster size:               170.1\n",
      "Dependence structure:         Independence   Num. iterations:                     2\n",
      "Date:                     Sat, 09 Dec 2023   Scale:                         158.550\n",
      "Covariance type:                    robust   Time:                         17:20:18\n",
      "==============================================================================\n",
      "                 coef    std err          z      P>|z|      [0.025      0.975]\n",
      "------------------------------------------------------------------------------\n",
      "Intercept     71.5548      1.127     63.489      0.000      69.346      73.764\n",
      "RIAGENDR      -2.7945      0.405     -6.902      0.000      -3.588      -2.001\n",
      "RIDAGEYR      -0.0511      0.015     -3.499      0.000      -0.080      -0.022\n",
      "BMXBMI         0.1727      0.032      5.373      0.000       0.110       0.236\n",
      "==============================================================================\n",
      "Skew:                         -0.6767   Kurtosis:                       3.8885\n",
      "Centered skew:                -0.6562   Centered kurtosis:              3.9182\n",
      "==============================================================================\n"
     ]
    },
    {
     "ename": "TypeError",
     "evalue": "'NoneType' object is not subscriptable",
     "output_type": "error",
     "traceback": [
      "\u001b[1;31m---------------------------------------------------------------------------\u001b[0m",
      "\u001b[1;31mTypeError\u001b[0m                                 Traceback (most recent call last)",
      "Cell \u001b[1;32mIn[51], line 13\u001b[0m\n\u001b[0;32m     10\u001b[0m \u001b[38;5;28mprint\u001b[39m(result_q2\u001b[38;5;241m.\u001b[39msummary())\n\u001b[0;32m     12\u001b[0m \u001b[38;5;66;03m# Calculate the Intraclass Correlation Coefficient (ICC)\u001b[39;00m\n\u001b[1;32m---> 13\u001b[0m icc_q2 \u001b[38;5;241m=\u001b[39m result_q2\u001b[38;5;241m.\u001b[39mcov_struct\u001b[38;5;241m.\u001b[39mdep_params[\u001b[38;5;241m0\u001b[39m]\n\u001b[0;32m     14\u001b[0m \u001b[38;5;28mprint\u001b[39m(\u001b[38;5;124mf\u001b[39m\u001b[38;5;124m\"\u001b[39m\u001b[38;5;124mICC for the model with covariates: \u001b[39m\u001b[38;5;132;01m{\u001b[39;00micc_q2\u001b[38;5;132;01m}\u001b[39;00m\u001b[38;5;124m\"\u001b[39m)\n",
      "\u001b[1;31mTypeError\u001b[0m: 'NoneType' object is not subscriptable"
     ]
    }
   ],
   "source": [
    "# Question 2\n",
    "covariates_q2 = [\"RIAGENDR\", \"RIDAGEYR\", \"BMXBMI\"]\n",
    "\n",
    "model_q2 = sm.GEE.from_formula(f\"{outcome_var_diastolic} ~ {'+'.join(covariates_q2)}\", groups=da[group_var_diastolic], data=da)\n",
    "result_q2 = model_q2.fit()\n",
    "\n",
    "print(result_q2.summary())\n",
    "\n",
    "icc_q2 = result_q2.cov_struct.dep_params[0]\n",
    "print(f\"ICC for the model with covariates: {icc_q2}\")\n"
   ]
  },
  {
   "cell_type": "markdown",
   "metadata": {
    "id": "c7IGKro0l2sG"
   },
   "source": [
    "__Q2a.__ What is the ICC for this model?  What can you conclude by comparing it to the ICC for the model that you fit in question 1?"
   ]
  },
  {
   "cell_type": "markdown",
   "metadata": {
    "id": "fq80H8EWl2sH"
   },
   "source": []
  },
  {
   "cell_type": "markdown",
   "metadata": {
    "id": "OpyEf7wcl2sH"
   },
   "source": [
    "## Question 3:\n",
    "\n",
    "Split the data into separate datasets for females and for males and fit two separate marginal linear models for diastolic blood pressure, one only for females, and one only for males."
   ]
  },
  {
   "cell_type": "code",
   "execution_count": null,
   "metadata": {
    "id": "qKqdWnJdl2sH"
   },
   "outputs": [],
   "source": [
    "# enter your code here"
   ]
  },
  {
   "cell_type": "markdown",
   "metadata": {
    "id": "9w5lDTvul2sH"
   },
   "source": [
    "__Q3a.__ What do you learn by comparing these two fitted models?"
   ]
  },
  {
   "cell_type": "markdown",
   "metadata": {
    "id": "QcswjFYgl2sH"
   },
   "source": []
  },
  {
   "cell_type": "markdown",
   "metadata": {
    "id": "wr9AwcUBl2sI"
   },
   "source": [
    "## Question 4:\n",
    "\n",
    "Using the entire data set, fit a multilevel model for diastolic blood pressure, predicted by age, gender, BMI, and educational attainment.  Include a random intercept for groups."
   ]
  },
  {
   "cell_type": "code",
   "execution_count": null,
   "metadata": {
    "id": "18BpEBlkl2sI"
   },
   "outputs": [],
   "source": [
    "# enter your code here"
   ]
  },
  {
   "cell_type": "markdown",
   "metadata": {
    "id": "tV2eYaSOl2sI"
   },
   "source": [
    "__Q4a.__ How would you describe the strength of the clustering in this analysis?"
   ]
  },
  {
   "cell_type": "markdown",
   "metadata": {
    "id": "sdxS8qTil2sI"
   },
   "source": []
  },
  {
   "cell_type": "markdown",
   "metadata": {
    "id": "IMZsomvsl2sI"
   },
   "source": [
    "__Q4b:__ Include a random intercept for age, and describe your findings."
   ]
  },
  {
   "cell_type": "markdown",
   "metadata": {
    "id": "zXIxr8bMl2sI"
   },
   "source": []
  }
 ],
 "metadata": {
  "colab": {
   "provenance": []
  },
  "kernelspec": {
   "display_name": "Python 3 (ipykernel)",
   "language": "python",
   "name": "python3"
  },
  "language_info": {
   "codemirror_mode": {
    "name": "ipython",
    "version": 3
   },
   "file_extension": ".py",
   "mimetype": "text/x-python",
   "name": "python",
   "nbconvert_exporter": "python",
   "pygments_lexer": "ipython3",
   "version": "3.11.4"
  }
 },
 "nbformat": 4,
 "nbformat_minor": 1
}
