{
 "cells": [
  {
   "cell_type": "code",
   "execution_count": 1,
   "id": "16c8c040-cb31-4058-ac38-e49536b4e22c",
   "metadata": {},
   "outputs": [
    {
     "name": "stdout",
     "output_type": "stream",
     "text": [
      "hello\n"
     ]
    }
   ],
   "source": [
    "print(\"hello\")"
   ]
  },
  {
   "cell_type": "code",
   "execution_count": 37,
   "id": "7335b923-efdf-4978-b825-d2e532b6ab1d",
   "metadata": {},
   "outputs": [
    {
     "name": "stdin",
     "output_type": "stream",
     "text": [
      "1 cm_to_m, 2 m_to_cm. Choose :  2\n",
      "skolko m : 41\n"
     ]
    },
    {
     "name": "stdout",
     "output_type": "stream",
     "text": [
      "4100.0 in centimeters\n"
     ]
    }
   ],
   "source": [
    "# mini programma\n",
    "def menu():\n",
    "    option = input(\"1 cm_to_m, 2 m_to_cm. Choose : \")\n",
    "    \n",
    "    if option == \"1\":\n",
    "        n = float(input(\"skolko cm :\"))\n",
    "        print(cm_to_m(n), \"in meters\")\n",
    "    elif option == \"2\":\n",
    "        n = float(input(\"skolko m :\"))\n",
    "        print(m_to_cm(n), \"in centimeters\")\n",
    "    else:\n",
    "        return menu()\n",
    "        \n",
    "def cm_to_m(cm):\n",
    "    return cm/100\n",
    "    \n",
    "def m_to_cm(m):\n",
    "    return m*100\n",
    "    \n",
    "# главная программа \n",
    "menu()"
   ]
  },
  {
   "cell_type": "code",
   "execution_count": null,
   "id": "8327a057-5730-4b24-8fb2-8c56c7589625",
   "metadata": {},
   "outputs": [],
   "source": []
  }
 ],
 "metadata": {
  "kernelspec": {
   "display_name": "Python 3 (ipykernel)",
   "language": "python",
   "name": "python3"
  },
  "language_info": {
   "codemirror_mode": {
    "name": "ipython",
    "version": 3
   },
   "file_extension": ".py",
   "mimetype": "text/x-python",
   "name": "python",
   "nbconvert_exporter": "python",
   "pygments_lexer": "ipython3",
   "version": "3.12.4"
  }
 },
 "nbformat": 4,
 "nbformat_minor": 5
}
