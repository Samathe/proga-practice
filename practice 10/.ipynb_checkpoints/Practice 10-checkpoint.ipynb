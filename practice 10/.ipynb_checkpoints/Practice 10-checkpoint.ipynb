{
 "cells": [
  {
   "cell_type": "markdown",
   "id": "76ab51c1",
   "metadata": {},
   "source": [
    "# Practice work"
   ]
  },
  {
   "cell_type": "markdown",
   "id": "8807d941",
   "metadata": {},
   "source": [
    "1. A simple random sample of 500 undergraduates at a large university self-administered a political knowledge test, where the maximum score is 100 and the minimum score is 0. The mean score was 62.5, and the standard deviation of the scores was 10. What is a 95% confidence interval for the overall undergraduate mean at the university? (0.3p)\n",
    "\n",
    "\n",
    "\n",
    "2. How do we interpret the confidence interval in Problem 1? (0.3p)\n",
    "\n",
    "\n",
    "\n",
    "3. We perform a two-tailed, one-sample t-test of the null hypothesis that the true population mean is 63, versus the alternative hypothesis that the mean is different from 63. We find a test statistic of t = -1.12 (df = 499), with a p-value of 0.264. What is our decision about the null hypothesis at an alpha=0.05? (0.4p)\n",
    "\n",
    "\n",
    "\n",
    "\n",
    "4. A new experimental drug for reducing the pain due to migraine headaches is being tested in a randomized controlled trial. A total of 100 participants with a history of migraine headaches are given the drug, and 100 participants with the same history are given a placebo pill. Each participant is asked about their pain one hour after taking the medication, and whether it has been reduced (yes or no). A biostatistician computes an exact 95% confidence interval for the difference in the proportions of people experiencing pain relief within one hour (treatment minus control). The 95% confidence interval for the difference in proportions is (-0.05, 0.09). What should the biostatistician conclude? (0.5p)"
   ]
  },
  {
   "cell_type": "markdown",
   "id": "1793c253",
   "metadata": {},
   "source": [
    "Your answer: "
   ]
  },
  {
   "cell_type": "code",
   "execution_count": null,
   "id": "efd6db5e",
   "metadata": {},
   "outputs": [],
   "source": []
  }
 ],
 "metadata": {
  "kernelspec": {
   "display_name": "Python 3 (ipykernel)",
   "language": "python",
   "name": "python3"
  },
  "language_info": {
   "codemirror_mode": {
    "name": "ipython",
    "version": 3
   },
   "file_extension": ".py",
   "mimetype": "text/x-python",
   "name": "python",
   "nbconvert_exporter": "python",
   "pygments_lexer": "ipython3",
   "version": "3.11.5"
  }
 },
 "nbformat": 4,
 "nbformat_minor": 5
}
