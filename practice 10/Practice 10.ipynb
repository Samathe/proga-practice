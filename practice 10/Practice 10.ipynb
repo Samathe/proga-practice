{
 "cells": [
  {
   "cell_type": "markdown",
   "id": "76ab51c1",
   "metadata": {},
   "source": [
    "# Practice work"
   ]
  },
  {
   "cell_type": "markdown",
   "id": "8807d941",
   "metadata": {},
   "source": [
    "1. A simple random sample of 500 undergraduates at a large university self-administered a political knowledge test, where the maximum score is 100 and the minimum score is 0. The mean score was 62.5, and the standard deviation of the scores was 10. What is a 95% confidence interval for the overall undergraduate mean at the university? (0.3p)\n",
    "\n",
    "\n",
    "\n",
    "2. How do we interpret the confidence interval in Problem 1? (0.3p)\n",
    "\n",
    "\n",
    "\n",
    "3. We perform a two-tailed, one-sample t-test of the null hypothesis that the true population mean is 63, versus the alternative hypothesis that the mean is different from 63. We find a test statistic of t = -1.12 (df = 499), with a p-value of 0.264. What is our decision about the null hypothesis at an alpha=0.05? (0.4p)\n",
    "\n",
    "\n",
    "\n",
    "\n",
    "4. A new experimental drug for reducing the pain due to migraine headaches is being tested in a randomized controlled trial. A total of 100 participants with a history of migraine headaches are given the drug, and 100 participants with the same history are given a placebo pill. Each participant is asked about their pain one hour after taking the medication, and whether it has been reduced (yes or no). A biostatistician computes an exact 95% confidence interval for the difference in the proportions of people experiencing pain relief within one hour (treatment minus control). The 95% confidence interval for the difference in proportions is (-0.05, 0.09). What should the biostatistician conclude? (0.5p)"
   ]
  },
  {
   "cell_type": "markdown",
   "id": "1793c253",
   "metadata": {},
   "source": [
    "Your answer: "
   ]
  },
  {
   "cell_type": "markdown",
   "id": "fa82b0d0",
   "metadata": {},
   "source": [
    "Let's go through each problem step by step:\n",
    "\n",
    "### Problem 1:\n",
    "\n",
    "Given data:\n",
    "- Sample size (n) = 500\n",
    "- Sample mean ($(\\bar{x}$)) = 62.5\n",
    "- Sample standard deviation (s) = 10\n",
    "\n",
    "We want to find a 95% confidence interval for the overall undergraduate mean.\n",
    "\n",
    "The formula for the confidence interval for the mean ($(\\mu$)) is given by:\n",
    "\n",
    "$ \\bar{x} \\pm \\left( \\frac{t \\cdot s}{\\sqrt{n}} \\right) $\n",
    "\n",
    "where:\n",
    "- \\(t\\) is the critical t-value for the desired confidence level and degrees of freedom.\n",
    "- \\(s\\) is the sample standard deviation.\n",
    "- \\(n\\) is the sample size.\n",
    "\n",
    "We need to find the critical t-value for a 95% confidence interval with \\(df = n - 1 = 500 - 1 = 499\\).\n",
    "\n",
    "You can use a t-table or a statistical software package to find this value. For a 95% confidence interval and \\(df = 499\\), the critical t-value is approximately 1.96.\n",
    "\n",
    "Substitute these values into the formula:\n",
    "\n",
    "$ 62.5 \\pm \\left( \\frac{1.96 \\cdot 10}{\\sqrt{500}} \\right) $\n",
    "\n",
    "Now calculate the margin of error and construct the interval:\n",
    "\n",
    "$ 62.5 \\pm \\left( \\frac{1.96 \\cdot 10}{\\sqrt{500}} \\right) $\n",
    "\n",
    "$ 62.5 \\pm \\left( \\frac{1.96 \\cdot 10}{\\sqrt{500}} \\right) \\approx 62.5 \\pm 1.384 $\n",
    "\n",
    "So, the 95% confidence interval for the overall undergraduate mean is approximately (61.116, 63.884).\n",
    "\n",
    "Problem 2:\n",
    "\n",
    "This means that we are 95% confident that the true mean score of all undergraduates at the university lies between 61.116 and 63.884.\n",
    "\n",
    "### Problem 3:\n",
    "\n",
    "We perform a two-tailed, one-sample t-test with the following information:\n",
    "- Test statistic (t) = -1.12\n",
    "- Degrees of freedom (df) = 499\n",
    "- p-value = 0.264\n",
    "\n",
    "Decision: \n",
    "- Since the p-value (0.264) is greater than the significance level (alpha = 0.05), we fail to reject the null hypothesis.\n",
    "\n",
    "### Problem 4:\n",
    "\n",
    "Given confidence interval for the difference in proportions: (-0.05, 0.09)\n",
    "\n",
    "Conclusion:\n",
    "- Since the confidence interval includes zero, there is no significant evidence to conclude that there is a difference in pain relief between the treatment and control groups. In other words, the experimental drug does not seem to have a statistically significant effect in reducing pain compared to the placebo.\n",
    "\n",
    "I hope this helps! Let me know if you have further questions or if anything is unclear."
   ]
  }
 ],
 "metadata": {
  "kernelspec": {
   "display_name": "Python 3 (ipykernel)",
   "language": "python",
   "name": "python3"
  },
  "language_info": {
   "codemirror_mode": {
    "name": "ipython",
    "version": 3
   },
   "file_extension": ".py",
   "mimetype": "text/x-python",
   "name": "python",
   "nbconvert_exporter": "python",
   "pygments_lexer": "ipython3",
   "version": "3.11.4"
  }
 },
 "nbformat": 4,
 "nbformat_minor": 5
}
