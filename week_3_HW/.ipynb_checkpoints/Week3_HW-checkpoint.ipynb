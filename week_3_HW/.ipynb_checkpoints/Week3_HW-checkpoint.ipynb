{
 "cells": [
  {
   "cell_type": "markdown",
   "metadata": {
    "colab_type": "text",
    "id": "ui8qhkEtVqVC"
   },
   "source": [
    "In this notebook, we'll ask you to find numerical summaries for a certain set of data. You will use the values of what you find in this assignment to answer questions in the quiz that follows (we've noted where specific values will be requested in the quiz, so that you can record them.)\n",
    "\n",
    "We'll also ask you to create some of the plots you have seen in previous lectures.   \n",
    "\n"
   ]
  },
  {
   "cell_type": "code",
   "execution_count": 104,
   "metadata": {
    "colab": {},
    "colab_type": "code",
    "id": "Z8hffF4GVqVE"
   },
   "outputs": [],
   "source": [
    "import numpy as np\n",
    "import pandas as pd\n",
    "import seaborn as sns\n",
    "import scipy\n",
    "import scipy.stats as stats\n",
    "%matplotlib inline\n",
    "import matplotlib.pyplot as plt\n",
    "pd.set_option('display.max_columns', 100)\n",
    "\n",
    "path = \"nhanes_2015_2016.csv\""
   ]
  },
  {
   "cell_type": "markdown",
   "metadata": {},
   "source": [
    "### Task 1: Read the data (0.15 point)\n"
   ]
  },
  {
   "cell_type": "code",
   "execution_count": 105,
   "metadata": {
    "colab": {},
    "colab_type": "code",
    "id": "4aWn8_-iVqVH"
   },
   "outputs": [],
   "source": [
    "# First, you must import the data from the path given above\n",
    "# using pandas, read in the csv data found at the url defined by 'path'\n",
    "df = pd.read_csv(path)"
   ]
  },
  {
   "cell_type": "markdown",
   "metadata": {},
   "source": [
    "### Task 2: Manage data (0.15 point)"
   ]
  },
  {
   "cell_type": "code",
   "execution_count": 106,
   "metadata": {
    "colab": {},
    "colab_type": "code",
    "id": "vssAkE_cVqVK"
   },
   "outputs": [
    {
     "data": {
      "text/html": [
       "<div>\n",
       "<style scoped>\n",
       "    .dataframe tbody tr th:only-of-type {\n",
       "        vertical-align: middle;\n",
       "    }\n",
       "\n",
       "    .dataframe tbody tr th {\n",
       "        vertical-align: top;\n",
       "    }\n",
       "\n",
       "    .dataframe thead th {\n",
       "        text-align: right;\n",
       "    }\n",
       "</style>\n",
       "<table border=\"1\" class=\"dataframe\">\n",
       "  <thead>\n",
       "    <tr style=\"text-align: right;\">\n",
       "      <th></th>\n",
       "      <th>SEQN</th>\n",
       "      <th>ALQ101</th>\n",
       "      <th>ALQ110</th>\n",
       "      <th>ALQ130</th>\n",
       "      <th>SMQ020</th>\n",
       "      <th>RIAGENDR</th>\n",
       "      <th>RIDAGEYR</th>\n",
       "      <th>RIDRETH1</th>\n",
       "      <th>DMDCITZN</th>\n",
       "      <th>DMDEDUC2</th>\n",
       "      <th>DMDMARTL</th>\n",
       "      <th>DMDHHSIZ</th>\n",
       "      <th>WTINT2YR</th>\n",
       "      <th>SDMVPSU</th>\n",
       "      <th>SDMVSTRA</th>\n",
       "      <th>INDFMPIR</th>\n",
       "      <th>BPXSY1</th>\n",
       "      <th>BPXDI1</th>\n",
       "      <th>BPXSY2</th>\n",
       "      <th>BPXDI2</th>\n",
       "      <th>BMXWT</th>\n",
       "      <th>BMXHT</th>\n",
       "      <th>BMXBMI</th>\n",
       "      <th>BMXLEG</th>\n",
       "      <th>BMXARML</th>\n",
       "      <th>BMXARMC</th>\n",
       "      <th>BMXWAIST</th>\n",
       "      <th>HIQ210</th>\n",
       "    </tr>\n",
       "  </thead>\n",
       "  <tbody>\n",
       "    <tr>\n",
       "      <th>0</th>\n",
       "      <td>83732</td>\n",
       "      <td>1.0</td>\n",
       "      <td>NaN</td>\n",
       "      <td>1.0</td>\n",
       "      <td>1</td>\n",
       "      <td>1</td>\n",
       "      <td>62</td>\n",
       "      <td>3</td>\n",
       "      <td>1.0</td>\n",
       "      <td>5.0</td>\n",
       "      <td>1.0</td>\n",
       "      <td>2</td>\n",
       "      <td>134671.37</td>\n",
       "      <td>1</td>\n",
       "      <td>125</td>\n",
       "      <td>4.39</td>\n",
       "      <td>128.0</td>\n",
       "      <td>70.0</td>\n",
       "      <td>124.0</td>\n",
       "      <td>64.0</td>\n",
       "      <td>94.8</td>\n",
       "      <td>184.5</td>\n",
       "      <td>27.8</td>\n",
       "      <td>43.3</td>\n",
       "      <td>43.6</td>\n",
       "      <td>35.9</td>\n",
       "      <td>101.1</td>\n",
       "      <td>2.0</td>\n",
       "    </tr>\n",
       "    <tr>\n",
       "      <th>1</th>\n",
       "      <td>83733</td>\n",
       "      <td>1.0</td>\n",
       "      <td>NaN</td>\n",
       "      <td>6.0</td>\n",
       "      <td>1</td>\n",
       "      <td>1</td>\n",
       "      <td>53</td>\n",
       "      <td>3</td>\n",
       "      <td>2.0</td>\n",
       "      <td>3.0</td>\n",
       "      <td>3.0</td>\n",
       "      <td>1</td>\n",
       "      <td>24328.56</td>\n",
       "      <td>1</td>\n",
       "      <td>125</td>\n",
       "      <td>1.32</td>\n",
       "      <td>146.0</td>\n",
       "      <td>88.0</td>\n",
       "      <td>140.0</td>\n",
       "      <td>88.0</td>\n",
       "      <td>90.4</td>\n",
       "      <td>171.4</td>\n",
       "      <td>30.8</td>\n",
       "      <td>38.0</td>\n",
       "      <td>40.0</td>\n",
       "      <td>33.2</td>\n",
       "      <td>107.9</td>\n",
       "      <td>NaN</td>\n",
       "    </tr>\n",
       "    <tr>\n",
       "      <th>2</th>\n",
       "      <td>83734</td>\n",
       "      <td>1.0</td>\n",
       "      <td>NaN</td>\n",
       "      <td>NaN</td>\n",
       "      <td>1</td>\n",
       "      <td>1</td>\n",
       "      <td>78</td>\n",
       "      <td>3</td>\n",
       "      <td>1.0</td>\n",
       "      <td>3.0</td>\n",
       "      <td>1.0</td>\n",
       "      <td>2</td>\n",
       "      <td>12400.01</td>\n",
       "      <td>1</td>\n",
       "      <td>131</td>\n",
       "      <td>1.51</td>\n",
       "      <td>138.0</td>\n",
       "      <td>46.0</td>\n",
       "      <td>132.0</td>\n",
       "      <td>44.0</td>\n",
       "      <td>83.4</td>\n",
       "      <td>170.1</td>\n",
       "      <td>28.8</td>\n",
       "      <td>35.6</td>\n",
       "      <td>37.0</td>\n",
       "      <td>31.0</td>\n",
       "      <td>116.5</td>\n",
       "      <td>2.0</td>\n",
       "    </tr>\n",
       "    <tr>\n",
       "      <th>3</th>\n",
       "      <td>83735</td>\n",
       "      <td>2.0</td>\n",
       "      <td>1.0</td>\n",
       "      <td>1.0</td>\n",
       "      <td>2</td>\n",
       "      <td>2</td>\n",
       "      <td>56</td>\n",
       "      <td>3</td>\n",
       "      <td>1.0</td>\n",
       "      <td>5.0</td>\n",
       "      <td>6.0</td>\n",
       "      <td>1</td>\n",
       "      <td>102718.00</td>\n",
       "      <td>1</td>\n",
       "      <td>131</td>\n",
       "      <td>5.00</td>\n",
       "      <td>132.0</td>\n",
       "      <td>72.0</td>\n",
       "      <td>134.0</td>\n",
       "      <td>68.0</td>\n",
       "      <td>109.8</td>\n",
       "      <td>160.9</td>\n",
       "      <td>42.4</td>\n",
       "      <td>38.5</td>\n",
       "      <td>37.7</td>\n",
       "      <td>38.3</td>\n",
       "      <td>110.1</td>\n",
       "      <td>2.0</td>\n",
       "    </tr>\n",
       "    <tr>\n",
       "      <th>4</th>\n",
       "      <td>83736</td>\n",
       "      <td>2.0</td>\n",
       "      <td>1.0</td>\n",
       "      <td>1.0</td>\n",
       "      <td>2</td>\n",
       "      <td>2</td>\n",
       "      <td>42</td>\n",
       "      <td>4</td>\n",
       "      <td>1.0</td>\n",
       "      <td>4.0</td>\n",
       "      <td>3.0</td>\n",
       "      <td>5</td>\n",
       "      <td>17627.67</td>\n",
       "      <td>2</td>\n",
       "      <td>126</td>\n",
       "      <td>1.23</td>\n",
       "      <td>100.0</td>\n",
       "      <td>70.0</td>\n",
       "      <td>114.0</td>\n",
       "      <td>54.0</td>\n",
       "      <td>55.2</td>\n",
       "      <td>164.9</td>\n",
       "      <td>20.3</td>\n",
       "      <td>37.4</td>\n",
       "      <td>36.0</td>\n",
       "      <td>27.2</td>\n",
       "      <td>80.4</td>\n",
       "      <td>2.0</td>\n",
       "    </tr>\n",
       "  </tbody>\n",
       "</table>\n",
       "</div>"
      ],
      "text/plain": [
       "    SEQN  ALQ101  ALQ110  ALQ130  SMQ020  RIAGENDR  RIDAGEYR  RIDRETH1  \\\n",
       "0  83732     1.0     NaN     1.0       1         1        62         3   \n",
       "1  83733     1.0     NaN     6.0       1         1        53         3   \n",
       "2  83734     1.0     NaN     NaN       1         1        78         3   \n",
       "3  83735     2.0     1.0     1.0       2         2        56         3   \n",
       "4  83736     2.0     1.0     1.0       2         2        42         4   \n",
       "\n",
       "   DMDCITZN  DMDEDUC2  DMDMARTL  DMDHHSIZ   WTINT2YR  SDMVPSU  SDMVSTRA  \\\n",
       "0       1.0       5.0       1.0         2  134671.37        1       125   \n",
       "1       2.0       3.0       3.0         1   24328.56        1       125   \n",
       "2       1.0       3.0       1.0         2   12400.01        1       131   \n",
       "3       1.0       5.0       6.0         1  102718.00        1       131   \n",
       "4       1.0       4.0       3.0         5   17627.67        2       126   \n",
       "\n",
       "   INDFMPIR  BPXSY1  BPXDI1  BPXSY2  BPXDI2  BMXWT  BMXHT  BMXBMI  BMXLEG  \\\n",
       "0      4.39   128.0    70.0   124.0    64.0   94.8  184.5    27.8    43.3   \n",
       "1      1.32   146.0    88.0   140.0    88.0   90.4  171.4    30.8    38.0   \n",
       "2      1.51   138.0    46.0   132.0    44.0   83.4  170.1    28.8    35.6   \n",
       "3      5.00   132.0    72.0   134.0    68.0  109.8  160.9    42.4    38.5   \n",
       "4      1.23   100.0    70.0   114.0    54.0   55.2  164.9    20.3    37.4   \n",
       "\n",
       "   BMXARML  BMXARMC  BMXWAIST  HIQ210  \n",
       "0     43.6     35.9     101.1     2.0  \n",
       "1     40.0     33.2     107.9     NaN  \n",
       "2     37.0     31.0     116.5     2.0  \n",
       "3     37.7     38.3     110.1     2.0  \n",
       "4     36.0     27.2      80.4     2.0  "
      ]
     },
     "execution_count": 106,
     "metadata": {},
     "output_type": "execute_result"
    }
   ],
   "source": [
    "# Next, look at the 'head' of our DataFrame 'df'. \n",
    "df.head()    \n",
    "# If you can't remember a function, open a previous notebook or video as a reference \n",
    "# or use your favorite search engine to look for a solution"
   ]
  },
  {
   "cell_type": "markdown",
   "metadata": {},
   "source": [
    "### Task 3: Answer the following questions (0.15 point)"
   ]
  },
  {
   "cell_type": "markdown",
   "metadata": {
    "colab_type": "text",
    "id": "J7ugBriFVqVM"
   },
   "source": [
    "1. How many rows can you see when you don't put an argument into the previous method?  \n",
    "2. How many rows can you see if you use an int as an argument?  \n",
    "3. Can you use a float as an argument?"
   ]
  },
  {
   "cell_type": "code",
   "execution_count": 107,
   "metadata": {},
   "outputs": [],
   "source": [
    "#Your answers\n",
    "#1 5 rows\n",
    "#2 an int in argument rows\n",
    "#3 no "
   ]
  },
  {
   "cell_type": "code",
   "execution_count": 160,
   "metadata": {
    "colab": {},
    "colab_type": "code",
    "id": "4XSsICRaVqVN"
   },
   "outputs": [
    {
     "name": "stdout",
     "output_type": "stream",
     "text": [
      "0       124.0\n",
      "1       140.0\n",
      "2       132.0\n",
      "3       134.0\n",
      "4       114.0\n",
      "        ...  \n",
      "5730    112.0\n",
      "5731    116.0\n",
      "5732    146.0\n",
      "5733    106.0\n",
      "5734    114.0\n",
      "Name: BPXSY2, Length: 5735, dtype: float64\n"
     ]
    }
   ],
   "source": [
    "# Lets only consider the feature (or variable) 'BPXSY2'\n",
    "bp = df['BPXSY2']\n",
    "print(bp)"
   ]
  },
  {
   "cell_type": "markdown",
   "metadata": {
    "colab_type": "text",
    "id": "WY9JGFQqVqVP"
   },
   "source": [
    "## Numerical Summaries\n",
    "### Task 4: Find the mean (note this for the quiz that follows) (0.15 point)"
   ]
  },
  {
   "cell_type": "code",
   "execution_count": 115,
   "metadata": {
    "colab": {},
    "colab_type": "code",
    "id": "dXuc5WUZVqVQ"
   },
   "outputs": [
    {
     "name": "stdout",
     "output_type": "stream",
     "text": [
      "0       124.0\n",
      "1       140.0\n",
      "2       132.0\n",
      "3       134.0\n",
      "4       114.0\n",
      "        ...  \n",
      "5730    112.0\n",
      "5731    116.0\n",
      "5732    146.0\n",
      "5733    106.0\n",
      "5734    114.0\n",
      "Name: BPXSY2, Length: 5535, dtype: float64\n",
      "Mean = 124.78301716350497\n"
     ]
    }
   ],
   "source": [
    "# What is the mean of 'BPXSY2'\n",
    "bp_mean = np.mean(bp)\n",
    "\n",
    "print(bp)\n",
    "\n",
    "# help(np.mean)\n",
    "print(f'Mean = {bp_mean}')"
   ]
  },
  {
   "cell_type": "markdown",
   "metadata": {
    "colab_type": "text",
    "id": "rPkNKQpIVqVS"
   },
   "source": [
    "In the method you used above, how are the rows of missing data treated?\n",
    "\n",
    "Ans : They are excluded entirely\n",
    "\n",
    "Are they excluded entirely? Are they counted as zeros? Something else? \n",
    "If you used a library function, try looking up the documentation using the code:\n",
    "```\n",
    "help(function_you_used)\n",
    "```\n",
    "For example:\n",
    "```\n",
    "help(np.sum)\n",
    "```\n"
   ]
  },
  {
   "cell_type": "markdown",
   "metadata": {
    "colab_type": "text",
    "id": "bYSrLfPrVqVT"
   },
   "source": [
    "### Task 5: Use .dropna() function in Pnadas to drop all missing values(NAN) (0.15 point)\n",
    "To make sure we know that we aren't treating missing data in ways we don't want, lets go ahead and drop all the nans from our Series 'bp'"
   ]
  },
  {
   "cell_type": "code",
   "execution_count": 117,
   "metadata": {
    "colab": {},
    "colab_type": "code",
    "id": "CVEbGOm2VqVU"
   },
   "outputs": [],
   "source": [
    "bp = bp.dropna()"
   ]
  },
  {
   "cell_type": "markdown",
   "metadata": {
    "colab_type": "text",
    "id": "JxanzMF-VqVW"
   },
   "source": [
    "### Find the:\n",
    "* Median\n",
    "* Max\n",
    "* Min\n",
    "* Standard deviation\n",
    "* Variance\n",
    "\n",
    "\n",
    "You can implement any of these from base python (that is, without any of the imported packages), but there are simple and intuitively named functions in the numpy library for all of these. You could also use the fact that 'bp' is not just a list, but is a pandas.Series. You can find pandas.Series attributes and methods [here](https://pandas.pydata.org/pandas-docs/version/0.23.4/generated/pandas.Series.html)\n",
    "\n",
    "A large part of programming is being able to find the functions you need and to understand the documentation formatting so that you can implement the code yourself, so we highly encourage you to search the internet whenever you are unsure! "
   ]
  },
  {
   "cell_type": "markdown",
   "metadata": {
    "colab_type": "text",
    "id": "Sl2ANftxVqVX"
   },
   "source": [
    "### Example: \n",
    "Find the difference of an element in 'bp' compared with the previous element in 'bp'."
   ]
  },
  {
   "cell_type": "code",
   "execution_count": 111,
   "metadata": {
    "colab": {},
    "colab_type": "code",
    "id": "ZafG3rYOVqVX"
   },
   "outputs": [
    {
     "data": {
      "text/plain": [
       "array([ nan,  16.,  -8., ...,  30., -40.,   8.])"
      ]
     },
     "execution_count": 111,
     "metadata": {},
     "output_type": "execute_result"
    }
   ],
   "source": [
    "# Using the fact that 'bp' is a pd.Series object, can use the pd.Series method diff()\n",
    "# call this method by: pd.Series.diff()\n",
    "diff_by_series_method = bp.diff() \n",
    "# note that this returns a pd.Series object, that is, it had an index associated with it\n",
    "diff_by_series_method.values # only want to see the values, not the index and values"
   ]
  },
  {
   "cell_type": "code",
   "execution_count": 112,
   "metadata": {
    "colab": {},
    "colab_type": "code",
    "id": "SZYMNqmhVqVa"
   },
   "outputs": [
    {
     "data": {
      "text/plain": [
       "array([ 16.,  -8.,   2., ...,  30., -40.,   8.])"
      ]
     },
     "execution_count": 112,
     "metadata": {},
     "output_type": "execute_result"
    }
   ],
   "source": [
    "# Now use the numpy library instead to find the same values\n",
    "# np.diff(array)\n",
    "diff_by_np_method = np.diff(bp)\n",
    "diff_by_np_method\n",
    "# note that this returns an 'numpy.ndarray', which has no index associated with it, and therefore ignores\n",
    "# the nan we get by the Series method"
   ]
  },
  {
   "cell_type": "code",
   "execution_count": 113,
   "metadata": {
    "colab": {},
    "colab_type": "code",
    "id": "lXikUOegVqVe"
   },
   "outputs": [
    {
     "data": {
      "text/plain": [
       "array([ 16.,  -8.,   2., ...,  30., -40.,   8.])"
      ]
     },
     "execution_count": 113,
     "metadata": {},
     "output_type": "execute_result"
    }
   ],
   "source": [
    "# We could also implement this ourselves with some looping\n",
    "diff_by_me = [] # create an empty list\n",
    "for i in range(len(bp.values)-1): # iterate through the index values of bp\n",
    "    diff = bp.values[i+1] - bp.values[i] # find the difference between an element and the previous element\n",
    "    diff_by_me.append(diff) # append to out list\n",
    "np.array(diff_by_me) # format as an np.array"
   ]
  },
  {
   "cell_type": "markdown",
   "metadata": {
    "colab_type": "text",
    "id": "oXbC8AedVqVh"
   },
   "source": [
    "### Your turn (note these values for the quiz that follows)\n",
    "### Task 6: Calculate max, min, median, standard deviation (0.15 point)"
   ]
  },
  {
   "cell_type": "code",
   "execution_count": 138,
   "metadata": {
    "colab": {},
    "colab_type": "code",
    "id": "ysRHBgQyVqVh"
   },
   "outputs": [
    {
     "name": "stdout",
     "output_type": "stream",
     "text": [
      "pandas: 122.0\n",
      "numpy: 122.0\n",
      "base python: 122.0\n"
     ]
    }
   ],
   "source": [
    "bp_median_pd = bp.median()\n",
    "print(f'pandas: {bp_median_pd}')\n",
    "bp_median_np = np.median(bp)\n",
    "print(f'numpy: {bp_median_np}')\n",
    "\n",
    "sorted_bp = sorted(bp)\n",
    "n = len(sorted_bp)\n",
    "\n",
    "if n % 2 == 0:\n",
    "    median = (sorted_bp[n // 2 - 1] + sorted_bp[n // 2]) / 2\n",
    "else:\n",
    "    median = sorted_bp[n // 2]\n",
    "\n",
    "print(f'base python: {median}')"
   ]
  },
  {
   "cell_type": "code",
   "execution_count": 140,
   "metadata": {
    "colab": {},
    "colab_type": "code",
    "id": "ton2jC0-VqVl"
   },
   "outputs": [
    {
     "name": "stdout",
     "output_type": "stream",
     "text": [
      "pandas: 238.0\n",
      "numpy: 238.0\n",
      "base python: 238.0\n"
     ]
    }
   ],
   "source": [
    "bp_max_pd = bp.max()\n",
    "\n",
    "print(f'pandas: {bp_max_pd}')\n",
    "bp_max_np = np.max(bp)\n",
    "\n",
    "print(f'numpy: {bp_max_np}')\n",
    "maxi = bp[0]\n",
    "for i in bp:\n",
    "    if maxi < i :\n",
    "        maxi = i\n",
    "\n",
    "print(f'base python: {maxi}')"
   ]
  },
  {
   "cell_type": "code",
   "execution_count": 142,
   "metadata": {
    "colab": {},
    "colab_type": "code",
    "id": "9IvCBxJpVqVo"
   },
   "outputs": [
    {
     "name": "stdout",
     "output_type": "stream",
     "text": [
      "pandas: 84.0\n",
      "numpy: 84.0\n",
      "base python: 84.0\n"
     ]
    }
   ],
   "source": [
    "bp_min_pd = bp.min()\n",
    "print(f'pandas: {bp_min_pd}')\n",
    "bp_min_np = np.min(bp)\n",
    "\n",
    "print(f'numpy: {bp_min_np}')\n",
    "mini = bp[0]\n",
    "\n",
    "for i in bp:\n",
    "    if mini > i :\n",
    "        mini = i\n",
    "\n",
    "print(f'base python: {mini}')"
   ]
  },
  {
   "cell_type": "code",
   "execution_count": 147,
   "metadata": {
    "colab": {},
    "colab_type": "code",
    "id": "CDKjM5mNVqVr"
   },
   "outputs": [
    {
     "name": "stdout",
     "output_type": "stream",
     "text": [
      "pandas: 18.527011720295047\n",
      "numpy: 18.525338021233832\n",
      "base python: 18.525338021233832\n"
     ]
    }
   ],
   "source": [
    "bp_std = bp.std()\n",
    "\n",
    "print(f'pandas: {bp_std}')\n",
    "\n",
    "bp_std = np.std(bp)\n",
    "print(f'numpy: {bp_std}')\n",
    "\n",
    "mean = sum(bp)/len(bp)\n",
    "dev = 0\n",
    "for i in bp:\n",
    "    dev += (i - mean)**2 \n",
    "print(f'base python: {(dev/len(bp))**(1/2)}')"
   ]
  },
  {
   "cell_type": "markdown",
   "metadata": {
    "colab_type": "text",
    "id": "MciM1juSVqVv"
   },
   "source": [
    "### Task 7: Find Interquartile range by using iqr() function. (0.15 point)\n",
    "This time we need to use the scipy.stats library that we imported above under the name 'stats'"
   ]
  },
  {
   "cell_type": "code",
   "execution_count": 151,
   "metadata": {
    "colab": {},
    "colab_type": "code",
    "id": "K-utEYK_VqVw"
   },
   "outputs": [
    {
     "name": "stdout",
     "output_type": "stream",
     "text": [
      "22.0\n"
     ]
    }
   ],
   "source": [
    "bp_iqr = stats.iqr(bp)\n",
    "print(bp_iqr)"
   ]
  },
  {
   "cell_type": "markdown",
   "metadata": {
    "colab_type": "text",
    "id": "D8VDp9ouVqVz"
   },
   "source": [
    "## Visualizing the data\n",
    "Next we'll use what you have learned from the *Tables, Histograms, Boxplots in Python* video"
   ]
  },
  {
   "cell_type": "markdown",
   "metadata": {},
   "source": [
    "### Task 8: Use the Series.describe() method to see some descriptive statistics of our Series 'bp' (0.15 point)"
   ]
  },
  {
   "cell_type": "code",
   "execution_count": 150,
   "metadata": {
    "colab": {},
    "colab_type": "code",
    "id": "a13hP6oIVqV0"
   },
   "outputs": [
    {
     "name": "stdout",
     "output_type": "stream",
     "text": [
      "count    5535.000000\n",
      "mean      124.783017\n",
      "std        18.527012\n",
      "min        84.000000\n",
      "25%       112.000000\n",
      "50%       122.000000\n",
      "75%       134.000000\n",
      "max       238.000000\n",
      "Name: BPXSY2, dtype: float64\n"
     ]
    }
   ],
   "source": [
    "bp_descriptive_stats = bp.describe()\n",
    "print(bp_descriptive_stats)"
   ]
  },
  {
   "cell_type": "markdown",
   "metadata": {},
   "source": [
    "### Task 9: Make a histogram of our 'bp' data using the seaborn library we imported as 'sns' (0.15 point)"
   ]
  },
  {
   "cell_type": "code",
   "execution_count": 156,
   "metadata": {
    "colab": {},
    "colab_type": "code",
    "id": "eBz00oU_VqV2"
   },
   "outputs": [
    {
     "name": "stderr",
     "output_type": "stream",
     "text": [
      "C:\\Users\\anuar\\AppData\\Local\\Temp\\ipykernel_18024\\2938825643.py:1: UserWarning: \n",
      "\n",
      "`distplot` is a deprecated function and will be removed in seaborn v0.14.0.\n",
      "\n",
      "Please adapt your code to use either `displot` (a figure-level function with\n",
      "similar flexibility) or `histplot` (an axes-level function for histograms).\n",
      "\n",
      "For a guide to updating your code to use the new functions, please see\n",
      "https://gist.github.com/mwaskom/de44147ed2974457ad6372750bbe5751\n",
      "\n",
      "  sns.distplot(bp, kde=False, color='red', bins=100).set(title='a histogram of bp', xlabel='x_label', ylabel='y_label')\n"
     ]
    },
    {
     "data": {
      "text/plain": [
       "[Text(0.5, 1.0, 'a histogram of bp'),\n",
       " Text(0.5, 0, 'x_label'),\n",
       " Text(0, 0.5, 'y_label')]"
      ]
     },
     "execution_count": 156,
     "metadata": {},
     "output_type": "execute_result"
    },
    {
     "data": {
      "image/png": "[encoded data removed]",
      "text/plain": [
       "<Figure size 640x480 with 1 Axes>"
      ]
     },
     "metadata": {},
     "output_type": "display_data"
    }
   ],
   "source": [
    "sns.distplot(bp, kde=False, color='red', bins=100).set(title='a histogram of bp', xlabel='x_label', ylabel='y_label')\n"
   ]
  },
  {
   "cell_type": "markdown",
   "metadata": {
    "colab_type": "text",
    "id": "XMj_nGxkVqV4"
   },
   "source": [
    "Is your histogram labeled and does it have a title?\n",
    "If not, try appending \n",
    "```\n",
    ".set(title='your_title', xlabel='your_x_label', ylabel='your_y_label')\n",
    "```\n",
    "or just\n",
    "```\n",
    ".set(title='your_title')\n",
    "```\n",
    "to your graphing function"
   ]
  },
  {
   "cell_type": "markdown",
   "metadata": {},
   "source": [
    "### Task 10: Make a boxplot of our 'bp' data using the seaborn library. Make sure it has a title and labels! (0.15 point)"
   ]
  },
  {
   "cell_type": "code",
   "execution_count": 164,
   "metadata": {
    "colab": {},
    "colab_type": "code",
    "id": "7a4D9oeaVqV5"
   },
   "outputs": [
    {
     "data": {
      "text/plain": [
       "[Text(0.5, 1.0, 'a boxplot of bp'),\n",
       " Text(0.5, 0, 'x_label'),\n",
       " Text(0, 0.5, 'y_label')]"
      ]
     },
     "execution_count": 164,
     "metadata": {},
     "output_type": "execute_result"
    },
    {
     "data": {
      "image/png": "[encoded data removed]",
      "text/plain": [
       "<Figure size 640x480 with 1 Axes>"
      ]
     },
     "metadata": {},
     "output_type": "display_data"
    }
   ],
   "source": [
    "#your code\n",
    "sns.boxplot(data=bp).set(title='a boxplot of bp', xlabel='x_label', ylabel='y_label')\n",
    "\n"
   ]
  }
 ],
 "metadata": {
  "colab": {
   "collapsed_sections": [
    "Sl2ANftxVqVX"
   ],
   "name": "w2 assessment.ipynb",
   "provenance": [],
   "version": "0.3.2"
  },
  "kernelspec": {
   "display_name": "Python 3 (ipykernel)",
   "language": "python",
   "name": "python3"
  },
  "language_info": {
   "codemirror_mode": {
    "name": "ipython",
    "version": 3
   },
   "file_extension": ".py",
   "mimetype": "text/x-python",
   "name": "python",
   "nbconvert_exporter": "python",
   "pygments_lexer": "ipython3",
   "version": "3.11.4"
  }
 },
 "nbformat": 4,
 "nbformat_minor": 4
}
