{
 "cells": [
  {
   "cell_type": "markdown",
   "id": "5603d1c8",
   "metadata": {},
   "source": [
    "# Practice work - 8 week"
   ]
  },
  {
   "cell_type": "markdown",
   "id": "de3a10e4",
   "metadata": {},
   "source": [
    "1. Read Cartweeldata file (0.1p)"
   ]
  },
  {
   "cell_type": "code",
   "execution_count": 2,
   "id": "467776cc",
   "metadata": {},
   "outputs": [],
   "source": [
    "import statsmodels.api as sm\n",
    "import numpy as np\n",
    "import pandas as pd\n",
    "import scipy.stats.distributions as dist"
   ]
  },
  {
   "cell_type": "code",
   "execution_count": 10,
   "id": "11832f70",
   "metadata": {},
   "outputs": [],
   "source": [
    "#your code\n"
   ]
  },
  {
   "cell_type": "markdown",
   "id": "a03ba377",
   "metadata": {},
   "source": [
    "2. Find parameters (length, mean and standard deviation) of population (0.2p)"
   ]
  },
  {
   "cell_type": "code",
   "execution_count": 9,
   "id": "6b62b1f5",
   "metadata": {},
   "outputs": [],
   "source": [
    "#your code\n"
   ]
  },
  {
   "cell_type": "markdown",
   "id": "9179b89a",
   "metadata": {},
   "source": [
    "3. Write about Hypothesis Testing(0.2p)"
   ]
  },
  {
   "cell_type": "code",
   "execution_count": 6,
   "id": "cc75a695",
   "metadata": {},
   "outputs": [],
   "source": [
    "#your answer\n"
   ]
  },
  {
   "cell_type": "markdown",
   "id": "7dc052b3",
   "metadata": {},
   "source": [
    "4. Write about P-values (0.2p)"
   ]
  },
  {
   "cell_type": "code",
   "execution_count": null,
   "id": "96359e49",
   "metadata": {},
   "outputs": [],
   "source": [
    "#your answer\n"
   ]
  },
  {
   "cell_type": "markdown",
   "id": "19252013",
   "metadata": {},
   "source": [
    "Task Description:\n",
    "\n",
    "You work for a marketing department in a retail company, and you've recently launched a new advertising campaign to increase sales of a specific product category. The campaign involved targeting potential customers through social media ads. Now, you need to assess the effectiveness of this campaign through hypothesis testing.\n",
    "\n"
   ]
  },
  {
   "cell_type": "markdown",
   "id": "05f90904",
   "metadata": {},
   "source": [
    "5. Formulate Research Question. (0.3p)"
   ]
  },
  {
   "cell_type": "code",
   "execution_count": null,
   "id": "7a6a936c",
   "metadata": {},
   "outputs": [],
   "source": [
    "#your answer\n"
   ]
  },
  {
   "cell_type": "markdown",
   "id": "f6e2afbd",
   "metadata": {},
   "source": [
    "6. Formulate Hypotheses. (0.5p)"
   ]
  },
  {
   "cell_type": "code",
   "execution_count": null,
   "id": "7f88e1f1",
   "metadata": {},
   "outputs": [],
   "source": [
    "#your answer\n"
   ]
  }
 ],
 "metadata": {
  "kernelspec": {
   "display_name": "Python 3 (ipykernel)",
   "language": "python",
   "name": "python3"
  },
  "language_info": {
   "codemirror_mode": {
    "name": "ipython",
    "version": 3
   },
   "file_extension": ".py",
   "mimetype": "text/x-python",
   "name": "python",
   "nbconvert_exporter": "python",
   "pygments_lexer": "ipython3",
   "version": "3.11.5"
  }
 },
 "nbformat": 4,
 "nbformat_minor": 5
}
