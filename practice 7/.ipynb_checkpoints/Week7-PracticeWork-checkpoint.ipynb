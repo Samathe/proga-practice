{
 "cells": [
  {
   "cell_type": "markdown",
   "id": "eccb970b-a5d2-4371-8b6d-2e10d0e4409c",
   "metadata": {},
   "source": [
    "# Practice work(1.5 point)"
   ]
  },
  {
   "cell_type": "markdown",
   "id": "3281f63e-a8fa-4043-bb56-df471de982ea",
   "metadata": {},
   "source": [
    "### Estimating population parameters via confidence intervals"
   ]
  },
  {
   "cell_type": "markdown",
   "id": "1167675e-ec2c-40c6-bbb9-71e0f1df98a4",
   "metadata": {},
   "source": [
    "#### Task 1: What is a confidence interval in statistics? (0.1p)\n"
   ]
  },
  {
   "cell_type": "code",
   "execution_count": null,
   "id": "5db00198-1e09-4a10-9577-3f639c107720",
   "metadata": {},
   "outputs": [],
   "source": [
    "# Your answer: "
   ]
  },
  {
   "cell_type": "markdown",
   "id": "90c1e40c-985c-4494-8b2f-94e367efda48",
   "metadata": {},
   "source": [
    "----"
   ]
  },
  {
   "cell_type": "markdown",
   "id": "8da9d514-b7e6-4976-8db2-30104394af92",
   "metadata": {},
   "source": [
    "#### Task 2: Write a Python function to calculate a Confidence Interval for the Population Proportion. (0.2p)"
   ]
  },
  {
   "cell_type": "code",
   "execution_count": null,
   "id": "d7ea8333-f15e-413d-83e7-4ab38da722a9",
   "metadata": {},
   "outputs": [],
   "source": [
    "# enter your code here"
   ]
  },
  {
   "cell_type": "markdown",
   "id": "71fbf720-b7d5-43e6-b0ee-61fb782f9414",
   "metadata": {},
   "source": [
    "-----"
   ]
  },
  {
   "cell_type": "markdown",
   "id": "aab7189b-d53e-4929-a728-b9d276b2d46b",
   "metadata": {},
   "source": [
    "#### Task 3: Write a Python function to Calculate a Confidence Interval for the Population Mean (0.2p)"
   ]
  },
  {
   "cell_type": "code",
   "execution_count": null,
   "id": "3a69ddcc-5168-4eaf-8850-ea3b0529500b",
   "metadata": {},
   "outputs": [],
   "source": [
    "# enter your code here"
   ]
  },
  {
   "cell_type": "markdown",
   "id": "3e7cc98c-54f1-4db5-b190-d76a83ac77f9",
   "metadata": {},
   "source": [
    "------"
   ]
  },
  {
   "cell_type": "markdown",
   "id": "0fdbaa30-e273-4090-b68c-c0be01ad6978",
   "metadata": {},
   "source": [
    "#### Task 4: Now, lets take Cartwheel dataset(\"Cartwheeldata.csv\") and calculate a 95%( z-value = 1.96) confidence interval for mean cartwheel age. (0.25p)"
   ]
  },
  {
   "cell_type": "code",
   "execution_count": null,
   "id": "931b7425-bf3c-4ee2-baa3-3d805b5f028e",
   "metadata": {},
   "outputs": [],
   "source": [
    "# enter your code here"
   ]
  },
  {
   "cell_type": "markdown",
   "id": "5b2136ed-3fc2-48b5-9749-ce94b630d6e6",
   "metadata": {},
   "source": [
    "----"
   ]
  },
  {
   "cell_type": "markdown",
   "id": "38faf562-46ac-47df-9e12-dc5e517381d2",
   "metadata": {},
   "source": [
    "#### Task 5: Create a Python Function for Estimating a Difference in Population Proportions with Confidence (0.25p)"
   ]
  },
  {
   "cell_type": "code",
   "execution_count": null,
   "id": "ad085803-3e96-4b07-b892-03037b7cb1ff",
   "metadata": {},
   "outputs": [],
   "source": [
    "# enter your code here"
   ]
  },
  {
   "cell_type": "markdown",
   "id": "8840210e-2f1c-4e78-afaa-bf629702c21c",
   "metadata": {},
   "source": [
    "#### Task 6: Calculate Confidence interval for single population Mean (0.25p)"
   ]
  },
  {
   "cell_type": "markdown",
   "id": "22480a91-1fdb-489b-acea-759b9a695918",
   "metadata": {},
   "source": [
    "A random sample of n = 50 males showed a mean average daily intake of dairy products equal to 756 grams with a standard deviation of 35 grams. \n",
    "Find a 95%( z-value = 1.96) and 99%( z-value = 2.576) confidence interval for the population average?\n"
   ]
  },
  {
   "cell_type": "code",
   "execution_count": null,
   "id": "3fc5d798-e5f3-4468-952e-16d45c0f6132",
   "metadata": {},
   "outputs": [],
   "source": [
    "# enter your code here"
   ]
  },
  {
   "cell_type": "markdown",
   "id": "325ea269-b0f2-4b10-80b1-2f56f3ddd023",
   "metadata": {},
   "source": [
    "#### Task 7: Calculate Confidence interval for Single population Proportion (0.25p)"
   ]
  },
  {
   "cell_type": "markdown",
   "id": "eb678f9e-1873-4326-8c2b-a0c8b25a6a7b",
   "metadata": {},
   "source": [
    "Billing statement for 1000 patients discharged from a particular hospital were randomly selected for error. Out of 1000 billing statements, 102 were found to contain errors. Using this formation lets construct 99%( z-value = 2.576) confidence interval ?"
   ]
  },
  {
   "cell_type": "code",
   "execution_count": null,
   "id": "f3ce9c8f-11de-41e8-aeca-236f3a55d577",
   "metadata": {},
   "outputs": [],
   "source": [
    "# enter your code here"
   ]
  }
 ],
 "metadata": {
  "kernelspec": {
   "display_name": "Python 3 (ipykernel)",
   "language": "python",
   "name": "python3"
  },
  "language_info": {
   "codemirror_mode": {
    "name": "ipython",
    "version": 3
   },
   "file_extension": ".py",
   "mimetype": "text/x-python",
   "name": "python",
   "nbconvert_exporter": "python",
   "pygments_lexer": "ipython3",
   "version": "3.11.5"
  }
 },
 "nbformat": 4,
 "nbformat_minor": 5
}
