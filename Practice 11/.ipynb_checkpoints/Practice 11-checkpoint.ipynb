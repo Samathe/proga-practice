{
 "cells": [
  {
   "cell_type": "markdown",
   "id": "76ab51c1",
   "metadata": {
    "id": "76ab51c1"
   },
   "source": [
    "# Practice work 11"
   ]
  },
  {
   "cell_type": "markdown",
   "id": "cf627273",
   "metadata": {
    "id": "cf627273"
   },
   "source": [
    "Read Datasets CWD and NHANES and import libraries (0.1p)"
   ]
  },
  {
   "cell_type": "code",
   "execution_count": 9,
   "id": "5c3c6610",
   "metadata": {
    "id": "5c3c6610"
   },
   "outputs": [],
   "source": [
    "import pandas as pd\n",
    "import numpy as np\n",
    "import statsmodels.api as sm\n",
    "import statsmodels.formula.api as smf\n",
    "cwd = pd.read_csv('Cartwheeldata.csv')\n",
    "nhanes = pd.read_csv('nhanes_2015_2016.csv')"
   ]
  },
  {
   "cell_type": "markdown",
   "id": "78f9b444",
   "metadata": {
    "id": "78f9b444"
   },
   "source": [
    "Problem 1: Descriptive Statistics (0.2p)\n",
    "Calculate mean, median, and standard deviation of the CWDistance of 'cartwheel' dataset"
   ]
  },
  {
   "cell_type": "code",
   "execution_count": 16,
   "id": "fa738ef9",
   "metadata": {
    "id": "fa738ef9"
   },
   "outputs": [],
   "source": [
    "#your code\n",
    "mean_cwd = np.mean(cwd['CWDistance'])\n",
    "median_cwd = np.median(cwd['CWDistance'])\n",
    "std_cwd = np.std(cwd['CWDistance'])"
   ]
  },
  {
   "cell_type": "markdown",
   "id": "4297cf94",
   "metadata": {
    "id": "4297cf94"
   },
   "source": [
    "Problem 2: Confidence Interval for Proportion (0.2p)\n",
    "Calculate the 95% confidence interval for the proportion of males in the 'nhanes' dataset.\n",
    "Must use stats method."
   ]
  },
  {
   "cell_type": "code",
   "execution_count": 28,
   "id": "1afbf46f",
   "metadata": {
    "id": "1afbf46f"
   },
   "outputs": [
    {
     "data": {
      "text/plain": [
       "(1.4959412266765124, 1.5418966111613255)"
      ]
     },
     "execution_count": 28,
     "metadata": {},
     "output_type": "execute_result"
    }
   ],
   "source": [
    "#your code\n",
    "\n",
    "# Confidence Interval for Proportion\n",
    "proportion_males = nhanes['RIAGENDR'].mean()\n",
    "se = (-(proportion_males*(1-proportion_males)) / len(nhanes))**(1/2)\n",
    "\n",
    "conf_interval_males = (proportion_males - 1.96 * se, proportion_males + 1.96 * se)\n",
    "conf_interval_males"
   ]
  },
  {
   "cell_type": "markdown",
   "id": "92bc0378",
   "metadata": {
    "id": "92bc0378"
   },
   "source": [
    "Problem 3: Z-Test for Mean (0.2p)\n",
    "Test if the mean cartwheel distance is significantly different from 30 using a one-sample Z-test.\n",
    "Must use stats method."
   ]
  },
  {
   "cell_type": "code",
   "execution_count": 14,
   "id": "b3dbfb55",
   "metadata": {
    "id": "b3dbfb55"
   },
   "outputs": [
    {
     "data": {
      "text/plain": [
       "(17.42531375206517, 5.3016848054163225e-68)"
      ]
     },
     "execution_count": 14,
     "metadata": {},
     "output_type": "execute_result"
    }
   ],
   "source": [
    "z_test_mean = sm.stats.ztest(cwd['CWDistance'], value=30)\n",
    "z_test_mean"
   ]
  },
  {
   "cell_type": "markdown",
   "id": "5c821e32",
   "metadata": {
    "id": "5c821e32"
   },
   "source": [
    "Problem 4: Z-Test for Proportion (0.2p)\n",
    "Test if the proportion of females in the 'nhanes' dataset is significantly different from 0.5 using a Z-test\n",
    "Must use stats method."
   ]
  },
  {
   "cell_type": "code",
   "execution_count": 33,
   "id": "58517d0b",
   "metadata": {
    "id": "58517d0b"
   },
   "outputs": [
    {
     "data": {
      "text/plain": [
       "(-2325.7527474913963, 0.0)"
      ]
     },
     "execution_count": 33,
     "metadata": {},
     "output_type": "execute_result"
    }
   ],
   "source": [
    "proportion_females = nhanes['RIAGENDR'].mean()\n",
    "z_test_proportion = sm.stats.proportions_ztest(proportion_females, nobs=len(nhanes), value=0.5)\n",
    "z_test_proportion"
   ]
  },
  {
   "cell_type": "markdown",
   "id": "ddbdab53",
   "metadata": {
    "id": "ddbdab53"
   },
   "source": [
    "Problem 5. Confidence interval for the population mean (0.2p)\n",
    "Use DescrStatsW() to generate a confidence interval for the population mean using variable 'RIDAGEYR'"
   ]
  },
  {
   "cell_type": "code",
   "execution_count": 35,
   "id": "aa8f69ad",
   "metadata": {
    "id": "aa8f69ad"
   },
   "outputs": [
    {
     "data": {
      "text/plain": [
       "(47.57519629801913, 48.529424451762914)"
      ]
     },
     "execution_count": 35,
     "metadata": {},
     "output_type": "execute_result"
    }
   ],
   "source": [
    "desc_stats = sm.stats.DescrStatsW(nhanes['RIDAGEYR'])\n",
    "conf_interval_mean = desc_stats.tconfint_mean()\n",
    "conf_interval_mean"
   ]
  },
  {
   "cell_type": "markdown",
   "id": "78cbef69",
   "metadata": {
    "id": "78cbef69"
   },
   "source": [
    "Problem 6: Linear Regression with sm.OLS.from_formula() (0.2p)\n",
    "Perform a linear regression to predict 'CWDistance' based on 'Age' and 'Height'\n",
    "And print the regression summary"
   ]
  },
  {
   "cell_type": "code",
   "execution_count": 37,
   "id": "234cc47c",
   "metadata": {
    "id": "234cc47c"
   },
   "outputs": [
    {
     "data": {
      "text/html": [
       "<table class=\"simpletable\">\n",
       "<caption>OLS Regression Results</caption>\n",
       "<tr>\n",
       "  <th>Dep. Variable:</th>       <td>CWDistance</td>    <th>  R-squared:         </th> <td>   0.124</td>\n",
       "</tr>\n",
       "<tr>\n",
       "  <th>Model:</th>                   <td>OLS</td>       <th>  Adj. R-squared:    </th> <td>   0.044</td>\n",
       "</tr>\n",
       "<tr>\n",
       "  <th>Method:</th>             <td>Least Squares</td>  <th>  F-statistic:       </th> <td>   1.555</td>\n",
       "</tr>\n",
       "<tr>\n",
       "  <th>Date:</th>             <td>Sat, 18 Nov 2023</td> <th>  Prob (F-statistic):</th>  <td> 0.233</td> \n",
       "</tr>\n",
       "<tr>\n",
       "  <th>Time:</th>                 <td>16:28:33</td>     <th>  Log-Likelihood:    </th> <td> -101.11</td>\n",
       "</tr>\n",
       "<tr>\n",
       "  <th>No. Observations:</th>      <td>    25</td>      <th>  AIC:               </th> <td>   208.2</td>\n",
       "</tr>\n",
       "<tr>\n",
       "  <th>Df Residuals:</th>          <td>    22</td>      <th>  BIC:               </th> <td>   211.9</td>\n",
       "</tr>\n",
       "<tr>\n",
       "  <th>Df Model:</th>              <td>     2</td>      <th>                     </th>     <td> </td>   \n",
       "</tr>\n",
       "<tr>\n",
       "  <th>Covariance Type:</th>      <td>nonrobust</td>    <th>                     </th>     <td> </td>   \n",
       "</tr>\n",
       "</table>\n",
       "<table class=\"simpletable\">\n",
       "<tr>\n",
       "      <td></td>         <th>coef</th>     <th>std err</th>      <th>t</th>      <th>P>|t|</th>  <th>[0.025</th>    <th>0.975]</th>  \n",
       "</tr>\n",
       "<tr>\n",
       "  <th>Intercept</th> <td>   -8.3209</td> <td>   51.790</td> <td>   -0.161</td> <td> 0.874</td> <td> -115.727</td> <td>   99.085</td>\n",
       "</tr>\n",
       "<tr>\n",
       "  <th>Age</th>       <td>    0.2948</td> <td>    0.443</td> <td>    0.666</td> <td> 0.513</td> <td>   -0.624</td> <td>    1.213</td>\n",
       "</tr>\n",
       "<tr>\n",
       "  <th>Height</th>    <td>    1.2192</td> <td>    0.699</td> <td>    1.745</td> <td> 0.095</td> <td>   -0.230</td> <td>    2.668</td>\n",
       "</tr>\n",
       "</table>\n",
       "<table class=\"simpletable\">\n",
       "<tr>\n",
       "  <th>Omnibus:</th>       <td> 2.281</td> <th>  Durbin-Watson:     </th> <td>   1.901</td>\n",
       "</tr>\n",
       "<tr>\n",
       "  <th>Prob(Omnibus):</th> <td> 0.320</td> <th>  Jarque-Bera (JB):  </th> <td>   1.304</td>\n",
       "</tr>\n",
       "<tr>\n",
       "  <th>Skew:</th>          <td> 0.234</td> <th>  Prob(JB):          </th> <td>   0.521</td>\n",
       "</tr>\n",
       "<tr>\n",
       "  <th>Kurtosis:</th>      <td> 1.984</td> <th>  Cond. No.          </th> <td>1.29e+03</td>\n",
       "</tr>\n",
       "</table><br/><br/>Notes:<br/>[1] Standard Errors assume that the covariance matrix of the errors is correctly specified.<br/>[2] The condition number is large, 1.29e+03. This might indicate that there are<br/>strong multicollinearity or other numerical problems."
      ],
      "text/latex": [
       "\\begin{center}\n",
       "\\begin{tabular}{lclc}\n",
       "\\toprule\n",
       "\\textbf{Dep. Variable:}    &    CWDistance    & \\textbf{  R-squared:         } &     0.124   \\\\\n",
       "\\textbf{Model:}            &       OLS        & \\textbf{  Adj. R-squared:    } &     0.044   \\\\\n",
       "\\textbf{Method:}           &  Least Squares   & \\textbf{  F-statistic:       } &     1.555   \\\\\n",
       "\\textbf{Date:}             & Sat, 18 Nov 2023 & \\textbf{  Prob (F-statistic):} &    0.233    \\\\\n",
       "\\textbf{Time:}             &     16:28:33     & \\textbf{  Log-Likelihood:    } &   -101.11   \\\\\n",
       "\\textbf{No. Observations:} &          25      & \\textbf{  AIC:               } &     208.2   \\\\\n",
       "\\textbf{Df Residuals:}     &          22      & \\textbf{  BIC:               } &     211.9   \\\\\n",
       "\\textbf{Df Model:}         &           2      & \\textbf{                     } &             \\\\\n",
       "\\textbf{Covariance Type:}  &    nonrobust     & \\textbf{                     } &             \\\\\n",
       "\\bottomrule\n",
       "\\end{tabular}\n",
       "\\begin{tabular}{lcccccc}\n",
       "                   & \\textbf{coef} & \\textbf{std err} & \\textbf{t} & \\textbf{P$> |$t$|$} & \\textbf{[0.025} & \\textbf{0.975]}  \\\\\n",
       "\\midrule\n",
       "\\textbf{Intercept} &      -8.3209  &       51.790     &    -0.161  &         0.874        &     -115.727    &       99.085     \\\\\n",
       "\\textbf{Age}       &       0.2948  &        0.443     &     0.666  &         0.513        &       -0.624    &        1.213     \\\\\n",
       "\\textbf{Height}    &       1.2192  &        0.699     &     1.745  &         0.095        &       -0.230    &        2.668     \\\\\n",
       "\\bottomrule\n",
       "\\end{tabular}\n",
       "\\begin{tabular}{lclc}\n",
       "\\textbf{Omnibus:}       &  2.281 & \\textbf{  Durbin-Watson:     } &    1.901  \\\\\n",
       "\\textbf{Prob(Omnibus):} &  0.320 & \\textbf{  Jarque-Bera (JB):  } &    1.304  \\\\\n",
       "\\textbf{Skew:}          &  0.234 & \\textbf{  Prob(JB):          } &    0.521  \\\\\n",
       "\\textbf{Kurtosis:}      &  1.984 & \\textbf{  Cond. No.          } & 1.29e+03  \\\\\n",
       "\\bottomrule\n",
       "\\end{tabular}\n",
       "%\\caption{OLS Regression Results}\n",
       "\\end{center}\n",
       "\n",
       "Notes: \\newline\n",
       " [1] Standard Errors assume that the covariance matrix of the errors is correctly specified. \\newline\n",
       " [2] The condition number is large, 1.29e+03. This might indicate that there are \\newline\n",
       " strong multicollinearity or other numerical problems."
      ],
      "text/plain": [
       "<class 'statsmodels.iolib.summary.Summary'>\n",
       "\"\"\"\n",
       "                            OLS Regression Results                            \n",
       "==============================================================================\n",
       "Dep. Variable:             CWDistance   R-squared:                       0.124\n",
       "Model:                            OLS   Adj. R-squared:                  0.044\n",
       "Method:                 Least Squares   F-statistic:                     1.555\n",
       "Date:                Sat, 18 Nov 2023   Prob (F-statistic):              0.233\n",
       "Time:                        16:28:33   Log-Likelihood:                -101.11\n",
       "No. Observations:                  25   AIC:                             208.2\n",
       "Df Residuals:                      22   BIC:                             211.9\n",
       "Df Model:                           2                                         \n",
       "Covariance Type:            nonrobust                                         \n",
       "==============================================================================\n",
       "                 coef    std err          t      P>|t|      [0.025      0.975]\n",
       "------------------------------------------------------------------------------\n",
       "Intercept     -8.3209     51.790     -0.161      0.874    -115.727      99.085\n",
       "Age            0.2948      0.443      0.666      0.513      -0.624       1.213\n",
       "Height         1.2192      0.699      1.745      0.095      -0.230       2.668\n",
       "==============================================================================\n",
       "Omnibus:                        2.281   Durbin-Watson:                   1.901\n",
       "Prob(Omnibus):                  0.320   Jarque-Bera (JB):                1.304\n",
       "Skew:                           0.234   Prob(JB):                        0.521\n",
       "Kurtosis:                       1.984   Cond. No.                     1.29e+03\n",
       "==============================================================================\n",
       "\n",
       "Notes:\n",
       "[1] Standard Errors assume that the covariance matrix of the errors is correctly specified.\n",
       "[2] The condition number is large, 1.29e+03. This might indicate that there are\n",
       "strong multicollinearity or other numerical problems.\n",
       "\"\"\""
      ]
     },
     "execution_count": 37,
     "metadata": {},
     "output_type": "execute_result"
    }
   ],
   "source": [
    "model = smf.ols(formula='CWDistance ~ Age + Height', data=cwd)\n",
    "regression = model.fit()\n",
    "regression_summary = regression.summary()\n",
    "regression_summary"
   ]
  },
  {
   "cell_type": "markdown",
   "id": "3f104bc3",
   "metadata": {
    "id": "3f104bc3"
   },
   "source": [
    "Problem 7: GEE Analysis with sm.GEE.from_formula() (0.2p)\n",
    "-Perform a GEE analysis to predict 'BMXBMI' based on 'BPXSY1' and 'RIDAGEYR'\n",
    "-Set up GEE model\n",
    "-Fit the GEE model\n",
    "-Print the GEE results summary"
   ]
  },
  {
   "cell_type": "code",
   "execution_count": 39,
   "id": "74a84e1d",
   "metadata": {
    "id": "74a84e1d"
   },
   "outputs": [
    {
     "data": {
      "text/html": [
       "<table class=\"simpletable\">\n",
       "<caption>GEE Regression Results</caption>\n",
       "<tr>\n",
       "  <th>Dep. Variable:</th>               <td>BMXBMI</td>        <th>  No. Observations:  </th>   <td>5347</td>  \n",
       "</tr>\n",
       "<tr>\n",
       "  <th>Model:</th>                         <td>GEE</td>         <th>  No. clusters:      </th>   <td>5347</td>  \n",
       "</tr>\n",
       "<tr>\n",
       "  <th>Method:</th>                    <td>Generalized</td>     <th>  Min. cluster size: </th>     <td>1</td>   \n",
       "</tr>\n",
       "<tr>\n",
       "  <th></th>                      <td>Estimating Equations</td> <th>  Max. cluster size: </th>     <td>1</td>   \n",
       "</tr>\n",
       "<tr>\n",
       "  <th>Family:</th>                     <td>Gaussian</td>       <th>  Mean cluster size: </th>    <td>1.0</td>  \n",
       "</tr>\n",
       "<tr>\n",
       "  <th>Dependence structure:</th>     <td>Independence</td>     <th>  Num. iterations:   </th>     <td>1</td>   \n",
       "</tr>\n",
       "<tr>\n",
       "  <th>Date:</th>                   <td>Sat, 18 Nov 2023</td>   <th>  Scale:             </th>  <td>48.157</td> \n",
       "</tr>\n",
       "<tr>\n",
       "  <th>Covariance type: </th>            <td>robust</td>        <th>  Time:              </th> <td>16:29:05</td>\n",
       "</tr>\n",
       "</table>\n",
       "<table class=\"simpletable\">\n",
       "<tr>\n",
       "      <td></td>         <th>coef</th>     <th>std err</th>      <th>z</th>      <th>P>|z|</th>  <th>[0.025</th>    <th>0.975]</th>  \n",
       "</tr>\n",
       "<tr>\n",
       "  <th>Intercept</th> <td>   22.8780</td> <td>    0.655</td> <td>   34.912</td> <td> 0.000</td> <td>   21.594</td> <td>   24.162</td>\n",
       "</tr>\n",
       "<tr>\n",
       "  <th>BPXSY1</th>    <td>    0.0531</td> <td>    0.006</td> <td>    8.737</td> <td> 0.000</td> <td>    0.041</td> <td>    0.065</td>\n",
       "</tr>\n",
       "<tr>\n",
       "  <th>RIDAGEYR</th>  <td>   -0.0033</td> <td>    0.006</td> <td>   -0.573</td> <td> 0.567</td> <td>   -0.015</td> <td>    0.008</td>\n",
       "</tr>\n",
       "</table>\n",
       "<table class=\"simpletable\">\n",
       "<tr>\n",
       "  <th>Skew:</th>          <td>      1.0817</td> <th>  Kurtosis:          </th> <td>      1.8953</td>\n",
       "</tr>\n",
       "<tr>\n",
       "  <th>Centered skew:</th> <td>         nan</td> <th>  Centered kurtosis: </th> <td>         nan</td>\n",
       "</tr>\n",
       "</table>"
      ],
      "text/latex": [
       "\\begin{center}\n",
       "\\begin{tabular}{lclc}\n",
       "\\toprule\n",
       "\\textbf{Dep. Variable:}        &        BMXBMI        & \\textbf{  No. Observations:  } &     5347      \\\\\n",
       "\\textbf{Model:}                &         GEE          & \\textbf{  No. clusters:      } &     5347      \\\\\n",
       "\\textbf{Method:}               &     Generalized      & \\textbf{  Min. cluster size: } &      1        \\\\\n",
       "\\textbf{}                      & Estimating Equations & \\textbf{  Max. cluster size: } &      1        \\\\\n",
       "\\textbf{Family:}               &       Gaussian       & \\textbf{  Mean cluster size: } &     1.0       \\\\\n",
       "\\textbf{Dependence structure:} &     Independence     & \\textbf{  Num. iterations:   } &      1        \\\\\n",
       "\\textbf{Date:}                 &   Sat, 18 Nov 2023   & \\textbf{  Scale:             } &    48.157     \\\\\n",
       "\\textbf{Covariance type: }     &        robust        & \\textbf{  Time:              } &   16:29:05    \\\\\n",
       "\\bottomrule\n",
       "\\end{tabular}\n",
       "\\begin{tabular}{lcccccc}\n",
       "                   & \\textbf{coef} & \\textbf{std err} & \\textbf{z} & \\textbf{P$> |$z$|$} & \\textbf{[0.025} & \\textbf{0.975]}  \\\\\n",
       "\\midrule\n",
       "\\textbf{Intercept} &      22.8780  &        0.655     &    34.912  &         0.000        &       21.594    &       24.162     \\\\\n",
       "\\textbf{BPXSY1}    &       0.0531  &        0.006     &     8.737  &         0.000        &        0.041    &        0.065     \\\\\n",
       "\\textbf{RIDAGEYR}  &      -0.0033  &        0.006     &    -0.573  &         0.567        &       -0.015    &        0.008     \\\\\n",
       "\\bottomrule\n",
       "\\end{tabular}\n",
       "\\begin{tabular}{lclc}\n",
       "\\textbf{Skew:}          &       1.0817 & \\textbf{  Kurtosis:          } &       1.8953  \\\\\n",
       "\\textbf{Centered skew:} &          nan & \\textbf{  Centered kurtosis: } &          nan  \\\\\n",
       "\\bottomrule\n",
       "\\end{tabular}\n",
       "%\\caption{GEE Regression Results}\n",
       "\\end{center}"
      ],
      "text/plain": [
       "<class 'statsmodels.iolib.summary.Summary'>\n",
       "\"\"\"\n",
       "                               GEE Regression Results                              \n",
       "===================================================================================\n",
       "Dep. Variable:                      BMXBMI   No. Observations:                 5347\n",
       "Model:                                 GEE   No. clusters:                     5347\n",
       "Method:                        Generalized   Min. cluster size:                   1\n",
       "                      Estimating Equations   Max. cluster size:                   1\n",
       "Family:                           Gaussian   Mean cluster size:                 1.0\n",
       "Dependence structure:         Independence   Num. iterations:                     1\n",
       "Date:                     Sat, 18 Nov 2023   Scale:                          48.157\n",
       "Covariance type:                    robust   Time:                         16:29:05\n",
       "==============================================================================\n",
       "                 coef    std err          z      P>|z|      [0.025      0.975]\n",
       "------------------------------------------------------------------------------\n",
       "Intercept     22.8780      0.655     34.912      0.000      21.594      24.162\n",
       "BPXSY1         0.0531      0.006      8.737      0.000       0.041       0.065\n",
       "RIDAGEYR      -0.0033      0.006     -0.573      0.567      -0.015       0.008\n",
       "==============================================================================\n",
       "Skew:                          1.0817   Kurtosis:                       1.8953\n",
       "Centered skew:                    nan   Centered kurtosis:                 nan\n",
       "==============================================================================\n",
       "\"\"\""
      ]
     },
     "execution_count": 39,
     "metadata": {},
     "output_type": "execute_result"
    }
   ],
   "source": [
    "model_gee = smf.gee(formula='BMXBMI ~ BPXSY1 + RIDAGEYR', data=nhanes, groups=nhanes['SEQN'])\n",
    "model_gee_results = model_gee.fit()\n",
    "gee_summary = model_gee_results.summary()\n",
    "gee_summary "
   ]
  }
 ],
 "metadata": {
  "colab": {
   "provenance": []
  },
  "kernelspec": {
   "display_name": "Python 3 (ipykernel)",
   "language": "python",
   "name": "python3"
  },
  "language_info": {
   "codemirror_mode": {
    "name": "ipython",
    "version": 3
   },
   "file_extension": ".py",
   "mimetype": "text/x-python",
   "name": "python",
   "nbconvert_exporter": "python",
   "pygments_lexer": "ipython3",
   "version": "3.11.4"
  }
 },
 "nbformat": 4,
 "nbformat_minor": 5
}
