{
 "cells": [
  {
   "cell_type": "markdown",
   "id": "76ab51c1",
   "metadata": {
    "id": "76ab51c1"
   },
   "source": [
    "# Home Work 11"
   ]
  },
  {
   "cell_type": "markdown",
   "id": "f8de52f0-39f7-49f0-a813-509b2cfacb6e",
   "metadata": {},
   "source": [
    "The Boston Housing Dataset\n",
    "\n",
    "The Boston Housing Dataset is a derived from information collected by the U.S. Census Service concerning housing in the area of Boston MA. The following describes the dataset columns:\n",
    "\n",
    "1. CRIM - per capita crime rate by town\n",
    "2. ZN - proportion of residential land zoned for lots over 25,000 sq.ft.\n",
    "3. INDUS - proportion of non-retail business acres per town.\n",
    "4. CHAS - Charles River dummy variable (1 if tract bounds river; 0 otherwise)\n",
    "5. NOX - nitric oxides concentration (parts per 10 million)\n",
    "6. RM - average number of rooms per dwelling\n",
    "7. AGE - proportion of owner-occupied units built prior to 1940\n",
    "8. DIS - weighted distances to five Boston employment centres\n",
    "9. RAD - index of accessibility to radial highways\n",
    "10. TAX - full-value property-tax rate per 10,000 dollar\n",
    "11. PTRATIO - pupil-teacher ratio by town\n",
    "12. B - 1000(Bk - 0.63)^2 where Bk is the proportion of blacks by town\n",
    "13. LSTAT - % lower status of the population\n",
    "14. MEDV - Median value of owner-occupied homes in $1000's"
   ]
  },
  {
   "cell_type": "markdown",
   "id": "cf627273",
   "metadata": {
    "id": "cf627273"
   },
   "source": [
    "Read Datasets BostonHousing and import libraries (0.1p)"
   ]
  },
  {
   "cell_type": "code",
   "execution_count": 8,
   "id": "5c3c6610",
   "metadata": {
    "id": "5c3c6610"
   },
   "outputs": [
    {
     "data": {
      "text/html": [
       "<div>\n",
       "<style scoped>\n",
       "    .dataframe tbody tr th:only-of-type {\n",
       "        vertical-align: middle;\n",
       "    }\n",
       "\n",
       "    .dataframe tbody tr th {\n",
       "        vertical-align: top;\n",
       "    }\n",
       "\n",
       "    .dataframe thead th {\n",
       "        text-align: right;\n",
       "    }\n",
       "</style>\n",
       "<table border=\"1\" class=\"dataframe\">\n",
       "  <thead>\n",
       "    <tr style=\"text-align: right;\">\n",
       "      <th></th>\n",
       "      <th>crim</th>\n",
       "      <th>zn</th>\n",
       "      <th>indus</th>\n",
       "      <th>chas</th>\n",
       "      <th>nox</th>\n",
       "      <th>rm</th>\n",
       "      <th>age</th>\n",
       "      <th>dis</th>\n",
       "      <th>rad</th>\n",
       "      <th>tax</th>\n",
       "      <th>ptratio</th>\n",
       "      <th>b</th>\n",
       "      <th>lstat</th>\n",
       "      <th>medv</th>\n",
       "    </tr>\n",
       "  </thead>\n",
       "  <tbody>\n",
       "    <tr>\n",
       "      <th>0</th>\n",
       "      <td>0.00632</td>\n",
       "      <td>18.0</td>\n",
       "      <td>2.31</td>\n",
       "      <td>0</td>\n",
       "      <td>0.538</td>\n",
       "      <td>6.575</td>\n",
       "      <td>65.2</td>\n",
       "      <td>4.0900</td>\n",
       "      <td>1</td>\n",
       "      <td>296</td>\n",
       "      <td>15.3</td>\n",
       "      <td>396.90</td>\n",
       "      <td>4.98</td>\n",
       "      <td>24.0</td>\n",
       "    </tr>\n",
       "    <tr>\n",
       "      <th>1</th>\n",
       "      <td>0.02731</td>\n",
       "      <td>0.0</td>\n",
       "      <td>7.07</td>\n",
       "      <td>0</td>\n",
       "      <td>0.469</td>\n",
       "      <td>6.421</td>\n",
       "      <td>78.9</td>\n",
       "      <td>4.9671</td>\n",
       "      <td>2</td>\n",
       "      <td>242</td>\n",
       "      <td>17.8</td>\n",
       "      <td>396.90</td>\n",
       "      <td>9.14</td>\n",
       "      <td>21.6</td>\n",
       "    </tr>\n",
       "    <tr>\n",
       "      <th>2</th>\n",
       "      <td>0.02729</td>\n",
       "      <td>0.0</td>\n",
       "      <td>7.07</td>\n",
       "      <td>0</td>\n",
       "      <td>0.469</td>\n",
       "      <td>7.185</td>\n",
       "      <td>61.1</td>\n",
       "      <td>4.9671</td>\n",
       "      <td>2</td>\n",
       "      <td>242</td>\n",
       "      <td>17.8</td>\n",
       "      <td>392.83</td>\n",
       "      <td>4.03</td>\n",
       "      <td>34.7</td>\n",
       "    </tr>\n",
       "    <tr>\n",
       "      <th>3</th>\n",
       "      <td>0.03237</td>\n",
       "      <td>0.0</td>\n",
       "      <td>2.18</td>\n",
       "      <td>0</td>\n",
       "      <td>0.458</td>\n",
       "      <td>6.998</td>\n",
       "      <td>45.8</td>\n",
       "      <td>6.0622</td>\n",
       "      <td>3</td>\n",
       "      <td>222</td>\n",
       "      <td>18.7</td>\n",
       "      <td>394.63</td>\n",
       "      <td>2.94</td>\n",
       "      <td>33.4</td>\n",
       "    </tr>\n",
       "    <tr>\n",
       "      <th>4</th>\n",
       "      <td>0.06905</td>\n",
       "      <td>0.0</td>\n",
       "      <td>2.18</td>\n",
       "      <td>0</td>\n",
       "      <td>0.458</td>\n",
       "      <td>7.147</td>\n",
       "      <td>54.2</td>\n",
       "      <td>6.0622</td>\n",
       "      <td>3</td>\n",
       "      <td>222</td>\n",
       "      <td>18.7</td>\n",
       "      <td>396.90</td>\n",
       "      <td>5.33</td>\n",
       "      <td>36.2</td>\n",
       "    </tr>\n",
       "    <tr>\n",
       "      <th>...</th>\n",
       "      <td>...</td>\n",
       "      <td>...</td>\n",
       "      <td>...</td>\n",
       "      <td>...</td>\n",
       "      <td>...</td>\n",
       "      <td>...</td>\n",
       "      <td>...</td>\n",
       "      <td>...</td>\n",
       "      <td>...</td>\n",
       "      <td>...</td>\n",
       "      <td>...</td>\n",
       "      <td>...</td>\n",
       "      <td>...</td>\n",
       "      <td>...</td>\n",
       "    </tr>\n",
       "    <tr>\n",
       "      <th>501</th>\n",
       "      <td>0.06263</td>\n",
       "      <td>0.0</td>\n",
       "      <td>11.93</td>\n",
       "      <td>0</td>\n",
       "      <td>0.573</td>\n",
       "      <td>6.593</td>\n",
       "      <td>69.1</td>\n",
       "      <td>2.4786</td>\n",
       "      <td>1</td>\n",
       "      <td>273</td>\n",
       "      <td>21.0</td>\n",
       "      <td>391.99</td>\n",
       "      <td>9.67</td>\n",
       "      <td>22.4</td>\n",
       "    </tr>\n",
       "    <tr>\n",
       "      <th>502</th>\n",
       "      <td>0.04527</td>\n",
       "      <td>0.0</td>\n",
       "      <td>11.93</td>\n",
       "      <td>0</td>\n",
       "      <td>0.573</td>\n",
       "      <td>6.120</td>\n",
       "      <td>76.7</td>\n",
       "      <td>2.2875</td>\n",
       "      <td>1</td>\n",
       "      <td>273</td>\n",
       "      <td>21.0</td>\n",
       "      <td>396.90</td>\n",
       "      <td>9.08</td>\n",
       "      <td>20.6</td>\n",
       "    </tr>\n",
       "    <tr>\n",
       "      <th>503</th>\n",
       "      <td>0.06076</td>\n",
       "      <td>0.0</td>\n",
       "      <td>11.93</td>\n",
       "      <td>0</td>\n",
       "      <td>0.573</td>\n",
       "      <td>6.976</td>\n",
       "      <td>91.0</td>\n",
       "      <td>2.1675</td>\n",
       "      <td>1</td>\n",
       "      <td>273</td>\n",
       "      <td>21.0</td>\n",
       "      <td>396.90</td>\n",
       "      <td>5.64</td>\n",
       "      <td>23.9</td>\n",
       "    </tr>\n",
       "    <tr>\n",
       "      <th>504</th>\n",
       "      <td>0.10959</td>\n",
       "      <td>0.0</td>\n",
       "      <td>11.93</td>\n",
       "      <td>0</td>\n",
       "      <td>0.573</td>\n",
       "      <td>6.794</td>\n",
       "      <td>89.3</td>\n",
       "      <td>2.3889</td>\n",
       "      <td>1</td>\n",
       "      <td>273</td>\n",
       "      <td>21.0</td>\n",
       "      <td>393.45</td>\n",
       "      <td>6.48</td>\n",
       "      <td>22.0</td>\n",
       "    </tr>\n",
       "    <tr>\n",
       "      <th>505</th>\n",
       "      <td>0.04741</td>\n",
       "      <td>0.0</td>\n",
       "      <td>11.93</td>\n",
       "      <td>0</td>\n",
       "      <td>0.573</td>\n",
       "      <td>6.030</td>\n",
       "      <td>80.8</td>\n",
       "      <td>2.5050</td>\n",
       "      <td>1</td>\n",
       "      <td>273</td>\n",
       "      <td>21.0</td>\n",
       "      <td>396.90</td>\n",
       "      <td>7.88</td>\n",
       "      <td>11.9</td>\n",
       "    </tr>\n",
       "  </tbody>\n",
       "</table>\n",
       "<p>506 rows × 14 columns</p>\n",
       "</div>"
      ],
      "text/plain": [
       "        crim    zn  indus  chas    nox     rm   age     dis  rad  tax  \\\n",
       "0    0.00632  18.0   2.31     0  0.538  6.575  65.2  4.0900    1  296   \n",
       "1    0.02731   0.0   7.07     0  0.469  6.421  78.9  4.9671    2  242   \n",
       "2    0.02729   0.0   7.07     0  0.469  7.185  61.1  4.9671    2  242   \n",
       "3    0.03237   0.0   2.18     0  0.458  6.998  45.8  6.0622    3  222   \n",
       "4    0.06905   0.0   2.18     0  0.458  7.147  54.2  6.0622    3  222   \n",
       "..       ...   ...    ...   ...    ...    ...   ...     ...  ...  ...   \n",
       "501  0.06263   0.0  11.93     0  0.573  6.593  69.1  2.4786    1  273   \n",
       "502  0.04527   0.0  11.93     0  0.573  6.120  76.7  2.2875    1  273   \n",
       "503  0.06076   0.0  11.93     0  0.573  6.976  91.0  2.1675    1  273   \n",
       "504  0.10959   0.0  11.93     0  0.573  6.794  89.3  2.3889    1  273   \n",
       "505  0.04741   0.0  11.93     0  0.573  6.030  80.8  2.5050    1  273   \n",
       "\n",
       "     ptratio       b  lstat  medv  \n",
       "0       15.3  396.90   4.98  24.0  \n",
       "1       17.8  396.90   9.14  21.6  \n",
       "2       17.8  392.83   4.03  34.7  \n",
       "3       18.7  394.63   2.94  33.4  \n",
       "4       18.7  396.90   5.33  36.2  \n",
       "..       ...     ...    ...   ...  \n",
       "501     21.0  391.99   9.67  22.4  \n",
       "502     21.0  396.90   9.08  20.6  \n",
       "503     21.0  396.90   5.64  23.9  \n",
       "504     21.0  393.45   6.48  22.0  \n",
       "505     21.0  396.90   7.88  11.9  \n",
       "\n",
       "[506 rows x 14 columns]"
      ]
     },
     "execution_count": 8,
     "metadata": {},
     "output_type": "execute_result"
    }
   ],
   "source": [
    "import pandas as pd\n",
    "import statsmodels.api as sm\n",
    "from statsmodels.stats.proportion import proportion_confint\n",
    "from statsmodels.stats.weightstats import ztest\n",
    "\n",
    "boston_df = pd.read_csv('BostonHousing.csv') \n",
    "boston_df"
   ]
  },
  {
   "cell_type": "markdown",
   "id": "78f9b444",
   "metadata": {
    "id": "78f9b444"
   },
   "source": [
    "Problem 1: Descriptive Statistics (0.2p)\n",
    "Compute the mean, median, standard deviation, minimum, and maximum values for the \"AGE\" column in the Boston Housing Dataset."
   ]
  },
  {
   "cell_type": "code",
   "execution_count": 9,
   "id": "fa738ef9",
   "metadata": {
    "id": "fa738ef9"
   },
   "outputs": [
    {
     "name": "stdout",
     "output_type": "stream",
     "text": [
      "Mean AGE: 68.57490118577076\n",
      "Median AGE: 77.5\n",
      "Standard Deviation AGE: 28.148861406903638\n",
      "Minimum AGE: 2.9\n",
      "Maximum AGE: 100.0\n"
     ]
    }
   ],
   "source": [
    "mean_age = boston_df['age'].mean()\n",
    "median_age = boston_df['age'].median()\n",
    "std_dev_age = boston_df['age'].std()\n",
    "min_age = boston_df['age'].min()\n",
    "max_age = boston_df['age'].max()\n",
    "\n",
    "print(f\"Mean AGE: {mean_age}\")\n",
    "print(f\"Median AGE: {median_age}\")\n",
    "print(f\"Standard Deviation AGE: {std_dev_age}\")\n",
    "print(f\"Minimum AGE: {min_age}\")\n",
    "print(f\"Maximum AGE: {max_age}\")"
   ]
  },
  {
   "cell_type": "markdown",
   "id": "4297cf94",
   "metadata": {
    "id": "4297cf94"
   },
   "source": [
    "Problem 2: Confidence Interval for Proportion (0.2p)\n",
    "Calculate a 95% confidence interval for the proportion of residential land zoned for lots over 25,000 sq.ft. (column 'ZN')."
   ]
  },
  {
   "cell_type": "code",
   "execution_count": 10,
   "id": "1afbf46f",
   "metadata": {
    "id": "1afbf46f"
   },
   "outputs": [
    {
     "name": "stdout",
     "output_type": "stream",
     "text": [
      "Confidence Interval for ZN: (0.12087737320071373, 0.1834704528862428)\n"
     ]
    }
   ],
   "source": [
    "ci_zn = proportion_confint(sum(boston_df['zn'] > 25) , len(boston_df['zn']), alpha=0.05)\n",
    "print(f\"Confidence Interval for ZN: {ci_zn}\")"
   ]
  },
  {
   "cell_type": "markdown",
   "id": "92bc0378",
   "metadata": {
    "id": "92bc0378"
   },
   "source": [
    "Problem 3: Z-Test for Mean (0.2p)\n",
    "Perform a Z-test to determine if there is a significant difference in the average number of rooms per dwelling ('RM') between two randomly selected towns."
   ]
  },
  {
   "cell_type": "code",
   "execution_count": 11,
   "id": "b3dbfb55",
   "metadata": {
    "id": "b3dbfb55"
   },
   "outputs": [
    {
     "name": "stdout",
     "output_type": "stream",
     "text": [
      "Z-statistic for RM: -0.1355493555604788\n",
      "P-value for RM: 0.8921775442074631\n"
     ]
    }
   ],
   "source": [
    "town_sample_1 = boston_df['rm'].sample(n=30, random_state=1)\n",
    "town_sample_2 = boston_df['rm'].sample(n=30, random_state=2)\n",
    "z_stat_rm, p_value_rm = ztest(town_sample_1, town_sample_2)\n",
    "print(f\"Z-statistic for RM: {z_stat_rm}\")\n",
    "print(f\"P-value for RM: {p_value_rm}\")"
   ]
  },
  {
   "cell_type": "markdown",
   "id": "5c821e32",
   "metadata": {
    "id": "5c821e32"
   },
   "source": [
    "Problem 4: Z-Test for Proportion (0.2p)\n",
    "Conduct a Z-test to assess if the proportion of owner-occupied units built prior to 90 ('AGE') is significantly different from 0.5."
   ]
  },
  {
   "cell_type": "code",
   "execution_count": 22,
   "id": "58517d0b",
   "metadata": {
    "id": "58517d0b"
   },
   "outputs": [
    {
     "name": "stdout",
     "output_type": "stream",
     "text": [
      "Z-statistic for AGE: 7.811946338924822\n",
      "P-value for AGE: 5.631153655947907e-15\n"
     ]
    }
   ],
   "source": [
    "from statsmodels.stats.proportion import proportions_ztest\n",
    "\n",
    "count_age_below_90 = (boston_df['age'] < 90).sum()\n",
    "nobs_age = len(boston_df['age'])\n",
    "z_stat_age, p_value_age = proportions_ztest(count_age_below_90, nobs_age, value=0.5)\n",
    "print(f\"Z-statistic for AGE: {z_stat_age}\")\n",
    "print(f\"P-value for AGE: {p_value_age}\")"
   ]
  },
  {
   "cell_type": "markdown",
   "id": "ddbdab53",
   "metadata": {
    "id": "ddbdab53"
   },
   "source": [
    "Problem 5. Confidence interval for the population mean (0.2p)\n",
    "Calculate a 90% confidence interval for the average nitric oxides concentration ('NOX')."
   ]
  },
  {
   "cell_type": "code",
   "execution_count": 23,
   "id": "aa8f69ad",
   "metadata": {
    "id": "aa8f69ad"
   },
   "outputs": [
    {
     "name": "stdout",
     "output_type": "stream",
     "text": [
      "Confidence Interval for NOX: (0.5462062027268326, 0.5631839158502425)\n"
     ]
    }
   ],
   "source": [
    "ci_nox = sm.stats.DescrStatsW(boston_df['nox']).tconfint_mean(alpha=0.1)\n",
    "print(f\"Confidence Interval for NOX: {ci_nox}\")"
   ]
  },
  {
   "cell_type": "markdown",
   "id": "78cbef69",
   "metadata": {
    "id": "78cbef69"
   },
   "source": [
    "Problem 6: Linear Regression with sm.OLS.from_formula() (0.2p)\n",
    "Perform a linear regression using the formula \"MEDV ~ RM + AGE\" and provide the summary."
   ]
  },
  {
   "cell_type": "code",
   "execution_count": 26,
   "id": "234cc47c",
   "metadata": {
    "id": "234cc47c"
   },
   "outputs": [
    {
     "name": "stdout",
     "output_type": "stream",
     "text": [
      "                            OLS Regression Results                            \n",
      "==============================================================================\n",
      "Dep. Variable:                   medv   R-squared:                       0.530\n",
      "Model:                            OLS   Adj. R-squared:                  0.528\n",
      "Method:                 Least Squares   F-statistic:                     283.9\n",
      "Date:                Sat, 25 Nov 2023   Prob (F-statistic):           2.94e-83\n",
      "Time:                        11:28:24   Log-Likelihood:                -1649.1\n",
      "No. Observations:                 506   AIC:                             3304.\n",
      "Df Residuals:                     503   BIC:                             3317.\n",
      "Df Model:                           2                                         \n",
      "Covariance Type:            nonrobust                                         \n",
      "==============================================================================\n",
      "                 coef    std err          t      P>|t|      [0.025      0.975]\n",
      "------------------------------------------------------------------------------\n",
      "Intercept    -25.2774      2.857     -8.848      0.000     -30.890     -19.665\n",
      "rm             8.4016      0.412     20.388      0.000       7.592       9.211\n",
      "age           -0.0728      0.010     -7.075      0.000      -0.093      -0.053\n",
      "==============================================================================\n",
      "Omnibus:                      188.812   Durbin-Watson:                   0.670\n",
      "Prob(Omnibus):                  0.000   Jarque-Bera (JB):             1329.331\n",
      "Skew:                           1.449   Prob(JB):                    2.18e-289\n",
      "Kurtosis:                      10.393   Cond. No.                         764.\n",
      "==============================================================================\n",
      "\n",
      "Notes:\n",
      "[1] Standard Errors assume that the covariance matrix of the errors is correctly specified.\n"
     ]
    }
   ],
   "source": [
    "model_ols = sm.OLS.from_formula('medv ~ rm + age', data=boston_df)\n",
    "result_ols = model_ols.fit()\n",
    "summary_ols = result_ols.summary()\n",
    "print(summary_ols)\n"
   ]
  },
  {
   "cell_type": "markdown",
   "id": "3f104bc3",
   "metadata": {
    "id": "3f104bc3"
   },
   "source": [
    "Problem 7: GEE Analysis with sm.GEE.from_formula() (0.2p)\n",
    "Conduct a Generalized Estimating Equation (GEE) analysis using the formula \"MEDV ~ RM + AGE\" and provide the summary."
   ]
  },
  {
   "cell_type": "code",
   "execution_count": 27,
   "id": "74a84e1d",
   "metadata": {
    "id": "74a84e1d"
   },
   "outputs": [
    {
     "name": "stdout",
     "output_type": "stream",
     "text": [
      "                               GEE Regression Results                              \n",
      "===================================================================================\n",
      "Dep. Variable:                        medv   No. Observations:                  506\n",
      "Model:                                 GEE   No. clusters:                      506\n",
      "Method:                        Generalized   Min. cluster size:                   1\n",
      "                      Estimating Equations   Max. cluster size:                   1\n",
      "Family:                           Gaussian   Mean cluster size:                 1.0\n",
      "Dependence structure:         Independence   Num. iterations:                     1\n",
      "Date:                     Sat, 25 Nov 2023   Scale:                          39.890\n",
      "Covariance type:                    robust   Time:                         11:28:33\n",
      "==============================================================================\n",
      "                 coef    std err          z      P>|z|      [0.025      0.975]\n",
      "------------------------------------------------------------------------------\n",
      "Intercept    -25.2774      4.570     -5.531      0.000     -34.234     -16.321\n",
      "rm             8.4016      0.691     12.154      0.000       7.047       9.756\n",
      "age           -0.0728      0.010     -7.281      0.000      -0.092      -0.053\n",
      "==============================================================================\n",
      "Skew:                          1.4489   Kurtosis:                       7.3928\n",
      "Centered skew:                    nan   Centered kurtosis:                 nan\n",
      "==============================================================================\n"
     ]
    }
   ],
   "source": [
    "model_gee = sm.GEE.from_formula('medv ~ rm + age', groups=boston_df.index, data=boston_df)\n",
    "result_gee = model_gee.fit()\n",
    "summary_gee = result_gee.summary()\n",
    "print(summary_gee)\n"
   ]
  }
 ],
 "metadata": {
  "colab": {
   "provenance": []
  },
  "kernelspec": {
   "display_name": "Python 3 (ipykernel)",
   "language": "python",
   "name": "python3"
  },
  "language_info": {
   "codemirror_mode": {
    "name": "ipython",
    "version": 3
   },
   "file_extension": ".py",
   "mimetype": "text/x-python",
   "name": "python",
   "nbconvert_exporter": "python",
   "pygments_lexer": "ipython3",
   "version": "3.11.4"
  }
 },
 "nbformat": 4,
 "nbformat_minor": 5
}
