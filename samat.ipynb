{
 "cells": [
  {
   "cell_type": "markdown",
   "metadata": {
    "id": "8W9S3KQ3l2r8"
   },
   "source": [
    "# Practice notebook for regression analysis with dependent data in NHANES\n",
    "\n",
    "This notebook will give you the opportunity to perform some analyses\n",
    "using the regression methods for dependent data that we are focusing\n",
    "on in this week of the course.\n",
    "\n",
    "Enter the code in response to each question in the boxes labeled \"enter your code here\".\n",
    "Then enter your responses to the questions in the boxes labeled \"Type\n",
    "Markdown and Latex\".\n",
    "\n",
    "This notebook is based on the NHANES case study notebook for\n",
    "regression with dependent data.  Most of the code that you will need\n",
    "to write below is very similar to code that appears in the case study\n",
    "notebook.  You will need to edit code from that notebook in small ways\n",
    "to adapt it to the prompts below.\n",
    "\n",
    "To get started, we will use the same module imports and read the data\n",
    "in the same way as we did in the case study:"
   ]
  },
  {
   "cell_type": "code",
   "execution_count": 1,
   "metadata": {
    "colab": {
     "base_uri": "https://localhost:8080/",
     "height": 0
    },
    "executionInfo": {
     "elapsed": 3002,
     "status": "error",
     "timestamp": 1701496565766,
     "user": {
      "displayName": "Zhaniya Medeuova",
      "userId": "12272757727629892604"
     },
     "user_tz": -360
    },
    "id": "Xo72wt47l2sA",
    "outputId": "55a2b99b-cc84-49c0-a181-e35250c56d38"
   },
   "outputs": [],
   "source": [
    "%matplotlib inline\n",
    "import matplotlib.pyplot as plt\n",
    "import seaborn as sns\n",
    "import pandas as pd\n",
    "import statsmodels.api as sm\n",
    "import numpy as np\n",
    "\n",
    "url = \"nhanes_2015_2016.csv\"\n",
    "da = pd.read_csv(url)\n",
    "\n",
    "# Drop unused columns, drop rows with any missing values.\n",
    "vars = [\"BPXSY1\", \"RIDAGEYR\", \"RIAGENDR\", \"RIDRETH1\", \"DMDEDUC2\", \"BMXBMI\",\n",
    "        \"SMQ020\", \"SDMVSTRA\", \"SDMVPSU\"]\n",
    "da = da[vars].dropna()\n",
    "\n",
    "# This is the grouping variable\n",
    "da[\"group\"] = 10*da.SDMVSTRA + da.SDMVPSU"
   ]
  },
  {
   "cell_type": "markdown",
   "metadata": {
    "id": "TdT7YoC8l2sC"
   },
   "source": [
    "## Question 1:\n",
    "\n",
    "Build a marginal linear model using GEE for the first measurement of diastolic blood pressure (`BPXDI1`), accounting for the grouping variable defined above.  This initial model should have no covariates, and will be used to assess the ICC of this blood pressure measure."
   ]
  },
  {
   "cell_type": "code",
   "execution_count": 18,
   "metadata": {
    "id": "kM-yDnO3l2sD"
   },
   "outputs": [
    {
     "name": "stdout",
     "output_type": "stream",
     "text": [
      "                               GEE Regression Results                              \n",
      "===================================================================================\n",
      "Dep. Variable:                      BPXDI1   No. Observations:                 5401\n",
      "Model:                                 GEE   No. clusters:                       30\n",
      "Method:                        Generalized   Min. cluster size:                 111\n",
      "                      Estimating Equations   Max. cluster size:                 234\n",
      "Family:                           Gaussian   Mean cluster size:               180.0\n",
      "Dependence structure:         Independence   Num. iterations:                     2\n",
      "Date:                     Sat, 09 Dec 2023   Scale:                         165.935\n",
      "Covariance type:                    robust   Time:                         17:12:34\n",
      "==============================================================================\n",
      "                 coef    std err          z      P>|z|      [0.025      0.975]\n",
      "------------------------------------------------------------------------------\n",
      "Intercept     69.5164      0.429    162.223      0.000      68.676      70.356\n",
      "==============================================================================\n",
      "Skew:                         -0.6199   Kurtosis:                       3.7057\n",
      "Centered skew:                -0.6056   Centered kurtosis:              3.7343\n",
      "==============================================================================\n"
     ]
    }
   ],
   "source": [
    "# enter your code here\n",
    "\n",
    "import statsmodels.api as sm\n",
    "import statsmodels.genmod.cov_struct as cov_struct\n",
    "da[\"group\"] = 10*da.SDMVSTRA + da.SDMVPSU\n",
    "qw=sm.GEE.from_formula('BPXDI1 ~ 1', groups='group', data=da)\n",
    "qwer=qw.fit()\n",
    "print(qwer.summary())\n"
   ]
  },
  {
   "cell_type": "markdown",
   "metadata": {
    "id": "s5I2QNqWl2sE"
   },
   "source": [
    "__Q1a.__ What is the ICC for diastolic blood pressure?  What can you\n",
    "  conclude by comparing it to the ICC for systolic blood pressure?"
   ]
  },
  {
   "cell_type": "markdown",
   "metadata": {
    "id": "YPOCu0VSl2sE"
   },
   "source": [
    "# Q1a. The ICC for diastolic blood pressure is the scale parameter. Comparing it to systolic blood pressure's ICC can provide insights into the relative strength of the clustering effect.\n"
   ]
  },
  {
   "cell_type": "markdown",
   "metadata": {
    "id": "vIHDh_uXl2sF"
   },
   "source": [
    "## Question 2:\n",
    "\n",
    "Take your model from question 1, and add gender, age, and BMI to it as covariates."
   ]
  },
  {
   "cell_type": "code",
   "execution_count": 15,
   "metadata": {
    "id": "lKevsvPMl2sF"
   },
   "outputs": [
    {
     "name": "stdout",
     "output_type": "stream",
     "text": [
      "                               GEE Regression Results                              \n",
      "===================================================================================\n",
      "Dep. Variable:                      BPXDI1   No. Observations:                 5347\n",
      "Model:                                 GEE   No. clusters:                       30\n",
      "Method:                        Generalized   Min. cluster size:                 110\n",
      "                      Estimating Equations   Max. cluster size:                 230\n",
      "Family:                           Gaussian   Mean cluster size:               178.2\n",
      "Dependence structure:         Independence   Num. iterations:                     2\n",
      "Date:                     Sat, 09 Dec 2023   Scale:                         160.602\n",
      "Covariance type:                    robust   Time:                         16:24:47\n",
      "==============================================================================\n",
      "                 coef    std err          z      P>|z|      [0.025      0.975]\n",
      "------------------------------------------------------------------------------\n",
      "Intercept     68.5439      1.280     53.563      0.000      66.036      71.052\n",
      "RIDAGEYR      -0.0157      0.016     -0.957      0.339      -0.048       0.016\n",
      "RIAGENDR      -2.6780      0.402     -6.656      0.000      -3.467      -1.889\n",
      "BMXBMI         0.1972      0.032      6.148      0.000       0.134       0.260\n",
      "==============================================================================\n",
      "Skew:                         -0.6945   Kurtosis:                       3.8327\n",
      "Centered skew:                -0.6782   Centered kurtosis:              3.8808\n",
      "==============================================================================\n"
     ]
    }
   ],
   "source": [
    "# enter your code here\n",
    "import statsmodels.api as sm \n",
    "import statsmodels.genmod.cov_struct as cov_struct \n",
    "qw=sm.GEE.from_formula('BPXDI1 ~ RIDAGEYR + RIAGENDR + BMXBMI',groups='group',data=da)\n",
    "qwer=qw.fit()\n",
    "print(qwer.summary())\n",
    "\n",
    "\n",
    "# Assuming you have already fitted the GEE model with covariates\n",
    "var_between_groups_covariates = qwer.scale\n",
    "total_variance_covariates = var_between_groups_covariates + qwer.scale\n",
    "\n",
    "# Calculate ICC for the model with covariates\n",
    "icc_covariates = var_between_groups_covariates / total_variance_covariates\n",
    "\n",
    "# Print ICC for the model with covariates\n",
    "print(\"ICC for Model with Covariates:\", icc_covariates)\n",
    "\n"
   ]
  },
  {
   "cell_type": "markdown",
   "metadata": {
    "id": "c7IGKro0l2sG"
   },
   "source": [
    "__Q2a.__ What is the ICC for this model?  What can you conclude by comparing it to the ICC for the model that you fit in question 1?"
   ]
  },
  {
   "cell_type": "markdown",
   "metadata": {
    "id": "fq80H8EWl2sH"
   },
   "source": [
    "# Q2a. Comparing ICCs helps assess the impact of covariates on the clustering effect. A decrease in ICC suggests that covariates explain some between-group variability.\n"
   ]
  },
  {
   "cell_type": "markdown",
   "metadata": {
    "id": "OpyEf7wcl2sH"
   },
   "source": [
    "## Question 3:\n",
    "\n",
    "Split the data into separate datasets for females and for males and fit two separate marginal linear models for diastolic blood pressure, one only for females, and one only for males."
   ]
  },
  {
   "cell_type": "code",
   "execution_count": 9,
   "metadata": {
    "id": "qKqdWnJdl2sH"
   },
   "outputs": [
    {
     "name": "stdout",
     "output_type": "stream",
     "text": [
      "for females:\n",
      "                               GEE Regression Results                              \n",
      "===================================================================================\n",
      "Dep. Variable:                      BPXDI1   No. Observations:                 2757\n",
      "Model:                                 GEE   No. clusters:                       30\n",
      "Method:                        Generalized   Min. cluster size:                  63\n",
      "                      Estimating Equations   Max. cluster size:                 125\n",
      "Family:                           Gaussian   Mean cluster size:                91.9\n",
      "Dependence structure:         Independence   Num. iterations:                     2\n",
      "Date:                     Sat, 09 Dec 2023   Scale:                         146.023\n",
      "Covariance type:                    robust   Time:                         16:10:54\n",
      "==============================================================================\n",
      "                 coef    std err          z      P>|z|      [0.025      0.975]\n",
      "------------------------------------------------------------------------------\n",
      "Intercept     12.7812      0.303     42.208      0.000      12.188      13.375\n",
      "RIDAGEYR       0.0015      0.022      0.071      0.944      -0.041       0.044\n",
      "RIAGENDR      25.5624      0.606     42.208      0.000      24.375      26.749\n",
      "BMXBMI         0.1457      0.035      4.196      0.000       0.078       0.214\n",
      "==============================================================================\n",
      "Skew:                         -0.6445   Kurtosis:                       3.6640\n",
      "Centered skew:                -0.6287   Centered kurtosis:              3.6649\n",
      "==============================================================================\n",
      "for males:\n",
      "                               GEE Regression Results                              \n",
      "===================================================================================\n",
      "Dep. Variable:                      BPXDI1   No. Observations:                 2590\n",
      "Model:                                 GEE   No. clusters:                       30\n",
      "Method:                        Generalized   Min. cluster size:                  38\n",
      "                      Estimating Equations   Max. cluster size:                 118\n",
      "Family:                           Gaussian   Mean cluster size:                86.3\n",
      "Dependence structure:         Independence   Num. iterations:                     2\n",
      "Date:                     Sat, 09 Dec 2023   Scale:                         175.767\n",
      "Covariance type:                    robust   Time:                         16:10:54\n",
      "==============================================================================\n",
      "                 coef    std err          z      P>|z|      [0.025      0.975]\n",
      "------------------------------------------------------------------------------\n",
      "Intercept     32.1806      0.806     39.933      0.000      30.601      33.760\n",
      "RIDAGEYR      -0.0334      0.017     -2.000      0.046      -0.066      -0.001\n",
      "RIAGENDR      32.1806      0.806     39.933      0.000      30.601      33.760\n",
      "BMXBMI         0.2793      0.051      5.467      0.000       0.179       0.379\n",
      "==============================================================================\n",
      "Skew:                         -0.7387   Kurtosis:                       3.8638\n",
      "Centered skew:                -0.6991   Centered kurtosis:              3.8505\n",
      "==============================================================================\n"
     ]
    }
   ],
   "source": [
    "# enter your code here\n",
    "import statsmodels.api as sm\n",
    "import statsmodels.genmod.cov_struct as cov_struct\n",
    "qw=da['RIAGENDR'].values==2\n",
    "qwer=da[qw]\n",
    "zx=sm.GEE.from_formula('BPXDI1 ~ RIDAGEYR + RIAGENDR + BMXBMI', groups='group',data=qwer)\n",
    "zxc=zx.fit()\n",
    "print('for females:')\n",
    "print(zxc.summary())\n",
    "print('for males:')\n",
    "ml=da['RIAGENDR'].values==1\n",
    "mn=da[ml]\n",
    "qw=sm.GEE.from_formula('BPXDI1 ~ RIDAGEYR + RIAGENDR + BMXBMI', groups='group',data=mn)\n",
    "mnb=qw.fit()\n",
    "print(mnb.summary())\n",
    "\n",
    "\n"
   ]
  },
  {
   "cell_type": "markdown",
   "metadata": {
    "id": "9w5lDTvul2sH"
   },
   "source": [
    "__Q3a.__ What do you learn by comparing these two fitted models?"
   ]
  },
  {
   "cell_type": "markdown",
   "metadata": {
    "id": "QcswjFYgl2sH"
   },
   "source": [
    "# Q3a. Comparing the fitted models for females and males helps assess whether gender-specific differences exist in the clustering effect on diastolic blood pressure.\n"
   ]
  },
  {
   "cell_type": "code",
   "execution_count": 1,
   "metadata": {},
   "outputs": [
    {
     "name": "stdout",
     "output_type": "stream",
     "text": [
      "For Females:\n"
     ]
    },
    {
     "ename": "NameError",
     "evalue": "name 'result_female_q3' is not defined",
     "output_type": "error",
     "traceback": [
      "\u001b[1;31m---------------------------------------------------------------------------\u001b[0m",
      "\u001b[1;31mNameError\u001b[0m                                 Traceback (most recent call last)",
      "Cell \u001b[1;32mIn[1], line 3\u001b[0m\n\u001b[0;32m      1\u001b[0m \u001b[38;5;66;03m# Q3a. Comparing the fitted models for females and males helps assess whether gender-specific differences exist in the clustering effect on diastolic blood pressure.\u001b[39;00m\n\u001b[0;32m      2\u001b[0m \u001b[38;5;28mprint\u001b[39m(\u001b[38;5;124m\"\u001b[39m\u001b[38;5;124mFor Females:\u001b[39m\u001b[38;5;124m\"\u001b[39m)\n\u001b[1;32m----> 3\u001b[0m \u001b[38;5;28mprint\u001b[39m(result_female_q3\u001b[38;5;241m.\u001b[39msummary())\n\u001b[0;32m      4\u001b[0m \u001b[38;5;28mprint\u001b[39m(\u001b[38;5;124m\"\u001b[39m\u001b[38;5;130;01m\\n\u001b[39;00m\u001b[38;5;124mFor Males:\u001b[39m\u001b[38;5;124m\"\u001b[39m)\n\u001b[0;32m      5\u001b[0m \u001b[38;5;28mprint\u001b[39m(result_male_q3\u001b[38;5;241m.\u001b[39msummary())\n",
      "\u001b[1;31mNameError\u001b[0m: name 'result_female_q3' is not defined"
     ]
    }
   ],
   "source": []
  },
  {
   "cell_type": "markdown",
   "metadata": {
    "id": "wr9AwcUBl2sI"
   },
   "source": [
    "## Question 4:\n",
    "\n",
    "Using the entire data set, fit a multilevel model for diastolic blood pressure, predicted by age, gender, BMI, and educational attainment.  Include a random intercept for groups."
   ]
  },
  {
   "cell_type": "code",
   "execution_count": 19,
   "metadata": {
    "id": "18BpEBlkl2sI"
   },
   "outputs": [
    {
     "name": "stdout",
     "output_type": "stream",
     "text": [
      "                               GEE Regression Results                              \n",
      "===================================================================================\n",
      "Dep. Variable:                      BPXDI1   No. Observations:                 5347\n",
      "Model:                                 GEE   No. clusters:                       30\n",
      "Method:                        Generalized   Min. cluster size:                 110\n",
      "                      Estimating Equations   Max. cluster size:                 230\n",
      "Family:                           Gaussian   Mean cluster size:               178.2\n",
      "Dependence structure:         Independence   Num. iterations:                     2\n",
      "Date:                     Sat, 09 Dec 2023   Scale:                         160.602\n",
      "Covariance type:                    robust   Time:                         17:19:40\n",
      "==============================================================================\n",
      "                 coef    std err          z      P>|z|      [0.025      0.975]\n",
      "------------------------------------------------------------------------------\n",
      "Intercept     68.5439      1.280     53.563      0.000      66.036      71.052\n",
      "RIDAGEYR      -0.0157      0.016     -0.957      0.339      -0.048       0.016\n",
      "RIAGENDR      -2.6780      0.402     -6.656      0.000      -3.467      -1.889\n",
      "BMXBMI         0.1972      0.032      6.148      0.000       0.134       0.260\n",
      "==============================================================================\n",
      "Skew:                         -0.6945   Kurtosis:                       3.8327\n",
      "Centered skew:                -0.6782   Centered kurtosis:              3.8808\n",
      "==============================================================================\n"
     ]
    }
   ],
   "source": [
    "# enter your code here\n",
    "qw=sm.GEE.from_formula('BPXDI1 ~ RIDAGEYR + RIAGENDR + BMXBMI', groups='group',data=da)\n",
    "qwer=qw.fit()\n",
    "print(qwer.summary())\n",
    "\n"
   ]
  },
  {
   "cell_type": "markdown",
   "metadata": {
    "id": "tV2eYaSOl2sI"
   },
   "source": [
    "__Q4a.__ How would you describe the strength of the clustering in this analysis?"
   ]
  },
  {
   "cell_type": "markdown",
   "metadata": {
    "id": "sdxS8qTil2sI"
   },
   "source": [
    "# Q4a. The strength of clustering can be assessed by examining the variance of the random intercept for groups. A larger variance indicates stronger clustering.\n"
   ]
  },
  {
   "cell_type": "markdown",
   "metadata": {
    "id": "IMZsomvsl2sI"
   },
   "source": [
    "__Q4b:__ Include a random intercept for age, and describe your findings."
   ]
  },
  {
   "cell_type": "markdown",
   "metadata": {
    "id": "zXIxr8bMl2sI"
   },
   "source": [
    "# Q4b. Including a random intercept for age helps assess whether age-related variability contributes to the overall clustering effect.\n"
   ]
  }
 ],
 "metadata": {
  "colab": {
   "provenance": []
  },
  "kernelspec": {
   "display_name": "Python 3 (ipykernel)",
   "language": "python",
   "name": "python3"
  },
  "language_info": {
   "codemirror_mode": {
    "name": "ipython",
    "version": 3
   },
   "file_extension": ".py",
   "mimetype": "text/x-python",
   "name": "python",
   "nbconvert_exporter": "python",
   "pygments_lexer": "ipython3",
   "version": "3.11.4"
  }
 },
 "nbformat": 4,
 "nbformat_minor": 1
}
