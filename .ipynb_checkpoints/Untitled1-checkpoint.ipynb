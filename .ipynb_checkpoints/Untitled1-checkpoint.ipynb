{
 "cells": [
  {
   "cell_type": "code",
   "execution_count": null,
   "id": "b8e59fef",
   "metadata": {},
   "outputs": [],
   "source": [
    "strint = \"12 34 12 56\" \n",
    "a = strint.split(\" \")\n",
    "a.append(5)\n",
    "\n",
    "a"
   ]
  },
  {
   "cell_type": "code",
   "execution_count": null,
   "id": "2720cafa",
   "metadata": {},
   "outputs": [],
   "source": [
    "import math\n",
    "\n",
    "san = 25 \n",
    "\n",
    "z = math.sqrt(san)\n",
    "coss = math.cos(san)\n",
    "print(z)\n",
    "print(coss)\n"
   ]
  },
  {
   "cell_type": "code",
   "execution_count": null,
   "id": "521a0e5a",
   "metadata": {},
   "outputs": [],
   "source": [
    "print(abs(-4))"
   ]
  },
  {
   "cell_type": "code",
   "execution_count": null,
   "id": "814c39df",
   "metadata": {},
   "outputs": [],
   "source": [
    "round(5.7)"
   ]
  },
  {
   "cell_type": "code",
   "execution_count": null,
   "id": "eabe0eeb",
   "metadata": {},
   "outputs": [],
   "source": [
    "3**2\n",
    "pow(3,2)"
   ]
  },
  {
   "cell_type": "code",
   "execution_count": null,
   "id": "24f6f717",
   "metadata": {},
   "outputs": [],
   "source": [
    "from math import *\n",
    "\n",
    "x1, y1, x2, y2 = map(int, input().split(\" \"))\n",
    "\n",
    "print(sqrt((x1-x2)**2 + (y1-y2)**2))\n"
   ]
  },
  {
   "cell_type": "code",
   "execution_count": null,
   "id": "8e317d48",
   "metadata": {},
   "outputs": [],
   "source": [
    "round(math.pi, 5)"
   ]
  },
  {
   "cell_type": "code",
   "execution_count": null,
   "id": "0307f052",
   "metadata": {},
   "outputs": [],
   "source": [
    "floor(4.5434243234)"
   ]
  },
  {
   "cell_type": "code",
   "execution_count": null,
   "id": "74c79b31",
   "metadata": {},
   "outputs": [],
   "source": [
    "ceil(1.134234235)"
   ]
  },
  {
   "cell_type": "code",
   "execution_count": null,
   "id": "1cc447ac",
   "metadata": {
    "scrolled": true
   },
   "outputs": [],
   "source": [
    "import random \n",
    "\n",
    "print(random.random()*10)\n",
    "print(random.randint(1,100))\n"
   ]
  },
  {
   "cell_type": "code",
   "execution_count": null,
   "id": "3ef61046",
   "metadata": {},
   "outputs": [],
   "source": [
    "ДЗ : квиз  + решить задачи"
   ]
  },
  {
   "cell_type": "markdown",
   "id": "8af253b6",
   "metadata": {},
   "source": [
    "1)«Al» және «maty» сөздері берілген. Осы сөздерден қала атауын құрастырып, 3 рет экранға шығар (\"А\" және \"maty\" сөздері кодта 1-реттен артық жазылмасын)\n",
    "\n",
    "a) print(\"Almaty\"*3)\n",
    "\n",
    "b) print(\"Al\"+\"maty\"*3)\n",
    "\n",
    "c) print((\"Al\"+\"maty\")*3)\n",
    "\n",
    "d) print(\"Almaty\")"
   ]
  },
  {
   "attachments": {},
   "cell_type": "markdown",
   "id": "48ddae91",
   "metadata": {},
   "source": [
    "2)Python-да төмендегі фигураны экранға шығаратын программа құрастыр Әр сан кодта 2 реттен артық қолданылмасын және тек 1 print() функциясымен.\n",
    "\n",
    "1\n",
    "\n",
    "22\n",
    "\n",
    "333\n",
    "\n",
    "4444\n",
    "\n",
    "55555\n",
    "\n",
    "a) print(\"1\\n\"+\"2\\n\"+(\"3\"*3)+\"\\n\"+(\"4\"*4)+\"\\n\")\n",
    "\n",
    "b) print(\"1\\n\"+\"22\\n4)+\"\\n\"+(\"5\"*5))\n",
    "\n",
    "c) print(\"1\\n\"+\"22\\n\"+(\"3\"*3)\n",
    "\n",
    "d) print(\"1\\n\"+\"22\\n\"+(\"3\"*3)+\"\\n\"+( \"+(\"4\"*4)+\"\\n\"+(\"5\"*5 \"*5))"
   ]
  },
  {
   "cell_type": "markdown",
   "id": "4e86ecf7",
   "metadata": {},
   "source": [
    "3)Екі сөзді консольдан оқып алып оларды print() арқылы консольга қайта көрсет. Екі сөз бір жолда болуы керек, print() ішінде келденең табуляцияны(\"\\t\") қолдан."
   ]
  },
  {
   "cell_type": "markdown",
   "id": "2c17624a",
   "metadata": {},
   "source": [
    "4)а және в сандары берілген. Осы сандардың мәндерін бір-біріне ауыстыр. Мысалы: а = 40, b = 50 болса, онда ауысқан соң нәтижеде a=50, b = 40 болады.\n",
    "\n",
    "a)a=b, b=a\n",
    "\n",
    "b)a=b\n",
    "\n",
    "b=a\n",
    "\n",
    "c) a,b = b,a\n",
    "\n",
    "d) b,a=b,a"
   ]
  },
  {
   "cell_type": "markdown",
   "id": "3f493880",
   "metadata": {},
   "source": []
  },
  {
   "cell_type": "code",
   "execution_count": null,
   "id": "2d38f51b",
   "metadata": {},
   "outputs": [],
   "source": []
  },
  {
   "cell_type": "code",
   "execution_count": null,
   "id": "71a671cf",
   "metadata": {},
   "outputs": [],
   "source": []
  }
 ],
 "metadata": {
  "kernelspec": {
   "display_name": "Python 3 (ipykernel)",
   "language": "python",
   "name": "python3"
  },
  "language_info": {
   "codemirror_mode": {
    "name": "ipython",
    "version": 3
   },
   "file_extension": ".py",
   "mimetype": "text/x-python",
   "name": "python",
   "nbconvert_exporter": "python",
   "pygments_lexer": "ipython3",
   "version": "3.11.4"
  }
 },
 "nbformat": 4,
 "nbformat_minor": 5
}
