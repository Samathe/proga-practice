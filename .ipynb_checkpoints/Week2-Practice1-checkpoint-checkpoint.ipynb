{
 "cells": [
  {
   "cell_type": "markdown",
   "id": "fb9ec72a",
   "metadata": {},
   "source": [
    "# Practice work - 1"
   ]
  },
  {
   "cell_type": "markdown",
   "id": "666e5e07",
   "metadata": {},
   "source": [
    "The following questions are focused around a startup company. Management is trying to gain insight on current employees and have sent out a short anonymous survey to them. Read each prompt carefully and determine the variable type for each question."
   ]
  },
  {
   "cell_type": "markdown",
   "id": "e5a4fecb",
   "metadata": {},
   "source": [
    "Q1: Employees were asked to report their typical daily commute time, in minutes. What type of variable would their response be considered?"
   ]
  },
  {
   "cell_type": "code",
   "execution_count": null,
   "id": "e6b59ec5",
   "metadata": {},
   "outputs": [],
   "source": [
    "#your answer\n"
   ]
  },
  {
   "cell_type": "markdown",
   "id": "5440a09f",
   "metadata": {},
   "source": [
    "Q2: Employees were asked to report their typical daily mode of transportation to and from work (i.e. Car, Bike, Bus, etc.). What type of variable would their response be considered?"
   ]
  },
  {
   "cell_type": "code",
   "execution_count": null,
   "id": "29cdefd8",
   "metadata": {},
   "outputs": [],
   "source": [
    "#your answer\n"
   ]
  },
  {
   "cell_type": "markdown",
   "id": "aeac8053",
   "metadata": {},
   "source": [
    "Q3: The company wanted to know how employees perceived the work of upper management. Employees were asked to report the satisfaction of upper management using a 1 to 5 scale (with the following representations: 1 - Extremely Unsatisfied, 2 - Unsatisfied, 3 - Neutral, 4 - Satisfied, 5 - Extremely Satisfied). What type of variable would their response be considered?"
   ]
  },
  {
   "cell_type": "code",
   "execution_count": null,
   "id": "7f62f60a",
   "metadata": {},
   "outputs": [],
   "source": [
    "#your answer\n"
   ]
  },
  {
   "cell_type": "markdown",
   "id": "f3d49754",
   "metadata": {},
   "source": [
    "Q4: It was reported that Fridays were generally lighter in terms of number of meetings held. Employees were asked to report the number of scheduled meetings they attended the previous Friday. What type of variable would their response be considered?"
   ]
  },
  {
   "cell_type": "code",
   "execution_count": null,
   "id": "126a6955",
   "metadata": {},
   "outputs": [],
   "source": [
    "#your answer\n"
   ]
  },
  {
   "cell_type": "markdown",
   "id": "e28b1aec",
   "metadata": {},
   "source": [
    "Q5: Management was playing around with the idea of having a food truck visit the office once a week and was trying to gauge how much employees would spend to help entice various food truck owners. Employees were asked to report the amount of money they believe they would spend on lunch (in $XX.XX) if a food truck came to the office once a week. What type of variable would their response be considered?"
   ]
  },
  {
   "cell_type": "code",
   "execution_count": null,
   "id": "1d31e2f0",
   "metadata": {},
   "outputs": [],
   "source": [
    "#your answer\n"
   ]
  },
  {
   "cell_type": "markdown",
   "id": "5650aa78",
   "metadata": {},
   "source": [
    "Q6: Numpy arrays"
   ]
  },
  {
   "cell_type": "code",
   "execution_count": 1,
   "id": "2a4f16a4",
   "metadata": {},
   "outputs": [],
   "source": [
    "import numpy as np\n",
    "#Create numpy array and find datatype\n",
    "\n",
    "#your code"
   ]
  },
  {
   "cell_type": "code",
   "execution_count": 2,
   "id": "43da5836",
   "metadata": {},
   "outputs": [],
   "source": [
    "# Create 2x2 numpy array full of zeros without using array().\n",
    "\n",
    "#your code"
   ]
  },
  {
   "cell_type": "code",
   "execution_count": 3,
   "id": "9fe6dd5c",
   "metadata": {},
   "outputs": [],
   "source": [
    "#Create 2x3 numpy array full of 9 without using array().\n",
    "\n",
    "#your code"
   ]
  },
  {
   "cell_type": "code",
   "execution_count": 4,
   "id": "f601aa34",
   "metadata": {},
   "outputs": [],
   "source": [
    "#Create 3x3 numpy array full of random numbers without using array().\n",
    "\n",
    "#your code"
   ]
  },
  {
   "cell_type": "code",
   "execution_count": 5,
   "id": "ba6b524e",
   "metadata": {},
   "outputs": [],
   "source": [
    "#Find shapes of all arrays above\n",
    "\n",
    "#your code"
   ]
  },
  {
   "cell_type": "code",
   "execution_count": 6,
   "id": "f8578bfa",
   "metadata": {},
   "outputs": [],
   "source": [
    "#Given numpy array, find sum of elements of array by row and column, sum of all elements\n",
    "x = np.array([[1,2],[3,4]])\n",
    "\n",
    "#your code"
   ]
  },
  {
   "cell_type": "code",
   "execution_count": 7,
   "id": "7f512f32",
   "metadata": {},
   "outputs": [],
   "source": [
    "#Given 2 numpy arrays, find addition, subtruction, multiplication, division of 2 arrays\n",
    "x = np.array([[1,2],[3,4]], dtype=np.float64)\n",
    "y = np.array([[5,6],[7,8]], dtype=np.float64)\n",
    "\n",
    "#your code"
   ]
  },
  {
   "cell_type": "code",
   "execution_count": 8,
   "id": "a064e0cf",
   "metadata": {},
   "outputs": [],
   "source": [
    "#Given numpy array, find mean of all elements, each row and each column    \n",
    "x = np.array([[1,2],[3,4]])\n",
    "\n",
    "#your code"
   ]
  },
  {
   "cell_type": "markdown",
   "id": "f93f902e",
   "metadata": {},
   "source": [
    "Q5: Pandas"
   ]
  },
  {
   "cell_type": "code",
   "execution_count": 1,
   "id": "7439b51a",
   "metadata": {},
   "outputs": [],
   "source": [
    "import pandas as pd\n",
    "# countries.csv file which is imported\n",
    "url = \"/Users/User/Desktop/Practice2/countries.csv\"  #write path of countries.csv file in your device"
   ]
  },
  {
   "cell_type": "code",
   "execution_count": 9,
   "id": "4fb92536",
   "metadata": {},
   "outputs": [],
   "source": [
    "# Read the .csv file and store it as a pandas Data Frame and define its type\n",
    "\n",
    "#your code "
   ]
  },
  {
   "cell_type": "code",
   "execution_count": 10,
   "id": "70648c44",
   "metadata": {},
   "outputs": [],
   "source": [
    "# Show the first 5 rows of our Data Frame\n",
    "\n",
    "#your code"
   ]
  },
  {
   "cell_type": "code",
   "execution_count": 11,
   "id": "bf6aae02",
   "metadata": {},
   "outputs": [],
   "source": [
    "# Show the column names and data types of each column\n",
    "\n",
    "#your code"
   ]
  },
  {
   "cell_type": "code",
   "execution_count": 12,
   "id": "7568d920",
   "metadata": {},
   "outputs": [],
   "source": [
    "# Select all rows for multiple columns, ['location', 'continent', 'population']\n",
    "\n",
    "#your code"
   ]
  },
  {
   "cell_type": "code",
   "execution_count": 13,
   "id": "4f634c0e",
   "metadata": {},
   "outputs": [],
   "source": [
    "# Select few rows for multiple columns, ['location', 'continent', 'population']\n",
    "\n",
    "#your column"
   ]
  },
  {
   "cell_type": "code",
   "execution_count": 14,
   "id": "af4c580a",
   "metadata": {},
   "outputs": [],
   "source": [
    "# Return all observations of location\n",
    "\n",
    "#your code"
   ]
  },
  {
   "cell_type": "code",
   "execution_count": 15,
   "id": "9095047b",
   "metadata": {},
   "outputs": [],
   "source": [
    "# Show first 4 rows by using iloc()\n",
    "\n",
    "#your code"
   ]
  },
  {
   "cell_type": "code",
   "execution_count": 16,
   "id": "0a4ea2ed",
   "metadata": {},
   "outputs": [],
   "source": [
    "# List unique values in the df['location'] column\n",
    "\n",
    "#your code"
   ]
  },
  {
   "cell_type": "code",
   "execution_count": 17,
   "id": "9534aad2",
   "metadata": {},
   "outputs": [],
   "source": [
    "# Group data by 'location' and 'continent' columns\n",
    "\n",
    "#your code"
   ]
  },
  {
   "cell_type": "code",
   "execution_count": null,
   "id": "57fca7fb",
   "metadata": {},
   "outputs": [],
   "source": []
  }
 ],
 "metadata": {
  "kernelspec": {
   "display_name": "Python 3",
   "language": "python",
   "name": "python3"
  },
  "language_info": {
   "codemirror_mode": {
    "name": "ipython",
    "version": 3
   },
   "file_extension": ".py",
   "mimetype": "text/x-python",
   "name": "python",
   "nbconvert_exporter": "python",
   "pygments_lexer": "ipython3",
   "version": "3.8.8"
  }
 },
 "nbformat": 4,
 "nbformat_minor": 5
}
