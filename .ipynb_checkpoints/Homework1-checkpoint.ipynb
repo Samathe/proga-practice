{
 "cells": [
  {
   "cell_type": "markdown",
   "id": "cb5c098e",
   "metadata": {},
   "source": [
    "# Homework 1"
   ]
  },
  {
   "cell_type": "markdown",
   "id": "207d0b87",
   "metadata": {},
   "source": [
    "## Numpy"
   ]
  },
  {
   "cell_type": "markdown",
   "id": "01b0482a",
   "metadata": {},
   "source": [
    "1) Create a NumPy array with the values [10, 20, 30, 40, 50]."
   ]
  },
  {
   "cell_type": "code",
   "execution_count": 3,
   "id": "18f83f63",
   "metadata": {},
   "outputs": [
    {
     "name": "stdout",
     "output_type": "stream",
     "text": [
      "[10 20 30 40 50]\n"
     ]
    }
   ],
   "source": [
    "import numpy as np\n",
    "\n",
    "arr = np.array([10, 20, 30, 40, 50])\n",
    "print(arr)\n"
   ]
  },
  {
   "cell_type": "markdown",
   "id": "c0bee26c",
   "metadata": {},
   "source": [
    "2) Calculate the mean and standard deviation of the elements in a NumPy array."
   ]
  },
  {
   "cell_type": "code",
   "execution_count": 4,
   "id": "816b1d40",
   "metadata": {},
   "outputs": [
    {
     "name": "stdout",
     "output_type": "stream",
     "text": [
      "30.0\n",
      "15.811388300841896\n"
     ]
    }
   ],
   "source": [
    "mean = arr.mean()\n",
    "print(mean)\n",
    "\n",
    "standard_d = 0\n",
    "\n",
    "for i in arr:\n",
    "    standard_d += (i-mean)**2\n",
    "    \n",
    "print((standard_d/(len(arr)-1))**(1/2))\n",
    "    \n"
   ]
  },
  {
   "cell_type": "markdown",
   "id": "580903c2",
   "metadata": {},
   "source": [
    "3) Create a 3x3 NumPy array with random integers between 1 and 100."
   ]
  },
  {
   "cell_type": "code",
   "execution_count": 5,
   "id": "37682a63",
   "metadata": {},
   "outputs": [
    {
     "name": "stdout",
     "output_type": "stream",
     "text": [
      "[[ 2 68 57]\n",
      " [86 48 79]\n",
      " [53 76  7]]\n"
     ]
    }
   ],
   "source": [
    "rand_array = np.random.randint(low = 1, high = 100, size = (3,3))\n",
    "print(rand_array)"
   ]
  },
  {
   "cell_type": "markdown",
   "id": "c9173135",
   "metadata": {},
   "source": [
    " 4) Calculate the square root of each element in a NumPy array."
   ]
  },
  {
   "cell_type": "code",
   "execution_count": 6,
   "id": "612b420b",
   "metadata": {},
   "outputs": [
    {
     "name": "stdout",
     "output_type": "stream",
     "text": [
      "[3.16227766 4.47213595 5.47722558 6.32455532 7.07106781]\n"
     ]
    }
   ],
   "source": [
    "arr = np.array([10, 20, 30, 40, 50])\n",
    "print(np.sqrt(arr))\n",
    "#your answer\n"
   ]
  },
  {
   "cell_type": "markdown",
   "id": "ab40d309",
   "metadata": {},
   "source": [
    "5) Create a 2D NumPy array with dimensions (4, 4) filled with ones"
   ]
  },
  {
   "cell_type": "code",
   "execution_count": 7,
   "id": "637f5da0",
   "metadata": {},
   "outputs": [
    {
     "name": "stdout",
     "output_type": "stream",
     "text": [
      "[[1. 1. 1. 1.]\n",
      " [1. 1. 1. 1.]\n",
      " [1. 1. 1. 1.]\n",
      " [1. 1. 1. 1.]]\n"
     ]
    }
   ],
   "source": [
    "four_arr = np.zeros((4,4)) + 1 \n",
    "print(four_arr)"
   ]
  },
  {
   "cell_type": "markdown",
   "id": "62e1eced",
   "metadata": {},
   "source": [
    "6) Reshape a 1D NumPy array into a 3x3 2D array."
   ]
  },
  {
   "cell_type": "code",
   "execution_count": 8,
   "id": "0d33f4ea",
   "metadata": {},
   "outputs": [
    {
     "name": "stdout",
     "output_type": "stream",
     "text": [
      "[[10 20 30]\n",
      " [40 50 60]\n",
      " [70 80 90]]\n"
     ]
    }
   ],
   "source": [
    "arr = np.array([10, 20, 30, 40, 50, 60, 70, 80, 90])\n",
    "\n",
    "arr2 = arr.reshape((3,3))\n",
    "\n",
    "print(arr2)"
   ]
  },
  {
   "cell_type": "markdown",
   "id": "6feb9a4c",
   "metadata": {},
   "source": [
    "7) Create a NumPy array of 10 equally spaced values between 0 and 1."
   ]
  },
  {
   "cell_type": "code",
   "execution_count": 9,
   "id": "0f6b3806",
   "metadata": {},
   "outputs": [
    {
     "name": "stdout",
     "output_type": "stream",
     "text": [
      "[0.         0.11111111 0.22222222 0.33333333 0.44444444 0.55555556\n",
      " 0.66666667 0.77777778 0.88888889 1.        ]\n"
     ]
    }
   ],
   "source": [
    "arr = np.linspace(0,1,10)\n",
    "print(arr)"
   ]
  },
  {
   "cell_type": "markdown",
   "id": "8998c5ae",
   "metadata": {},
   "source": [
    "8) Find the index of the maximum value in a NumPy array."
   ]
  },
  {
   "cell_type": "code",
   "execution_count": 10,
   "id": "8fd464bf",
   "metadata": {},
   "outputs": [
    {
     "name": "stdout",
     "output_type": "stream",
     "text": [
      "4\n"
     ]
    }
   ],
   "source": [
    "arr = np.array([10, 20, 30, 40, 50])\n",
    "print(np.argmax(arr))\n",
    "#your answer\n"
   ]
  },
  {
   "cell_type": "markdown",
   "id": "b035e9a7",
   "metadata": {},
   "source": [
    "9) Create a diagonal matrix with specified diagonal elements using NumPy."
   ]
  },
  {
   "cell_type": "code",
   "execution_count": 11,
   "id": "a83a6eee",
   "metadata": {},
   "outputs": [
    {
     "name": "stdout",
     "output_type": "stream",
     "text": [
      "2\n",
      "[[10  0  0  0  0]\n",
      " [ 0 20  0  0  0]\n",
      " [ 0  0 30  0  0]\n",
      " [ 0  0  0 40  0]\n",
      " [ 0  0  0  0 50]]\n"
     ]
    }
   ],
   "source": [
    "n = int(input())\n",
    "diag_matrix = np.diag(arr)\n",
    "print(diag_matrix)\n"
   ]
  },
  {
   "cell_type": "markdown",
   "id": "818e87d4",
   "metadata": {},
   "source": [
    "10) Compute the determinant of a square NumPy matrix."
   ]
  },
  {
   "cell_type": "code",
   "execution_count": 12,
   "id": "34d7f356",
   "metadata": {},
   "outputs": [
    {
     "name": "stdout",
     "output_type": "stream",
     "text": [
      "-9.51619735392994e-16\n"
     ]
    }
   ],
   "source": [
    "matrix = np.array([[1, 2, 3], [4, 5, 6], [7, 8, 9]])\n",
    "determ = np.linalg.det(matrix)\n",
    "print(determ)\n"
   ]
  },
  {
   "cell_type": "markdown",
   "id": "443c21c7",
   "metadata": {},
   "source": [
    "11) Create a NumPy array with random floats between 0 and 1."
   ]
  },
  {
   "cell_type": "code",
   "execution_count": 13,
   "id": "f4a44155",
   "metadata": {},
   "outputs": [
    {
     "name": "stdout",
     "output_type": "stream",
     "text": [
      "rows = 3\n",
      "columns = 4\n",
      "[[0.16057845 0.17992916 0.90178417 0.26255662]\n",
      " [0.96156679 0.97957148 0.94229248 0.38285598]\n",
      " [0.974825   0.5923693  0.42158087 0.58586391]]\n"
     ]
    }
   ],
   "source": [
    "n, m = int(input('rows = ')),int(input('columns = '))\n",
    "array = np.random.random((n,m))\n",
    "print(array)"
   ]
  },
  {
   "cell_type": "markdown",
   "id": "bf1bb76a",
   "metadata": {},
   "source": [
    "## Pandas"
   ]
  },
  {
   "cell_type": "markdown",
   "id": "80ffd36f",
   "metadata": {},
   "source": [
    "12) You have a list of names: names = ['Alice', 'Bob', 'Charlie', 'David']. Convert this list into a pandas DataFrame."
   ]
  },
  {
   "cell_type": "code",
   "execution_count": 14,
   "id": "d073a1cb",
   "metadata": {},
   "outputs": [
    {
     "name": "stdout",
     "output_type": "stream",
     "text": [
      "<class 'pandas.core.frame.DataFrame'>\n"
     ]
    }
   ],
   "source": [
    "import pandas as pd\n",
    "dframe = pd.DataFrame(['Alice', 'Bob', 'Charlie', 'David'])\n",
    "print(type(dframe))\n"
   ]
  },
  {
   "cell_type": "code",
   "execution_count": 15,
   "id": "4a54f7fa",
   "metadata": {},
   "outputs": [
    {
     "name": "stdout",
     "output_type": "stream",
     "text": [
      "      Name  Age Gender\n",
      "0      Tom   20      M\n",
      "1   Joseph   21      M\n",
      "2    Krish   19      F\n",
      "3     John   18      M\n",
      "4     Andy   32      F\n",
      "5  Tiffany   56      F\n",
      "6  Michael   12      M\n"
     ]
    }
   ],
   "source": [
    "#we have DataFrame df\n",
    "data = {'Name': ['Tom', 'Joseph', 'Krish', 'John', 'Andy', 'Tiffany', 'Michael'], \n",
    "        'Age': [20, 21, 19, 18, 32, 56, 12],\n",
    "        'Gender': ['M', 'M', 'F', 'M', 'F', 'F', 'M'],}  \n",
    "df = pd.DataFrame(data)   \n",
    "print(df)  "
   ]
  },
  {
   "cell_type": "markdown",
   "id": "3c188ba6",
   "metadata": {},
   "source": [
    "13) Given a DataFrame df with a column 'Age', calculate and display the maximum age."
   ]
  },
  {
   "cell_type": "code",
   "execution_count": 17,
   "id": "6320cee1",
   "metadata": {},
   "outputs": [
    {
     "name": "stdout",
     "output_type": "stream",
     "text": [
      "56\n"
     ]
    }
   ],
   "source": [
    "max_age = df['Age'].max()\n",
    "print(max_age)"
   ]
  },
  {
   "cell_type": "markdown",
   "id": "d3cb048e",
   "metadata": {},
   "source": [
    "14) Filter the rows in a DataFrame df where the 'Age' is greater than 30."
   ]
  },
  {
   "cell_type": "code",
   "execution_count": 20,
   "id": "9a91928f",
   "metadata": {},
   "outputs": [
    {
     "name": "stdout",
     "output_type": "stream",
     "text": [
      "      Name  Age Gender\n",
      "4     Andy   32      F\n",
      "5  Tiffany   56      F\n"
     ]
    }
   ],
   "source": [
    "gr_t_30 = df[df['Age'] > 30]\n",
    "print(gr_t_30)"
   ]
  },
  {
   "cell_type": "markdown",
   "id": "4f82ea11",
   "metadata": {},
   "source": [
    "15) Sort a DataFrame df by the 'Age' column in descending order."
   ]
  },
  {
   "cell_type": "code",
   "execution_count": 22,
   "id": "86591ccf",
   "metadata": {},
   "outputs": [
    {
     "name": "stdout",
     "output_type": "stream",
     "text": [
      "      Name  Age Gender\n",
      "5  Tiffany   56      F\n",
      "4     Andy   32      F\n",
      "1   Joseph   21      M\n",
      "0      Tom   20      M\n",
      "2    Krish   19      F\n",
      "3     John   18      M\n",
      "6  Michael   12      M\n"
     ]
    }
   ],
   "source": [
    "sorted_df = df.sort_values(by='Age', ascending=False)\n",
    "print(sorted_df)"
   ]
  },
  {
   "cell_type": "code",
   "execution_count": 23,
   "id": "aa4d2f98",
   "metadata": {},
   "outputs": [],
   "source": [
    "# countries.csv file which is imported\n",
    "url = \"countries.csv\"  #write path of countries.csv file in your device"
   ]
  },
  {
   "cell_type": "markdown",
   "id": "65e0bca2",
   "metadata": {},
   "source": [
    "16) Read the .csv file and store it as a pandas Data Frame and define its type"
   ]
  },
  {
   "cell_type": "code",
   "execution_count": 24,
   "id": "0d939f00",
   "metadata": {},
   "outputs": [
    {
     "name": "stdout",
     "output_type": "stream",
     "text": [
      "<class 'pandas.core.frame.DataFrame'>\n"
     ]
    }
   ],
   "source": [
    "#your code \n",
    "df = pd.read_csv(url)\n",
    "\n",
    "print(type(df))"
   ]
  },
  {
   "cell_type": "markdown",
   "id": "39bfa6cc",
   "metadata": {},
   "source": [
    "17) Show the first 7 rows of our Data Frame"
   ]
  },
  {
   "cell_type": "code",
   "execution_count": 25,
   "id": "32c6947c",
   "metadata": {},
   "outputs": [
    {
     "name": "stdout",
     "output_type": "stream",
     "text": [
      "              location      continent  population  life_expectancy  \\\n",
      "0          Afghanistan           Asia    38928341            64.83   \n",
      "1              Albania         Europe     2877800            78.57   \n",
      "2              Algeria         Africa    43851043            76.88   \n",
      "3              Andorra         Europe       77265            83.73   \n",
      "4               Angola         Africa    32866268            61.15   \n",
      "5             Anguilla  North America       15002            81.88   \n",
      "6  Antigua and Barbuda  North America       97928            77.02   \n",
      "\n",
      "   hospital_beds_per_thousand  gdp_per_capita  \n",
      "0                        0.50        1803.987  \n",
      "1                        2.89       11803.431  \n",
      "2                        1.90       13913.839  \n",
      "3                         NaN             NaN  \n",
      "4                         NaN        5819.495  \n",
      "5                         NaN             NaN  \n",
      "6                        3.80       21490.943  \n"
     ]
    }
   ],
   "source": [
    "#your answer\n",
    "print(df.head(7))"
   ]
  },
  {
   "cell_type": "markdown",
   "id": "7c75405a",
   "metadata": {},
   "source": [
    "18) Show the last 7 rows of our Data Frame"
   ]
  },
  {
   "cell_type": "code",
   "execution_count": 26,
   "id": "3643db8d",
   "metadata": {},
   "outputs": [
    {
     "name": "stdout",
     "output_type": "stream",
     "text": [
      "           location      continent  population  life_expectancy  \\\n",
      "203         Vatican         Europe         809            75.12   \n",
      "204       Venezuela  South America    28435943            72.06   \n",
      "205         Vietnam           Asia    97338583            75.40   \n",
      "206  Western Sahara         Africa      597330            70.26   \n",
      "207           Yemen           Asia    29825968            66.12   \n",
      "208          Zambia         Africa    18383956            63.89   \n",
      "209        Zimbabwe         Africa    14862927            61.49   \n",
      "\n",
      "     hospital_beds_per_thousand  gdp_per_capita  \n",
      "203                         NaN             NaN  \n",
      "204                         0.8       16745.022  \n",
      "205                         2.6        6171.884  \n",
      "206                         NaN             NaN  \n",
      "207                         0.7        1479.147  \n",
      "208                         2.0        3689.251  \n",
      "209                         1.7        1899.775  \n"
     ]
    }
   ],
   "source": [
    "#your answer\n",
    "print(df.tail(7))"
   ]
  },
  {
   "cell_type": "markdown",
   "id": "79860393",
   "metadata": {},
   "source": [
    "19) How many countries does the dataframe 'df' contain? Use the function to print the number of rows and columns in the 'df'"
   ]
  },
  {
   "cell_type": "code",
   "execution_count": 28,
   "id": "c1f59110",
   "metadata": {},
   "outputs": [
    {
     "name": "stdout",
     "output_type": "stream",
     "text": [
      "Number of countries: 210\n",
      "Number of columns: 6\n"
     ]
    }
   ],
   "source": [
    "countries = df.shape[0]\n",
    "\n",
    "columns = df.shape[1]\n",
    "\n",
    "print(\"Number of countries:\", countries)\n",
    "print(\"Number of columns:\", columns)"
   ]
  },
  {
   "cell_type": "markdown",
   "id": "d23d6fce",
   "metadata": {},
   "source": [
    "20) Count the number of missing values in each columns of 'df'"
   ]
  },
  {
   "cell_type": "code",
   "execution_count": 29,
   "id": "f9ca9e77",
   "metadata": {},
   "outputs": [
    {
     "name": "stdout",
     "output_type": "stream",
     "text": [
      "location                       0\n",
      "continent                      0\n",
      "population                     0\n",
      "life_expectancy                3\n",
      "hospital_beds_per_thousand    46\n",
      "gdp_per_capita                27\n",
      "dtype: int64\n"
     ]
    }
   ],
   "source": [
    "missing_values = df.isna().sum()\n",
    "print(missing_values)"
   ]
  },
  {
   "cell_type": "markdown",
   "id": "85179cd5",
   "metadata": {},
   "source": [
    "21) Sort the dataframe by 2 variables: 'continent' in ascending order, 'population' in descending order. "
   ]
  },
  {
   "cell_type": "code",
   "execution_count": 31,
   "id": "2f59ad13",
   "metadata": {},
   "outputs": [
    {
     "name": "stdout",
     "output_type": "stream",
     "text": [
      "                         location      continent  population  life_expectancy  \\\n",
      "141                       Nigeria         Africa   206139587            54.69   \n",
      "63                       Ethiopia         Africa   114963583            66.60   \n",
      "58                          Egypt         Africa   102334403            71.99   \n",
      "52   Democratic Republic of Congo         Africa    89561404            60.68   \n",
      "187                      Tanzania         Africa    59734213            65.46   \n",
      "..                            ...            ...         ...              ...   \n",
      "149                      Paraguay  South America     7132530            74.25   \n",
      "201                       Uruguay  South America     3473727            77.91   \n",
      "84                         Guyana  South America      786559            69.91   \n",
      "180                      Suriname  South America      586634            71.68   \n",
      "65               Falkland Islands  South America        3483            81.44   \n",
      "\n",
      "     hospital_beds_per_thousand  gdp_per_capita  \n",
      "141                         NaN        5338.454  \n",
      "63                          0.3        1729.927  \n",
      "58                          1.6       10550.206  \n",
      "52                          NaN         808.133  \n",
      "187                         0.7        2683.304  \n",
      "..                          ...             ...  \n",
      "149                         1.3        8827.010  \n",
      "201                         2.8       20551.409  \n",
      "84                          1.6        7435.047  \n",
      "180                         3.1       13767.119  \n",
      "65                          NaN             NaN  \n",
      "\n",
      "[210 rows x 6 columns]\n"
     ]
    }
   ],
   "source": [
    "sorted_df = df.sort_values(by=['continent', 'population'], ascending=[True, False])\n",
    "print(sorted_df)"
   ]
  },
  {
   "cell_type": "markdown",
   "id": "0f2a2823",
   "metadata": {},
   "source": [
    " 22) Subset rows where 'life_expectancy' is greater than 80.0, and then calculate the number of countries. (Hint: the number of countries can be calculated using the function that prints the number of rows and columns in dataframe)"
   ]
  },
  {
   "cell_type": "code",
   "execution_count": 17,
   "id": "24488082",
   "metadata": {},
   "outputs": [
    {
     "name": "stdout",
     "output_type": "stream",
     "text": [
      "  Column1 Column2\n",
      "0       0      .1\n",
      "1      .2      .2\n",
      "2      .3      .3\n"
     ]
    }
   ],
   "source": [
    "data = {'Column1': [0, 0.2, 0.3], 'Column2': [0.12, 0.22, 0.32]}\n",
    "df = pd.DataFrame(data)\n",
    "\n",
    "# Function to format numbers\n",
    "def format_number(number):\n",
    "    if number == 0:\n",
    "        return '0'\n",
    "    elif number < 1:\n",
    "        return f'.{int(number * 10)}'\n",
    "    else:\n",
    "        return str(number)\n",
    "\n",
    "# Apply the formatting function to the DataFrame\n",
    "formatted_df = df.applymap(format_number)\n",
    "\n",
    "# Display the formatted DataFrame\n",
    "print(formatted_df)"
   ]
  },
  {
   "cell_type": "code",
   "execution_count": null,
   "id": "5383fae6",
   "metadata": {},
   "outputs": [],
   "source": []
  }
 ],
 "metadata": {
  "kernelspec": {
   "display_name": "Python 3 (ipykernel)",
   "language": "python",
   "name": "python3"
  },
  "language_info": {
   "codemirror_mode": {
    "name": "ipython",
    "version": 3
   },
   "file_extension": ".py",
   "mimetype": "text/x-python",
   "name": "python",
   "nbconvert_exporter": "python",
   "pygments_lexer": "ipython3",
   "version": "3.11.4"
  }
 },
 "nbformat": 4,
 "nbformat_minor": 5
}
