{
 "cells": [
  {
   "cell_type": "markdown",
   "id": "cb5c098e",
   "metadata": {},
   "source": [
    "# Homework 1"
   ]
  },
  {
   "cell_type": "markdown",
   "id": "207d0b87",
   "metadata": {},
   "source": [
    "## Numpy"
   ]
  },
  {
   "cell_type": "markdown",
   "id": "01b0482a",
   "metadata": {},
   "source": [
    "1) Create a NumPy array with the values [10, 20, 30, 40, 50]."
   ]
  },
  {
   "cell_type": "code",
   "execution_count": 64,
   "id": "18f83f63",
   "metadata": {},
   "outputs": [],
   "source": [
    "#your answer\n"
   ]
  },
  {
   "cell_type": "markdown",
   "id": "c0bee26c",
   "metadata": {},
   "source": [
    "2) Calculate the mean and standard deviation of the elements in a NumPy array."
   ]
  },
  {
   "cell_type": "code",
   "execution_count": 65,
   "id": "816b1d40",
   "metadata": {},
   "outputs": [],
   "source": [
    "#your code\n"
   ]
  },
  {
   "cell_type": "markdown",
   "id": "580903c2",
   "metadata": {},
   "source": [
    "3) Create a 3x3 NumPy array with random integers between 1 and 100."
   ]
  },
  {
   "cell_type": "code",
   "execution_count": 66,
   "id": "37682a63",
   "metadata": {},
   "outputs": [],
   "source": [
    "#your code\n"
   ]
  },
  {
   "cell_type": "markdown",
   "id": "c9173135",
   "metadata": {},
   "source": [
    " 4) Calculate the square root of each element in a NumPy array."
   ]
  },
  {
   "cell_type": "code",
   "execution_count": 67,
   "id": "612b420b",
   "metadata": {},
   "outputs": [],
   "source": [
    "arr = np.array([10, 20, 30, 40, 50])\n",
    "\n",
    "#your answer\n"
   ]
  },
  {
   "cell_type": "markdown",
   "id": "ab40d309",
   "metadata": {},
   "source": [
    "5) Create a 2D NumPy array with dimensions (4, 4) filled with ones"
   ]
  },
  {
   "cell_type": "code",
   "execution_count": 68,
   "id": "637f5da0",
   "metadata": {},
   "outputs": [],
   "source": [
    "#your code\n"
   ]
  },
  {
   "cell_type": "markdown",
   "id": "62e1eced",
   "metadata": {},
   "source": [
    "6) Reshape a 1D NumPy array into a 3x3 2D array."
   ]
  },
  {
   "cell_type": "code",
   "execution_count": 69,
   "id": "0d33f4ea",
   "metadata": {},
   "outputs": [],
   "source": [
    "arr = np.array([10, 20, 30, 40, 50, 60, 70, 80, 90])\n",
    "\n",
    "#your answer\n"
   ]
  },
  {
   "cell_type": "markdown",
   "id": "6feb9a4c",
   "metadata": {},
   "source": [
    "7) Create a NumPy array of 10 equally spaced values between 0 and 1."
   ]
  },
  {
   "cell_type": "code",
   "execution_count": 70,
   "id": "0f6b3806",
   "metadata": {},
   "outputs": [],
   "source": [
    "#your code\n"
   ]
  },
  {
   "cell_type": "markdown",
   "id": "8998c5ae",
   "metadata": {},
   "source": [
    "8) Find the index of the maximum value in a NumPy array."
   ]
  },
  {
   "cell_type": "code",
   "execution_count": 71,
   "id": "8fd464bf",
   "metadata": {},
   "outputs": [],
   "source": [
    "arr = np.array([10, 20, 30, 40, 50])\n",
    "\n",
    "#your answer\n"
   ]
  },
  {
   "cell_type": "markdown",
   "id": "b035e9a7",
   "metadata": {},
   "source": [
    "9) Create a diagonal matrix with specified diagonal elements using NumPy."
   ]
  },
  {
   "cell_type": "code",
   "execution_count": 72,
   "id": "a83a6eee",
   "metadata": {},
   "outputs": [],
   "source": [
    "#your code\n"
   ]
  },
  {
   "cell_type": "markdown",
   "id": "818e87d4",
   "metadata": {},
   "source": [
    "10) Compute the determinant of a square NumPy matrix."
   ]
  },
  {
   "cell_type": "code",
   "execution_count": 73,
   "id": "34d7f356",
   "metadata": {},
   "outputs": [],
   "source": [
    "matrix = np.array([[1, 2, 3], [4, 5, 6], [7, 8, 9]])\n",
    "\n",
    "#your answer\n"
   ]
  },
  {
   "cell_type": "markdown",
   "id": "443c21c7",
   "metadata": {},
   "source": [
    "11) Create a NumPy array with random floats between 0 and 1."
   ]
  },
  {
   "cell_type": "code",
   "execution_count": 74,
   "id": "f4a44155",
   "metadata": {},
   "outputs": [],
   "source": [
    "#your code\n"
   ]
  },
  {
   "cell_type": "markdown",
   "id": "bf1bb76a",
   "metadata": {},
   "source": [
    "## Pandas"
   ]
  },
  {
   "cell_type": "markdown",
   "id": "80ffd36f",
   "metadata": {},
   "source": [
    "12) You have a list of names: names = ['Alice', 'Bob', 'Charlie', 'David']. Convert this list into a pandas DataFrame."
   ]
  },
  {
   "cell_type": "code",
   "execution_count": 75,
   "id": "d073a1cb",
   "metadata": {},
   "outputs": [],
   "source": [
    "#your answer\n"
   ]
  },
  {
   "cell_type": "code",
   "execution_count": 52,
   "id": "4a54f7fa",
   "metadata": {},
   "outputs": [
    {
     "name": "stdout",
     "output_type": "stream",
     "text": [
      "      Name  Age Gender\n",
      "0      Tom   20      M\n",
      "1   Joseph   21      M\n",
      "2    Krish   19      F\n",
      "3     John   18      M\n",
      "4     Andy   32      F\n",
      "5  Tiffany   56      F\n",
      "6  Michael   12      M\n"
     ]
    }
   ],
   "source": [
    "#we have DataFrame df\n",
    "data = {'Name': ['Tom', 'Joseph', 'Krish', 'John', 'Andy', 'Tiffany', 'Michael'], \n",
    "        'Age': [20, 21, 19, 18, 32, 56, 12],\n",
    "        'Gender': ['M', 'M', 'F', 'M', 'F', 'F', 'M'],}  \n",
    "df = pd.DataFrame(data)   \n",
    "print(df)  "
   ]
  },
  {
   "cell_type": "markdown",
   "id": "3c188ba6",
   "metadata": {},
   "source": [
    "13) Given a DataFrame df with a column 'Age', calculate and display the maximum age."
   ]
  },
  {
   "cell_type": "code",
   "execution_count": 76,
   "id": "6320cee1",
   "metadata": {},
   "outputs": [],
   "source": [
    "#your code\n"
   ]
  },
  {
   "cell_type": "markdown",
   "id": "d3cb048e",
   "metadata": {},
   "source": [
    "14) Filter the rows in a DataFrame df where the 'Age' is greater than 30."
   ]
  },
  {
   "cell_type": "code",
   "execution_count": 77,
   "id": "9a91928f",
   "metadata": {},
   "outputs": [],
   "source": [
    "#your answer\n"
   ]
  },
  {
   "cell_type": "markdown",
   "id": "4f82ea11",
   "metadata": {},
   "source": [
    "15) Sort a DataFrame df by the 'Age' column in descending order."
   ]
  },
  {
   "cell_type": "code",
   "execution_count": 78,
   "id": "86591ccf",
   "metadata": {},
   "outputs": [],
   "source": [
    "#your answer\n"
   ]
  },
  {
   "cell_type": "code",
   "execution_count": 79,
   "id": "aa4d2f98",
   "metadata": {},
   "outputs": [],
   "source": [
    "# countries.csv file which is imported\n",
    "url = \"/Users/User/Desktop/Homework1/highest_LifeExp_countries.csv\"  #write path of countries.csv file in your device"
   ]
  },
  {
   "cell_type": "markdown",
   "id": "65e0bca2",
   "metadata": {},
   "source": [
    "16) Read the .csv file and store it as a pandas Data Frame and define its type"
   ]
  },
  {
   "cell_type": "code",
   "execution_count": 80,
   "id": "0d939f00",
   "metadata": {},
   "outputs": [],
   "source": [
    "#your code \n"
   ]
  },
  {
   "cell_type": "markdown",
   "id": "39bfa6cc",
   "metadata": {},
   "source": [
    "17) Show the first 7 rows of our Data Frame"
   ]
  },
  {
   "cell_type": "code",
   "execution_count": 81,
   "id": "32c6947c",
   "metadata": {},
   "outputs": [],
   "source": [
    "#your answer\n"
   ]
  },
  {
   "cell_type": "markdown",
   "id": "7c75405a",
   "metadata": {},
   "source": [
    "18) Show the last 7 rows of our Data Frame"
   ]
  },
  {
   "cell_type": "code",
   "execution_count": 82,
   "id": "3643db8d",
   "metadata": {},
   "outputs": [],
   "source": [
    "#your answer\n"
   ]
  },
  {
   "cell_type": "markdown",
   "id": "79860393",
   "metadata": {},
   "source": [
    "19) How many countries does the dataframe 'df' contain? Use the function to print the number of rows and columns in the 'df'"
   ]
  },
  {
   "cell_type": "code",
   "execution_count": 83,
   "id": "c1f59110",
   "metadata": {},
   "outputs": [],
   "source": [
    "#your code\n"
   ]
  },
  {
   "cell_type": "markdown",
   "id": "d23d6fce",
   "metadata": {},
   "source": [
    "20) Count the number of missing values in each columns of 'df'"
   ]
  },
  {
   "cell_type": "code",
   "execution_count": 84,
   "id": "f9ca9e77",
   "metadata": {},
   "outputs": [],
   "source": [
    "#your code\n"
   ]
  },
  {
   "cell_type": "markdown",
   "id": "85179cd5",
   "metadata": {},
   "source": [
    "21) Sort the dataframe by 2 variables: 'continent' in ascending order, 'population' in descending order. "
   ]
  },
  {
   "cell_type": "code",
   "execution_count": 85,
   "id": "2f59ad13",
   "metadata": {},
   "outputs": [],
   "source": [
    "#your code\n"
   ]
  },
  {
   "cell_type": "markdown",
   "id": "0f2a2823",
   "metadata": {},
   "source": [
    " 22) Subset rows where 'life_expectancy' is greater than 80.0, and then calculate the number of countries. (Hint: the number of countries can be calculated using the function that prints the number of rows and columns in dataframe)"
   ]
  },
  {
   "cell_type": "code",
   "execution_count": 86,
   "id": "24488082",
   "metadata": {},
   "outputs": [],
   "source": [
    "#your code\n"
   ]
  },
  {
   "cell_type": "code",
   "execution_count": null,
   "id": "5383fae6",
   "metadata": {},
   "outputs": [],
   "source": []
  }
 ],
 "metadata": {
  "kernelspec": {
   "display_name": "Python 3",
   "language": "python",
   "name": "python3"
  },
  "language_info": {
   "codemirror_mode": {
    "name": "ipython",
    "version": 3
   },
   "file_extension": ".py",
   "mimetype": "text/x-python",
   "name": "python",
   "nbconvert_exporter": "python",
   "pygments_lexer": "ipython3",
   "version": "3.8.8"
  }
 },
 "nbformat": 4,
 "nbformat_minor": 5
}
