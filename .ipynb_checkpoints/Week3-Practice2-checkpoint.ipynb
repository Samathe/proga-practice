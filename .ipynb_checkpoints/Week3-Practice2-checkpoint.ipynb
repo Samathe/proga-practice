{
 "cells": [
  {
   "cell_type": "markdown",
   "id": "fb9ec72a",
   "metadata": {},
   "source": [
    "# Practice work - 2 (1.5 point)"
   ]
  },
  {
   "cell_type": "markdown",
   "id": "666e5e07",
   "metadata": {},
   "source": [
    "This labwork provides an introduction to Matplotlib, Seaborn, and Scipy, covering basic plotting, advanced data visualization, and scientific computing tasks."
   ]
  },
  {
   "cell_type": "markdown",
   "id": "616f05f3-d091-4ef0-b5a1-26cd17583903",
   "metadata": {},
   "source": [
    "### Matplotlib"
   ]
  },
  {
   "cell_type": "markdown",
   "id": "fb66f763-9eb5-4e29-b9b0-e9f9d4afa316",
   "metadata": {},
   "source": [
    "In this section, you will learn the basics of Matplotlib, a popular Python library for data visualization. You will create different types of plots and customize them to represent data effectively."
   ]
  },
  {
   "cell_type": "code",
   "execution_count": 1,
   "id": "d0712f99-c9be-48e1-aaff-ec822cfaebc9",
   "metadata": {},
   "outputs": [],
   "source": [
    "import warnings\n",
    "warnings.simplefilter(action='ignore', category=FutureWarning)\n",
    "warnings.simplefilter(action='ignore', category=DeprecationWarning)"
   ]
  },
  {
   "cell_type": "markdown",
   "id": "5650aa78",
   "metadata": {},
   "source": [
    "#### Task 1: Creating a Scatter Plot "
   ]
  },
  {
   "cell_type": "markdown",
   "id": "6614c11d-cbb3-4674-889e-d8f434d24ce4",
   "metadata": {},
   "source": [
    "Create two lists, x and y, with random data points.\n",
    "\n",
    "1. Plot x against y as a scatter plot.\n",
    "2. Customize the plot with a green color, dashed line and star marker style.\n",
    "3. Add a title to the plot and label the x and y axes.\n",
    "4. Display the plot."
   ]
  },
  {
   "cell_type": "markdown",
   "id": "f7b39827-8f71-4d05-84f8-d47363018f8d",
   "metadata": {},
   "source": [
    "<img src=\"./task1.jpeg\" \n",
    "     align=\"left\" \n",
    "     width=\"400\" />"
   ]
  },
  {
   "cell_type": "code",
   "execution_count": 2,
   "id": "2a4f16a4",
   "metadata": {},
   "outputs": [],
   "source": [
    "#import libraries\n",
    "\n",
    "# Generate random data\n",
    "\n",
    "# Create a scatter plot\n",
    "\n",
    "# Add title and labels\n",
    "\n",
    "# Display the plot\n",
    "\n"
   ]
  },
  {
   "cell_type": "markdown",
   "id": "5a2c9d08-a49d-4728-97c9-3977866be9d2",
   "metadata": {},
   "source": [
    "#### Task 2: Creating a Bar Chart "
   ]
  },
  {
   "cell_type": "markdown",
   "id": "4a2814ac-e059-4519-93e9-118fbcb83f06",
   "metadata": {},
   "source": [
    "Create a list of categories and another list of corresponding values.\n",
    "\n",
    "1. Plot the values as a bar chart with the categories on the x-axis.\n",
    "2. Customize the bar chart with different colors and labels.\n",
    "3. Add a title to the plot and label the x and y axes.\n",
    "4. Display the plot."
   ]
  },
  {
   "cell_type": "code",
   "execution_count": 3,
   "id": "9fe6dd5c",
   "metadata": {},
   "outputs": [],
   "source": [
    "# Sample data\n",
    "categories = ['Category A', 'Category B', 'Category C', 'Category D']\n",
    "values = [25, 30, 20, 35]\n",
    "\n",
    "# Create a bar chart\n",
    "\n",
    "# Add title and labels\n",
    "\n",
    "# Display the plot\n"
   ]
  },
  {
   "cell_type": "markdown",
   "id": "068f133a-bc22-43f4-b808-500e920d97ec",
   "metadata": {},
   "source": [
    "#### Task 3: Creating a Plot "
   ]
  },
  {
   "cell_type": "markdown",
   "id": "0de03553-5f60-41a3-abde-785ff43aa098",
   "metadata": {},
   "source": [
    "Write code so that the result of the graph you create looks like the graph in the image."
   ]
  },
  {
   "cell_type": "markdown",
   "id": "b1590365-bf1c-420f-a414-96c2d80cb938",
   "metadata": {},
   "source": [
    "<img src=\"./task3.jpeg\" \n",
    "     align=\"left\" \n",
    "     width=\"400\" />"
   ]
  },
  {
   "cell_type": "code",
   "execution_count": 4,
   "id": "e027acfb-556d-4155-a8bc-562380679048",
   "metadata": {},
   "outputs": [],
   "source": [
    "import numpy as np\n",
    "# Compute the x and y coordinates for points on sine and cosine curves\n",
    "\n",
    "# Plot the points using matplotlib\n",
    "\n",
    "# Add title, legend and labels\n",
    "\n",
    "# Display the plot"
   ]
  },
  {
   "cell_type": "markdown",
   "id": "5902b4c7-2cf6-4ea1-a39b-3a46189a5985",
   "metadata": {},
   "source": [
    "#### Task 4: Creating a Histogram "
   ]
  },
  {
   "cell_type": "markdown",
   "id": "39f4874b-93ea-47a5-b26f-b61018f36e86",
   "metadata": {},
   "source": [
    "Generate a list of random data points (e.g., using numpy).\n",
    "\n",
    "1. Create a histogram to visualize the distribution of the data.\n",
    "2. Customize the histogram with a different number of bins, color, and alpha value.\n",
    "3. Add a title to the plot and label the x and y axes.\n",
    "4. Display the plot."
   ]
  },
  {
   "cell_type": "code",
   "execution_count": 5,
   "id": "d79e9b9a-b718-431a-ac18-600b9b98912d",
   "metadata": {},
   "outputs": [],
   "source": [
    "import numpy as np\n",
    "\n",
    "# Generate random data\n",
    "data = np.random.normal(0, 1, 1000)  # 1000 data points with mean 0 and standard deviation 1\n",
    "\n",
    "# Create a histogram\n",
    "\n",
    "# Add title and labels\n",
    "\n",
    "# Display the plot"
   ]
  },
  {
   "cell_type": "markdown",
   "id": "e444e1f2-91e4-435a-b11e-8aecb0233494",
   "metadata": {},
   "source": [
    "#### Task 5: Creating a Pie Chart "
   ]
  },
  {
   "cell_type": "markdown",
   "id": "a627909e-d7d7-4a9e-9238-81516a2397e4",
   "metadata": {},
   "source": [
    "Create a list of labels and another list of corresponding values.\n",
    "\n",
    "1. Plot the values as a pie chart with labels.\n",
    "2. Customize the pie chart with different colors and explode a slice.\n",
    "3. Add a title to the plot.\n",
    "4. Display the plot."
   ]
  },
  {
   "cell_type": "code",
   "execution_count": 6,
   "id": "6f0f7657-4cce-4998-b6ce-303b0cc187fd",
   "metadata": {},
   "outputs": [],
   "source": [
    "# Sample data\n",
    "labels = ['Category A', 'Category B', 'Category C', 'Category D']\n",
    "sizes = [15, 30, 25, 30]\n",
    "\n",
    "# Explode the first slice\n",
    "\n",
    "# Create a pie chart\n",
    "\n",
    "# Add title\n",
    "\n",
    "# Display the plot\n"
   ]
  },
  {
   "cell_type": "markdown",
   "id": "b8929827-7fd1-466c-bf1b-e238cf458ba1",
   "metadata": {},
   "source": [
    "### SciPy (bonus)"
   ]
  },
  {
   "cell_type": "markdown",
   "id": "7f969117-2ba0-46d6-a059-826bf4ecb62b",
   "metadata": {},
   "source": [
    "#### Task 11: Calculate Descriptive Statistics"
   ]
  },
  {
   "cell_type": "markdown",
   "id": "ee00ab4e-6e8b-4cc1-a943-036f5665d589",
   "metadata": {},
   "source": [
    "Given a dataset of exam scores, calculate the mean, mode, median, standard deviation scores using scipy.stats."
   ]
  },
  {
   "cell_type": "code",
   "execution_count": 12,
   "id": "80500aa2-7ed2-4241-b1c4-ec2422d3b196",
   "metadata": {},
   "outputs": [],
   "source": [
    "#import libraries\n",
    "\n",
    "# Sample data (exam scores)\n",
    "scores = [85, 92, 78, 90, 88, 76, 95, 89, 92, 87]\n",
    "\n",
    "# Calculate mean, median, mode, standard deviation\n",
    "\n",
    "#print scores\n"
   ]
  },
  {
   "cell_type": "markdown",
   "id": "c27029d4-f1fe-4d9d-87da-787d25c1e00a",
   "metadata": {},
   "source": [
    "#### Task 12: Print Normal Random Variables "
   ]
  },
  {
   "cell_type": "markdown",
   "id": "da400d71-0b67-4da1-ab35-466c9d4214a1",
   "metadata": {},
   "source": [
    "Print a list of random variables of size 20 using scipy.stats."
   ]
  },
  {
   "cell_type": "code",
   "execution_count": 13,
   "id": "8d542708-0456-4bcd-890c-d2010fb40528",
   "metadata": {},
   "outputs": [],
   "source": [
    "# Print Normal Random Variable list\n"
   ]
  },
  {
   "cell_type": "code",
   "execution_count": null,
   "id": "d3952f16-cf1d-46a3-baf8-5da028891831",
   "metadata": {},
   "outputs": [],
   "source": []
  }
 ],
 "metadata": {
  "kernelspec": {
   "display_name": "Python 3",
   "language": "python",
   "name": "python3"
  },
  "language_info": {
   "codemirror_mode": {
    "name": "ipython",
    "version": 3
   },
   "file_extension": ".py",
   "mimetype": "text/x-python",
   "name": "python",
   "nbconvert_exporter": "python",
   "pygments_lexer": "ipython3",
   "version": "3.8.8"
  }
 },
 "nbformat": 4,
 "nbformat_minor": 5
}
