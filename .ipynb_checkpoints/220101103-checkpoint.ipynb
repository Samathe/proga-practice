{
 "cells": [
  {
   "cell_type": "markdown",
   "id": "6e2388bd",
   "metadata": {},
   "source": [
    "# Midterm Exam MAT 124\n",
    "\n",
    "Dear Students,\n",
    "\n",
    "Welcome to your midterm exam! This is an important assessment of your understanding of the course material thus far. Please read the following instructions carefully to ensure a fair and honest testing environment:\n",
    "\n",
    "Duration:\n",
    "You will have a total of 1 hour and 30 minutes to complete the exam. The exam will automatically end after 60 minutes, and any answers submitted after that time will not be accepted.\n",
    "\n",
    "Honor Code:\n",
    "This exam is closed-book, meaning you are not allowed to use any external resources, the internet, or any notes. You are expected to complete this exam independently and honestly.\n",
    "\n",
    "Exam Format:\n",
    "The exam consists of [15] questions. Please read and follow the instructions for each question carefully. The questions may include multiple-choice, short answer, and practice task.\n",
    "\n",
    "Technical Requirements:\n",
    "Ensure that your computer or device is fully charged or plugged in and that your internet connection is stable. You are allowed to web browsers only for Jupiter Notebook.\n",
    "\n",
    "Saving Your Work:\n",
    "Remember to save your work periodically. If there is a technical issue.\n",
    "\n",
    "Submission:\n",
    "Ensure that you submit your exam within the 1-hour time frame. Double-check that all questions have been answered and that your answers are clear.\n",
    "\n",
    "Academic Integrity:Academic Integrity:\n",
    "Please adhere to the highest standards of academic integrity. Cheating, plagiarism, or any form of dishonesty will result in severe consequences, including a failing grade for the exam and potential academic disciplinary actions.\n",
    "\n",
    "Good Luck:\n",
    "We wish you the best of luck with your midterm exam. Remember to stay calm, manage your time wisely, and demonstrate your understanding of the course material to the best of your abilities."
   ]
  },
  {
   "cell_type": "markdown",
   "id": "1769587f",
   "metadata": {},
   "source": [
    "PART#1 (5p.):Theoretical questions 0.5p each: 1-8 multiple-choice (only 1 is correct), 9-10 short answer"
   ]
  },
  {
   "cell_type": "markdown",
   "id": "9614514b",
   "metadata": {},
   "source": [
    "1) What is the primary purpose of statistics in data analysis?\n",
    "a) To manipulate data\n",
    "b) To make data look better\n",
    "c) To summarize and interpret data\n",
    "d) To create data"
   ]
  },
  {
   "cell_type": "code",
   "execution_count": null,
   "id": "c00b8a62",
   "metadata": {},
   "outputs": [],
   "source": [
    "#1 Answer: "
   ]
  },
  {
   "cell_type": "markdown",
   "id": "32796f8c",
   "metadata": {},
   "source": [
    "2) Univariate data analysis focuses on:\n",
    "a) The relationship between two variables\n",
    "b) Data with multiple variables\n",
    "c) Data collected from a population\n",
    "d) Data involving only a single variable"
   ]
  },
  {
   "cell_type": "code",
   "execution_count": null,
   "id": "0a77ad3d",
   "metadata": {},
   "outputs": [],
   "source": [
    "#3 Answer: "
   ]
  },
  {
   "cell_type": "markdown",
   "id": "5d8915db",
   "metadata": {},
   "source": [
    "3) Which of the following is an example of multivariate data?\n",
    "a) The temperature and humidity in a room\n",
    "b) The weight of fruits in a basket\n",
    "c) Height of students in a class\n",
    "d) The number of books in a library"
   ]
  },
  {
   "cell_type": "code",
   "execution_count": null,
   "id": "46b30c32",
   "metadata": {},
   "outputs": [],
   "source": [
    "#3 Answer: "
   ]
  },
  {
   "cell_type": "markdown",
   "id": "ad5182e2",
   "metadata": {},
   "source": [
    "4) In statistical terms, a \"population\" refers to:\n",
    "a) A small subset of data\n",
    "b) A collection of data samples\n",
    "c) All individuals or items of interest\n",
    "d) A representative sample"
   ]
  },
  {
   "cell_type": "code",
   "execution_count": null,
   "id": "340e60c0",
   "metadata": {},
   "outputs": [],
   "source": [
    "#4 Answer: "
   ]
  },
  {
   "cell_type": "markdown",
   "id": "39b6638e",
   "metadata": {},
   "source": [
    "5) When calculating a confidence interval, which of the following factors affects the width of the interval?\n",
    "a) The sample size\n",
    "b) The confidence level\n",
    "c) Both A and B\n",
    "d) Neither A nor B"
   ]
  },
  {
   "cell_type": "code",
   "execution_count": null,
   "id": "ae0b2e76",
   "metadata": {},
   "outputs": [],
   "source": [
    "#5 Answer: "
   ]
  },
  {
   "cell_type": "markdown",
   "id": "0bb20b13",
   "metadata": {},
   "source": [
    "6) In hypothesis testing, what does the p-value represent?\n",
    "a) The probability of making a Type II error\n",
    "b) The probability of making a Type I error\n",
    "c) The probability that the null hypothesis is true\n",
    "d) The probability of obtaining a test statistic at least as extreme as the one observed, assuming the null hypothesis is true"
   ]
  },
  {
   "cell_type": "code",
   "execution_count": null,
   "id": "23d59247",
   "metadata": {},
   "outputs": [],
   "source": [
    "#6 Answer: "
   ]
  },
  {
   "cell_type": "markdown",
   "id": "17b8e7ce",
   "metadata": {},
   "source": [
    "7) In statistical inference, what is the primary purpose of hypothesis testing?\n",
    "a) To assess the validity of a claim or hypothesis about a population\n",
    "b) To estimate the population parameters with confidence intervals\n",
    "c) To summarize and interpret data\n",
    "d) To make predictions about future events"
   ]
  },
  {
   "cell_type": "code",
   "execution_count": null,
   "id": "ee69fe2f",
   "metadata": {},
   "outputs": [],
   "source": [
    "#7 Answer: "
   ]
  },
  {
   "cell_type": "markdown",
   "id": "c225d5c9",
   "metadata": {},
   "source": [
    "8) In a random sample, what is the purpose of random sampling?\n",
    "a) To make the data more interesting\n",
    "b) To reduce bias in sample selection\n",
    "c) To eliminate the need for data analysis\n",
    "d) To guarantee that the sample is representative of the entire population"
   ]
  },
  {
   "cell_type": "code",
   "execution_count": null,
   "id": "b68bd3d6",
   "metadata": {},
   "outputs": [],
   "source": [
    "#8 Answer: "
   ]
  },
  {
   "cell_type": "markdown",
   "id": "c25862ae",
   "metadata": {},
   "source": [
    "9) Explain the difference between a sample and a population in statistics:"
   ]
  },
  {
   "cell_type": "code",
   "execution_count": null,
   "id": "1e4161e3",
   "metadata": {},
   "outputs": [],
   "source": [
    "#9 Answer: "
   ]
  },
  {
   "cell_type": "markdown",
   "id": "f7904c24",
   "metadata": {},
   "source": [
    "10) What is the purpose of a confidence interval in statistics?"
   ]
  },
  {
   "cell_type": "code",
   "execution_count": null,
   "id": "f947c2b4",
   "metadata": {},
   "outputs": [],
   "source": [
    "#10 Answer: "
   ]
  },
  {
   "cell_type": "markdown",
   "id": "45bbde67",
   "metadata": {},
   "source": [
    "PART#2 (10p.): 5 practice tasks 2p each"
   ]
  },
  {
   "cell_type": "markdown",
   "id": "b8bfe99f",
   "metadata": {},
   "source": [
    "1) NumPy array\n",
    "Import the NumPy library.\n",
    "Create a NumPy array that represents two points in 2D space. (1p.)\n",
    "Each point should have an x and y coordinate.\n",
    "Calculate the distance between the two points using the Euclidean distance formula: d = √[(x2 – x1)**2 + (y2 – y1)**2]\n",
    "Test your program."
   ]
  },
  {
   "cell_type": "code",
   "execution_count": 1,
   "id": "0bb5ebd0",
   "metadata": {},
   "outputs": [],
   "source": [
    "#your code"
   ]
  },
  {
   "cell_type": "markdown",
   "id": "494b5f00",
   "metadata": {},
   "source": [
    "2) Create a Boxplot for 'total_bill' from the 'Tips' Dataset\n",
    "Import the necessary libraries:\n",
    "Import Seaborn as 'sns'.\n",
    "Load the 'tips' dataset from Seaborn and assign it to a variable.\n",
    "Create a boxplot using Seaborn to visualize the distribution of a numerical variable from the 'tips' dataset. (1p.)\n",
    "Customize the boxplot to make it informative, such as labeling axes, changing colors, or adding titles. (1p.)"
   ]
  },
  {
   "cell_type": "code",
   "execution_count": 2,
   "id": "a44c9a7d",
   "metadata": {},
   "outputs": [],
   "source": [
    "#your code"
   ]
  },
  {
   "cell_type": "markdown",
   "id": "c0d840c1",
   "metadata": {},
   "source": [
    "3) Task Title: Create a Pandas DataFrame and Generate a Plot\n",
    "Import the necessary libraries:\n",
    "Import Pandas as 'pd'.\n",
    "Import Matplotlib.pyplot as 'plt'.\n",
    "Create a Pandas DataFrame using data = {'Date': ['2023-01-01', '2023-01-02', '2023-01-03', '2023-01-04', '2023-01-05'], 'Temperature (Celsius)': [15, 18, 20, 17, 16]} (1p.)\n",
    "Generate a liner plot using the data in the DataFrame. \n",
    "Customize the plot with labels, titles, and other relevant details. (1p.) "
   ]
  },
  {
   "cell_type": "code",
   "execution_count": 3,
   "id": "d5278ef0",
   "metadata": {},
   "outputs": [],
   "source": [
    "#your code"
   ]
  },
  {
   "cell_type": "markdown",
   "id": "f5874fa2",
   "metadata": {},
   "source": [
    "4) Random Number Generator\n",
    "Write a Python program that generates a specified number of random floating-point numbers within a given range and calculates their average.\n",
    "\n",
    "Import the random module to use the uniform() function.\n",
    "Prompt the user to enter the following information:\n",
    "The lower bound of the range.\n",
    "The upper bound of the range.\n",
    "The number of random numbers to generate.\n",
    "Use a loop to generate the specified number of random floating-point numbers within the given range. (1p.)\n",
    "Calculate the average of the generated numbers. \n",
    "Display the generated numbers and their average to the user. (1p.)"
   ]
  },
  {
   "cell_type": "code",
   "execution_count": 4,
   "id": "38e076cd",
   "metadata": {},
   "outputs": [],
   "source": [
    "#your code"
   ]
  },
  {
   "cell_type": "markdown",
   "id": "fc0370e1",
   "metadata": {},
   "source": [
    "5) Task: Calculate Confidence Interval for a Single Population Proportion\n",
    "\n",
    "Imagine you are working for a market research company, and you have collected a sample of 300 responses from a survey. Out of these 300 responses, 75 indicated that they prefer Product A over Product B. \n",
    "Calculate a 95% confidence interval for the proportion of people who prefer Product A over Product B in the entire population.\n",
    "\n",
    "Write a Python program using the provided data. \n",
    "Confidence level: 95% CI z-value z=1.96\n",
    "Calculate the sample proportion (p) by dividing the number of respondents who prefer Product A by the total sample size 𝑛.\n",
    "Calculate the standard error (SE) using the formula: √(𝑝(1−𝑝)/𝑛)\n",
    "Calculate the margin of error ME = SE * Z (1p.)\n",
    "Calculate the lower bound and upper bound of the confidence interval using the formula: (p−ME,p+ME) \n",
    "Display the confidence interval as the output. (1p.)"
   ]
  },
  {
   "cell_type": "code",
   "execution_count": 5,
   "id": "7df04eaa",
   "metadata": {},
   "outputs": [],
   "source": [
    "#your code"
   ]
  },
  {
   "cell_type": "code",
   "execution_count": null,
   "id": "60c14874",
   "metadata": {},
   "outputs": [],
   "source": [
    "#your grade: _____ / 15"
   ]
  }
 ],
 "metadata": {
  "kernelspec": {
   "display_name": "Python 3 (ipykernel)",
   "language": "python",
   "name": "python3"
  },
  "language_info": {
   "codemirror_mode": {
    "name": "ipython",
    "version": 3
   },
   "file_extension": ".py",
   "mimetype": "text/x-python",
   "name": "python",
   "nbconvert_exporter": "python",
   "pygments_lexer": "ipython3",
   "version": "3.11.4"
  }
 },
 "nbformat": 4,
 "nbformat_minor": 5
}
