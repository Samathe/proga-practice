{
 "cells": [
  {
   "cell_type": "code",
   "execution_count": null,
   "id": "a59b68e3",
   "metadata": {},
   "outputs": [
    {
     "name": "stdout",
     "output_type": "stream",
     "text": [
      "4\n",
      "lower\n",
      "3\n",
      "lower\n",
      "3\n",
      "lower\n",
      "2\n",
      "lower\n",
      "66\n",
      "higher\n"
     ]
    }
   ],
   "source": [
    "from random import *\n",
    "import numpy as np\n",
    "rand_n = randint(1,100)\n",
    "n = int(input())\n",
    "while rand_n != n:\n",
    "    if n > rand_n :\n",
    "        print('higher')\n",
    "    else:\n",
    "        print('lower')\n",
    "    n = int(input())"
   ]
  },
  {
   "cell_type": "code",
   "execution_count": null,
   "id": "fbc34cb4",
   "metadata": {},
   "outputs": [],
   "source": [
    "for i in range(1, int(input())+ 1):\n",
    "    print(i**3)"
   ]
  },
  {
   "cell_type": "code",
   "execution_count": null,
   "id": "d7cbcf7a",
   "metadata": {},
   "outputs": [],
   "source": [
    "s = 0\n",
    "for i in range(2, int(input())+ 1):\n",
    "    s += i\n",
    "print(s)"
   ]
  },
  {
   "cell_type": "code",
   "execution_count": null,
   "id": "ca30188a",
   "metadata": {},
   "outputs": [],
   "source": [
    "s = 1\n",
    "for i in range(1, int(input())+ 1):\n",
    "    s *= i\n",
    "print(s)"
   ]
  },
  {
   "cell_type": "code",
   "execution_count": null,
   "id": "ba9ac95a",
   "metadata": {},
   "outputs": [],
   "source": [
    "n = int(input())\n",
    "if n % 2 == 0:\n",
    "    print('even')\n",
    "else: \n",
    "    print('odd')"
   ]
  },
  {
   "cell_type": "code",
   "execution_count": null,
   "id": "896ac33a",
   "metadata": {},
   "outputs": [],
   "source": [
    "arr = np.array ([1.0, 2.0, 3.0])\n",
    "print(arr)\n",
    "print(arr * arr)\n",
    "print(arr - arr)\n",
    "print(1 / arr)\n",
    "print(arr ** 0.5)"
   ]
  },
  {
   "cell_type": "code",
   "execution_count": null,
   "id": "4f6354f7",
   "metadata": {},
   "outputs": [],
   "source": []
  }
 ],
 "metadata": {
  "kernelspec": {
   "display_name": "Python 3 (ipykernel)",
   "language": "python",
   "name": "python3"
  },
  "language_info": {
   "codemirror_mode": {
    "name": "ipython",
    "version": 3
   },
   "file_extension": ".py",
   "mimetype": "text/x-python",
   "name": "python",
   "nbconvert_exporter": "python",
   "pygments_lexer": "ipython3",
   "version": "3.11.4"
  }
 },
 "nbformat": 4,
 "nbformat_minor": 5
}
